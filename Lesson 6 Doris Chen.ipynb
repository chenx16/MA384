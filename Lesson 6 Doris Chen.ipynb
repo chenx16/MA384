{
 "cells": [
  {
   "cell_type": "code",
   "execution_count": 3,
   "metadata": {},
   "outputs": [
    {
     "data": {
      "text/html": [
       "<div>\n",
       "<style scoped>\n",
       "    .dataframe tbody tr th:only-of-type {\n",
       "        vertical-align: middle;\n",
       "    }\n",
       "\n",
       "    .dataframe tbody tr th {\n",
       "        vertical-align: top;\n",
       "    }\n",
       "\n",
       "    .dataframe thead th {\n",
       "        text-align: right;\n",
       "    }\n",
       "</style>\n",
       "<table border=\"1\" class=\"dataframe\">\n",
       "  <thead>\n",
       "    <tr style=\"text-align: right;\">\n",
       "      <th></th>\n",
       "      <th>Game</th>\n",
       "      <th>Date</th>\n",
       "      <th>Winner</th>\n",
       "      <th>Loser</th>\n",
       "      <th>Pts Winner</th>\n",
       "      <th>Pts Loser</th>\n",
       "      <th>City</th>\n",
       "      <th>Venue</th>\n",
       "      <th>Attendance</th>\n",
       "    </tr>\n",
       "  </thead>\n",
       "  <tbody>\n",
       "    <tr>\n",
       "      <th>0</th>\n",
       "      <td>I</td>\n",
       "      <td>1967-01-15</td>\n",
       "      <td>Green Bay Packers</td>\n",
       "      <td>Kansas City Chiefs</td>\n",
       "      <td>35</td>\n",
       "      <td>10</td>\n",
       "      <td>Los Angeles, California</td>\n",
       "      <td>Los Angeles Memorial Coliseum</td>\n",
       "      <td>61946</td>\n",
       "    </tr>\n",
       "    <tr>\n",
       "      <th>1</th>\n",
       "      <td>II</td>\n",
       "      <td>1968-01-14</td>\n",
       "      <td>Green Bay Packers</td>\n",
       "      <td>Oakland Raiders</td>\n",
       "      <td>33</td>\n",
       "      <td>14</td>\n",
       "      <td>Miami, Florida</td>\n",
       "      <td>Miami Orange Bowl</td>\n",
       "      <td>75546</td>\n",
       "    </tr>\n",
       "    <tr>\n",
       "      <th>2</th>\n",
       "      <td>III</td>\n",
       "      <td>1969-01-12</td>\n",
       "      <td>New York Jets</td>\n",
       "      <td>Baltimore Colts</td>\n",
       "      <td>16</td>\n",
       "      <td>7</td>\n",
       "      <td>Miami, Florida</td>\n",
       "      <td>Miami Orange Bowl</td>\n",
       "      <td>75389</td>\n",
       "    </tr>\n",
       "    <tr>\n",
       "      <th>3</th>\n",
       "      <td>IV</td>\n",
       "      <td>1970-01-11</td>\n",
       "      <td>Kansas City Chiefs</td>\n",
       "      <td>Minnesota Vikings</td>\n",
       "      <td>23</td>\n",
       "      <td>7</td>\n",
       "      <td>New Orleans, Louisiana</td>\n",
       "      <td>Tulane Stadium</td>\n",
       "      <td>80562</td>\n",
       "    </tr>\n",
       "    <tr>\n",
       "      <th>4</th>\n",
       "      <td>V</td>\n",
       "      <td>1971-01-17</td>\n",
       "      <td>Baltimore Colts</td>\n",
       "      <td>Dallas Cowboys</td>\n",
       "      <td>16</td>\n",
       "      <td>13</td>\n",
       "      <td>Miami, Florida</td>\n",
       "      <td>Miami Orange Bowl</td>\n",
       "      <td>79204</td>\n",
       "    </tr>\n",
       "  </tbody>\n",
       "</table>\n",
       "</div>"
      ],
      "text/plain": [
       "  Game        Date              Winner               Loser  Pts Winner  \\\n",
       "0    I  1967-01-15   Green Bay Packers  Kansas City Chiefs          35   \n",
       "1   II  1968-01-14   Green Bay Packers     Oakland Raiders          33   \n",
       "2  III  1969-01-12       New York Jets     Baltimore Colts          16   \n",
       "3   IV  1970-01-11  Kansas City Chiefs   Minnesota Vikings          23   \n",
       "4    V  1971-01-17     Baltimore Colts      Dallas Cowboys          16   \n",
       "\n",
       "   Pts Loser                     City                          Venue  \\\n",
       "0         10  Los Angeles, California  Los Angeles Memorial Coliseum   \n",
       "1         14           Miami, Florida              Miami Orange Bowl   \n",
       "2          7           Miami, Florida              Miami Orange Bowl   \n",
       "3          7   New Orleans, Louisiana                 Tulane Stadium   \n",
       "4         13           Miami, Florida              Miami Orange Bowl   \n",
       "\n",
       "   Attendance  \n",
       "0       61946  \n",
       "1       75546  \n",
       "2       75389  \n",
       "3       80562  \n",
       "4       79204  "
      ]
     },
     "execution_count": 3,
     "metadata": {},
     "output_type": "execute_result"
    }
   ],
   "source": [
    "import pandas as pd\n",
    "df = pd.read_csv(\"Data/Superbowls/Superbowls2020.csv\")\n",
    "df.head(5)"
   ]
  },
  {
   "cell_type": "code",
   "execution_count": 16,
   "metadata": {},
   "outputs": [
    {
     "data": {
      "text/plain": [
       "0    Los Angeles, California\n",
       "Name: City, dtype: object"
      ]
     },
     "execution_count": 16,
     "metadata": {},
     "output_type": "execute_result"
    }
   ],
   "source": [
    "#a\n",
    "df['Date'] = pd.to_datetime(df.Date)\n",
    "df.sort_values('Date').head(1)['City']"
   ]
  },
  {
   "cell_type": "code",
   "execution_count": 21,
   "metadata": {},
   "outputs": [
    {
     "data": {
      "text/plain": [
       "53    Miami Gardens, Florida\n",
       "Name: City, dtype: object"
      ]
     },
     "execution_count": 21,
     "metadata": {},
     "output_type": "execute_result"
    }
   ],
   "source": [
    "#b\n",
    "thisyear = (df['Date'] > '2020-01-01' ) & (df['Date'] <= '2020-12-31')\n",
    "df.loc[thisyear]['City']"
   ]
  },
  {
   "cell_type": "code",
   "execution_count": 28,
   "metadata": {},
   "outputs": [
    {
     "data": {
      "text/plain": [
       "New Orleans, Louisiana    10\n",
       "Name: City, dtype: int64"
      ]
     },
     "execution_count": 28,
     "metadata": {},
     "output_type": "execute_result"
    }
   ],
   "source": [
    "#c\n",
    "df['City'].value_counts().head(1)"
   ]
  },
  {
   "cell_type": "code",
   "execution_count": 56,
   "metadata": {},
   "outputs": [
    {
     "data": {
      "text/plain": [
       "New England Patriots    6\n",
       "Name: Winner, dtype: int64"
      ]
     },
     "execution_count": 56,
     "metadata": {},
     "output_type": "execute_result"
    }
   ],
   "source": [
    "#d\n",
    "df['Winner'].value_counts().head(1)"
   ]
  },
  {
   "cell_type": "code",
   "execution_count": 30,
   "metadata": {},
   "outputs": [],
   "source": [
    "#e skip"
   ]
  },
  {
   "cell_type": "code",
   "execution_count": 44,
   "metadata": {},
   "outputs": [
    {
     "data": {
      "text/html": [
       "<div>\n",
       "<style scoped>\n",
       "    .dataframe tbody tr th:only-of-type {\n",
       "        vertical-align: middle;\n",
       "    }\n",
       "\n",
       "    .dataframe tbody tr th {\n",
       "        vertical-align: top;\n",
       "    }\n",
       "\n",
       "    .dataframe thead th {\n",
       "        text-align: right;\n",
       "    }\n",
       "</style>\n",
       "<table border=\"1\" class=\"dataframe\">\n",
       "  <thead>\n",
       "    <tr style=\"text-align: right;\">\n",
       "      <th></th>\n",
       "      <th>Game</th>\n",
       "      <th>Date</th>\n",
       "      <th>Winner</th>\n",
       "      <th>Loser</th>\n",
       "      <th>Pts Winner</th>\n",
       "      <th>Pts Loser</th>\n",
       "      <th>City</th>\n",
       "      <th>Venue</th>\n",
       "      <th>Attendance</th>\n",
       "      <th>Margin</th>\n",
       "    </tr>\n",
       "  </thead>\n",
       "  <tbody>\n",
       "    <tr>\n",
       "      <th>23</th>\n",
       "      <td>XXIV</td>\n",
       "      <td>1990-01-28</td>\n",
       "      <td>San Francisco 49ers</td>\n",
       "      <td>Denver Broncos</td>\n",
       "      <td>55</td>\n",
       "      <td>10</td>\n",
       "      <td>New Orleans, Louisiana</td>\n",
       "      <td>Louisiana Superdome</td>\n",
       "      <td>72919</td>\n",
       "      <td>45</td>\n",
       "    </tr>\n",
       "  </tbody>\n",
       "</table>\n",
       "</div>"
      ],
      "text/plain": [
       "    Game       Date               Winner           Loser  Pts Winner  \\\n",
       "23  XXIV 1990-01-28  San Francisco 49ers  Denver Broncos          55   \n",
       "\n",
       "    Pts Loser                    City                Venue  Attendance  Margin  \n",
       "23         10  New Orleans, Louisiana  Louisiana Superdome       72919      45  "
      ]
     },
     "execution_count": 44,
     "metadata": {},
     "output_type": "execute_result"
    }
   ],
   "source": [
    "#f\n",
    "df['Margin'] = df['Pts Winner']-df['Pts Loser']\n",
    "df.sort_values('Margin',ascending=False).head(1)"
   ]
  },
  {
   "cell_type": "code",
   "execution_count": 45,
   "metadata": {},
   "outputs": [
    {
     "name": "stdout",
     "output_type": "stream",
     "text": [
      "Biggest margin = 45\n"
     ]
    }
   ],
   "source": [
    "print(\"Biggest margin = 45\")"
   ]
  },
  {
   "cell_type": "code",
   "execution_count": 48,
   "metadata": {},
   "outputs": [
    {
     "data": {
      "text/html": [
       "<div>\n",
       "<style scoped>\n",
       "    .dataframe tbody tr th:only-of-type {\n",
       "        vertical-align: middle;\n",
       "    }\n",
       "\n",
       "    .dataframe tbody tr th {\n",
       "        vertical-align: top;\n",
       "    }\n",
       "\n",
       "    .dataframe thead th {\n",
       "        text-align: right;\n",
       "    }\n",
       "</style>\n",
       "<table border=\"1\" class=\"dataframe\">\n",
       "  <thead>\n",
       "    <tr style=\"text-align: right;\">\n",
       "      <th></th>\n",
       "      <th>Game</th>\n",
       "      <th>Date</th>\n",
       "      <th>Winner</th>\n",
       "      <th>Loser</th>\n",
       "      <th>Pts Winner</th>\n",
       "      <th>Pts Loser</th>\n",
       "      <th>City</th>\n",
       "      <th>Venue</th>\n",
       "      <th>Attendance</th>\n",
       "      <th>Margin</th>\n",
       "      <th>Total_Points</th>\n",
       "    </tr>\n",
       "  </thead>\n",
       "  <tbody>\n",
       "    <tr>\n",
       "      <th>24</th>\n",
       "      <td>XXV</td>\n",
       "      <td>1991-01-27</td>\n",
       "      <td>New York Giants</td>\n",
       "      <td>Buffalo Bills</td>\n",
       "      <td>20</td>\n",
       "      <td>19</td>\n",
       "      <td>Tampa, Florida</td>\n",
       "      <td>Tampa Stadium</td>\n",
       "      <td>73813</td>\n",
       "      <td>1</td>\n",
       "      <td>39</td>\n",
       "    </tr>\n",
       "  </tbody>\n",
       "</table>\n",
       "</div>"
      ],
      "text/plain": [
       "   Game       Date           Winner          Loser  Pts Winner  Pts Loser  \\\n",
       "24  XXV 1991-01-27  New York Giants  Buffalo Bills          20         19   \n",
       "\n",
       "              City          Venue  Attendance  Margin  Total_Points  \n",
       "24  Tampa, Florida  Tampa Stadium       73813       1            39  "
      ]
     },
     "execution_count": 48,
     "metadata": {},
     "output_type": "execute_result"
    }
   ],
   "source": [
    "#g\n",
    "df['Total_Points'] = df['Pts Winner']+df['Pts Loser']\n",
    "df.sort_values('Margin').head(1)"
   ]
  },
  {
   "cell_type": "code",
   "execution_count": 49,
   "metadata": {},
   "outputs": [
    {
     "name": "stdout",
     "output_type": "stream",
     "text": [
      "Lowest total number of points = 39\n"
     ]
    }
   ],
   "source": [
    "print(\"Lowest total number of points = 39\")"
   ]
  },
  {
   "cell_type": "code",
   "execution_count": 58,
   "metadata": {},
   "outputs": [
    {
     "data": {
      "text/plain": [
       "New England Patriots    5\n",
       "Name: Loser, dtype: int64"
      ]
     },
     "execution_count": 58,
     "metadata": {},
     "output_type": "execute_result"
    }
   ],
   "source": [
    "#h\n",
    "df['Loser'].value_counts().head(1)"
   ]
  },
  {
   "cell_type": "markdown",
   "metadata": {},
   "source": [
    "New England Patriots is the team lost the Superbowl the most times. However, the intersting fact is that it is also the team won the Superbowl the most times."
   ]
  },
  {
   "cell_type": "code",
   "execution_count": null,
   "metadata": {},
   "outputs": [],
   "source": []
  }
 ],
 "metadata": {
  "kernelspec": {
   "display_name": "Python 3 (ipykernel)",
   "language": "python",
   "name": "python3"
  },
  "language_info": {
   "codemirror_mode": {
    "name": "ipython",
    "version": 3
   },
   "file_extension": ".py",
   "mimetype": "text/x-python",
   "name": "python",
   "nbconvert_exporter": "python",
   "pygments_lexer": "ipython3",
   "version": "3.9.7"
  }
 },
 "nbformat": 4,
 "nbformat_minor": 4
}
