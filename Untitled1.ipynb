{
 "cells": [
  {
   "cell_type": "code",
   "execution_count": 1,
   "metadata": {},
   "outputs": [],
   "source": [
    "import numpy as np\n",
    "import pandas as pd\n",
    "import matplotlib.pyplot as plt"
   ]
  },
  {
   "cell_type": "code",
   "execution_count": 2,
   "metadata": {},
   "outputs": [],
   "source": [
    "#create empty dataframe\n",
    "df = pd.DataFrame()"
   ]
  },
  {
   "cell_type": "code",
   "execution_count": 6,
   "metadata": {},
   "outputs": [
    {
     "data": {
      "text/plain": [
       "array([ 0.,  1.,  2.,  3.,  4.,  5.,  6.,  7.,  8.,  9., 10., 11., 12.,\n",
       "       13., 14., 15., 16., 17., 18., 19., 20., 21., 22., 23.])"
      ]
     },
     "execution_count": 6,
     "metadata": {},
     "output_type": "execute_result"
    }
   ],
   "source": [
    "#24 hours\n",
    "np.linspace(0,23,24)"
   ]
  },
  {
   "cell_type": "code",
   "execution_count": 7,
   "metadata": {},
   "outputs": [
    {
     "data": {
      "text/plain": [
       "array([0.83107137, 0.42573132, 0.48074324, 0.29802663, 0.02464429,\n",
       "       0.08666552, 0.57668759, 0.83079032, 0.14753092, 0.61646252,\n",
       "       0.02978259, 0.30620844, 0.09476092, 0.39111134, 0.29912243,\n",
       "       0.41581274, 0.59770759, 0.30197219, 0.60808162, 0.57387893,\n",
       "       0.47354603, 0.34106281, 0.47956096, 0.18867563])"
      ]
     },
     "execution_count": 7,
     "metadata": {},
     "output_type": "execute_result"
    }
   ],
   "source": [
    "#random\n",
    "np.random.rand(len(t))"
   ]
  },
  {
   "cell_type": "code",
   "execution_count": 9,
   "metadata": {},
   "outputs": [
    {
     "data": {
      "text/html": [
       "<div>\n",
       "<style scoped>\n",
       "    .dataframe tbody tr th:only-of-type {\n",
       "        vertical-align: middle;\n",
       "    }\n",
       "\n",
       "    .dataframe tbody tr th {\n",
       "        vertical-align: top;\n",
       "    }\n",
       "\n",
       "    .dataframe thead th {\n",
       "        text-align: right;\n",
       "    }\n",
       "</style>\n",
       "<table border=\"1\" class=\"dataframe\">\n",
       "  <thead>\n",
       "    <tr style=\"text-align: right;\">\n",
       "      <th></th>\n",
       "      <th>outdoor_C</th>\n",
       "      <th>indoor_C</th>\n",
       "      <th>indoor_F</th>\n",
       "    </tr>\n",
       "  </thead>\n",
       "  <tbody>\n",
       "    <tr>\n",
       "      <th>0</th>\n",
       "      <td>0.825180</td>\n",
       "      <td>0.247554</td>\n",
       "      <td>33.485323</td>\n",
       "    </tr>\n",
       "    <tr>\n",
       "      <th>1</th>\n",
       "      <td>2.047019</td>\n",
       "      <td>0.614106</td>\n",
       "      <td>35.684634</td>\n",
       "    </tr>\n",
       "    <tr>\n",
       "      <th>2</th>\n",
       "      <td>3.494119</td>\n",
       "      <td>1.048236</td>\n",
       "      <td>38.289414</td>\n",
       "    </tr>\n",
       "  </tbody>\n",
       "</table>\n",
       "</div>"
      ],
      "text/plain": [
       "   outdoor_C  indoor_C   indoor_F\n",
       "0   0.825180  0.247554  33.485323\n",
       "1   2.047019  0.614106  35.684634\n",
       "2   3.494119  1.048236  38.289414"
      ]
     },
     "execution_count": 9,
     "metadata": {},
     "output_type": "execute_result"
    }
   ],
   "source": [
    "#create data\n",
    "t=np.linspace(0,23,24)\n",
    "df['outdoor_C'] = 5*np.sin(2*np.pi/24*t) + np.random.rand(len(t))\n",
    "df['indoor_C'] = 0.3*df.outdoor_C\n",
    "df['indoor_F'] = 1.8*df.outdoor_C+32\n",
    "df.head(3)"
   ]
  },
  {
   "cell_type": "code",
   "execution_count": 10,
   "metadata": {},
   "outputs": [
    {
     "data": {
      "text/plain": [
       "<matplotlib.axes._subplots.AxesSubplot at 0x21fe9100070>"
      ]
     },
     "execution_count": 10,
     "metadata": {},
     "output_type": "execute_result"
    },
    {
     "data": {
      "image/png": "[encoded data removed]",
      "text/plain": [
       "<Figure size 432x288 with 1 Axes>"
      ]
     },
     "metadata": {
      "needs_background": "light"
     },
     "output_type": "display_data"
    }
   ],
   "source": [
    "df.plot()"
   ]
  },
  {
   "cell_type": "code",
   "execution_count": 17,
   "metadata": {},
   "outputs": [],
   "source": [
    "from sklearn.metrics.pairwise import cosine_similarity"
   ]
  },
  {
   "cell_type": "code",
   "execution_count": 18,
   "metadata": {},
   "outputs": [
    {
     "data": {
      "text/html": [
       "<div>\n",
       "<style scoped>\n",
       "    .dataframe tbody tr th:only-of-type {\n",
       "        vertical-align: middle;\n",
       "    }\n",
       "\n",
       "    .dataframe tbody tr th {\n",
       "        vertical-align: top;\n",
       "    }\n",
       "\n",
       "    .dataframe thead th {\n",
       "        text-align: right;\n",
       "    }\n",
       "</style>\n",
       "<table border=\"1\" class=\"dataframe\">\n",
       "  <thead>\n",
       "    <tr style=\"text-align: right;\">\n",
       "      <th></th>\n",
       "      <th>0</th>\n",
       "      <th>1</th>\n",
       "      <th>2</th>\n",
       "      <th>3</th>\n",
       "      <th>4</th>\n",
       "      <th>5</th>\n",
       "      <th>6</th>\n",
       "      <th>7</th>\n",
       "      <th>8</th>\n",
       "      <th>9</th>\n",
       "      <th>...</th>\n",
       "      <th>14</th>\n",
       "      <th>15</th>\n",
       "      <th>16</th>\n",
       "      <th>17</th>\n",
       "      <th>18</th>\n",
       "      <th>19</th>\n",
       "      <th>20</th>\n",
       "      <th>21</th>\n",
       "      <th>22</th>\n",
       "      <th>23</th>\n",
       "    </tr>\n",
       "  </thead>\n",
       "  <tbody>\n",
       "    <tr>\n",
       "      <th>outdoor_C</th>\n",
       "      <td>0.825180</td>\n",
       "      <td>2.047019</td>\n",
       "      <td>3.494119</td>\n",
       "      <td>3.765995</td>\n",
       "      <td>4.471256</td>\n",
       "      <td>5.742471</td>\n",
       "      <td>5.549174</td>\n",
       "      <td>4.863999</td>\n",
       "      <td>5.209758</td>\n",
       "      <td>4.333859</td>\n",
       "      <td>...</td>\n",
       "      <td>-1.878461</td>\n",
       "      <td>-3.017164</td>\n",
       "      <td>-3.418996</td>\n",
       "      <td>-4.747179</td>\n",
       "      <td>-4.623731</td>\n",
       "      <td>-4.123581</td>\n",
       "      <td>-3.669443</td>\n",
       "      <td>-3.018901</td>\n",
       "      <td>-2.284362</td>\n",
       "      <td>-0.522431</td>\n",
       "    </tr>\n",
       "    <tr>\n",
       "      <th>indoor_C</th>\n",
       "      <td>0.247554</td>\n",
       "      <td>0.614106</td>\n",
       "      <td>1.048236</td>\n",
       "      <td>1.129799</td>\n",
       "      <td>1.341377</td>\n",
       "      <td>1.722741</td>\n",
       "      <td>1.664752</td>\n",
       "      <td>1.459200</td>\n",
       "      <td>1.562927</td>\n",
       "      <td>1.300158</td>\n",
       "      <td>...</td>\n",
       "      <td>-0.563538</td>\n",
       "      <td>-0.905149</td>\n",
       "      <td>-1.025699</td>\n",
       "      <td>-1.424154</td>\n",
       "      <td>-1.387119</td>\n",
       "      <td>-1.237074</td>\n",
       "      <td>-1.100833</td>\n",
       "      <td>-0.905670</td>\n",
       "      <td>-0.685309</td>\n",
       "      <td>-0.156729</td>\n",
       "    </tr>\n",
       "    <tr>\n",
       "      <th>indoor_F</th>\n",
       "      <td>33.485323</td>\n",
       "      <td>35.684634</td>\n",
       "      <td>38.289414</td>\n",
       "      <td>38.778791</td>\n",
       "      <td>40.048260</td>\n",
       "      <td>42.336448</td>\n",
       "      <td>41.988514</td>\n",
       "      <td>40.755199</td>\n",
       "      <td>41.377564</td>\n",
       "      <td>39.800946</td>\n",
       "      <td>...</td>\n",
       "      <td>28.618770</td>\n",
       "      <td>26.569104</td>\n",
       "      <td>25.845807</td>\n",
       "      <td>23.455077</td>\n",
       "      <td>23.677283</td>\n",
       "      <td>24.577555</td>\n",
       "      <td>25.395002</td>\n",
       "      <td>26.565978</td>\n",
       "      <td>27.888149</td>\n",
       "      <td>31.059624</td>\n",
       "    </tr>\n",
       "  </tbody>\n",
       "</table>\n",
       "<p>3 rows × 24 columns</p>\n",
       "</div>"
      ],
      "text/plain": [
       "                  0          1          2          3          4          5   \\\n",
       "outdoor_C   0.825180   2.047019   3.494119   3.765995   4.471256   5.742471   \n",
       "indoor_C    0.247554   0.614106   1.048236   1.129799   1.341377   1.722741   \n",
       "indoor_F   33.485323  35.684634  38.289414  38.778791  40.048260  42.336448   \n",
       "\n",
       "                  6          7          8          9   ...         14  \\\n",
       "outdoor_C   5.549174   4.863999   5.209758   4.333859  ...  -1.878461   \n",
       "indoor_C    1.664752   1.459200   1.562927   1.300158  ...  -0.563538   \n",
       "indoor_F   41.988514  40.755199  41.377564  39.800946  ...  28.618770   \n",
       "\n",
       "                  15         16         17         18         19         20  \\\n",
       "outdoor_C  -3.017164  -3.418996  -4.747179  -4.623731  -4.123581  -3.669443   \n",
       "indoor_C   -0.905149  -1.025699  -1.424154  -1.387119  -1.237074  -1.100833   \n",
       "indoor_F   26.569104  25.845807  23.455077  23.677283  24.577555  25.395002   \n",
       "\n",
       "                  21         22         23  \n",
       "outdoor_C  -3.018901  -2.284362  -0.522431  \n",
       "indoor_C   -0.905670  -0.685309  -0.156729  \n",
       "indoor_F   26.565978  27.888149  31.059624  \n",
       "\n",
       "[3 rows x 24 columns]"
      ]
     },
     "execution_count": 18,
     "metadata": {},
     "output_type": "execute_result"
    }
   ],
   "source": [
    "df.T #transpose dataframe to rows"
   ]
  },
  {
   "cell_type": "code",
   "execution_count": 21,
   "metadata": {},
   "outputs": [
    {
     "data": {
      "text/plain": [
       "array([[1.        , 1.        , 0.34365265],\n",
       "       [1.        , 1.        , 0.34365265],\n",
       "       [0.34365265, 0.34365265, 1.        ]])"
      ]
     },
     "execution_count": 21,
     "metadata": {},
     "output_type": "execute_result"
    }
   ],
   "source": [
    "cosine_similarity(df.T) #only care about shift->cosine"
   ]
  },
  {
   "cell_type": "code",
   "execution_count": 22,
   "metadata": {},
   "outputs": [
    {
     "data": {
      "text/html": [
       "<div>\n",
       "<style scoped>\n",
       "    .dataframe tbody tr th:only-of-type {\n",
       "        vertical-align: middle;\n",
       "    }\n",
       "\n",
       "    .dataframe tbody tr th {\n",
       "        vertical-align: top;\n",
       "    }\n",
       "\n",
       "    .dataframe thead th {\n",
       "        text-align: right;\n",
       "    }\n",
       "</style>\n",
       "<table border=\"1\" class=\"dataframe\">\n",
       "  <thead>\n",
       "    <tr style=\"text-align: right;\">\n",
       "      <th></th>\n",
       "      <th>outdoor_C</th>\n",
       "      <th>indoor_C</th>\n",
       "      <th>indoor_F</th>\n",
       "    </tr>\n",
       "  </thead>\n",
       "  <tbody>\n",
       "    <tr>\n",
       "      <th>outdoor_C</th>\n",
       "      <td>1.0</td>\n",
       "      <td>1.0</td>\n",
       "      <td>1.0</td>\n",
       "    </tr>\n",
       "    <tr>\n",
       "      <th>indoor_C</th>\n",
       "      <td>1.0</td>\n",
       "      <td>1.0</td>\n",
       "      <td>1.0</td>\n",
       "    </tr>\n",
       "    <tr>\n",
       "      <th>indoor_F</th>\n",
       "      <td>1.0</td>\n",
       "      <td>1.0</td>\n",
       "      <td>1.0</td>\n",
       "    </tr>\n",
       "  </tbody>\n",
       "</table>\n",
       "</div>"
      ],
      "text/plain": [
       "           outdoor_C  indoor_C  indoor_F\n",
       "outdoor_C        1.0       1.0       1.0\n",
       "indoor_C         1.0       1.0       1.0\n",
       "indoor_F         1.0       1.0       1.0"
      ]
     },
     "execution_count": 22,
     "metadata": {},
     "output_type": "execute_result"
    }
   ],
   "source": [
    "df.corr() #no dependence on unit->correlation"
   ]
  },
  {
   "cell_type": "code",
   "execution_count": null,
   "metadata": {},
   "outputs": [],
   "source": []
  }
 ],
 "metadata": {
  "kernelspec": {
   "display_name": "Python 3",
   "language": "python",
   "name": "python3"
  },
  "language_info": {
   "codemirror_mode": {
    "name": "ipython",
    "version": 3
   },
   "file_extension": ".py",
   "mimetype": "text/x-python",
   "name": "python",
   "nbconvert_exporter": "python",
   "pygments_lexer": "ipython3",
   "version": "3.8.3"
  }
 },
 "nbformat": 4,
 "nbformat_minor": 4
}
