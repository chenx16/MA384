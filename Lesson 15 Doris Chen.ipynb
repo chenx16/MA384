{
 "cells": [
  {
   "cell_type": "code",
   "execution_count": 1,
   "metadata": {},
   "outputs": [],
   "source": [
    "import numpy as np\n",
    "import pandas as pd\n",
    "from sklearn import tree\n",
    "from sklearn.model_selection import GridSearchCV\n",
    "from matplotlib import pyplot as plt\n",
    "import graphviz"
   ]
  },
  {
   "cell_type": "code",
   "execution_count": 2,
   "metadata": {},
   "outputs": [
    {
     "data": {
      "text/html": [
       "<div>\n",
       "<style scoped>\n",
       "    .dataframe tbody tr th:only-of-type {\n",
       "        vertical-align: middle;\n",
       "    }\n",
       "\n",
       "    .dataframe tbody tr th {\n",
       "        vertical-align: top;\n",
       "    }\n",
       "\n",
       "    .dataframe thead th {\n",
       "        text-align: right;\n",
       "    }\n",
       "</style>\n",
       "<table border=\"1\" class=\"dataframe\">\n",
       "  <thead>\n",
       "    <tr style=\"text-align: right;\">\n",
       "      <th></th>\n",
       "      <th>sepal length</th>\n",
       "      <th>sepal width</th>\n",
       "      <th>petal length</th>\n",
       "      <th>petal width</th>\n",
       "      <th>species</th>\n",
       "    </tr>\n",
       "  </thead>\n",
       "  <tbody>\n",
       "    <tr>\n",
       "      <th>0</th>\n",
       "      <td>5.1</td>\n",
       "      <td>3.5</td>\n",
       "      <td>1.4</td>\n",
       "      <td>0.2</td>\n",
       "      <td>setosa</td>\n",
       "    </tr>\n",
       "    <tr>\n",
       "      <th>1</th>\n",
       "      <td>4.9</td>\n",
       "      <td>3.0</td>\n",
       "      <td>1.4</td>\n",
       "      <td>0.2</td>\n",
       "      <td>setosa</td>\n",
       "    </tr>\n",
       "    <tr>\n",
       "      <th>2</th>\n",
       "      <td>4.7</td>\n",
       "      <td>3.2</td>\n",
       "      <td>1.3</td>\n",
       "      <td>0.2</td>\n",
       "      <td>setosa</td>\n",
       "    </tr>\n",
       "  </tbody>\n",
       "</table>\n",
       "</div>"
      ],
      "text/plain": [
       "   sepal length  sepal width  petal length  petal width species\n",
       "0           5.1          3.5           1.4          0.2  setosa\n",
       "1           4.9          3.0           1.4          0.2  setosa\n",
       "2           4.7          3.2           1.3          0.2  setosa"
      ]
     },
     "execution_count": 2,
     "metadata": {},
     "output_type": "execute_result"
    }
   ],
   "source": [
    "df = pd.read_csv('Data/Iris/Iris-cleaned.csv')\n",
    "df.head(3)"
   ]
  },
  {
   "cell_type": "markdown",
   "metadata": {},
   "source": [
    "### (a) Preprocessing:"
   ]
  },
  {
   "cell_type": "code",
   "execution_count": 3,
   "metadata": {},
   "outputs": [
    {
     "data": {
      "text/plain": [
       "sepal length    float64\n",
       "sepal width     float64\n",
       "petal length    float64\n",
       "petal width     float64\n",
       "species          object\n",
       "dtype: object"
      ]
     },
     "execution_count": 3,
     "metadata": {},
     "output_type": "execute_result"
    }
   ],
   "source": [
    "df.dtypes"
   ]
  },
  {
   "cell_type": "code",
   "execution_count": 4,
   "metadata": {},
   "outputs": [],
   "source": [
    "df.species = df.species.astype('category')"
   ]
  },
  {
   "cell_type": "markdown",
   "metadata": {},
   "source": [
    "Randomize the order of the records using the command below."
   ]
  },
  {
   "cell_type": "code",
   "execution_count": 5,
   "metadata": {},
   "outputs": [],
   "source": [
    "df = df.sample(frac=1.0,random_state=0)"
   ]
  },
  {
   "cell_type": "markdown",
   "metadata": {},
   "source": [
    "### (b) Fit a depth 2 decision tree for predicting iris species. Define classes as shown below"
   ]
  },
  {
   "cell_type": "code",
   "execution_count": 6,
   "metadata": {},
   "outputs": [
    {
     "data": {
      "text/plain": [
       "Index(['setosa', 'versicolor', 'virginica'], dtype='object')"
      ]
     },
     "execution_count": 6,
     "metadata": {},
     "output_type": "execute_result"
    }
   ],
   "source": [
    "class_names = df.species.cat.categories\n",
    "class_names"
   ]
  },
  {
   "cell_type": "code",
   "execution_count": 7,
   "metadata": {},
   "outputs": [],
   "source": [
    "attributes = df.drop(['species'], axis = 1) #continuous -> one hot encode\n",
    "attributes = pd.get_dummies(attributes)\n",
    "target = df.species"
   ]
  },
  {
   "cell_type": "code",
   "execution_count": 8,
   "metadata": {},
   "outputs": [],
   "source": [
    "Tree = tree.DecisionTreeClassifier()"
   ]
  },
  {
   "cell_type": "code",
   "execution_count": 9,
   "metadata": {},
   "outputs": [
    {
     "data": {
      "text/plain": [
       "DecisionTreeClassifier(max_depth=2)"
      ]
     },
     "execution_count": 9,
     "metadata": {},
     "output_type": "execute_result"
    }
   ],
   "source": [
    "Tree = tree.DecisionTreeClassifier(max_depth = 2)\n",
    "Tree.fit(attributes,target)"
   ]
  },
  {
   "cell_type": "code",
   "execution_count": 10,
   "metadata": {},
   "outputs": [
    {
     "data": {
      "image/svg+xml": [
       "<?xml version=\"1.0\" encoding=\"UTF-8\" standalone=\"no\"?>\r\n",
       "<!DOCTYPE svg PUBLIC \"-//W3C//DTD SVG 1.1//EN\"\r\n",
       " \"http://www.w3.org/Graphics/SVG/1.1/DTD/svg11.dtd\">\r\n",
       "<!-- Generated by graphviz version 2.38.0 (20140413.2041)\r\n",
       " -->\r\n",
       "<!-- Title: Tree Pages: 1 -->\r\n",
       "<svg width=\"441pt\" height=\"269pt\"\r\n",
       " viewBox=\"0.00 0.00 440.50 269.00\" xmlns=\"http://www.w3.org/2000/svg\" xmlns:xlink=\"http://www.w3.org/1999/xlink\">\r\n",
       "<g id=\"graph0\" class=\"graph\" transform=\"scale(1 1) rotate(0) translate(4 265)\">\r\n",
       "<title>Tree</title>\r\n",
       "<polygon fill=\"white\" stroke=\"none\" points=\"-4,4 -4,-265 436.5,-265 436.5,4 -4,4\"/>\r\n",
       "<!-- 0 -->\r\n",
       "<g id=\"node1\" class=\"node\"><title>0</title>\r\n",
       "<path fill=\"#ffffff\" stroke=\"black\" d=\"M244.5,-261C244.5,-261 70.5,-261 70.5,-261 64.5,-261 58.5,-255 58.5,-249 58.5,-249 58.5,-205 58.5,-205 58.5,-199 64.5,-193 70.5,-193 70.5,-193 244.5,-193 244.5,-193 250.5,-193 256.5,-199 256.5,-205 256.5,-205 256.5,-249 256.5,-249 256.5,-255 250.5,-261 244.5,-261\"/>\r\n",
       "<text text-anchor=\"middle\" x=\"157.5\" y=\"-245.8\" font-family=\"Helvetica,sans-Serif\" font-size=\"14.00\">petal width &lt;= 0.8</text>\r\n",
       "<text text-anchor=\"middle\" x=\"157.5\" y=\"-230.8\" font-family=\"Helvetica,sans-Serif\" font-size=\"14.00\">samples = 100.0%</text>\r\n",
       "<text text-anchor=\"middle\" x=\"157.5\" y=\"-215.8\" font-family=\"Helvetica,sans-Serif\" font-size=\"14.00\">value = [0.333, 0.333, 0.333]</text>\r\n",
       "<text text-anchor=\"middle\" x=\"157.5\" y=\"-200.8\" font-family=\"Helvetica,sans-Serif\" font-size=\"14.00\">class = setosa</text>\r\n",
       "</g>\r\n",
       "<!-- 1 -->\r\n",
       "<g id=\"node2\" class=\"node\"><title>1</title>\r\n",
       "<path fill=\"#e58139\" stroke=\"black\" d=\"M137,-149.5C137,-149.5 12,-149.5 12,-149.5 6,-149.5 0,-143.5 0,-137.5 0,-137.5 0,-108.5 0,-108.5 0,-102.5 6,-96.5 12,-96.5 12,-96.5 137,-96.5 137,-96.5 143,-96.5 149,-102.5 149,-108.5 149,-108.5 149,-137.5 149,-137.5 149,-143.5 143,-149.5 137,-149.5\"/>\r\n",
       "<text text-anchor=\"middle\" x=\"74.5\" y=\"-134.3\" font-family=\"Helvetica,sans-Serif\" font-size=\"14.00\">samples = 33.3%</text>\r\n",
       "<text text-anchor=\"middle\" x=\"74.5\" y=\"-119.3\" font-family=\"Helvetica,sans-Serif\" font-size=\"14.00\">value = [1.0, 0.0, 0.0]</text>\r\n",
       "<text text-anchor=\"middle\" x=\"74.5\" y=\"-104.3\" font-family=\"Helvetica,sans-Serif\" font-size=\"14.00\">class = setosa</text>\r\n",
       "</g>\r\n",
       "<!-- 0&#45;&gt;1 -->\r\n",
       "<g id=\"edge1\" class=\"edge\"><title>0&#45;&gt;1</title>\r\n",
       "<path fill=\"none\" stroke=\"black\" d=\"M130.552,-192.884C121.335,-181.556 111.02,-168.88 101.777,-157.521\"/>\r\n",
       "<polygon fill=\"black\" stroke=\"black\" points=\"104.293,-155.067 95.2662,-149.52 98.8631,-159.486 104.293,-155.067\"/>\r\n",
       "<text text-anchor=\"middle\" x=\"92.7121\" y=\"-170.689\" font-family=\"Helvetica,sans-Serif\" font-size=\"14.00\">True</text>\r\n",
       "</g>\r\n",
       "<!-- 2 -->\r\n",
       "<g id=\"node3\" class=\"node\"><title>2</title>\r\n",
       "<path fill=\"#ffffff\" stroke=\"black\" d=\"M304,-157C304,-157 179,-157 179,-157 173,-157 167,-151 167,-145 167,-145 167,-101 167,-101 167,-95 173,-89 179,-89 179,-89 304,-89 304,-89 310,-89 316,-95 316,-101 316,-101 316,-145 316,-145 316,-151 310,-157 304,-157\"/>\r\n",
       "<text text-anchor=\"middle\" x=\"241.5\" y=\"-141.8\" font-family=\"Helvetica,sans-Serif\" font-size=\"14.00\">petal width &lt;= 1.75</text>\r\n",
       "<text text-anchor=\"middle\" x=\"241.5\" y=\"-126.8\" font-family=\"Helvetica,sans-Serif\" font-size=\"14.00\">samples = 66.7%</text>\r\n",
       "<text text-anchor=\"middle\" x=\"241.5\" y=\"-111.8\" font-family=\"Helvetica,sans-Serif\" font-size=\"14.00\">value = [0.0, 0.5, 0.5]</text>\r\n",
       "<text text-anchor=\"middle\" x=\"241.5\" y=\"-96.8\" font-family=\"Helvetica,sans-Serif\" font-size=\"14.00\">class = versicolor</text>\r\n",
       "</g>\r\n",
       "<!-- 0&#45;&gt;2 -->\r\n",
       "<g id=\"edge2\" class=\"edge\"><title>0&#45;&gt;2</title>\r\n",
       "<path fill=\"none\" stroke=\"black\" d=\"M184.772,-192.884C192.035,-184.065 199.969,-174.43 207.542,-165.235\"/>\r\n",
       "<polygon fill=\"black\" stroke=\"black\" points=\"210.422,-167.244 214.077,-157.299 205.018,-162.794 210.422,-167.244\"/>\r\n",
       "<text text-anchor=\"middle\" x=\"216.485\" y=\"-178.483\" font-family=\"Helvetica,sans-Serif\" font-size=\"14.00\">False</text>\r\n",
       "</g>\r\n",
       "<!-- 3 -->\r\n",
       "<g id=\"node4\" class=\"node\"><title>3</title>\r\n",
       "<path fill=\"#4de88e\" stroke=\"black\" d=\"M220.5,-53C220.5,-53 62.5,-53 62.5,-53 56.5,-53 50.5,-47 50.5,-41 50.5,-41 50.5,-12 50.5,-12 50.5,-6 56.5,-0 62.5,-0 62.5,-0 220.5,-0 220.5,-0 226.5,-0 232.5,-6 232.5,-12 232.5,-12 232.5,-41 232.5,-41 232.5,-47 226.5,-53 220.5,-53\"/>\r\n",
       "<text text-anchor=\"middle\" x=\"141.5\" y=\"-37.8\" font-family=\"Helvetica,sans-Serif\" font-size=\"14.00\">samples = 36.0%</text>\r\n",
       "<text text-anchor=\"middle\" x=\"141.5\" y=\"-22.8\" font-family=\"Helvetica,sans-Serif\" font-size=\"14.00\">value = [0.0, 0.907, 0.093]</text>\r\n",
       "<text text-anchor=\"middle\" x=\"141.5\" y=\"-7.8\" font-family=\"Helvetica,sans-Serif\" font-size=\"14.00\">class = versicolor</text>\r\n",
       "</g>\r\n",
       "<!-- 2&#45;&gt;3 -->\r\n",
       "<g id=\"edge3\" class=\"edge\"><title>2&#45;&gt;3</title>\r\n",
       "<path fill=\"none\" stroke=\"black\" d=\"M206.525,-88.9485C196.651,-79.6175 185.915,-69.4722 176.065,-60.1641\"/>\r\n",
       "<polygon fill=\"black\" stroke=\"black\" points=\"178.407,-57.5613 168.735,-53.2367 173.599,-62.649 178.407,-57.5613\"/>\r\n",
       "</g>\r\n",
       "<!-- 4 -->\r\n",
       "<g id=\"node5\" class=\"node\"><title>4</title>\r\n",
       "<path fill=\"#843de6\" stroke=\"black\" d=\"M420.5,-53C420.5,-53 262.5,-53 262.5,-53 256.5,-53 250.5,-47 250.5,-41 250.5,-41 250.5,-12 250.5,-12 250.5,-6 256.5,-0 262.5,-0 262.5,-0 420.5,-0 420.5,-0 426.5,-0 432.5,-6 432.5,-12 432.5,-12 432.5,-41 432.5,-41 432.5,-47 426.5,-53 420.5,-53\"/>\r\n",
       "<text text-anchor=\"middle\" x=\"341.5\" y=\"-37.8\" font-family=\"Helvetica,sans-Serif\" font-size=\"14.00\">samples = 30.7%</text>\r\n",
       "<text text-anchor=\"middle\" x=\"341.5\" y=\"-22.8\" font-family=\"Helvetica,sans-Serif\" font-size=\"14.00\">value = [0.0, 0.022, 0.978]</text>\r\n",
       "<text text-anchor=\"middle\" x=\"341.5\" y=\"-7.8\" font-family=\"Helvetica,sans-Serif\" font-size=\"14.00\">class = virginica</text>\r\n",
       "</g>\r\n",
       "<!-- 2&#45;&gt;4 -->\r\n",
       "<g id=\"edge4\" class=\"edge\"><title>2&#45;&gt;4</title>\r\n",
       "<path fill=\"none\" stroke=\"black\" d=\"M276.475,-88.9485C286.349,-79.6175 297.085,-69.4722 306.935,-60.1641\"/>\r\n",
       "<polygon fill=\"black\" stroke=\"black\" points=\"309.401,-62.649 314.265,-53.2367 304.593,-57.5613 309.401,-62.649\"/>\r\n",
       "</g>\r\n",
       "</g>\r\n",
       "</svg>\r\n"
      ],
      "text/plain": [
       "<graphviz.files.Source at 0x26b901af430>"
      ]
     },
     "execution_count": 10,
     "metadata": {},
     "output_type": "execute_result"
    }
   ],
   "source": [
    "dot_data = tree.export_graphviz(Tree,\n",
    "                               out_file=None,\n",
    "                               feature_names=attributes.columns,\n",
    "                               class_names = df.species.cat.categories,\n",
    "                               proportion=True,\n",
    "                               impurity=False,\n",
    "                               filled=True,\n",
    "                               rounded=True)\n",
    "graph = graphviz.Source(dot_data)\n",
    "graph.render('Iris')\n",
    "graph"
   ]
  },
  {
   "cell_type": "markdown",
   "metadata": {},
   "source": [
    "### (c) Compute species group averages for the attributes and use these attribute averages to check that your decision tree is reasonable.\n"
   ]
  },
  {
   "cell_type": "code",
   "execution_count": 11,
   "metadata": {},
   "outputs": [
    {
     "data": {
      "text/html": [
       "<div>\n",
       "<style scoped>\n",
       "    .dataframe tbody tr th:only-of-type {\n",
       "        vertical-align: middle;\n",
       "    }\n",
       "\n",
       "    .dataframe tbody tr th {\n",
       "        vertical-align: top;\n",
       "    }\n",
       "\n",
       "    .dataframe thead th {\n",
       "        text-align: right;\n",
       "    }\n",
       "</style>\n",
       "<table border=\"1\" class=\"dataframe\">\n",
       "  <thead>\n",
       "    <tr style=\"text-align: right;\">\n",
       "      <th></th>\n",
       "      <th>sepal length</th>\n",
       "      <th>sepal width</th>\n",
       "      <th>petal length</th>\n",
       "      <th>petal width</th>\n",
       "    </tr>\n",
       "    <tr>\n",
       "      <th>species</th>\n",
       "      <th></th>\n",
       "      <th></th>\n",
       "      <th></th>\n",
       "      <th></th>\n",
       "    </tr>\n",
       "  </thead>\n",
       "  <tbody>\n",
       "    <tr>\n",
       "      <th>setosa</th>\n",
       "      <td>5.006</td>\n",
       "      <td>3.418</td>\n",
       "      <td>1.464</td>\n",
       "      <td>0.244</td>\n",
       "    </tr>\n",
       "    <tr>\n",
       "      <th>versicolor</th>\n",
       "      <td>5.936</td>\n",
       "      <td>2.770</td>\n",
       "      <td>4.260</td>\n",
       "      <td>1.326</td>\n",
       "    </tr>\n",
       "    <tr>\n",
       "      <th>virginica</th>\n",
       "      <td>6.588</td>\n",
       "      <td>2.974</td>\n",
       "      <td>5.552</td>\n",
       "      <td>2.026</td>\n",
       "    </tr>\n",
       "  </tbody>\n",
       "</table>\n",
       "</div>"
      ],
      "text/plain": [
       "            sepal length  sepal width  petal length  petal width\n",
       "species                                                         \n",
       "setosa             5.006        3.418         1.464        0.244\n",
       "versicolor         5.936        2.770         4.260        1.326\n",
       "virginica          6.588        2.974         5.552        2.026"
      ]
     },
     "execution_count": 11,
     "metadata": {},
     "output_type": "execute_result"
    }
   ],
   "source": [
    "df_mean = df.groupby('species').mean()\n",
    "df_mean"
   ]
  },
  {
   "cell_type": "markdown",
   "metadata": {},
   "source": [
    "The average petal length of setosa is significantly smaller than others. Most setosa have petal length <= 2.45.\n",
    "Tt is reasonable to use petal width as an attribute to categorize because most versicolors have petal width <= 1.75 and most virginicas have petal width > 1.75."
   ]
  },
  {
   "cell_type": "code",
   "execution_count": 12,
   "metadata": {},
   "outputs": [
    {
     "data": {
      "text/plain": [
       "array([ True,  True,  True])"
      ]
     },
     "execution_count": 12,
     "metadata": {},
     "output_type": "execute_result"
    }
   ],
   "source": [
    "Tree.predict(df_mean)==df_mean.index"
   ]
  },
  {
   "cell_type": "markdown",
   "metadata": {},
   "source": [
    "So the te deicison tree is reasonable"
   ]
  },
  {
   "cell_type": "markdown",
   "metadata": {},
   "source": [
    "### (d) Use cross-validation and the hyper-parameters shown below to determine a tree that minimizes generalization error."
   ]
  },
  {
   "cell_type": "code",
   "execution_count": 13,
   "metadata": {},
   "outputs": [
    {
     "name": "stdout",
     "output_type": "stream",
     "text": [
      "{'max_depth': 3, 'min_samples_split': 2}\n",
      "0.96\n",
      "DecisionTreeClassifier(max_depth=3)\n"
     ]
    }
   ],
   "source": [
    "Tree = tree.DecisionTreeClassifier()\n",
    "# 'min_samples_split': [5,10,15,20,25,30,35,40,45,50,55,60,65,70] -> output is 40 -> check number around 40\n",
    "# then: 'min_samples_split': [35,36,37,38,39,40,41,42,43,44,45]\n",
    "parameters = {'max_depth':[1,2,3,4,5,6,7,8,9,10], 'min_samples_split': [2,3,4,5,6,7,8,9,10]}\n",
    "TreeCV = GridSearchCV(Tree, param_grid = parameters, n_jobs=-1) \n",
    "TreeCV.fit(attributes,target)\n",
    "print(TreeCV.best_params_)\n",
    "print(TreeCV.best_score_)\n",
    "print(TreeCV.best_estimator_)"
   ]
  },
  {
   "cell_type": "markdown",
   "metadata": {},
   "source": [
    "max depth — maximum depth of the tree."
   ]
  },
  {
   "cell_type": "markdown",
   "metadata": {},
   "source": [
    "min samples split — mimimum size of a node that is allowed to be split. (Regulates the\n",
    "complexity of the tree.)"
   ]
  },
  {
   "cell_type": "code",
   "execution_count": 14,
   "metadata": {},
   "outputs": [
    {
     "data": {
      "image/svg+xml": [
       "<?xml version=\"1.0\" encoding=\"UTF-8\" standalone=\"no\"?>\r\n",
       "<!DOCTYPE svg PUBLIC \"-//W3C//DTD SVG 1.1//EN\"\r\n",
       " \"http://www.w3.org/Graphics/SVG/1.1/DTD/svg11.dtd\">\r\n",
       "<!-- Generated by graphviz version 2.38.0 (20140413.2041)\r\n",
       " -->\r\n",
       "<!-- Title: Tree Pages: 1 -->\r\n",
       "<svg width=\"758pt\" height=\"373pt\"\r\n",
       " viewBox=\"0.00 0.00 757.50 373.00\" xmlns=\"http://www.w3.org/2000/svg\" xmlns:xlink=\"http://www.w3.org/1999/xlink\">\r\n",
       "<g id=\"graph0\" class=\"graph\" transform=\"scale(1 1) rotate(0) translate(4 369)\">\r\n",
       "<title>Tree</title>\r\n",
       "<polygon fill=\"white\" stroke=\"none\" points=\"-4,4 -4,-369 753.5,-369 753.5,4 -4,4\"/>\r\n",
       "<!-- 0 -->\r\n",
       "<g id=\"node1\" class=\"node\"><title>0</title>\r\n",
       "<path fill=\"#ffffff\" stroke=\"black\" d=\"M394,-365C394,-365 220,-365 220,-365 214,-365 208,-359 208,-353 208,-353 208,-309 208,-309 208,-303 214,-297 220,-297 220,-297 394,-297 394,-297 400,-297 406,-303 406,-309 406,-309 406,-353 406,-353 406,-359 400,-365 394,-365\"/>\r\n",
       "<text text-anchor=\"middle\" x=\"307\" y=\"-349.8\" font-family=\"Helvetica,sans-Serif\" font-size=\"14.00\">petal width &lt;= 0.8</text>\r\n",
       "<text text-anchor=\"middle\" x=\"307\" y=\"-334.8\" font-family=\"Helvetica,sans-Serif\" font-size=\"14.00\">samples = 100.0%</text>\r\n",
       "<text text-anchor=\"middle\" x=\"307\" y=\"-319.8\" font-family=\"Helvetica,sans-Serif\" font-size=\"14.00\">value = [0.333, 0.333, 0.333]</text>\r\n",
       "<text text-anchor=\"middle\" x=\"307\" y=\"-304.8\" font-family=\"Helvetica,sans-Serif\" font-size=\"14.00\">class = setosa</text>\r\n",
       "</g>\r\n",
       "<!-- 1 -->\r\n",
       "<g id=\"node2\" class=\"node\"><title>1</title>\r\n",
       "<path fill=\"#e58139\" stroke=\"black\" d=\"M286.5,-253.5C286.5,-253.5 161.5,-253.5 161.5,-253.5 155.5,-253.5 149.5,-247.5 149.5,-241.5 149.5,-241.5 149.5,-212.5 149.5,-212.5 149.5,-206.5 155.5,-200.5 161.5,-200.5 161.5,-200.5 286.5,-200.5 286.5,-200.5 292.5,-200.5 298.5,-206.5 298.5,-212.5 298.5,-212.5 298.5,-241.5 298.5,-241.5 298.5,-247.5 292.5,-253.5 286.5,-253.5\"/>\r\n",
       "<text text-anchor=\"middle\" x=\"224\" y=\"-238.3\" font-family=\"Helvetica,sans-Serif\" font-size=\"14.00\">samples = 33.3%</text>\r\n",
       "<text text-anchor=\"middle\" x=\"224\" y=\"-223.3\" font-family=\"Helvetica,sans-Serif\" font-size=\"14.00\">value = [1.0, 0.0, 0.0]</text>\r\n",
       "<text text-anchor=\"middle\" x=\"224\" y=\"-208.3\" font-family=\"Helvetica,sans-Serif\" font-size=\"14.00\">class = setosa</text>\r\n",
       "</g>\r\n",
       "<!-- 0&#45;&gt;1 -->\r\n",
       "<g id=\"edge1\" class=\"edge\"><title>0&#45;&gt;1</title>\r\n",
       "<path fill=\"none\" stroke=\"black\" d=\"M280.052,-296.884C270.835,-285.556 260.52,-272.88 251.277,-261.521\"/>\r\n",
       "<polygon fill=\"black\" stroke=\"black\" points=\"253.793,-259.067 244.766,-253.52 248.363,-263.486 253.793,-259.067\"/>\r\n",
       "<text text-anchor=\"middle\" x=\"242.212\" y=\"-274.689\" font-family=\"Helvetica,sans-Serif\" font-size=\"14.00\">True</text>\r\n",
       "</g>\r\n",
       "<!-- 2 -->\r\n",
       "<g id=\"node3\" class=\"node\"><title>2</title>\r\n",
       "<path fill=\"#ffffff\" stroke=\"black\" d=\"M453.5,-261C453.5,-261 328.5,-261 328.5,-261 322.5,-261 316.5,-255 316.5,-249 316.5,-249 316.5,-205 316.5,-205 316.5,-199 322.5,-193 328.5,-193 328.5,-193 453.5,-193 453.5,-193 459.5,-193 465.5,-199 465.5,-205 465.5,-205 465.5,-249 465.5,-249 465.5,-255 459.5,-261 453.5,-261\"/>\r\n",
       "<text text-anchor=\"middle\" x=\"391\" y=\"-245.8\" font-family=\"Helvetica,sans-Serif\" font-size=\"14.00\">petal width &lt;= 1.75</text>\r\n",
       "<text text-anchor=\"middle\" x=\"391\" y=\"-230.8\" font-family=\"Helvetica,sans-Serif\" font-size=\"14.00\">samples = 66.7%</text>\r\n",
       "<text text-anchor=\"middle\" x=\"391\" y=\"-215.8\" font-family=\"Helvetica,sans-Serif\" font-size=\"14.00\">value = [0.0, 0.5, 0.5]</text>\r\n",
       "<text text-anchor=\"middle\" x=\"391\" y=\"-200.8\" font-family=\"Helvetica,sans-Serif\" font-size=\"14.00\">class = versicolor</text>\r\n",
       "</g>\r\n",
       "<!-- 0&#45;&gt;2 -->\r\n",
       "<g id=\"edge2\" class=\"edge\"><title>0&#45;&gt;2</title>\r\n",
       "<path fill=\"none\" stroke=\"black\" d=\"M334.272,-296.884C341.535,-288.065 349.469,-278.43 357.042,-269.235\"/>\r\n",
       "<polygon fill=\"black\" stroke=\"black\" points=\"359.922,-271.244 363.577,-261.299 354.518,-266.794 359.922,-271.244\"/>\r\n",
       "<text text-anchor=\"middle\" x=\"365.985\" y=\"-282.483\" font-family=\"Helvetica,sans-Serif\" font-size=\"14.00\">False</text>\r\n",
       "</g>\r\n",
       "<!-- 3 -->\r\n",
       "<g id=\"node4\" class=\"node\"><title>3</title>\r\n",
       "<path fill=\"#4de88e\" stroke=\"black\" d=\"M370,-157C370,-157 212,-157 212,-157 206,-157 200,-151 200,-145 200,-145 200,-101 200,-101 200,-95 206,-89 212,-89 212,-89 370,-89 370,-89 376,-89 382,-95 382,-101 382,-101 382,-145 382,-145 382,-151 376,-157 370,-157\"/>\r\n",
       "<text text-anchor=\"middle\" x=\"291\" y=\"-141.8\" font-family=\"Helvetica,sans-Serif\" font-size=\"14.00\">petal length &lt;= 4.95</text>\r\n",
       "<text text-anchor=\"middle\" x=\"291\" y=\"-126.8\" font-family=\"Helvetica,sans-Serif\" font-size=\"14.00\">samples = 36.0%</text>\r\n",
       "<text text-anchor=\"middle\" x=\"291\" y=\"-111.8\" font-family=\"Helvetica,sans-Serif\" font-size=\"14.00\">value = [0.0, 0.907, 0.093]</text>\r\n",
       "<text text-anchor=\"middle\" x=\"291\" y=\"-96.8\" font-family=\"Helvetica,sans-Serif\" font-size=\"14.00\">class = versicolor</text>\r\n",
       "</g>\r\n",
       "<!-- 2&#45;&gt;3 -->\r\n",
       "<g id=\"edge3\" class=\"edge\"><title>2&#45;&gt;3</title>\r\n",
       "<path fill=\"none\" stroke=\"black\" d=\"M358.533,-192.884C349.713,-183.887 340.059,-174.041 330.881,-164.678\"/>\r\n",
       "<polygon fill=\"black\" stroke=\"black\" points=\"333.146,-161.99 323.646,-157.299 328.148,-166.89 333.146,-161.99\"/>\r\n",
       "</g>\r\n",
       "<!-- 6 -->\r\n",
       "<g id=\"node7\" class=\"node\"><title>6</title>\r\n",
       "<path fill=\"#843de6\" stroke=\"black\" d=\"M570,-157C570,-157 412,-157 412,-157 406,-157 400,-151 400,-145 400,-145 400,-101 400,-101 400,-95 406,-89 412,-89 412,-89 570,-89 570,-89 576,-89 582,-95 582,-101 582,-101 582,-145 582,-145 582,-151 576,-157 570,-157\"/>\r\n",
       "<text text-anchor=\"middle\" x=\"491\" y=\"-141.8\" font-family=\"Helvetica,sans-Serif\" font-size=\"14.00\">petal length &lt;= 4.85</text>\r\n",
       "<text text-anchor=\"middle\" x=\"491\" y=\"-126.8\" font-family=\"Helvetica,sans-Serif\" font-size=\"14.00\">samples = 30.7%</text>\r\n",
       "<text text-anchor=\"middle\" x=\"491\" y=\"-111.8\" font-family=\"Helvetica,sans-Serif\" font-size=\"14.00\">value = [0.0, 0.022, 0.978]</text>\r\n",
       "<text text-anchor=\"middle\" x=\"491\" y=\"-96.8\" font-family=\"Helvetica,sans-Serif\" font-size=\"14.00\">class = virginica</text>\r\n",
       "</g>\r\n",
       "<!-- 2&#45;&gt;6 -->\r\n",
       "<g id=\"edge6\" class=\"edge\"><title>2&#45;&gt;6</title>\r\n",
       "<path fill=\"none\" stroke=\"black\" d=\"M423.467,-192.884C432.287,-183.887 441.941,-174.041 451.119,-164.678\"/>\r\n",
       "<polygon fill=\"black\" stroke=\"black\" points=\"453.852,-166.89 458.354,-157.299 448.854,-161.99 453.852,-166.89\"/>\r\n",
       "</g>\r\n",
       "<!-- 4 -->\r\n",
       "<g id=\"node5\" class=\"node\"><title>4</title>\r\n",
       "<path fill=\"#3de684\" stroke=\"black\" d=\"M170,-53C170,-53 12,-53 12,-53 6,-53 0,-47 0,-41 0,-41 0,-12 0,-12 0,-6 6,-0 12,-0 12,-0 170,-0 170,-0 176,-0 182,-6 182,-12 182,-12 182,-41 182,-41 182,-47 176,-53 170,-53\"/>\r\n",
       "<text text-anchor=\"middle\" x=\"91\" y=\"-37.8\" font-family=\"Helvetica,sans-Serif\" font-size=\"14.00\">samples = 32.0%</text>\r\n",
       "<text text-anchor=\"middle\" x=\"91\" y=\"-22.8\" font-family=\"Helvetica,sans-Serif\" font-size=\"14.00\">value = [0.0, 0.979, 0.021]</text>\r\n",
       "<text text-anchor=\"middle\" x=\"91\" y=\"-7.8\" font-family=\"Helvetica,sans-Serif\" font-size=\"14.00\">class = versicolor</text>\r\n",
       "</g>\r\n",
       "<!-- 3&#45;&gt;4 -->\r\n",
       "<g id=\"edge4\" class=\"edge\"><title>3&#45;&gt;4</title>\r\n",
       "<path fill=\"none\" stroke=\"black\" d=\"M221.05,-88.9485C199.364,-78.7021 175.6,-67.4737 154.387,-57.4503\"/>\r\n",
       "<polygon fill=\"black\" stroke=\"black\" points=\"155.689,-54.1943 145.152,-53.0867 152.698,-60.5234 155.689,-54.1943\"/>\r\n",
       "</g>\r\n",
       "<!-- 5 -->\r\n",
       "<g id=\"node6\" class=\"node\"><title>5</title>\r\n",
       "<path fill=\"#c09cf2\" stroke=\"black\" d=\"M370,-53C370,-53 212,-53 212,-53 206,-53 200,-47 200,-41 200,-41 200,-12 200,-12 200,-6 206,-0 212,-0 212,-0 370,-0 370,-0 376,-0 382,-6 382,-12 382,-12 382,-41 382,-41 382,-47 376,-53 370,-53\"/>\r\n",
       "<text text-anchor=\"middle\" x=\"291\" y=\"-37.8\" font-family=\"Helvetica,sans-Serif\" font-size=\"14.00\">samples = 4.0%</text>\r\n",
       "<text text-anchor=\"middle\" x=\"291\" y=\"-22.8\" font-family=\"Helvetica,sans-Serif\" font-size=\"14.00\">value = [0.0, 0.333, 0.667]</text>\r\n",
       "<text text-anchor=\"middle\" x=\"291\" y=\"-7.8\" font-family=\"Helvetica,sans-Serif\" font-size=\"14.00\">class = virginica</text>\r\n",
       "</g>\r\n",
       "<!-- 3&#45;&gt;5 -->\r\n",
       "<g id=\"edge5\" class=\"edge\"><title>3&#45;&gt;5</title>\r\n",
       "<path fill=\"none\" stroke=\"black\" d=\"M291,-88.9485C291,-80.7153 291,-71.848 291,-63.4814\"/>\r\n",
       "<polygon fill=\"black\" stroke=\"black\" points=\"294.5,-63.2367 291,-53.2367 287.5,-63.2367 294.5,-63.2367\"/>\r\n",
       "</g>\r\n",
       "<!-- 7 -->\r\n",
       "<g id=\"node8\" class=\"node\"><title>7</title>\r\n",
       "<path fill=\"#c09cf2\" stroke=\"black\" d=\"M570,-53C570,-53 412,-53 412,-53 406,-53 400,-47 400,-41 400,-41 400,-12 400,-12 400,-6 406,-0 412,-0 412,-0 570,-0 570,-0 576,-0 582,-6 582,-12 582,-12 582,-41 582,-41 582,-47 576,-53 570,-53\"/>\r\n",
       "<text text-anchor=\"middle\" x=\"491\" y=\"-37.8\" font-family=\"Helvetica,sans-Serif\" font-size=\"14.00\">samples = 2.0%</text>\r\n",
       "<text text-anchor=\"middle\" x=\"491\" y=\"-22.8\" font-family=\"Helvetica,sans-Serif\" font-size=\"14.00\">value = [0.0, 0.333, 0.667]</text>\r\n",
       "<text text-anchor=\"middle\" x=\"491\" y=\"-7.8\" font-family=\"Helvetica,sans-Serif\" font-size=\"14.00\">class = virginica</text>\r\n",
       "</g>\r\n",
       "<!-- 6&#45;&gt;7 -->\r\n",
       "<g id=\"edge7\" class=\"edge\"><title>6&#45;&gt;7</title>\r\n",
       "<path fill=\"none\" stroke=\"black\" d=\"M491,-88.9485C491,-80.7153 491,-71.848 491,-63.4814\"/>\r\n",
       "<polygon fill=\"black\" stroke=\"black\" points=\"494.5,-63.2367 491,-53.2367 487.5,-63.2367 494.5,-63.2367\"/>\r\n",
       "</g>\r\n",
       "<!-- 8 -->\r\n",
       "<g id=\"node9\" class=\"node\"><title>8</title>\r\n",
       "<path fill=\"#8139e5\" stroke=\"black\" d=\"M737.5,-53C737.5,-53 612.5,-53 612.5,-53 606.5,-53 600.5,-47 600.5,-41 600.5,-41 600.5,-12 600.5,-12 600.5,-6 606.5,-0 612.5,-0 612.5,-0 737.5,-0 737.5,-0 743.5,-0 749.5,-6 749.5,-12 749.5,-12 749.5,-41 749.5,-41 749.5,-47 743.5,-53 737.5,-53\"/>\r\n",
       "<text text-anchor=\"middle\" x=\"675\" y=\"-37.8\" font-family=\"Helvetica,sans-Serif\" font-size=\"14.00\">samples = 28.7%</text>\r\n",
       "<text text-anchor=\"middle\" x=\"675\" y=\"-22.8\" font-family=\"Helvetica,sans-Serif\" font-size=\"14.00\">value = [0.0, 0.0, 1.0]</text>\r\n",
       "<text text-anchor=\"middle\" x=\"675\" y=\"-7.8\" font-family=\"Helvetica,sans-Serif\" font-size=\"14.00\">class = virginica</text>\r\n",
       "</g>\r\n",
       "<!-- 6&#45;&gt;8 -->\r\n",
       "<g id=\"edge8\" class=\"edge\"><title>6&#45;&gt;8</title>\r\n",
       "<path fill=\"none\" stroke=\"black\" d=\"M555.354,-88.9485C575.126,-78.794 596.776,-67.675 616.158,-57.7203\"/>\r\n",
       "<polygon fill=\"black\" stroke=\"black\" points=\"617.884,-60.7687 625.18,-53.0867 614.686,-54.5419 617.884,-60.7687\"/>\r\n",
       "</g>\r\n",
       "</g>\r\n",
       "</svg>\r\n"
      ],
      "text/plain": [
       "<graphviz.files.Source at 0x26b901e8490>"
      ]
     },
     "execution_count": 14,
     "metadata": {},
     "output_type": "execute_result"
    }
   ],
   "source": [
    "dot_data = tree.export_graphviz(TreeCV.best_estimator_,\n",
    "                               out_file=None,\n",
    "                               feature_names=attributes.columns,\n",
    "                               class_names = df.species.cat.categories,\n",
    "                               proportion=True,\n",
    "                               impurity=False,\n",
    "                               filled=True,\n",
    "                               rounded=True)\n",
    "graph = graphviz.Source(dot_data)\n",
    "graph.render('ValidIris')\n",
    "graph"
   ]
  },
  {
   "cell_type": "code",
   "execution_count": 15,
   "metadata": {},
   "outputs": [],
   "source": [
    "#results = pd.DataFrame()\n",
    "#results['depth'] = parameters['max_depth']\n",
    "#results['valid error'] = 1 - TreeCV.cv_results_['mean_test_score'].mean()\n",
    "#results.head()\n",
    "#results.plot.line(x='depth',y='valid error')"
   ]
  }
 ],
 "metadata": {
  "kernelspec": {
   "display_name": "Python 3",
   "language": "python",
   "name": "python3"
  },
  "language_info": {
   "codemirror_mode": {
    "name": "ipython",
    "version": 3
   },
   "file_extension": ".py",
   "mimetype": "text/x-python",
   "name": "python",
   "nbconvert_exporter": "python",
   "pygments_lexer": "ipython3",
   "version": "3.8.3"
  }
 },
 "nbformat": 4,
 "nbformat_minor": 4
}
