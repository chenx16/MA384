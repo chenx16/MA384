{
 "cells": [
  {
   "cell_type": "code",
   "execution_count": 151,
   "metadata": {},
   "outputs": [],
   "source": [
    "import pandas as pd"
   ]
  },
  {
   "cell_type": "markdown",
   "metadata": {},
   "source": [
    "# Problem 3"
   ]
  },
  {
   "cell_type": "code",
   "execution_count": 152,
   "metadata": {},
   "outputs": [
    {
     "data": {
      "text/html": [
       "<div>\n",
       "<style scoped>\n",
       "    .dataframe tbody tr th:only-of-type {\n",
       "        vertical-align: middle;\n",
       "    }\n",
       "\n",
       "    .dataframe tbody tr th {\n",
       "        vertical-align: top;\n",
       "    }\n",
       "\n",
       "    .dataframe thead th {\n",
       "        text-align: right;\n",
       "    }\n",
       "</style>\n",
       "<table border=\"1\" class=\"dataframe\">\n",
       "  <thead>\n",
       "    <tr style=\"text-align: right;\">\n",
       "      <th></th>\n",
       "      <th>Name</th>\n",
       "      <th>Job Titles</th>\n",
       "      <th>Department</th>\n",
       "      <th>Full or Part-Time</th>\n",
       "      <th>Salary or Hourly</th>\n",
       "      <th>Typical Hours</th>\n",
       "      <th>Annual Salary</th>\n",
       "      <th>Hourly Rate</th>\n",
       "    </tr>\n",
       "  </thead>\n",
       "  <tbody>\n",
       "    <tr>\n",
       "      <th>0</th>\n",
       "      <td>AARON,  JEFFERY M</td>\n",
       "      <td>SERGEANT</td>\n",
       "      <td>POLICE</td>\n",
       "      <td>F</td>\n",
       "      <td>Salary</td>\n",
       "      <td>NaN</td>\n",
       "      <td>$101442.00</td>\n",
       "      <td>NaN</td>\n",
       "    </tr>\n",
       "    <tr>\n",
       "      <th>1</th>\n",
       "      <td>AARON,  KARINA</td>\n",
       "      <td>POLICE OFFICER (ASSIGNED AS DETECTIVE)</td>\n",
       "      <td>POLICE</td>\n",
       "      <td>F</td>\n",
       "      <td>Salary</td>\n",
       "      <td>NaN</td>\n",
       "      <td>$94122.00</td>\n",
       "      <td>NaN</td>\n",
       "    </tr>\n",
       "    <tr>\n",
       "      <th>2</th>\n",
       "      <td>AARON,  KIMBERLEI R</td>\n",
       "      <td>CHIEF CONTRACT EXPEDITER</td>\n",
       "      <td>GENERAL SERVICES</td>\n",
       "      <td>F</td>\n",
       "      <td>Salary</td>\n",
       "      <td>NaN</td>\n",
       "      <td>$101592.00</td>\n",
       "      <td>NaN</td>\n",
       "    </tr>\n",
       "    <tr>\n",
       "      <th>3</th>\n",
       "      <td>ABAD JR,  VICENTE M</td>\n",
       "      <td>CIVIL ENGINEER IV</td>\n",
       "      <td>WATER MGMNT</td>\n",
       "      <td>F</td>\n",
       "      <td>Salary</td>\n",
       "      <td>NaN</td>\n",
       "      <td>$110064.00</td>\n",
       "      <td>NaN</td>\n",
       "    </tr>\n",
       "    <tr>\n",
       "      <th>4</th>\n",
       "      <td>ABARCA,  EMMANUEL</td>\n",
       "      <td>CONCRETE LABORER</td>\n",
       "      <td>TRANSPORTN</td>\n",
       "      <td>F</td>\n",
       "      <td>Hourly</td>\n",
       "      <td>40.0</td>\n",
       "      <td>NaN</td>\n",
       "      <td>$36.18</td>\n",
       "    </tr>\n",
       "  </tbody>\n",
       "</table>\n",
       "</div>"
      ],
      "text/plain": [
       "                  Name                              Job Titles  \\\n",
       "0    AARON,  JEFFERY M                                SERGEANT   \n",
       "1      AARON,  KARINA   POLICE OFFICER (ASSIGNED AS DETECTIVE)   \n",
       "2  AARON,  KIMBERLEI R                CHIEF CONTRACT EXPEDITER   \n",
       "3  ABAD JR,  VICENTE M                       CIVIL ENGINEER IV   \n",
       "4   ABARCA,  EMMANUEL                         CONCRETE LABORER   \n",
       "\n",
       "         Department Full or Part-Time Salary or Hourly  Typical Hours  \\\n",
       "0            POLICE                 F           Salary            NaN   \n",
       "1            POLICE                 F           Salary            NaN   \n",
       "2  GENERAL SERVICES                 F           Salary            NaN   \n",
       "3       WATER MGMNT                 F           Salary            NaN   \n",
       "4        TRANSPORTN                 F           Hourly           40.0   \n",
       "\n",
       "  Annual Salary Hourly Rate  \n",
       "0    $101442.00         NaN  \n",
       "1     $94122.00         NaN  \n",
       "2    $101592.00         NaN  \n",
       "3    $110064.00         NaN  \n",
       "4           NaN      $36.18  "
      ]
     },
     "execution_count": 152,
     "metadata": {},
     "output_type": "execute_result"
    }
   ],
   "source": [
    "df= pd.read_csv('Data/ChicagoSalaries/ChicagoSalaries.csv')\n",
    "df.head(5)"
   ]
  },
  {
   "cell_type": "code",
   "execution_count": 153,
   "metadata": {},
   "outputs": [
    {
     "data": {
      "text/plain": [
       "32812"
      ]
     },
     "execution_count": 153,
     "metadata": {},
     "output_type": "execute_result"
    }
   ],
   "source": [
    "# (a) (2 pts) How many employees does the City of Chicago have?\n",
    "n = df['Name'].count() \n",
    "n"
   ]
  },
  {
   "cell_type": "code",
   "execution_count": 154,
   "metadata": {},
   "outputs": [
    {
     "data": {
      "text/plain": [
       "2178570595.68"
      ]
     },
     "execution_count": 154,
     "metadata": {},
     "output_type": "execute_result"
    }
   ],
   "source": [
    "# (b) (2 pts) What is the total amount that the City of Chicago spends on employee salaries? Hint: The .str.strip() method may be useful.\n",
    "df['Annual Salary'] = df['Annual Salary'].str.strip('$')\n",
    "df['Annual Salary'] = df['Annual Salary'].astype(float)\n",
    "total_s = df['Annual Salary'].sum()\n",
    "total_s"
   ]
  },
  {
   "cell_type": "code",
   "execution_count": 155,
   "metadata": {},
   "outputs": [
    {
     "data": {
      "text/plain": [
       "87313.95918720697"
      ]
     },
     "execution_count": 155,
     "metadata": {},
     "output_type": "execute_result"
    }
   ],
   "source": [
    "#(c) (2 pts) What is the average salary of a City of Chicago employee?\n",
    "s.mean()"
   ]
  },
  {
   "cell_type": "code",
   "execution_count": 156,
   "metadata": {},
   "outputs": [
    {
     "data": {
      "text/plain": [
       "87313.95918720691"
      ]
     },
     "execution_count": 156,
     "metadata": {},
     "output_type": "execute_result"
    }
   ],
   "source": [
    "# avg salary\n",
    "total_s/(n - s.isna().sum()) # there is missing data"
   ]
  },
  {
   "cell_type": "code",
   "execution_count": 157,
   "metadata": {},
   "outputs": [
    {
     "data": {
      "text/plain": [
       "90024.0"
      ]
     },
     "execution_count": 157,
     "metadata": {},
     "output_type": "execute_result"
    }
   ],
   "source": [
    "# (d) (2 pts) What is the median salary of a City of Chicago employee?\n",
    "s.dropna()\n",
    "s.median()"
   ]
  },
  {
   "cell_type": "code",
   "execution_count": 163,
   "metadata": {},
   "outputs": [
    {
     "data": {
      "text/plain": [
       "36"
      ]
     },
     "execution_count": 163,
     "metadata": {},
     "output_type": "execute_result"
    }
   ],
   "source": [
    "# (e) (2 pts) How many different city departments does the City of Chicago have?\n",
    "gp = df.groupby('Department')\n",
    "gp.ngroups"
   ]
  },
  {
   "cell_type": "code",
   "execution_count": 164,
   "metadata": {},
   "outputs": [
    {
     "data": {
      "text/plain": [
       "Department\n",
       "POLICE                   13061\n",
       "FIRE                      4837\n",
       "OEMC                      2121\n",
       "STREETS & SAN             2035\n",
       "WATER MGMNT               1905\n",
       "AVIATION                  1414\n",
       "TRANSPORTN                1242\n",
       "PUBLIC LIBRARY             984\n",
       "GENERAL SERVICES           964\n",
       "FAMILY & SUPPORT           626\n",
       "FINANCE                    564\n",
       "HEALTH                     505\n",
       "CITY COUNCIL               448\n",
       "LAW                        392\n",
       "BUILDINGS                  277\n",
       "COMMUNITY DEVELOPMENT      204\n",
       "BUSINESS AFFAIRS           161\n",
       "COPA                       115\n",
       "BOARD OF ELECTION          103\n",
       "DoIT                        98\n",
       "PROCUREMENT                 97\n",
       "CITY CLERK                  89\n",
       "MAYOR'S OFFICE              89\n",
       "INSPECTOR GEN               87\n",
       "ANIMAL CONTRL               80\n",
       "HUMAN RESOURCES             70\n",
       "CULTURAL AFFAIRS            67\n",
       "BUDGET & MGMT               46\n",
       "ADMIN HEARNG                39\n",
       "DISABILITIES                29\n",
       "TREASURER                   22\n",
       "HUMAN RELATIONS             17\n",
       "IPRA                        13\n",
       "BOARD OF ETHICS              8\n",
       "POLICE BOARD                 2\n",
       "LICENSE APPL COMM            1\n",
       "Name: Name, dtype: int64"
      ]
     },
     "execution_count": 164,
     "metadata": {},
     "output_type": "execute_result"
    }
   ],
   "source": [
    "# (f) (2 pts) Which city department has the most employees?\n",
    "gp.count().Name.sort_values(ascending=False)\n",
    "\n",
    "#POLICE"
   ]
  },
  {
   "cell_type": "code",
   "execution_count": 165,
   "metadata": {},
   "outputs": [
    {
     "data": {
      "text/plain": [
       "Department\n",
       "IPRA                     101592.00\n",
       "BUILDINGS                100256.04\n",
       "DoIT                      97056.00\n",
       "FIRE                      93666.00\n",
       "WATER MGMNT               92556.00\n",
       "TRANSPORTN                92388.00\n",
       "HUMAN RELATIONS           92388.00\n",
       "BUDGET & MGMT             91608.00\n",
       "COMMUNITY DEVELOPMENT     91128.00\n",
       "TREASURER                 90858.00\n",
       "POLICE                    90024.00\n",
       "BOARD OF ETHICS           89076.00\n",
       "CULTURAL AFFAIRS          88758.00\n",
       "POLICE BOARD              86136.00\n",
       "DISABILITIES              84516.00\n",
       "HEALTH                    84420.00\n",
       "STREETS & SAN             84384.00\n",
       "GENERAL SERVICES          83484.00\n",
       "BUSINESS AFFAIRS          80568.00\n",
       "LICENSE APPL COMM         80568.00\n",
       "MAYOR'S OFFICE            80004.00\n",
       "LAW                       79968.00\n",
       "FAMILY & SUPPORT          76932.00\n",
       "PROCUREMENT               76716.00\n",
       "INSPECTOR GEN             76536.00\n",
       "HUMAN RESOURCES           75792.00\n",
       "AVIATION                  73992.00\n",
       "COPA                      73440.00\n",
       "OEMC                      70644.00\n",
       "FINANCE                   70092.00\n",
       "PUBLIC LIBRARY            70092.00\n",
       "ADMIN HEARNG              70092.00\n",
       "CITY CLERK                66948.00\n",
       "ANIMAL CONTRL             64392.00\n",
       "CITY COUNCIL              57036.00\n",
       "BOARD OF ELECTION         46860.00\n",
       "Name: Annual Salary, dtype: float64"
      ]
     },
     "execution_count": 165,
     "metadata": {},
     "output_type": "execute_result"
    }
   ],
   "source": [
    "# (g) (2 pts) Which city department has the highest median salary?\n",
    "gp['Annual Salary'].median().sort_values(ascending=False)\n",
    "\n",
    "#IPRA"
   ]
  },
  {
   "cell_type": "code",
   "execution_count": 171,
   "metadata": {},
   "outputs": [
    {
     "data": {
      "text/plain": [
       "Job Titles\n",
       "COMMISSIONER OF AVIATION           300000.0\n",
       "SUPERINTENDENT OF POLICE           260004.0\n",
       "MAYOR                              216210.0\n",
       "FIRE COMMISSIONER                  202728.0\n",
       "FIRST DEPUTY FIRE COMMISSIONER     197736.0\n",
       "                                     ...   \n",
       "WATCHMAN                                NaN\n",
       "WATER METER MACHINIST                   NaN\n",
       "WATER METER MACHINIST - TRAINEE         NaN\n",
       "WEIGHMASTER                             NaN\n",
       "WINDOW WASHER                           NaN\n",
       "Name: Annual Salary, Length: 1121, dtype: float64"
      ]
     },
     "execution_count": 171,
     "metadata": {},
     "output_type": "execute_result"
    }
   ],
   "source": [
    "#(h) (2 pts) Which city position has the highest median salary?\n",
    "gp2 = df.groupby('Job Titles')\n",
    "gp2['Annual Salary'].median().sort_values(ascending=False)\n",
    "\n",
    "#COMMISSIONER OF AVIATION"
   ]
  },
  {
   "cell_type": "code",
   "execution_count": 173,
   "metadata": {},
   "outputs": [
    {
     "data": {
      "text/plain": [
       "Job Titles\n",
       "CLERK CITY COUNCIL                    26730.0\n",
       "CLERK - BD OF ELECTIONS               29328.0\n",
       "ELECTION EQUIPMENT & SUPPLY SPEC I    30060.0\n",
       "POLLING PLACE INVESTIGATOR I          31200.0\n",
       "ALDERMANIC AIDE                       33219.0\n",
       "                                       ...   \n",
       "WATCHMAN                                  NaN\n",
       "WATER METER MACHINIST                     NaN\n",
       "WATER METER MACHINIST - TRAINEE           NaN\n",
       "WEIGHMASTER                               NaN\n",
       "WINDOW WASHER                             NaN\n",
       "Name: Annual Salary, Length: 1121, dtype: float64"
      ]
     },
     "execution_count": 173,
     "metadata": {},
     "output_type": "execute_result"
    }
   ],
   "source": [
    "#(i) (2 pts) Which city position has the lowest median salary?\n",
    "gp2['Annual Salary'].median().sort_values()\n",
    "\n",
    "#CLERK CITY COUNCIL "
   ]
  },
  {
   "cell_type": "code",
   "execution_count": 175,
   "metadata": {},
   "outputs": [
    {
     "data": {
      "text/plain": [
       "Job Titles\n",
       "POLICE OFFICER                            9216\n",
       "FIREFIGHTER-EMT                           1491\n",
       "SERGEANT                                  1163\n",
       "POLICE OFFICER (ASSIGNED AS DETECTIVE)    1016\n",
       "MOTOR TRUCK DRIVER                         707\n",
       "                                          ... \n",
       "DIR OF HUMAN RESOURCES                       1\n",
       "DIR OF INTERGOVERNMENTAL AFFAIRS             1\n",
       "DIR OF LABOR RELATIONS                       1\n",
       "DIR OF LIBRARY - PROGRAMS AND EXHIBITS       1\n",
       "1ST DEPUTY INSPECTOR GENERAL                 1\n",
       "Name: Name, Length: 1121, dtype: int64"
      ]
     },
     "execution_count": 175,
     "metadata": {},
     "output_type": "execute_result"
    }
   ],
   "source": [
    "#(j) (2 pts) Which city position has the most employees?\n",
    "gp2.count().Name.sort_values(ascending=False)\n",
    "\n",
    "#POLICE OFFICER"
   ]
  },
  {
   "cell_type": "markdown",
   "metadata": {},
   "source": [
    "# Problem 4"
   ]
  },
  {
   "cell_type": "code",
   "execution_count": 191,
   "metadata": {},
   "outputs": [
    {
     "data": {
      "text/html": [
       "<div>\n",
       "<style scoped>\n",
       "    .dataframe tbody tr th:only-of-type {\n",
       "        vertical-align: middle;\n",
       "    }\n",
       "\n",
       "    .dataframe tbody tr th {\n",
       "        vertical-align: top;\n",
       "    }\n",
       "\n",
       "    .dataframe thead th {\n",
       "        text-align: right;\n",
       "    }\n",
       "</style>\n",
       "<table border=\"1\" class=\"dataframe\">\n",
       "  <thead>\n",
       "    <tr style=\"text-align: right;\">\n",
       "      <th></th>\n",
       "      <th>MLS</th>\n",
       "      <th>Location</th>\n",
       "      <th>Price</th>\n",
       "      <th>Bedrooms</th>\n",
       "      <th>Bathrooms</th>\n",
       "      <th>Size</th>\n",
       "      <th>Price/SQ.Ft</th>\n",
       "      <th>Status</th>\n",
       "    </tr>\n",
       "  </thead>\n",
       "  <tbody>\n",
       "    <tr>\n",
       "      <th>0</th>\n",
       "      <td>132842</td>\n",
       "      <td>Arroyo Grande</td>\n",
       "      <td>795000.0</td>\n",
       "      <td>3</td>\n",
       "      <td>3</td>\n",
       "      <td>2371</td>\n",
       "      <td>335.30</td>\n",
       "      <td>Short Sale</td>\n",
       "    </tr>\n",
       "    <tr>\n",
       "      <th>1</th>\n",
       "      <td>134364</td>\n",
       "      <td>Paso Robles</td>\n",
       "      <td>399000.0</td>\n",
       "      <td>4</td>\n",
       "      <td>3</td>\n",
       "      <td>2818</td>\n",
       "      <td>141.59</td>\n",
       "      <td>Short Sale</td>\n",
       "    </tr>\n",
       "    <tr>\n",
       "      <th>2</th>\n",
       "      <td>135141</td>\n",
       "      <td>Paso Robles</td>\n",
       "      <td>545000.0</td>\n",
       "      <td>4</td>\n",
       "      <td>3</td>\n",
       "      <td>3032</td>\n",
       "      <td>179.75</td>\n",
       "      <td>Short Sale</td>\n",
       "    </tr>\n",
       "    <tr>\n",
       "      <th>3</th>\n",
       "      <td>135712</td>\n",
       "      <td>Morro Bay</td>\n",
       "      <td>909000.0</td>\n",
       "      <td>4</td>\n",
       "      <td>4</td>\n",
       "      <td>3540</td>\n",
       "      <td>256.78</td>\n",
       "      <td>Short Sale</td>\n",
       "    </tr>\n",
       "    <tr>\n",
       "      <th>4</th>\n",
       "      <td>136282</td>\n",
       "      <td>Santa Maria-Orcutt</td>\n",
       "      <td>109900.0</td>\n",
       "      <td>3</td>\n",
       "      <td>1</td>\n",
       "      <td>1249</td>\n",
       "      <td>87.99</td>\n",
       "      <td>Short Sale</td>\n",
       "    </tr>\n",
       "  </tbody>\n",
       "</table>\n",
       "</div>"
      ],
      "text/plain": [
       "      MLS            Location     Price  Bedrooms  Bathrooms  Size  \\\n",
       "0  132842       Arroyo Grande  795000.0         3          3  2371   \n",
       "1  134364         Paso Robles  399000.0         4          3  2818   \n",
       "2  135141         Paso Robles  545000.0         4          3  3032   \n",
       "3  135712           Morro Bay  909000.0         4          4  3540   \n",
       "4  136282  Santa Maria-Orcutt  109900.0         3          1  1249   \n",
       "\n",
       "   Price/SQ.Ft      Status  \n",
       "0       335.30  Short Sale  \n",
       "1       141.59  Short Sale  \n",
       "2       179.75  Short Sale  \n",
       "3       256.78  Short Sale  \n",
       "4        87.99  Short Sale  "
      ]
     },
     "execution_count": 191,
     "metadata": {},
     "output_type": "execute_result"
    }
   ],
   "source": [
    "df= pd.read_csv('Data/RealEstate/RealEstate.csv')\n",
    "#df.Location = df.Location.apply(lambda x: x.strip()) # strips extra white spaces will cause subtle errors\n",
    "df.head(5)"
   ]
  },
  {
   "cell_type": "markdown",
   "metadata": {},
   "source": [
    "### (a) (5 pts) What are the top three locations with the most expensive median price per square foot? What are the bottom three locations with the least expensive median prices per square foot?"
   ]
  },
  {
   "cell_type": "code",
   "execution_count": 192,
   "metadata": {},
   "outputs": [
    {
     "data": {
      "text/plain": [
       "Location\n",
       " Oceano        1144.64\n",
       "Avila Beach     636.96\n",
       " Bradley        606.06\n",
       "Name: Price/SQ.Ft, dtype: float64"
      ]
     },
     "execution_count": 192,
     "metadata": {},
     "output_type": "execute_result"
    }
   ],
   "source": [
    "#most expensive\n",
    "gp = df.groupby('Location')\n",
    "gp['Price/SQ.Ft'].median().sort_values(ascending=False).head(3)"
   ]
  },
  {
   "cell_type": "code",
   "execution_count": 193,
   "metadata": {},
   "outputs": [
    {
     "data": {
      "text/plain": [
       "Location\n",
       "New Cuyama     34.05\n",
       "Bakersfield    69.69\n",
       "King City      74.68\n",
       "Name: Price/SQ.Ft, dtype: float64"
      ]
     },
     "execution_count": 193,
     "metadata": {},
     "output_type": "execute_result"
    }
   ],
   "source": [
    "#least expensive\n",
    "gp['Price/SQ.Ft'].median().sort_values().head(3)"
   ]
  },
  {
   "cell_type": "markdown",
   "metadata": {},
   "source": [
    "### (b) (5 pts) Complete a cross-tabulation of the number of bedrooms and bathrooms a house has. What type of house is the most common house in the data set? Is it more common for a house to have more bedrooms than bathrooms or more bathrooms than bedrooms? Explain what the data suggests."
   ]
  },
  {
   "cell_type": "code",
   "execution_count": 196,
   "metadata": {},
   "outputs": [
    {
     "data": {
      "text/html": [
       "<div>\n",
       "<style scoped>\n",
       "    .dataframe tbody tr th:only-of-type {\n",
       "        vertical-align: middle;\n",
       "    }\n",
       "\n",
       "    .dataframe tbody tr th {\n",
       "        vertical-align: top;\n",
       "    }\n",
       "\n",
       "    .dataframe thead th {\n",
       "        text-align: right;\n",
       "    }\n",
       "</style>\n",
       "<table border=\"1\" class=\"dataframe\">\n",
       "  <thead>\n",
       "    <tr style=\"text-align: right;\">\n",
       "      <th>Bathrooms</th>\n",
       "      <th>1</th>\n",
       "      <th>2</th>\n",
       "      <th>3</th>\n",
       "      <th>4</th>\n",
       "      <th>5</th>\n",
       "      <th>6</th>\n",
       "      <th>7</th>\n",
       "      <th>11</th>\n",
       "    </tr>\n",
       "    <tr>\n",
       "      <th>Bedrooms</th>\n",
       "      <th></th>\n",
       "      <th></th>\n",
       "      <th></th>\n",
       "      <th></th>\n",
       "      <th></th>\n",
       "      <th></th>\n",
       "      <th></th>\n",
       "      <th></th>\n",
       "    </tr>\n",
       "  </thead>\n",
       "  <tbody>\n",
       "    <tr>\n",
       "      <th>0</th>\n",
       "      <td>2</td>\n",
       "      <td>0</td>\n",
       "      <td>0</td>\n",
       "      <td>0</td>\n",
       "      <td>0</td>\n",
       "      <td>0</td>\n",
       "      <td>0</td>\n",
       "      <td>0</td>\n",
       "    </tr>\n",
       "    <tr>\n",
       "      <th>1</th>\n",
       "      <td>10</td>\n",
       "      <td>1</td>\n",
       "      <td>0</td>\n",
       "      <td>0</td>\n",
       "      <td>0</td>\n",
       "      <td>0</td>\n",
       "      <td>0</td>\n",
       "      <td>0</td>\n",
       "    </tr>\n",
       "    <tr>\n",
       "      <th>2</th>\n",
       "      <td>33</td>\n",
       "      <td>78</td>\n",
       "      <td>12</td>\n",
       "      <td>0</td>\n",
       "      <td>0</td>\n",
       "      <td>0</td>\n",
       "      <td>0</td>\n",
       "      <td>0</td>\n",
       "    </tr>\n",
       "    <tr>\n",
       "      <th>3</th>\n",
       "      <td>20</td>\n",
       "      <td>286</td>\n",
       "      <td>119</td>\n",
       "      <td>5</td>\n",
       "      <td>1</td>\n",
       "      <td>0</td>\n",
       "      <td>0</td>\n",
       "      <td>0</td>\n",
       "    </tr>\n",
       "    <tr>\n",
       "      <th>4</th>\n",
       "      <td>0</td>\n",
       "      <td>76</td>\n",
       "      <td>76</td>\n",
       "      <td>19</td>\n",
       "      <td>6</td>\n",
       "      <td>0</td>\n",
       "      <td>0</td>\n",
       "      <td>0</td>\n",
       "    </tr>\n",
       "    <tr>\n",
       "      <th>5</th>\n",
       "      <td>0</td>\n",
       "      <td>3</td>\n",
       "      <td>16</td>\n",
       "      <td>9</td>\n",
       "      <td>0</td>\n",
       "      <td>2</td>\n",
       "      <td>1</td>\n",
       "      <td>0</td>\n",
       "    </tr>\n",
       "    <tr>\n",
       "      <th>6</th>\n",
       "      <td>0</td>\n",
       "      <td>0</td>\n",
       "      <td>3</td>\n",
       "      <td>0</td>\n",
       "      <td>0</td>\n",
       "      <td>0</td>\n",
       "      <td>1</td>\n",
       "      <td>0</td>\n",
       "    </tr>\n",
       "    <tr>\n",
       "      <th>7</th>\n",
       "      <td>0</td>\n",
       "      <td>0</td>\n",
       "      <td>0</td>\n",
       "      <td>0</td>\n",
       "      <td>1</td>\n",
       "      <td>0</td>\n",
       "      <td>0</td>\n",
       "      <td>0</td>\n",
       "    </tr>\n",
       "    <tr>\n",
       "      <th>10</th>\n",
       "      <td>0</td>\n",
       "      <td>0</td>\n",
       "      <td>0</td>\n",
       "      <td>0</td>\n",
       "      <td>0</td>\n",
       "      <td>0</td>\n",
       "      <td>0</td>\n",
       "      <td>1</td>\n",
       "    </tr>\n",
       "  </tbody>\n",
       "</table>\n",
       "</div>"
      ],
      "text/plain": [
       "Bathrooms  1    2    3   4   5   6   7   11\n",
       "Bedrooms                                   \n",
       "0           2    0    0   0   0   0   0   0\n",
       "1          10    1    0   0   0   0   0   0\n",
       "2          33   78   12   0   0   0   0   0\n",
       "3          20  286  119   5   1   0   0   0\n",
       "4           0   76   76  19   6   0   0   0\n",
       "5           0    3   16   9   0   2   1   0\n",
       "6           0    0    3   0   0   0   1   0\n",
       "7           0    0    0   0   1   0   0   0\n",
       "10          0    0    0   0   0   0   0   1"
      ]
     },
     "execution_count": 196,
     "metadata": {},
     "output_type": "execute_result"
    }
   ],
   "source": [
    "pd.crosstab(df['Bedrooms'],df['Bathrooms'])"
   ]
  },
  {
   "cell_type": "markdown",
   "metadata": {},
   "source": [
    "houses with 2 bathrooms and 3 bedrooms are the most common house in the data set. It is more common for a house to have more bedrooms than bathrooms."
   ]
  },
  {
   "cell_type": "markdown",
   "metadata": {},
   "source": [
    "### (c) (5 pts) How strong is the correlation between the size of a house and the price of a house? Compute the correlation coefficient.\n"
   ]
  },
  {
   "cell_type": "code",
   "execution_count": 197,
   "metadata": {},
   "outputs": [
    {
     "data": {
      "text/plain": [
       "0.664723613865808"
      ]
     },
     "execution_count": 197,
     "metadata": {},
     "output_type": "execute_result"
    }
   ],
   "source": [
    "df['Size'].corr(df['Price'])"
   ]
  },
  {
   "cell_type": "markdown",
   "metadata": {},
   "source": [
    "### (d) (5 pts) Create the table below filled with the appropriate numbers in your Jupyter notebook. Use the median to aggregate each group."
   ]
  },
  {
   "cell_type": "code",
   "execution_count": 207,
   "metadata": {},
   "outputs": [
    {
     "name": "stderr",
     "output_type": "stream",
     "text": [
      "<ipython-input-207-0cf4e61c9f30>:2: FutureWarning: Indexing with multiple keys (implicitly converted to a tuple of keys) will be deprecated, use a list instead.\n",
      "  gp3['Price/SQ.Ft','Price','Size'].median()\n"
     ]
    },
    {
     "data": {
      "text/html": [
       "<div>\n",
       "<style scoped>\n",
       "    .dataframe tbody tr th:only-of-type {\n",
       "        vertical-align: middle;\n",
       "    }\n",
       "\n",
       "    .dataframe tbody tr th {\n",
       "        vertical-align: top;\n",
       "    }\n",
       "\n",
       "    .dataframe thead th {\n",
       "        text-align: right;\n",
       "    }\n",
       "</style>\n",
       "<table border=\"1\" class=\"dataframe\">\n",
       "  <thead>\n",
       "    <tr style=\"text-align: right;\">\n",
       "      <th></th>\n",
       "      <th>Price/SQ.Ft</th>\n",
       "      <th>Price</th>\n",
       "      <th>Size</th>\n",
       "    </tr>\n",
       "    <tr>\n",
       "      <th>Status</th>\n",
       "      <th></th>\n",
       "      <th></th>\n",
       "      <th></th>\n",
       "    </tr>\n",
       "  </thead>\n",
       "  <tbody>\n",
       "    <tr>\n",
       "      <th>Foreclosure</th>\n",
       "      <td>186.780</td>\n",
       "      <td>278950.0</td>\n",
       "      <td>1500</td>\n",
       "    </tr>\n",
       "    <tr>\n",
       "      <th>Regular</th>\n",
       "      <td>282.690</td>\n",
       "      <td>509000.0</td>\n",
       "      <td>1832</td>\n",
       "    </tr>\n",
       "    <tr>\n",
       "      <th>Short Sale</th>\n",
       "      <td>175.405</td>\n",
       "      <td>277000.0</td>\n",
       "      <td>1526</td>\n",
       "    </tr>\n",
       "  </tbody>\n",
       "</table>\n",
       "</div>"
      ],
      "text/plain": [
       "             Price/SQ.Ft     Price  Size\n",
       "Status                                  \n",
       "Foreclosure      186.780  278950.0  1500\n",
       "Regular          282.690  509000.0  1832\n",
       "Short Sale       175.405  277000.0  1526"
      ]
     },
     "execution_count": 207,
     "metadata": {},
     "output_type": "execute_result"
    }
   ],
   "source": [
    "gp3 = df.groupby('Status')\n",
    "gp3['Price/SQ.Ft','Price','Size'].median()"
   ]
  },
  {
   "cell_type": "markdown",
   "metadata": {},
   "source": [
    "### (e) (5 pts) Submit box plots comparing the price per square foot of houses in Atascadero to houses in Paso Robles. What conclusions can be drawn from the box plots?\n"
   ]
  },
  {
   "cell_type": "code",
   "execution_count": 243,
   "metadata": {},
   "outputs": [
    {
     "data": {
      "text/plain": [
       "<matplotlib.axes._subplots.AxesSubplot at 0x2dcc0c258e0>"
      ]
     },
     "execution_count": 243,
     "metadata": {},
     "output_type": "execute_result"
    },
    {
     "data": {
      "image/png": "[encoded data removed]",
      "text/plain": [
       "<Figure size 432x288 with 1 Axes>"
      ]
     },
     "metadata": {
      "needs_background": "light"
     },
     "output_type": "display_data"
    }
   ],
   "source": [
    "pd1 = pd.concat([df.groupby('Location').get_group('Paso Robles'),df.groupby('Location').get_group('Atascadero')])\n",
    "pd1.boxplot(column='Price/SQ.Ft', by='Location')\n",
    "#df.groupby('Location').get_group('Atascadero').boxplot(column='Price/SQ.Ft')\n",
    "#plt.show()"
   ]
  },
  {
   "cell_type": "markdown",
   "metadata": {},
   "source": [
    "The prices per square foot of houses in Atascadero have bigger variability and general more expensive than houses in Paso Robles. "
   ]
  },
  {
   "cell_type": "markdown",
   "metadata": {},
   "source": [
    "### Cleaning data for inconsistent formatting"
   ]
  },
  {
   "cell_type": "code",
   "execution_count": 247,
   "metadata": {},
   "outputs": [
    {
     "data": {
      "text/plain": [
       "58"
      ]
     },
     "execution_count": 247,
     "metadata": {},
     "output_type": "execute_result"
    }
   ],
   "source": [
    "(df.Location == 'Atascadero').sum()"
   ]
  },
  {
   "cell_type": "code",
   "execution_count": 249,
   "metadata": {},
   "outputs": [
    {
     "data": {
      "text/plain": [
       "68"
      ]
     },
     "execution_count": 249,
     "metadata": {},
     "output_type": "execute_result"
    }
   ],
   "source": [
    "(df.Location.str.contains('Atascadero')).sum()"
   ]
  },
  {
   "cell_type": "code",
   "execution_count": 251,
   "metadata": {},
   "outputs": [
    {
     "data": {
      "text/plain": [
       "68"
      ]
     },
     "execution_count": 251,
     "metadata": {},
     "output_type": "execute_result"
    }
   ],
   "source": [
    "(df.Location.str.strip() == 'Atascadero').sum()"
   ]
  },
  {
   "cell_type": "markdown",
   "metadata": {},
   "source": [
    "The problem seems to be extra white spaces in the names. A pipeline for preprocessing this data could clean the data by having a .str.strip() step to remove any leading or trailing white spaces."
   ]
  },
  {
   "cell_type": "code",
   "execution_count": 253,
   "metadata": {},
   "outputs": [
    {
     "data": {
      "text/plain": [
       "85"
      ]
     },
     "execution_count": 253,
     "metadata": {},
     "output_type": "execute_result"
    }
   ],
   "source": [
    "(df.Location=='Paso Robles').sum()"
   ]
  },
  {
   "cell_type": "code",
   "execution_count": 254,
   "metadata": {},
   "outputs": [
    {
     "data": {
      "text/plain": [
       "100"
      ]
     },
     "execution_count": 254,
     "metadata": {},
     "output_type": "execute_result"
    }
   ],
   "source": [
    "(df.Location.str.contains('Paso Robles')).sum()"
   ]
  },
  {
   "cell_type": "code",
   "execution_count": 255,
   "metadata": {},
   "outputs": [],
   "source": [
    "#Ignore white spaces in the names.\n",
    "\n",
    "Atascadero = df[df.Location.str.contains('Atascadero')]['Price/SQ.Ft']\n",
    "Paso = df[df.Location.str.contains('Paso Robles')]['Price/SQ.Ft']"
   ]
  },
  {
   "cell_type": "code",
   "execution_count": 256,
   "metadata": {},
   "outputs": [
    {
     "data": {
      "text/plain": [
       "(68,)"
      ]
     },
     "execution_count": 256,
     "metadata": {},
     "output_type": "execute_result"
    }
   ],
   "source": [
    "Atascadero.shape\n"
   ]
  },
  {
   "cell_type": "code",
   "execution_count": 257,
   "metadata": {},
   "outputs": [
    {
     "data": {
      "text/plain": [
       "(100,)"
      ]
     },
     "execution_count": 257,
     "metadata": {},
     "output_type": "execute_result"
    }
   ],
   "source": [
    "Paso.shape\n"
   ]
  },
  {
   "cell_type": "code",
   "execution_count": 258,
   "metadata": {},
   "outputs": [
    {
     "data": {
      "text/plain": [
       "<matplotlib.axes._subplots.AxesSubplot at 0x2dcc0c25400>"
      ]
     },
     "execution_count": 258,
     "metadata": {},
     "output_type": "execute_result"
    },
    {
     "data": {
      "image/png": "[encoded data removed]",
      "text/plain": [
       "<Figure size 432x288 with 1 Axes>"
      ]
     },
     "metadata": {
      "needs_background": "light"
     },
     "output_type": "display_data"
    }
   ],
   "source": [
    "Atascadero_Paso = pd.concat([Atascadero,Paso],axis=1,keys=['Atascadero','Paso'])\n",
    "Atascadero_Paso.plot.box()"
   ]
  },
  {
   "cell_type": "code",
   "execution_count": null,
   "metadata": {},
   "outputs": [],
   "source": []
  }
 ],
 "metadata": {
  "kernelspec": {
   "display_name": "Python 3 (ipykernel)",
   "language": "python",
   "name": "python3"
  },
  "language_info": {
   "codemirror_mode": {
    "name": "ipython",
    "version": 3
   },
   "file_extension": ".py",
   "mimetype": "text/x-python",
   "name": "python",
   "nbconvert_exporter": "python",
   "pygments_lexer": "ipython3",
   "version": "3.9.7"
  }
 },
 "nbformat": 4,
 "nbformat_minor": 4
}
