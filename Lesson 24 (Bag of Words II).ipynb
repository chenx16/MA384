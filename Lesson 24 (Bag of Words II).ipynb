{
 "cells": [
  {
   "cell_type": "markdown",
   "metadata": {},
   "source": [
    "## Example (Bag of Words II)"
   ]
  },
  {
   "cell_type": "code",
   "execution_count": 1,
   "metadata": {},
   "outputs": [],
   "source": [
    "import numpy as np\n",
    "import pandas as pd\n",
    "from sklearn.feature_extraction.text import CountVectorizer"
   ]
  },
  {
   "cell_type": "code",
   "execution_count": 2,
   "metadata": {},
   "outputs": [
    {
     "data": {
      "text/html": [
       "<div>\n",
       "<style scoped>\n",
       "    .dataframe tbody tr th:only-of-type {\n",
       "        vertical-align: middle;\n",
       "    }\n",
       "\n",
       "    .dataframe tbody tr th {\n",
       "        vertical-align: top;\n",
       "    }\n",
       "\n",
       "    .dataframe thead th {\n",
       "        text-align: right;\n",
       "    }\n",
       "</style>\n",
       "<table border=\"1\" class=\"dataframe\">\n",
       "  <thead>\n",
       "    <tr style=\"text-align: right;\">\n",
       "      <th></th>\n",
       "      <th>document</th>\n",
       "    </tr>\n",
       "  </thead>\n",
       "  <tbody>\n",
       "    <tr>\n",
       "      <th>0</th>\n",
       "      <td>The car crashed long ago.</td>\n",
       "    </tr>\n",
       "    <tr>\n",
       "      <th>1</th>\n",
       "      <td>The car has rusted.</td>\n",
       "    </tr>\n",
       "    <tr>\n",
       "      <th>2</th>\n",
       "      <td>A rusted car is unsafe.</td>\n",
       "    </tr>\n",
       "    <tr>\n",
       "      <th>3</th>\n",
       "      <td>Spare car parts are needed urgently.</td>\n",
       "    </tr>\n",
       "  </tbody>\n",
       "</table>\n",
       "</div>"
      ],
      "text/plain": [
       "                               document\n",
       "0             The car crashed long ago.\n",
       "1                   The car has rusted.\n",
       "2               A rusted car is unsafe.\n",
       "3  Spare car parts are needed urgently."
      ]
     },
     "execution_count": 2,
     "metadata": {},
     "output_type": "execute_result"
    }
   ],
   "source": [
    "# create data set\n",
    "text = ['The car crashed long ago.',\n",
    "         'The car has rusted.',\n",
    "         'A rusted car is unsafe.',\n",
    "         'Spare car parts are needed urgently.']\n",
    "corpus = pd.DataFrame()\n",
    "corpus['document'] = text\n",
    "corpus"
   ]
  },
  {
   "cell_type": "code",
   "execution_count": 3,
   "metadata": {},
   "outputs": [
    {
     "data": {
      "text/plain": [
       "array([['The car crashed long ago.'],\n",
       "       ['The car has rusted.'],\n",
       "       ['A rusted car is unsafe.'],\n",
       "       ['Spare car parts are needed urgently.']], dtype=object)"
      ]
     },
     "execution_count": 3,
     "metadata": {},
     "output_type": "execute_result"
    }
   ],
   "source": [
    "corpus.values"
   ]
  },
  {
   "cell_type": "code",
   "execution_count": 4,
   "metadata": {},
   "outputs": [
    {
     "data": {
      "text/plain": [
       "array(['The car crashed long ago.', 'The car has rusted.',\n",
       "       'A rusted car is unsafe.', 'Spare car parts are needed urgently.'],\n",
       "      dtype=object)"
      ]
     },
     "execution_count": 4,
     "metadata": {},
     "output_type": "execute_result"
    }
   ],
   "source": [
    "corpus.values.flatten()"
   ]
  },
  {
   "cell_type": "code",
   "execution_count": 5,
   "metadata": {},
   "outputs": [],
   "source": [
    "Vectorizer = CountVectorizer(analyzer='word',stop_words='english',ngram_range=(1,2))\n",
    "#ngram_range=(1,2): all 1 grams & all 2 grams (1-word-word and 2-word-word)"
   ]
  },
  {
   "cell_type": "code",
   "execution_count": 6,
   "metadata": {},
   "outputs": [
    {
     "name": "stdout",
     "output_type": "stream",
     "text": [
      "  (0, 1)\t1\n",
      "  (0, 6)\t1\n",
      "  (0, 8)\t1\n",
      "  (0, 0)\t1\n",
      "  (0, 2)\t1\n",
      "  (0, 7)\t1\n",
      "  (0, 9)\t1\n",
      "  (1, 1)\t1\n",
      "  (1, 14)\t1\n",
      "  (1, 4)\t1\n",
      "  (2, 1)\t1\n",
      "  (2, 14)\t1\n",
      "  (2, 18)\t1\n",
      "  (2, 15)\t1\n",
      "  (2, 5)\t1\n",
      "  (3, 1)\t1\n",
      "  (3, 16)\t1\n",
      "  (3, 12)\t1\n",
      "  (3, 10)\t1\n",
      "  (3, 19)\t1\n",
      "  (3, 17)\t1\n",
      "  (3, 3)\t1\n",
      "  (3, 13)\t1\n",
      "  (3, 11)\t1\n"
     ]
    }
   ],
   "source": [
    "word_counts = Vectorizer.fit_transform(corpus.values.flatten())\n",
    "print(word_counts)"
   ]
  },
  {
   "cell_type": "code",
   "execution_count": 7,
   "metadata": {},
   "outputs": [
    {
     "data": {
      "text/plain": [
       "(4, 20)"
      ]
     },
     "execution_count": 7,
     "metadata": {},
     "output_type": "execute_result"
    }
   ],
   "source": [
    "word_counts.shape"
   ]
  },
  {
   "cell_type": "code",
   "execution_count": 8,
   "metadata": {},
   "outputs": [
    {
     "data": {
      "text/plain": [
       "['ago',\n",
       " 'car',\n",
       " 'car crashed',\n",
       " 'car parts',\n",
       " 'car rusted',\n",
       " 'car unsafe',\n",
       " 'crashed',\n",
       " 'crashed long',\n",
       " 'long',\n",
       " 'long ago',\n",
       " 'needed',\n",
       " 'needed urgently',\n",
       " 'parts',\n",
       " 'parts needed',\n",
       " 'rusted',\n",
       " 'rusted car',\n",
       " 'spare',\n",
       " 'spare car',\n",
       " 'unsafe',\n",
       " 'urgently']"
      ]
     },
     "execution_count": 8,
     "metadata": {},
     "output_type": "execute_result"
    }
   ],
   "source": [
    "words = Vectorizer.get_feature_names()\n",
    "words"
   ]
  },
  {
   "cell_type": "code",
   "execution_count": 9,
   "metadata": {},
   "outputs": [
    {
     "data": {
      "text/plain": [
       "0                 ago\n",
       "1                 car\n",
       "2         car crashed\n",
       "3           car parts\n",
       "4          car rusted\n",
       "5          car unsafe\n",
       "6             crashed\n",
       "7        crashed long\n",
       "8                long\n",
       "9            long ago\n",
       "10             needed\n",
       "11    needed urgently\n",
       "12              parts\n",
       "13       parts needed\n",
       "14             rusted\n",
       "15         rusted car\n",
       "16              spare\n",
       "17          spare car\n",
       "18             unsafe\n",
       "19           urgently\n",
       "dtype: object"
      ]
     },
     "execution_count": 9,
     "metadata": {},
     "output_type": "execute_result"
    }
   ],
   "source": [
    "words = pd.Series(words)\n",
    "words"
   ]
  },
  {
   "cell_type": "code",
   "execution_count": 10,
   "metadata": {},
   "outputs": [
    {
     "data": {
      "text/plain": [
       "'car unsafe'"
      ]
     },
     "execution_count": 10,
     "metadata": {},
     "output_type": "execute_result"
    }
   ],
   "source": [
    "words[5]"
   ]
  },
  {
   "cell_type": "code",
   "execution_count": 11,
   "metadata": {},
   "outputs": [
    {
     "data": {
      "text/plain": [
       "array([1, 4, 1, 1, 1, 1, 1, 1, 1, 1, 1, 1, 1, 1, 2, 1, 1, 1, 1, 1],\n",
       "      dtype=int64)"
      ]
     },
     "execution_count": 11,
     "metadata": {},
     "output_type": "execute_result"
    }
   ],
   "source": [
    "word_counts_total = np.asarray(word_counts.sum(axis = 0)).flatten()\n",
    "word_counts_total"
   ]
  },
  {
   "cell_type": "code",
   "execution_count": 12,
   "metadata": {},
   "outputs": [
    {
     "data": {
      "text/plain": [
       "car                4\n",
       "rusted             2\n",
       "urgently           1\n",
       "long               1\n",
       "car crashed        1\n",
       "car parts          1\n",
       "car rusted         1\n",
       "car unsafe         1\n",
       "crashed            1\n",
       "crashed long       1\n",
       "long ago           1\n",
       "unsafe             1\n",
       "needed             1\n",
       "needed urgently    1\n",
       "parts              1\n",
       "parts needed       1\n",
       "rusted car         1\n",
       "spare              1\n",
       "spare car          1\n",
       "ago                1\n",
       "dtype: int64"
      ]
     },
     "execution_count": 12,
     "metadata": {},
     "output_type": "execute_result"
    }
   ],
   "source": [
    "word_counts_total = pd.Series(word_counts_total, index = words)\n",
    "word_counts_total.sort_values(ascending=False)"
   ]
  },
  {
   "cell_type": "code",
   "execution_count": 13,
   "metadata": {},
   "outputs": [
    {
     "name": "stdout",
     "output_type": "stream",
     "text": [
      "  (0, 1)\t1\n",
      "  (0, 6)\t1\n",
      "  (0, 8)\t1\n",
      "  (0, 0)\t1\n",
      "  (0, 2)\t1\n",
      "  (0, 7)\t1\n",
      "  (0, 9)\t1\n",
      "  (1, 1)\t1\n",
      "  (1, 14)\t1\n",
      "  (1, 4)\t1\n",
      "  (2, 1)\t1\n",
      "  (2, 14)\t1\n",
      "  (2, 18)\t1\n",
      "  (2, 15)\t1\n",
      "  (2, 5)\t1\n",
      "  (3, 1)\t1\n",
      "  (3, 16)\t1\n",
      "  (3, 12)\t1\n",
      "  (3, 10)\t1\n",
      "  (3, 19)\t1\n",
      "  (3, 17)\t1\n",
      "  (3, 3)\t1\n",
      "  (3, 13)\t1\n",
      "  (3, 11)\t1\n"
     ]
    }
   ],
   "source": [
    "print(word_counts)"
   ]
  },
  {
   "cell_type": "code",
   "execution_count": 14,
   "metadata": {},
   "outputs": [
    {
     "data": {
      "text/plain": [
       "array([[1, 1, 1, 0, 0, 0, 1, 1, 1, 1, 0, 0, 0, 0, 0, 0, 0, 0, 0, 0],\n",
       "       [0, 1, 0, 0, 1, 0, 0, 0, 0, 0, 0, 0, 0, 0, 1, 0, 0, 0, 0, 0],\n",
       "       [0, 1, 0, 0, 0, 1, 0, 0, 0, 0, 0, 0, 0, 0, 1, 1, 0, 0, 1, 0],\n",
       "       [0, 1, 0, 1, 0, 0, 0, 0, 0, 0, 1, 1, 1, 1, 0, 0, 1, 1, 0, 1]],\n",
       "      dtype=int64)"
      ]
     },
     "execution_count": 14,
     "metadata": {},
     "output_type": "execute_result"
    }
   ],
   "source": [
    "word_counts.toarray()"
   ]
  },
  {
   "cell_type": "code",
   "execution_count": 15,
   "metadata": {},
   "outputs": [
    {
     "data": {
      "text/html": [
       "<div>\n",
       "<style scoped>\n",
       "    .dataframe tbody tr th:only-of-type {\n",
       "        vertical-align: middle;\n",
       "    }\n",
       "\n",
       "    .dataframe tbody tr th {\n",
       "        vertical-align: top;\n",
       "    }\n",
       "\n",
       "    .dataframe thead th {\n",
       "        text-align: right;\n",
       "    }\n",
       "</style>\n",
       "<table border=\"1\" class=\"dataframe\">\n",
       "  <thead>\n",
       "    <tr style=\"text-align: right;\">\n",
       "      <th></th>\n",
       "      <th>ago</th>\n",
       "      <th>car</th>\n",
       "      <th>car crashed</th>\n",
       "      <th>car parts</th>\n",
       "      <th>car rusted</th>\n",
       "      <th>car unsafe</th>\n",
       "      <th>crashed</th>\n",
       "      <th>crashed long</th>\n",
       "      <th>long</th>\n",
       "      <th>long ago</th>\n",
       "      <th>needed</th>\n",
       "      <th>needed urgently</th>\n",
       "      <th>parts</th>\n",
       "      <th>parts needed</th>\n",
       "      <th>rusted</th>\n",
       "      <th>rusted car</th>\n",
       "      <th>spare</th>\n",
       "      <th>spare car</th>\n",
       "      <th>unsafe</th>\n",
       "      <th>urgently</th>\n",
       "    </tr>\n",
       "  </thead>\n",
       "  <tbody>\n",
       "    <tr>\n",
       "      <th>0</th>\n",
       "      <td>1</td>\n",
       "      <td>1</td>\n",
       "      <td>1</td>\n",
       "      <td>0</td>\n",
       "      <td>0</td>\n",
       "      <td>0</td>\n",
       "      <td>1</td>\n",
       "      <td>1</td>\n",
       "      <td>1</td>\n",
       "      <td>1</td>\n",
       "      <td>0</td>\n",
       "      <td>0</td>\n",
       "      <td>0</td>\n",
       "      <td>0</td>\n",
       "      <td>0</td>\n",
       "      <td>0</td>\n",
       "      <td>0</td>\n",
       "      <td>0</td>\n",
       "      <td>0</td>\n",
       "      <td>0</td>\n",
       "    </tr>\n",
       "    <tr>\n",
       "      <th>1</th>\n",
       "      <td>0</td>\n",
       "      <td>1</td>\n",
       "      <td>0</td>\n",
       "      <td>0</td>\n",
       "      <td>1</td>\n",
       "      <td>0</td>\n",
       "      <td>0</td>\n",
       "      <td>0</td>\n",
       "      <td>0</td>\n",
       "      <td>0</td>\n",
       "      <td>0</td>\n",
       "      <td>0</td>\n",
       "      <td>0</td>\n",
       "      <td>0</td>\n",
       "      <td>1</td>\n",
       "      <td>0</td>\n",
       "      <td>0</td>\n",
       "      <td>0</td>\n",
       "      <td>0</td>\n",
       "      <td>0</td>\n",
       "    </tr>\n",
       "    <tr>\n",
       "      <th>2</th>\n",
       "      <td>0</td>\n",
       "      <td>1</td>\n",
       "      <td>0</td>\n",
       "      <td>0</td>\n",
       "      <td>0</td>\n",
       "      <td>1</td>\n",
       "      <td>0</td>\n",
       "      <td>0</td>\n",
       "      <td>0</td>\n",
       "      <td>0</td>\n",
       "      <td>0</td>\n",
       "      <td>0</td>\n",
       "      <td>0</td>\n",
       "      <td>0</td>\n",
       "      <td>1</td>\n",
       "      <td>1</td>\n",
       "      <td>0</td>\n",
       "      <td>0</td>\n",
       "      <td>1</td>\n",
       "      <td>0</td>\n",
       "    </tr>\n",
       "    <tr>\n",
       "      <th>3</th>\n",
       "      <td>0</td>\n",
       "      <td>1</td>\n",
       "      <td>0</td>\n",
       "      <td>1</td>\n",
       "      <td>0</td>\n",
       "      <td>0</td>\n",
       "      <td>0</td>\n",
       "      <td>0</td>\n",
       "      <td>0</td>\n",
       "      <td>0</td>\n",
       "      <td>1</td>\n",
       "      <td>1</td>\n",
       "      <td>1</td>\n",
       "      <td>1</td>\n",
       "      <td>0</td>\n",
       "      <td>0</td>\n",
       "      <td>1</td>\n",
       "      <td>1</td>\n",
       "      <td>0</td>\n",
       "      <td>1</td>\n",
       "    </tr>\n",
       "  </tbody>\n",
       "</table>\n",
       "</div>"
      ],
      "text/plain": [
       "   ago  car  car crashed  car parts  car rusted  car unsafe  crashed  \\\n",
       "0    1    1            1          0           0           0        1   \n",
       "1    0    1            0          0           1           0        0   \n",
       "2    0    1            0          0           0           1        0   \n",
       "3    0    1            0          1           0           0        0   \n",
       "\n",
       "   crashed long  long  long ago  needed  needed urgently  parts  parts needed  \\\n",
       "0             1     1         1       0                0      0             0   \n",
       "1             0     0         0       0                0      0             0   \n",
       "2             0     0         0       0                0      0             0   \n",
       "3             0     0         0       1                1      1             1   \n",
       "\n",
       "   rusted  rusted car  spare  spare car  unsafe  urgently  \n",
       "0       0           0      0          0       0         0  \n",
       "1       1           0      0          0       0         0  \n",
       "2       1           1      0          0       1         0  \n",
       "3       0           0      1          1       0         1  "
      ]
     },
     "execution_count": 15,
     "metadata": {},
     "output_type": "execute_result"
    }
   ],
   "source": [
    "df = pd.DataFrame(word_counts.toarray(), columns = words)\n",
    "df"
   ]
  },
  {
   "cell_type": "code",
   "execution_count": 16,
   "metadata": {},
   "outputs": [
    {
     "data": {
      "text/html": [
       "<div>\n",
       "<style scoped>\n",
       "    .dataframe tbody tr th:only-of-type {\n",
       "        vertical-align: middle;\n",
       "    }\n",
       "\n",
       "    .dataframe tbody tr th {\n",
       "        vertical-align: top;\n",
       "    }\n",
       "\n",
       "    .dataframe thead th {\n",
       "        text-align: right;\n",
       "    }\n",
       "</style>\n",
       "<table border=\"1\" class=\"dataframe\">\n",
       "  <thead>\n",
       "    <tr style=\"text-align: right;\">\n",
       "      <th></th>\n",
       "      <th>ago</th>\n",
       "      <th>car</th>\n",
       "      <th>car crashed</th>\n",
       "      <th>car parts</th>\n",
       "      <th>car rusted</th>\n",
       "      <th>car unsafe</th>\n",
       "      <th>crashed</th>\n",
       "      <th>crashed long</th>\n",
       "      <th>long</th>\n",
       "      <th>long ago</th>\n",
       "      <th>needed</th>\n",
       "      <th>needed urgently</th>\n",
       "      <th>parts</th>\n",
       "      <th>parts needed</th>\n",
       "      <th>rusted</th>\n",
       "      <th>rusted car</th>\n",
       "      <th>spare</th>\n",
       "      <th>spare car</th>\n",
       "      <th>unsafe</th>\n",
       "      <th>urgently</th>\n",
       "    </tr>\n",
       "  </thead>\n",
       "  <tbody>\n",
       "    <tr>\n",
       "      <th>0</th>\n",
       "      <td>0.14</td>\n",
       "      <td>0.14</td>\n",
       "      <td>0.14</td>\n",
       "      <td>0.00</td>\n",
       "      <td>0.00</td>\n",
       "      <td>0.0</td>\n",
       "      <td>0.14</td>\n",
       "      <td>0.14</td>\n",
       "      <td>0.14</td>\n",
       "      <td>0.14</td>\n",
       "      <td>0.00</td>\n",
       "      <td>0.00</td>\n",
       "      <td>0.00</td>\n",
       "      <td>0.00</td>\n",
       "      <td>0.00</td>\n",
       "      <td>0.0</td>\n",
       "      <td>0.00</td>\n",
       "      <td>0.00</td>\n",
       "      <td>0.0</td>\n",
       "      <td>0.00</td>\n",
       "    </tr>\n",
       "    <tr>\n",
       "      <th>1</th>\n",
       "      <td>0.00</td>\n",
       "      <td>0.33</td>\n",
       "      <td>0.00</td>\n",
       "      <td>0.00</td>\n",
       "      <td>0.33</td>\n",
       "      <td>0.0</td>\n",
       "      <td>0.00</td>\n",
       "      <td>0.00</td>\n",
       "      <td>0.00</td>\n",
       "      <td>0.00</td>\n",
       "      <td>0.00</td>\n",
       "      <td>0.00</td>\n",
       "      <td>0.00</td>\n",
       "      <td>0.00</td>\n",
       "      <td>0.33</td>\n",
       "      <td>0.0</td>\n",
       "      <td>0.00</td>\n",
       "      <td>0.00</td>\n",
       "      <td>0.0</td>\n",
       "      <td>0.00</td>\n",
       "    </tr>\n",
       "    <tr>\n",
       "      <th>2</th>\n",
       "      <td>0.00</td>\n",
       "      <td>0.20</td>\n",
       "      <td>0.00</td>\n",
       "      <td>0.00</td>\n",
       "      <td>0.00</td>\n",
       "      <td>0.2</td>\n",
       "      <td>0.00</td>\n",
       "      <td>0.00</td>\n",
       "      <td>0.00</td>\n",
       "      <td>0.00</td>\n",
       "      <td>0.00</td>\n",
       "      <td>0.00</td>\n",
       "      <td>0.00</td>\n",
       "      <td>0.00</td>\n",
       "      <td>0.20</td>\n",
       "      <td>0.2</td>\n",
       "      <td>0.00</td>\n",
       "      <td>0.00</td>\n",
       "      <td>0.2</td>\n",
       "      <td>0.00</td>\n",
       "    </tr>\n",
       "    <tr>\n",
       "      <th>3</th>\n",
       "      <td>0.00</td>\n",
       "      <td>0.11</td>\n",
       "      <td>0.00</td>\n",
       "      <td>0.11</td>\n",
       "      <td>0.00</td>\n",
       "      <td>0.0</td>\n",
       "      <td>0.00</td>\n",
       "      <td>0.00</td>\n",
       "      <td>0.00</td>\n",
       "      <td>0.00</td>\n",
       "      <td>0.11</td>\n",
       "      <td>0.11</td>\n",
       "      <td>0.11</td>\n",
       "      <td>0.11</td>\n",
       "      <td>0.00</td>\n",
       "      <td>0.0</td>\n",
       "      <td>0.11</td>\n",
       "      <td>0.11</td>\n",
       "      <td>0.0</td>\n",
       "      <td>0.11</td>\n",
       "    </tr>\n",
       "  </tbody>\n",
       "</table>\n",
       "</div>"
      ],
      "text/plain": [
       "    ago   car  car crashed  car parts  car rusted  car unsafe  crashed  \\\n",
       "0  0.14  0.14         0.14       0.00        0.00         0.0     0.14   \n",
       "1  0.00  0.33         0.00       0.00        0.33         0.0     0.00   \n",
       "2  0.00  0.20         0.00       0.00        0.00         0.2     0.00   \n",
       "3  0.00  0.11         0.00       0.11        0.00         0.0     0.00   \n",
       "\n",
       "   crashed long  long  long ago  needed  needed urgently  parts  parts needed  \\\n",
       "0          0.14  0.14      0.14    0.00             0.00   0.00          0.00   \n",
       "1          0.00  0.00      0.00    0.00             0.00   0.00          0.00   \n",
       "2          0.00  0.00      0.00    0.00             0.00   0.00          0.00   \n",
       "3          0.00  0.00      0.00    0.11             0.11   0.11          0.11   \n",
       "\n",
       "   rusted  rusted car  spare  spare car  unsafe  urgently  \n",
       "0    0.00         0.0   0.00       0.00     0.0      0.00  \n",
       "1    0.33         0.0   0.00       0.00     0.0      0.00  \n",
       "2    0.20         0.2   0.00       0.00     0.2      0.00  \n",
       "3    0.00         0.0   0.11       0.11     0.0      0.11  "
      ]
     },
     "execution_count": 16,
     "metadata": {},
     "output_type": "execute_result"
    }
   ],
   "source": [
    "#should match L23's Table\n",
    "df = df.div(df.sum(axis=1),axis=0)\n",
    "df.round(2)"
   ]
  },
  {
   "cell_type": "code",
   "execution_count": 17,
   "metadata": {},
   "outputs": [
    {
     "data": {
      "text/plain": [
       "0    1.0\n",
       "1    1.0\n",
       "2    1.0\n",
       "3    1.0\n",
       "dtype: float64"
      ]
     },
     "execution_count": 17,
     "metadata": {},
     "output_type": "execute_result"
    }
   ],
   "source": [
    "df.sum(axis=1)"
   ]
  },
  {
   "cell_type": "code",
   "execution_count": 18,
   "metadata": {},
   "outputs": [
    {
     "data": {
      "text/html": [
       "<div>\n",
       "<style scoped>\n",
       "    .dataframe tbody tr th:only-of-type {\n",
       "        vertical-align: middle;\n",
       "    }\n",
       "\n",
       "    .dataframe tbody tr th {\n",
       "        vertical-align: top;\n",
       "    }\n",
       "\n",
       "    .dataframe thead th {\n",
       "        text-align: right;\n",
       "    }\n",
       "</style>\n",
       "<table border=\"1\" class=\"dataframe\">\n",
       "  <thead>\n",
       "    <tr style=\"text-align: right;\">\n",
       "      <th></th>\n",
       "      <th>0</th>\n",
       "      <th>1</th>\n",
       "      <th>2</th>\n",
       "      <th>3</th>\n",
       "    </tr>\n",
       "  </thead>\n",
       "  <tbody>\n",
       "    <tr>\n",
       "      <th>0</th>\n",
       "      <td>1.00</td>\n",
       "      <td>-0.01</td>\n",
       "      <td>-0.18</td>\n",
       "      <td>-0.45</td>\n",
       "    </tr>\n",
       "    <tr>\n",
       "      <th>1</th>\n",
       "      <td>-0.01</td>\n",
       "      <td>1.00</td>\n",
       "      <td>0.40</td>\n",
       "      <td>-0.10</td>\n",
       "    </tr>\n",
       "    <tr>\n",
       "      <th>2</th>\n",
       "      <td>-0.18</td>\n",
       "      <td>0.40</td>\n",
       "      <td>1.00</td>\n",
       "      <td>-0.29</td>\n",
       "    </tr>\n",
       "    <tr>\n",
       "      <th>3</th>\n",
       "      <td>-0.45</td>\n",
       "      <td>-0.10</td>\n",
       "      <td>-0.29</td>\n",
       "      <td>1.00</td>\n",
       "    </tr>\n",
       "  </tbody>\n",
       "</table>\n",
       "</div>"
      ],
      "text/plain": [
       "      0     1     2     3\n",
       "0  1.00 -0.01 -0.18 -0.45\n",
       "1 -0.01  1.00  0.40 -0.10\n",
       "2 -0.18  0.40  1.00 -0.29\n",
       "3 -0.45 -0.10 -0.29  1.00"
      ]
     },
     "execution_count": 18,
     "metadata": {},
     "output_type": "execute_result"
    }
   ],
   "source": [
    "df.T.corr().round(2) \n",
    "#strong correlation betweeen document 1 and 2\n",
    "#all perfect correlated to themselves"
   ]
  },
  {
   "cell_type": "code",
   "execution_count": 19,
   "metadata": {},
   "outputs": [],
   "source": [
    "#g\n"
   ]
  }
 ],
 "metadata": {
  "kernelspec": {
   "display_name": "Python 3",
   "language": "python",
   "name": "python3"
  },
  "language_info": {
   "codemirror_mode": {
    "name": "ipython",
    "version": 3
   },
   "file_extension": ".py",
   "mimetype": "text/x-python",
   "name": "python",
   "nbconvert_exporter": "python",
   "pygments_lexer": "ipython3",
   "version": "3.8.3"
  }
 },
 "nbformat": 4,
 "nbformat_minor": 4
}
