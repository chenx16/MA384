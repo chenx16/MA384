{
 "cells": [
  {
   "cell_type": "code",
   "execution_count": 1,
   "metadata": {},
   "outputs": [],
   "source": [
    "import numpy as np\n",
    "import pandas as pd\n",
    "from sklearn.datasets import fetch_20newsgroups\n",
    "from sklearn.feature_extraction.text import TfidfVectorizer\n",
    "from sklearn.naive_bayes import MultinomialNB\n",
    "from sklearn.model_selection import GridSearchCV"
   ]
  },
  {
   "cell_type": "code",
   "execution_count": 2,
   "metadata": {},
   "outputs": [
    {
     "name": "stdout",
     "output_type": "stream",
     "text": [
      "(5331, 2)\n"
     ]
    },
    {
     "data": {
      "text/html": [
       "<div>\n",
       "<style scoped>\n",
       "    .dataframe tbody tr th:only-of-type {\n",
       "        vertical-align: middle;\n",
       "    }\n",
       "\n",
       "    .dataframe tbody tr th {\n",
       "        vertical-align: top;\n",
       "    }\n",
       "\n",
       "    .dataframe thead th {\n",
       "        text-align: right;\n",
       "    }\n",
       "</style>\n",
       "<table border=\"1\" class=\"dataframe\">\n",
       "  <thead>\n",
       "    <tr style=\"text-align: right;\">\n",
       "      <th></th>\n",
       "      <th>movie_review</th>\n",
       "      <th>sentiment</th>\n",
       "    </tr>\n",
       "  </thead>\n",
       "  <tbody>\n",
       "    <tr>\n",
       "      <th>0</th>\n",
       "      <td>simplistic , silly and tedious .</td>\n",
       "      <td>neg</td>\n",
       "    </tr>\n",
       "    <tr>\n",
       "      <th>1</th>\n",
       "      <td>it's so laddish and juvenile , only teenage bo...</td>\n",
       "      <td>neg</td>\n",
       "    </tr>\n",
       "    <tr>\n",
       "      <th>2</th>\n",
       "      <td>exploitative and largely devoid of the depth o...</td>\n",
       "      <td>neg</td>\n",
       "    </tr>\n",
       "    <tr>\n",
       "      <th>3</th>\n",
       "      <td>[garbus] discards the potential for pathologic...</td>\n",
       "      <td>neg</td>\n",
       "    </tr>\n",
       "    <tr>\n",
       "      <th>4</th>\n",
       "      <td>a visually flashy but narratively opaque and e...</td>\n",
       "      <td>neg</td>\n",
       "    </tr>\n",
       "  </tbody>\n",
       "</table>\n",
       "</div>"
      ],
      "text/plain": [
       "                                        movie_review sentiment\n",
       "0                   simplistic , silly and tedious .       neg\n",
       "1  it's so laddish and juvenile , only teenage bo...       neg\n",
       "2  exploitative and largely devoid of the depth o...       neg\n",
       "3  [garbus] discards the potential for pathologic...       neg\n",
       "4  a visually flashy but narratively opaque and e...       neg"
      ]
     },
     "execution_count": 2,
     "metadata": {},
     "output_type": "execute_result"
    }
   ],
   "source": [
    "# load negative reviews \n",
    "df_neg = pd.read_fwf('Data/MovieSentiment/rt-polarity.neg',\n",
    "                     header=None,\n",
    "                     names=['movie_review','sentiment'])\n",
    "df_neg['sentiment'] = 'neg'\n",
    "print(df_neg.shape)\n",
    "df_neg.head()"
   ]
  },
  {
   "cell_type": "code",
   "execution_count": 3,
   "metadata": {},
   "outputs": [
    {
     "name": "stdout",
     "output_type": "stream",
     "text": [
      "(5331, 2)\n"
     ]
    },
    {
     "data": {
      "text/html": [
       "<div>\n",
       "<style scoped>\n",
       "    .dataframe tbody tr th:only-of-type {\n",
       "        vertical-align: middle;\n",
       "    }\n",
       "\n",
       "    .dataframe tbody tr th {\n",
       "        vertical-align: top;\n",
       "    }\n",
       "\n",
       "    .dataframe thead th {\n",
       "        text-align: right;\n",
       "    }\n",
       "</style>\n",
       "<table border=\"1\" class=\"dataframe\">\n",
       "  <thead>\n",
       "    <tr style=\"text-align: right;\">\n",
       "      <th></th>\n",
       "      <th>movie_review</th>\n",
       "      <th>sentiment</th>\n",
       "    </tr>\n",
       "  </thead>\n",
       "  <tbody>\n",
       "    <tr>\n",
       "      <th>0</th>\n",
       "      <td>the rock is destined to be the 21st century's ...</td>\n",
       "      <td>pos</td>\n",
       "    </tr>\n",
       "    <tr>\n",
       "      <th>1</th>\n",
       "      <td>the gorgeously elaborate continuation of \" the...</td>\n",
       "      <td>pos</td>\n",
       "    </tr>\n",
       "    <tr>\n",
       "      <th>2</th>\n",
       "      <td>effective but too-tepid biopic</td>\n",
       "      <td>pos</td>\n",
       "    </tr>\n",
       "    <tr>\n",
       "      <th>3</th>\n",
       "      <td>if you sometimes like to go to the movies to h...</td>\n",
       "      <td>pos</td>\n",
       "    </tr>\n",
       "    <tr>\n",
       "      <th>4</th>\n",
       "      <td>emerges as something rare , an issue movie tha...</td>\n",
       "      <td>pos</td>\n",
       "    </tr>\n",
       "  </tbody>\n",
       "</table>\n",
       "</div>"
      ],
      "text/plain": [
       "                                        movie_review sentiment\n",
       "0  the rock is destined to be the 21st century's ...       pos\n",
       "1  the gorgeously elaborate continuation of \" the...       pos\n",
       "2                     effective but too-tepid biopic       pos\n",
       "3  if you sometimes like to go to the movies to h...       pos\n",
       "4  emerges as something rare , an issue movie tha...       pos"
      ]
     },
     "execution_count": 3,
     "metadata": {},
     "output_type": "execute_result"
    }
   ],
   "source": [
    "# load positive reviews\n",
    "df_pos = pd.read_fwf('Data/MovieSentiment/rt-polarity.pos',\n",
    "                     header=None,\n",
    "                     names=['movie_review','sentiment'])\n",
    "df_pos['sentiment'] = 'pos'\n",
    "print(df_pos.shape)\n",
    "df_pos.head()"
   ]
  },
  {
   "cell_type": "code",
   "execution_count": 4,
   "metadata": {},
   "outputs": [
    {
     "name": "stdout",
     "output_type": "stream",
     "text": [
      "(10662, 2)\n"
     ]
    },
    {
     "data": {
      "text/html": [
       "<div>\n",
       "<style scoped>\n",
       "    .dataframe tbody tr th:only-of-type {\n",
       "        vertical-align: middle;\n",
       "    }\n",
       "\n",
       "    .dataframe tbody tr th {\n",
       "        vertical-align: top;\n",
       "    }\n",
       "\n",
       "    .dataframe thead th {\n",
       "        text-align: right;\n",
       "    }\n",
       "</style>\n",
       "<table border=\"1\" class=\"dataframe\">\n",
       "  <thead>\n",
       "    <tr style=\"text-align: right;\">\n",
       "      <th></th>\n",
       "      <th>movie_review</th>\n",
       "      <th>sentiment</th>\n",
       "    </tr>\n",
       "  </thead>\n",
       "  <tbody>\n",
       "    <tr>\n",
       "      <th>0</th>\n",
       "      <td>the sentimental cliches mar an otherwise excel...</td>\n",
       "      <td>pos</td>\n",
       "    </tr>\n",
       "    <tr>\n",
       "      <th>1</th>\n",
       "      <td>if you love the music , and i do , its hard to...</td>\n",
       "      <td>pos</td>\n",
       "    </tr>\n",
       "    <tr>\n",
       "      <th>2</th>\n",
       "      <td>though harris is affecting at times , he canno...</td>\n",
       "      <td>neg</td>\n",
       "    </tr>\n",
       "    <tr>\n",
       "      <th>3</th>\n",
       "      <td>poignant japanese epic about adolescent anomie...</td>\n",
       "      <td>pos</td>\n",
       "    </tr>\n",
       "    <tr>\n",
       "      <th>4</th>\n",
       "      <td>cantet perfectly captures the hotel lobbies , ...</td>\n",
       "      <td>pos</td>\n",
       "    </tr>\n",
       "  </tbody>\n",
       "</table>\n",
       "</div>"
      ],
      "text/plain": [
       "                                        movie_review sentiment\n",
       "0  the sentimental cliches mar an otherwise excel...       pos\n",
       "1  if you love the music , and i do , its hard to...       pos\n",
       "2  though harris is affecting at times , he canno...       neg\n",
       "3  poignant japanese epic about adolescent anomie...       pos\n",
       "4  cantet perfectly captures the hotel lobbies , ...       pos"
      ]
     },
     "execution_count": 4,
     "metadata": {},
     "output_type": "execute_result"
    }
   ],
   "source": [
    "# concatenate negative and positive reviews,randomize order and reset index\n",
    "df = pd.concat([df_neg,df_pos]).sample(frac=1.0,random_state=0).reset_index(drop=True)\n",
    "df.sentiment = df.sentiment.astype('category')\n",
    "print(df.shape)\n",
    "df.head()"
   ]
  },
  {
   "cell_type": "code",
   "execution_count": 5,
   "metadata": {},
   "outputs": [
    {
     "name": "stdout",
     "output_type": "stream",
     "text": [
      "the sentimental cliches mar an otherwise excellent film . a powerful performance from mel gibson and a brutal 90-minute battle sequence that does everything but issue you a dog-tag and an m-16 .\n",
      "----------\n",
      "pos\n",
      "\n",
      "if you love the music , and i do , its hard to imagine having more fun watching a documentary . . .\n",
      "----------\n",
      "pos\n",
      "\n",
      "though harris is affecting at times , he cannot overcome the sense that pumpkin is a mere plot pawn for two directors with far less endearing disabilities .\n",
      "----------\n",
      "neg\n",
      "\n",
      "poignant japanese epic about adolescent anomie and heartbreak .\n",
      "----------\n",
      "pos\n",
      "\n",
      "cantet perfectly captures the hotel lobbies , two-lane highways , and roadside cafes that permeate vincent's days\n",
      "----------\n",
      "pos\n",
      "\n",
      "'unfaithful' cheats on itself and retreats to comfortable territory . too bad .\n",
      "----------\n",
      "neg\n",
      "\n",
      "superior genre storytelling , which gets under our skin simply by crossing the nuclear line .\n",
      "----------\n",
      "pos\n",
      "\n",
      "as a director , paxton is surprisingly brilliant , deftly sewing together what could have been a confusing and horrifying vision into an intense and engrossing head-trip .\n",
      "----------\n",
      "pos\n",
      "\n",
      "a series of immaculately composed shots of patch adams quietly freaking out does not make for much of a movie .\n",
      "----------\n",
      "neg\n",
      "\n",
      "in his debut as a film director , denzel washington delivers a lean and engaging work .\n",
      "----------\n",
      "pos\n",
      "\n"
     ]
    }
   ],
   "source": [
    "# print first 10 reviews\n",
    "for ix in range(10):\n",
    "    print(df.movie_review[ix])\n",
    "    print('----------')\n",
    "    print(df.sentiment[ix])\n",
    "    print()"
   ]
  },
  {
   "cell_type": "code",
   "execution_count": 6,
   "metadata": {},
   "outputs": [
    {
     "data": {
      "text/plain": [
       "(10662, 2)"
      ]
     },
     "execution_count": 6,
     "metadata": {},
     "output_type": "execute_result"
    }
   ],
   "source": [
    "df.shape"
   ]
  },
  {
   "cell_type": "code",
   "execution_count": 7,
   "metadata": {},
   "outputs": [
    {
     "data": {
      "text/plain": [
       "array([['the sentimental cliches mar an otherwise excellent film . a powerful performance from mel gibson and a brutal 90-minute battle sequence that does everything but issue you a dog-tag and an m-16 .',\n",
       "        'pos'],\n",
       "       ['if you love the music , and i do , its hard to imagine having more fun watching a documentary . . .',\n",
       "        'pos'],\n",
       "       ['though harris is affecting at times , he cannot overcome the sense that pumpkin is a mere plot pawn for two directors with far less endearing disabilities .',\n",
       "        'neg'],\n",
       "       ...,\n",
       "       ['high drama , disney-style - a wing and a prayer and a hunky has-been pursuing his castle in the sky .',\n",
       "        'neg'],\n",
       "       ['jaunty fun , with its celeb-strewn backdrop well used .', 'pos'],\n",
       "       [\"the film's bathos often overwhelms what could have been a more multifaceted look at this interesting time and place .\",\n",
       "        'neg']], dtype=object)"
      ]
     },
     "execution_count": 7,
     "metadata": {},
     "output_type": "execute_result"
    }
   ],
   "source": [
    "df.values"
   ]
  },
  {
   "cell_type": "code",
   "execution_count": 8,
   "metadata": {},
   "outputs": [
    {
     "data": {
      "text/plain": [
       "array(['the sentimental cliches mar an otherwise excellent film . a powerful performance from mel gibson and a brutal 90-minute battle sequence that does everything but issue you a dog-tag and an m-16 .',\n",
       "       'pos',\n",
       "       'if you love the music , and i do , its hard to imagine having more fun watching a documentary . . .',\n",
       "       ..., 'pos',\n",
       "       \"the film's bathos often overwhelms what could have been a more multifaceted look at this interesting time and place .\",\n",
       "       'neg'], dtype=object)"
      ]
     },
     "execution_count": 8,
     "metadata": {},
     "output_type": "execute_result"
    }
   ],
   "source": [
    "df.values.flatten()"
   ]
  },
  {
   "cell_type": "code",
   "execution_count": 9,
   "metadata": {},
   "outputs": [],
   "source": [
    "vectorizer = TfidfVectorizer(analyzer='word',stop_words='english',ngram_range=(1,3))\n",
    "tfidf = vectorizer.fit_transform(df['movie_review'])\n",
    "vocabulary = vectorizer.get_feature_names()"
   ]
  },
  {
   "cell_type": "code",
   "execution_count": 10,
   "metadata": {},
   "outputs": [],
   "source": [
    "attributes = tfidf\n",
    "target = df['sentiment']"
   ]
  },
  {
   "cell_type": "code",
   "execution_count": 11,
   "metadata": {},
   "outputs": [
    {
     "data": {
      "text/plain": [
       "183646"
      ]
     },
     "execution_count": 11,
     "metadata": {},
     "output_type": "execute_result"
    }
   ],
   "source": [
    "#attributes\n",
    "len(vocabulary)\n",
    "#attributes.shape[1]"
   ]
  },
  {
   "cell_type": "code",
   "execution_count": 12,
   "metadata": {},
   "outputs": [
    {
     "name": "stderr",
     "output_type": "stream",
     "text": [
      "C:\\Users\\chenx16\\anaconda3\\lib\\site-packages\\sklearn\\naive_bayes.py:511: UserWarning: alpha too small will result in numeric errors, setting alpha = 1.0e-10\n",
      "  warnings.warn('alpha too small will result in numeric errors, '\n",
      "C:\\Users\\chenx16\\anaconda3\\lib\\site-packages\\sklearn\\naive_bayes.py:511: UserWarning: alpha too small will result in numeric errors, setting alpha = 1.0e-10\n",
      "  warnings.warn('alpha too small will result in numeric errors, '\n",
      "C:\\Users\\chenx16\\anaconda3\\lib\\site-packages\\sklearn\\naive_bayes.py:511: UserWarning: alpha too small will result in numeric errors, setting alpha = 1.0e-10\n",
      "  warnings.warn('alpha too small will result in numeric errors, '\n",
      "C:\\Users\\chenx16\\anaconda3\\lib\\site-packages\\sklearn\\naive_bayes.py:511: UserWarning: alpha too small will result in numeric errors, setting alpha = 1.0e-10\n",
      "  warnings.warn('alpha too small will result in numeric errors, '\n",
      "C:\\Users\\chenx16\\anaconda3\\lib\\site-packages\\sklearn\\naive_bayes.py:511: UserWarning: alpha too small will result in numeric errors, setting alpha = 1.0e-10\n",
      "  warnings.warn('alpha too small will result in numeric errors, '\n"
     ]
    },
    {
     "data": {
      "text/plain": [
       "GridSearchCV(estimator=MultinomialNB(),\n",
       "             param_grid={'alpha': array([0.        , 0.01005025, 0.0201005 , 0.03015075, 0.04020101,\n",
       "       0.05025126, 0.06030151, 0.07035176, 0.08040201, 0.09045226,\n",
       "       0.10050251, 0.11055276, 0.12060302, 0.13065327, 0.14070352,\n",
       "       0.15075377, 0.16080402, 0.17085427, 0.18090452, 0.19095477,\n",
       "       0.20100503, 0.21105528, 0.22110553, 0.23115578, 0.24120603,\n",
       "       0.25125628, 0.26130...\n",
       "       1.65829146, 1.66834171, 1.67839196, 1.68844221, 1.69849246,\n",
       "       1.70854271, 1.71859296, 1.72864322, 1.73869347, 1.74874372,\n",
       "       1.75879397, 1.76884422, 1.77889447, 1.78894472, 1.79899497,\n",
       "       1.80904523, 1.81909548, 1.82914573, 1.83919598, 1.84924623,\n",
       "       1.85929648, 1.86934673, 1.87939698, 1.88944724, 1.89949749,\n",
       "       1.90954774, 1.91959799, 1.92964824, 1.93969849, 1.94974874,\n",
       "       1.95979899, 1.96984925, 1.9798995 , 1.98994975, 2.        ])},\n",
       "             return_train_score=True)"
      ]
     },
     "execution_count": 12,
     "metadata": {},
     "output_type": "execute_result"
    }
   ],
   "source": [
    "hparam = {'alpha': np.linspace(0,2,200)}\n",
    "NBayes = MultinomialNB()\n",
    "NBayesCV = GridSearchCV(NBayes, param_grid=hparam, return_train_score=True)\n",
    "NBayesCV.fit(attributes, target)"
   ]
  },
  {
   "cell_type": "code",
   "execution_count": 13,
   "metadata": {},
   "outputs": [
    {
     "data": {
      "text/plain": [
       "<matplotlib.axes._subplots.AxesSubplot at 0x197fb273670>"
      ]
     },
     "execution_count": 13,
     "metadata": {},
     "output_type": "execute_result"
    },
    {
     "data": {
      "image/png": "[encoded data removed]",
      "text/plain": [
       "<Figure size 432x288 with 1 Axes>"
      ]
     },
     "metadata": {
      "needs_background": "light"
     },
     "output_type": "display_data"
    }
   ],
   "source": [
    "results_NB = pd.DataFrame()\n",
    "results_NB['hparam'] = hparam['alpha']\n",
    "results_NB['valid error'] = 1 - NBayesCV.cv_results_['mean_test_score']\n",
    "results_NB['train error'] = 1 - NBayesCV.cv_results_['mean_train_score']\n",
    "results_NB = results_NB.set_index('hparam', drop=True)\n",
    "results_NB.plot(kind='line')"
   ]
  },
  {
   "cell_type": "code",
   "execution_count": 14,
   "metadata": {},
   "outputs": [
    {
     "data": {
      "text/plain": [
       "{'alpha': 0.6934673366834171}"
      ]
     },
     "execution_count": 14,
     "metadata": {},
     "output_type": "execute_result"
    }
   ],
   "source": [
    "NBayesCV.best_params_"
   ]
  },
  {
   "cell_type": "code",
   "execution_count": 15,
   "metadata": {},
   "outputs": [
    {
     "data": {
      "text/plain": [
       "0.7665548263726714"
      ]
     },
     "execution_count": 15,
     "metadata": {},
     "output_type": "execute_result"
    }
   ],
   "source": [
    "NBayesCV.best_score_"
   ]
  },
  {
   "cell_type": "code",
   "execution_count": 16,
   "metadata": {},
   "outputs": [
    {
     "data": {
      "text/plain": [
       "0.5"
      ]
     },
     "execution_count": 16,
     "metadata": {},
     "output_type": "execute_result"
    }
   ],
   "source": [
    "# baseline\n",
    "round(1 - df['sentiment'].value_counts().max() / df.shape[0],3)"
   ]
  },
  {
   "cell_type": "code",
   "execution_count": 17,
   "metadata": {},
   "outputs": [
    {
     "name": "stdout",
     "output_type": "stream",
     "text": [
      "Naive Bayes:vvalidation error rate = 0.233\n"
     ]
    }
   ],
   "source": [
    "# print lowest test error rate\n",
    "error_test = 1 - NBayesCV.best_score_\n",
    "print('Naive Bayes:vvalidation error rate =',round(error_test,3))"
   ]
  },
  {
   "cell_type": "code",
   "execution_count": 18,
   "metadata": {},
   "outputs": [
    {
     "name": "stdout",
     "output_type": "stream",
     "text": [
      "Naive Bayes: training error rate = 0.002\n"
     ]
    }
   ],
   "source": [
    "# print training error rate\n",
    "alpha = NBayesCV.best_params_['alpha']\n",
    "NBayes = MultinomialNB(alpha=alpha)\n",
    "NBayes.fit(attributes,target)\n",
    "error_valid = 1 - NBayes.score(attributes,target)\n",
    "print('Naive Bayes: training error rate =',round(error_valid,3))"
   ]
  },
  {
   "cell_type": "code",
   "execution_count": null,
   "metadata": {},
   "outputs": [],
   "source": []
  }
 ],
 "metadata": {
  "kernelspec": {
   "display_name": "Python 3",
   "language": "python",
   "name": "python3"
  },
  "language_info": {
   "codemirror_mode": {
    "name": "ipython",
    "version": 3
   },
   "file_extension": ".py",
   "mimetype": "text/x-python",
   "name": "python",
   "nbconvert_exporter": "python",
   "pygments_lexer": "ipython3",
   "version": "3.8.3"
  }
 },
 "nbformat": 4,
 "nbformat_minor": 4
}
