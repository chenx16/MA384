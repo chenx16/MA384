{
 "cells": [
  {
   "cell_type": "markdown",
   "metadata": {},
   "source": [
    "# Doris Chen"
   ]
  },
  {
   "cell_type": "markdown",
   "metadata": {},
   "source": [
    "## Problem 1"
   ]
  },
  {
   "cell_type": "code",
   "execution_count": 1,
   "metadata": {},
   "outputs": [],
   "source": [
    "import pandas as pd\n",
    "import numpy as np\n",
    "from sklearn.naive_bayes import MultinomialNB\n",
    "from sklearn import tree\n",
    "from sklearn.tree import DecisionTreeClassifier\n",
    "from sklearn.model_selection import GridSearchCV\n",
    "from matplotlib import pyplot as plt\n",
    "import graphviz"
   ]
  },
  {
   "cell_type": "code",
   "execution_count": 2,
   "metadata": {},
   "outputs": [
    {
     "data": {
      "text/html": [
       "<div>\n",
       "<style scoped>\n",
       "    .dataframe tbody tr th:only-of-type {\n",
       "        vertical-align: middle;\n",
       "    }\n",
       "\n",
       "    .dataframe tbody tr th {\n",
       "        vertical-align: top;\n",
       "    }\n",
       "\n",
       "    .dataframe thead th {\n",
       "        text-align: right;\n",
       "    }\n",
       "</style>\n",
       "<table border=\"1\" class=\"dataframe\">\n",
       "  <thead>\n",
       "    <tr style=\"text-align: right;\">\n",
       "      <th></th>\n",
       "      <th>Class</th>\n",
       "      <th>Sex</th>\n",
       "      <th>Age</th>\n",
       "      <th>Survived</th>\n",
       "    </tr>\n",
       "  </thead>\n",
       "  <tbody>\n",
       "    <tr>\n",
       "      <th>0</th>\n",
       "      <td>3rd</td>\n",
       "      <td>Male</td>\n",
       "      <td>Child</td>\n",
       "      <td>No</td>\n",
       "    </tr>\n",
       "    <tr>\n",
       "      <th>1</th>\n",
       "      <td>3rd</td>\n",
       "      <td>Male</td>\n",
       "      <td>Child</td>\n",
       "      <td>No</td>\n",
       "    </tr>\n",
       "    <tr>\n",
       "      <th>2</th>\n",
       "      <td>3rd</td>\n",
       "      <td>Male</td>\n",
       "      <td>Child</td>\n",
       "      <td>No</td>\n",
       "    </tr>\n",
       "    <tr>\n",
       "      <th>3</th>\n",
       "      <td>3rd</td>\n",
       "      <td>Male</td>\n",
       "      <td>Child</td>\n",
       "      <td>No</td>\n",
       "    </tr>\n",
       "    <tr>\n",
       "      <th>4</th>\n",
       "      <td>3rd</td>\n",
       "      <td>Male</td>\n",
       "      <td>Child</td>\n",
       "      <td>No</td>\n",
       "    </tr>\n",
       "  </tbody>\n",
       "</table>\n",
       "</div>"
      ],
      "text/plain": [
       "  Class   Sex    Age Survived\n",
       "0   3rd  Male  Child       No\n",
       "1   3rd  Male  Child       No\n",
       "2   3rd  Male  Child       No\n",
       "3   3rd  Male  Child       No\n",
       "4   3rd  Male  Child       No"
      ]
     },
     "execution_count": 2,
     "metadata": {},
     "output_type": "execute_result"
    }
   ],
   "source": [
    "df = pd.read_csv(\"Data/Titanic/Titanic-expanded.csv\")\n",
    "df.head(5)"
   ]
  },
  {
   "cell_type": "code",
   "execution_count": 3,
   "metadata": {},
   "outputs": [],
   "source": [
    "attributes = df.drop(['Survived'], axis = 1)\n",
    "attributes = pd.get_dummies(attributes)\n",
    "target = df.Survived"
   ]
  },
  {
   "cell_type": "markdown",
   "metadata": {},
   "source": [
    "a)"
   ]
  },
  {
   "cell_type": "code",
   "execution_count": 4,
   "metadata": {},
   "outputs": [],
   "source": [
    "hparam = {'alpha':np.arange(1,1001)}"
   ]
  },
  {
   "cell_type": "code",
   "execution_count": 5,
   "metadata": {},
   "outputs": [
    {
     "data": {
      "text/plain": [
       "GridSearchCV(estimator=MultinomialNB(), n_jobs=-1,\n",
       "             param_grid={'alpha': array([   1,    2,    3,    4,    5,    6,    7,    8,    9,   10,   11,\n",
       "         12,   13,   14,   15,   16,   17,   18,   19,   20,   21,   22,\n",
       "         23,   24,   25,   26,   27,   28,   29,   30,   31,   32,   33,\n",
       "         34,   35,   36,   37,   38,   39,   40,   41,   42,   43,   44,\n",
       "         45,   46,   47,   48,   49,   50,   51,   52,   53,   54,   55,\n",
       "         56,   57,   58,   59,   60,   61,   62,   63,   64,   65,   66,\n",
       "         67,   68,   69,   70,   71,   72,   73,   74,   75,   76,   77,\n",
       "         78,   79,   80,   81,   82,   83,   84,   85,   86,   87,   88,\n",
       "         89,   90,   91,   92,   93,   94,   9...\n",
       "        914,  915,  916,  917,  918,  919,  920,  921,  922,  923,  924,\n",
       "        925,  926,  927,  928,  929,  930,  931,  932,  933,  934,  935,\n",
       "        936,  937,  938,  939,  940,  941,  942,  943,  944,  945,  946,\n",
       "        947,  948,  949,  950,  951,  952,  953,  954,  955,  956,  957,\n",
       "        958,  959,  960,  961,  962,  963,  964,  965,  966,  967,  968,\n",
       "        969,  970,  971,  972,  973,  974,  975,  976,  977,  978,  979,\n",
       "        980,  981,  982,  983,  984,  985,  986,  987,  988,  989,  990,\n",
       "        991,  992,  993,  994,  995,  996,  997,  998,  999, 1000])})"
      ]
     },
     "execution_count": 5,
     "metadata": {},
     "output_type": "execute_result"
    }
   ],
   "source": [
    "NBayes = MultinomialNB()\n",
    "NBayesCV = GridSearchCV(NBayes,param_grid=hparam,n_jobs=-1) \n",
    "NBayesCV.fit(attributes,target)"
   ]
  },
  {
   "cell_type": "code",
   "execution_count": 6,
   "metadata": {},
   "outputs": [
    {
     "data": {
      "text/plain": [
       "<matplotlib.axes._subplots.AxesSubplot at 0x1f3071064c0>"
      ]
     },
     "execution_count": 6,
     "metadata": {},
     "output_type": "execute_result"
    },
    {
     "data": {
      "image/png": "[encoded data removed]",
      "text/plain": [
       "<Figure size 432x288 with 1 Axes>"
      ]
     },
     "metadata": {
      "needs_background": "light"
     },
     "output_type": "display_data"
    }
   ],
   "source": [
    "results = pd.DataFrame()\n",
    "results['hparam'] = hparam['alpha']\n",
    "results['error'] = 1 - NBayesCV.cv_results_['mean_test_score']\n",
    "results.plot.line(x='hparam', y='error')"
   ]
  },
  {
   "cell_type": "code",
   "execution_count": 7,
   "metadata": {},
   "outputs": [
    {
     "name": "stdout",
     "output_type": "stream",
     "text": [
      "best_params {'alpha': 145}\n",
      "Naive Bayes error rate: 0.216\n"
     ]
    }
   ],
   "source": [
    "print('best_params', NBayesCV.best_params_)\n",
    "print('Naive Bayes error rate:', (1- NBayesCV.best_score_).round(3))"
   ]
  },
  {
   "cell_type": "code",
   "execution_count": 8,
   "metadata": {},
   "outputs": [
    {
     "data": {
      "text/plain": [
       "No     1490\n",
       "Yes     711\n",
       "Name: Survived, dtype: int64"
      ]
     },
     "execution_count": 8,
     "metadata": {},
     "output_type": "execute_result"
    }
   ],
   "source": [
    "target.value_counts()"
   ]
  },
  {
   "cell_type": "code",
   "execution_count": 9,
   "metadata": {},
   "outputs": [
    {
     "name": "stdout",
     "output_type": "stream",
     "text": [
      "Test Baseline: 0.3230349840981372\n"
     ]
    }
   ],
   "source": [
    "print('Test Baseline:', (711/(1490+711)))"
   ]
  },
  {
   "cell_type": "markdown",
   "metadata": {},
   "source": [
    "My best generalization error rate for Naive Bayes is 0.216 and is better than baseline error rate which I guessed to be 0.323."
   ]
  },
  {
   "cell_type": "markdown",
   "metadata": {},
   "source": [
    "b)"
   ]
  },
  {
   "cell_type": "code",
   "execution_count": 10,
   "metadata": {},
   "outputs": [],
   "source": [
    "hparam = {'max_depth':np.linspace(1,100,100)}"
   ]
  },
  {
   "cell_type": "code",
   "execution_count": 11,
   "metadata": {},
   "outputs": [
    {
     "data": {
      "text/plain": [
       "GridSearchCV(estimator=DecisionTreeClassifier(),\n",
       "             param_grid={'max_depth': array([  1.,   2.,   3.,   4.,   5.,   6.,   7.,   8.,   9.,  10.,  11.,\n",
       "        12.,  13.,  14.,  15.,  16.,  17.,  18.,  19.,  20.,  21.,  22.,\n",
       "        23.,  24.,  25.,  26.,  27.,  28.,  29.,  30.,  31.,  32.,  33.,\n",
       "        34.,  35.,  36.,  37.,  38.,  39.,  40.,  41.,  42.,  43.,  44.,\n",
       "        45.,  46.,  47.,  48.,  49.,  50.,  51.,  52.,  53.,  54.,  55.,\n",
       "        56.,  57.,  58.,  59.,  60.,  61.,  62.,  63.,  64.,  65.,  66.,\n",
       "        67.,  68.,  69.,  70.,  71.,  72.,  73.,  74.,  75.,  76.,  77.,\n",
       "        78.,  79.,  80.,  81.,  82.,  83.,  84.,  85.,  86.,  87.,  88.,\n",
       "        89.,  90.,  91.,  92.,  93.,  94.,  95.,  96.,  97.,  98.,  99.,\n",
       "       100.])})"
      ]
     },
     "execution_count": 11,
     "metadata": {},
     "output_type": "execute_result"
    }
   ],
   "source": [
    "Tree = DecisionTreeClassifier()\n",
    "TreeCV = GridSearchCV(Tree, param_grid = hparam) \n",
    "TreeCV.fit(attributes,target)"
   ]
  },
  {
   "cell_type": "code",
   "execution_count": 12,
   "metadata": {},
   "outputs": [
    {
     "data": {
      "text/plain": [
       "<matplotlib.axes._subplots.AxesSubplot at 0x1f3073c76a0>"
      ]
     },
     "execution_count": 12,
     "metadata": {},
     "output_type": "execute_result"
    },
    {
     "data": {
      "image/png": "[encoded data removed]",
      "text/plain": [
       "<Figure size 432x288 with 1 Axes>"
      ]
     },
     "metadata": {
      "needs_background": "light"
     },
     "output_type": "display_data"
    }
   ],
   "source": [
    "results = pd.DataFrame()\n",
    "results['hparam'] = hparam['max_depth']\n",
    "results['error'] = 1 - TreeCV.cv_results_['mean_test_score']\n",
    "results.plot.line(x='hparam',y='error')"
   ]
  },
  {
   "cell_type": "code",
   "execution_count": 13,
   "metadata": {},
   "outputs": [
    {
     "name": "stdout",
     "output_type": "stream",
     "text": [
      "best_params {'max_depth': 2.0}\n",
      "Decision Tree error rate: 0.217\n"
     ]
    }
   ],
   "source": [
    "print('best_params', TreeCV.best_params_)\n",
    "print('Decision Tree error rate:', (1- TreeCV.best_score_).round(3))"
   ]
  },
  {
   "cell_type": "markdown",
   "metadata": {},
   "source": [
    "My best generalization error rate for Decision Tree is 0.217 and is better than baseline error rate which I guessed to be 0.323, which is only a little worse than Naive Bayes."
   ]
  },
  {
   "cell_type": "markdown",
   "metadata": {},
   "source": [
    "## Problem 2"
   ]
  },
  {
   "cell_type": "markdown",
   "metadata": {},
   "source": [
    "a)"
   ]
  },
  {
   "cell_type": "code",
   "execution_count": 14,
   "metadata": {},
   "outputs": [
    {
     "data": {
      "text/html": [
       "<div>\n",
       "<style scoped>\n",
       "    .dataframe tbody tr th:only-of-type {\n",
       "        vertical-align: middle;\n",
       "    }\n",
       "\n",
       "    .dataframe tbody tr th {\n",
       "        vertical-align: top;\n",
       "    }\n",
       "\n",
       "    .dataframe thead th {\n",
       "        text-align: right;\n",
       "    }\n",
       "</style>\n",
       "<table border=\"1\" class=\"dataframe\">\n",
       "  <thead>\n",
       "    <tr style=\"text-align: right;\">\n",
       "      <th></th>\n",
       "      <th>target</th>\n",
       "      <th>cap-shape</th>\n",
       "      <th>cap-surface</th>\n",
       "      <th>cap-color</th>\n",
       "      <th>bruises?</th>\n",
       "      <th>odor</th>\n",
       "      <th>gill-attachment</th>\n",
       "      <th>gill-spacing</th>\n",
       "      <th>gill-size</th>\n",
       "      <th>gill-color</th>\n",
       "      <th>...</th>\n",
       "      <th>stalk-surface-below-ring</th>\n",
       "      <th>stalk-color-above-ring</th>\n",
       "      <th>stalk-color-below-ring</th>\n",
       "      <th>veil-type</th>\n",
       "      <th>veil-color</th>\n",
       "      <th>ring-number</th>\n",
       "      <th>ring-type</th>\n",
       "      <th>spore-print-color</th>\n",
       "      <th>population</th>\n",
       "      <th>habitat</th>\n",
       "    </tr>\n",
       "  </thead>\n",
       "  <tbody>\n",
       "    <tr>\n",
       "      <th>0</th>\n",
       "      <td>poisonous</td>\n",
       "      <td>convex</td>\n",
       "      <td>smooth</td>\n",
       "      <td>brown</td>\n",
       "      <td>bruises</td>\n",
       "      <td>pungent</td>\n",
       "      <td>free</td>\n",
       "      <td>close</td>\n",
       "      <td>narrow</td>\n",
       "      <td>black</td>\n",
       "      <td>...</td>\n",
       "      <td>smooth</td>\n",
       "      <td>white</td>\n",
       "      <td>white</td>\n",
       "      <td>partial</td>\n",
       "      <td>white</td>\n",
       "      <td>one</td>\n",
       "      <td>pendant</td>\n",
       "      <td>black</td>\n",
       "      <td>scattered</td>\n",
       "      <td>urban</td>\n",
       "    </tr>\n",
       "    <tr>\n",
       "      <th>1</th>\n",
       "      <td>edible</td>\n",
       "      <td>convex</td>\n",
       "      <td>smooth</td>\n",
       "      <td>yellow</td>\n",
       "      <td>bruises</td>\n",
       "      <td>almond</td>\n",
       "      <td>free</td>\n",
       "      <td>close</td>\n",
       "      <td>broad</td>\n",
       "      <td>black</td>\n",
       "      <td>...</td>\n",
       "      <td>smooth</td>\n",
       "      <td>white</td>\n",
       "      <td>white</td>\n",
       "      <td>partial</td>\n",
       "      <td>white</td>\n",
       "      <td>one</td>\n",
       "      <td>pendant</td>\n",
       "      <td>brown</td>\n",
       "      <td>numerous</td>\n",
       "      <td>grasses</td>\n",
       "    </tr>\n",
       "    <tr>\n",
       "      <th>2</th>\n",
       "      <td>edible</td>\n",
       "      <td>bell</td>\n",
       "      <td>smooth</td>\n",
       "      <td>white</td>\n",
       "      <td>bruises</td>\n",
       "      <td>anise</td>\n",
       "      <td>free</td>\n",
       "      <td>close</td>\n",
       "      <td>broad</td>\n",
       "      <td>brown</td>\n",
       "      <td>...</td>\n",
       "      <td>smooth</td>\n",
       "      <td>white</td>\n",
       "      <td>white</td>\n",
       "      <td>partial</td>\n",
       "      <td>white</td>\n",
       "      <td>one</td>\n",
       "      <td>pendant</td>\n",
       "      <td>brown</td>\n",
       "      <td>numerous</td>\n",
       "      <td>meadows</td>\n",
       "    </tr>\n",
       "    <tr>\n",
       "      <th>3</th>\n",
       "      <td>poisonous</td>\n",
       "      <td>convex</td>\n",
       "      <td>scaly</td>\n",
       "      <td>white</td>\n",
       "      <td>bruises</td>\n",
       "      <td>pungent</td>\n",
       "      <td>free</td>\n",
       "      <td>close</td>\n",
       "      <td>narrow</td>\n",
       "      <td>brown</td>\n",
       "      <td>...</td>\n",
       "      <td>smooth</td>\n",
       "      <td>white</td>\n",
       "      <td>white</td>\n",
       "      <td>partial</td>\n",
       "      <td>white</td>\n",
       "      <td>one</td>\n",
       "      <td>pendant</td>\n",
       "      <td>black</td>\n",
       "      <td>scattered</td>\n",
       "      <td>urban</td>\n",
       "    </tr>\n",
       "    <tr>\n",
       "      <th>4</th>\n",
       "      <td>edible</td>\n",
       "      <td>convex</td>\n",
       "      <td>smooth</td>\n",
       "      <td>gray</td>\n",
       "      <td>no</td>\n",
       "      <td>none</td>\n",
       "      <td>free</td>\n",
       "      <td>crowded</td>\n",
       "      <td>broad</td>\n",
       "      <td>black</td>\n",
       "      <td>...</td>\n",
       "      <td>smooth</td>\n",
       "      <td>white</td>\n",
       "      <td>white</td>\n",
       "      <td>partial</td>\n",
       "      <td>white</td>\n",
       "      <td>one</td>\n",
       "      <td>evanescent</td>\n",
       "      <td>brown</td>\n",
       "      <td>abundant</td>\n",
       "      <td>grasses</td>\n",
       "    </tr>\n",
       "  </tbody>\n",
       "</table>\n",
       "<p>5 rows × 23 columns</p>\n",
       "</div>"
      ],
      "text/plain": [
       "      target cap-shape cap-surface cap-color bruises?     odor  \\\n",
       "0  poisonous    convex      smooth     brown  bruises  pungent   \n",
       "1     edible    convex      smooth    yellow  bruises   almond   \n",
       "2     edible      bell      smooth     white  bruises    anise   \n",
       "3  poisonous    convex       scaly     white  bruises  pungent   \n",
       "4     edible    convex      smooth      gray       no     none   \n",
       "\n",
       "  gill-attachment gill-spacing gill-size gill-color  ...  \\\n",
       "0            free        close    narrow      black  ...   \n",
       "1            free        close     broad      black  ...   \n",
       "2            free        close     broad      brown  ...   \n",
       "3            free        close    narrow      brown  ...   \n",
       "4            free      crowded     broad      black  ...   \n",
       "\n",
       "  stalk-surface-below-ring stalk-color-above-ring stalk-color-below-ring  \\\n",
       "0                   smooth                  white                  white   \n",
       "1                   smooth                  white                  white   \n",
       "2                   smooth                  white                  white   \n",
       "3                   smooth                  white                  white   \n",
       "4                   smooth                  white                  white   \n",
       "\n",
       "  veil-type veil-color ring-number   ring-type spore-print-color population  \\\n",
       "0   partial      white         one     pendant             black  scattered   \n",
       "1   partial      white         one     pendant             brown   numerous   \n",
       "2   partial      white         one     pendant             brown   numerous   \n",
       "3   partial      white         one     pendant             black  scattered   \n",
       "4   partial      white         one  evanescent             brown   abundant   \n",
       "\n",
       "   habitat  \n",
       "0    urban  \n",
       "1  grasses  \n",
       "2  meadows  \n",
       "3    urban  \n",
       "4  grasses  \n",
       "\n",
       "[5 rows x 23 columns]"
      ]
     },
     "execution_count": 14,
     "metadata": {},
     "output_type": "execute_result"
    }
   ],
   "source": [
    "df = pd.read_csv(\"Data/Mushrooms/Mushrooms.csv\")\n",
    "df.head(5)"
   ]
  },
  {
   "cell_type": "markdown",
   "metadata": {},
   "source": [
    "Ran Mushrooms-preprocessing.ipynb, new csv created"
   ]
  },
  {
   "cell_type": "markdown",
   "metadata": {},
   "source": [
    "b)"
   ]
  },
  {
   "cell_type": "code",
   "execution_count": 15,
   "metadata": {},
   "outputs": [
    {
     "data": {
      "text/plain": [
       "(8124, 22)"
      ]
     },
     "execution_count": 15,
     "metadata": {},
     "output_type": "execute_result"
    }
   ],
   "source": [
    "target = df.target\n",
    "attributes = df.drop(['target'], axis = 1)\n",
    "attributes.shape"
   ]
  },
  {
   "cell_type": "code",
   "execution_count": 16,
   "metadata": {},
   "outputs": [
    {
     "data": {
      "text/plain": [
       "116"
      ]
     },
     "execution_count": 16,
     "metadata": {},
     "output_type": "execute_result"
    }
   ],
   "source": [
    "attributes = pd.get_dummies(attributes)\n",
    "attributes.shape[1]"
   ]
  },
  {
   "cell_type": "markdown",
   "metadata": {},
   "source": [
    "the file Mushrooms.csv contains 8124 records and 22 mushroom attributes (excluding the target attribute, edibility).\n",
    "116 mushroom attributes are there after one-hot-encoding the mushroom attribute data."
   ]
  },
  {
   "cell_type": "markdown",
   "metadata": {},
   "source": [
    "c)"
   ]
  },
  {
   "cell_type": "code",
   "execution_count": 17,
   "metadata": {},
   "outputs": [
    {
     "name": "stderr",
     "output_type": "stream",
     "text": [
      "C:\\Users\\chenx16\\anaconda3\\lib\\site-packages\\sklearn\\naive_bayes.py:511: UserWarning: alpha too small will result in numeric errors, setting alpha = 1.0e-10\n",
      "  warnings.warn('alpha too small will result in numeric errors, '\n"
     ]
    },
    {
     "data": {
      "text/plain": [
       "GridSearchCV(estimator=MultinomialNB(), n_jobs=-1,\n",
       "             param_grid={'alpha': array([    0.,    10.,    20., ...,  9980.,  9990., 10000.])})"
      ]
     },
     "execution_count": 17,
     "metadata": {},
     "output_type": "execute_result"
    }
   ],
   "source": [
    "hparam = {'alpha':np.linspace(0,10000,1001)}\n",
    "NBayes = MultinomialNB()\n",
    "NBayesCV = GridSearchCV(NBayes,param_grid=hparam,n_jobs=-1) \n",
    "NBayesCV.fit(attributes,target)"
   ]
  },
  {
   "cell_type": "code",
   "execution_count": 18,
   "metadata": {},
   "outputs": [
    {
     "data": {
      "text/plain": [
       "<matplotlib.axes._subplots.AxesSubplot at 0x1f30738d7c0>"
      ]
     },
     "execution_count": 18,
     "metadata": {},
     "output_type": "execute_result"
    },
    {
     "data": {
      "image/png": "[encoded data removed]",
      "text/plain": [
       "<Figure size 432x288 with 1 Axes>"
      ]
     },
     "metadata": {
      "needs_background": "light"
     },
     "output_type": "display_data"
    }
   ],
   "source": [
    "results = pd.DataFrame()\n",
    "results['hparam'] = hparam['alpha']\n",
    "results['error'] = 1 - NBayesCV.cv_results_['mean_test_score']\n",
    "results.plot.line(x='hparam', y='error')"
   ]
  },
  {
   "cell_type": "code",
   "execution_count": 19,
   "metadata": {},
   "outputs": [
    {
     "name": "stdout",
     "output_type": "stream",
     "text": [
      "best_params {'alpha': 0.0}\n",
      "Naive Bayes error rate: 0.105\n"
     ]
    }
   ],
   "source": [
    "print('best_params', NBayesCV.best_params_)\n",
    "print('Naive Bayes error rate:', (1- NBayesCV.best_score_).round(3))"
   ]
  },
  {
   "cell_type": "code",
   "execution_count": 20,
   "metadata": {},
   "outputs": [
    {
     "data": {
      "text/plain": [
       "edible       4208\n",
       "poisonous    3916\n",
       "Name: target, dtype: int64"
      ]
     },
     "execution_count": 20,
     "metadata": {},
     "output_type": "execute_result"
    }
   ],
   "source": [
    "target.value_counts()"
   ]
  },
  {
   "cell_type": "code",
   "execution_count": 21,
   "metadata": {},
   "outputs": [
    {
     "name": "stdout",
     "output_type": "stream",
     "text": [
      "Test Baseline: 0.48202855736090594\n"
     ]
    }
   ],
   "source": [
    "print('Test Baseline:', (3916/(4208+3916)))"
   ]
  },
  {
   "cell_type": "markdown",
   "metadata": {},
   "source": [
    "My best generalization error rate for Naive Bayes is 0.105 and is much better than baseline error rate which I guessed to be 0.482."
   ]
  },
  {
   "cell_type": "markdown",
   "metadata": {},
   "source": [
    "d)"
   ]
  },
  {
   "cell_type": "code",
   "execution_count": 22,
   "metadata": {},
   "outputs": [
    {
     "data": {
      "text/plain": [
       "GridSearchCV(estimator=DecisionTreeClassifier(),\n",
       "             param_grid={'max_depth': array([ 1,  2,  3,  4,  5,  6,  7,  8,  9, 10, 11, 12, 13, 14, 15, 16, 17,\n",
       "       18, 19, 20, 21, 22, 23, 24, 25, 26, 27, 28, 29, 30, 31, 32, 33, 34,\n",
       "       35, 36, 37, 38, 39, 40, 41, 42, 43, 44, 45, 46, 47, 48, 49, 50])})"
      ]
     },
     "execution_count": 22,
     "metadata": {},
     "output_type": "execute_result"
    }
   ],
   "source": [
    "hparam = {'max_depth':np.arange(1,51)}\n",
    "Tree = DecisionTreeClassifier()\n",
    "TreeCV = GridSearchCV(Tree, param_grid = hparam) \n",
    "TreeCV.fit(attributes,target)"
   ]
  },
  {
   "cell_type": "code",
   "execution_count": 23,
   "metadata": {},
   "outputs": [
    {
     "data": {
      "text/plain": [
       "<matplotlib.axes._subplots.AxesSubplot at 0x1f307c58b50>"
      ]
     },
     "execution_count": 23,
     "metadata": {},
     "output_type": "execute_result"
    },
    {
     "data": {
      "image/png": "[encoded data removed]",
      "text/plain": [
       "<Figure size 432x288 with 1 Axes>"
      ]
     },
     "metadata": {
      "needs_background": "light"
     },
     "output_type": "display_data"
    }
   ],
   "source": [
    "results = pd.DataFrame()\n",
    "results['hparam'] = hparam['max_depth']\n",
    "results['error'] = 1 - TreeCV.cv_results_['mean_test_score']\n",
    "results.plot.line(x='hparam',y='error')"
   ]
  },
  {
   "cell_type": "code",
   "execution_count": 24,
   "metadata": {},
   "outputs": [
    {
     "name": "stdout",
     "output_type": "stream",
     "text": [
      "best_params {'max_depth': 8}\n",
      "Decision Tree error rate: 0.004\n"
     ]
    }
   ],
   "source": [
    "print('best_params', TreeCV.best_params_)\n",
    "print('Decision Tree error rate:', (1- TreeCV.best_score_).round(3))"
   ]
  },
  {
   "cell_type": "markdown",
   "metadata": {},
   "source": [
    "My best generalization error rate for Decision Tree is 0.004 and is better than baseline error rate which I guessed to be 0.482, which is better than Naive Bayes."
   ]
  },
  {
   "cell_type": "markdown",
   "metadata": {},
   "source": [
    "e)"
   ]
  },
  {
   "cell_type": "code",
   "execution_count": 25,
   "metadata": {},
   "outputs": [
    {
     "data": {
      "image/svg+xml": [
       "<?xml version=\"1.0\" encoding=\"UTF-8\" standalone=\"no\"?>\r\n",
       "<!DOCTYPE svg PUBLIC \"-//W3C//DTD SVG 1.1//EN\"\r\n",
       " \"http://www.w3.org/Graphics/SVG/1.1/DTD/svg11.dtd\">\r\n",
       "<!-- Generated by graphviz version 2.38.0 (20140413.2041)\r\n",
       " -->\r\n",
       "<!-- Title: Tree Pages: 1 -->\r\n",
       "<svg width=\"1102pt\" height=\"789pt\"\r\n",
       " viewBox=\"0.00 0.00 1101.50 789.00\" xmlns=\"http://www.w3.org/2000/svg\" xmlns:xlink=\"http://www.w3.org/1999/xlink\">\r\n",
       "<g id=\"graph0\" class=\"graph\" transform=\"scale(1 1) rotate(0) translate(4 785)\">\r\n",
       "<title>Tree</title>\r\n",
       "<polygon fill=\"white\" stroke=\"none\" points=\"-4,4 -4,-785 1097.5,-785 1097.5,4 -4,4\"/>\r\n",
       "<!-- 0 -->\r\n",
       "<g id=\"node1\" class=\"node\"><title>0</title>\r\n",
       "<path fill=\"#fdf6f1\" stroke=\"black\" d=\"M656,-781C656,-781 526,-781 526,-781 520,-781 514,-775 514,-769 514,-769 514,-725 514,-725 514,-719 520,-713 526,-713 526,-713 656,-713 656,-713 662,-713 668,-719 668,-725 668,-725 668,-769 668,-769 668,-775 662,-781 656,-781\"/>\r\n",
       "<text text-anchor=\"middle\" x=\"591\" y=\"-765.8\" font-family=\"Helvetica,sans-Serif\" font-size=\"14.00\">odor_none &lt;= 0.5</text>\r\n",
       "<text text-anchor=\"middle\" x=\"591\" y=\"-750.8\" font-family=\"Helvetica,sans-Serif\" font-size=\"14.00\">samples = 100.0%</text>\r\n",
       "<text text-anchor=\"middle\" x=\"591\" y=\"-735.8\" font-family=\"Helvetica,sans-Serif\" font-size=\"14.00\">value = [0.518, 0.482]</text>\r\n",
       "<text text-anchor=\"middle\" x=\"591\" y=\"-720.8\" font-family=\"Helvetica,sans-Serif\" font-size=\"14.00\">class = edible</text>\r\n",
       "</g>\r\n",
       "<!-- 1 -->\r\n",
       "<g id=\"node2\" class=\"node\"><title>1</title>\r\n",
       "<path fill=\"#63b2ea\" stroke=\"black\" d=\"M540,-677C540,-677 410,-677 410,-677 404,-677 398,-671 398,-665 398,-665 398,-621 398,-621 398,-615 404,-609 410,-609 410,-609 540,-609 540,-609 546,-609 552,-615 552,-621 552,-621 552,-665 552,-665 552,-671 546,-677 540,-677\"/>\r\n",
       "<text text-anchor=\"middle\" x=\"475\" y=\"-661.8\" font-family=\"Helvetica,sans-Serif\" font-size=\"14.00\">stalk&#45;root_club &lt;= 0.5</text>\r\n",
       "<text text-anchor=\"middle\" x=\"475\" y=\"-646.8\" font-family=\"Helvetica,sans-Serif\" font-size=\"14.00\">samples = 56.6%</text>\r\n",
       "<text text-anchor=\"middle\" x=\"475\" y=\"-631.8\" font-family=\"Helvetica,sans-Serif\" font-size=\"14.00\">value = [0.174, 0.826]</text>\r\n",
       "<text text-anchor=\"middle\" x=\"475\" y=\"-616.8\" font-family=\"Helvetica,sans-Serif\" font-size=\"14.00\">class = poisonous</text>\r\n",
       "</g>\r\n",
       "<!-- 0&#45;&gt;1 -->\r\n",
       "<g id=\"edge1\" class=\"edge\"><title>0&#45;&gt;1</title>\r\n",
       "<path fill=\"none\" stroke=\"black\" d=\"M553.338,-712.884C542.904,-703.709 531.465,-693.65 520.63,-684.123\"/>\r\n",
       "<polygon fill=\"black\" stroke=\"black\" points=\"522.691,-681.274 512.87,-677.299 518.068,-686.531 522.691,-681.274\"/>\r\n",
       "<text text-anchor=\"middle\" x=\"514.472\" y=\"-698.548\" font-family=\"Helvetica,sans-Serif\" font-size=\"14.00\">True</text>\r\n",
       "</g>\r\n",
       "<!-- 12 -->\r\n",
       "<g id=\"node13\" class=\"node\"><title>12</title>\r\n",
       "<path fill=\"#e68540\" stroke=\"black\" d=\"M800,-677C800,-677 614,-677 614,-677 608,-677 602,-671 602,-665 602,-665 602,-621 602,-621 602,-615 608,-609 614,-609 614,-609 800,-609 800,-609 806,-609 812,-615 812,-621 812,-621 812,-665 812,-665 812,-671 806,-677 800,-677\"/>\r\n",
       "<text text-anchor=\"middle\" x=\"707\" y=\"-661.8\" font-family=\"Helvetica,sans-Serif\" font-size=\"14.00\">spore&#45;print&#45;color_green &lt;= 0.5</text>\r\n",
       "<text text-anchor=\"middle\" x=\"707\" y=\"-646.8\" font-family=\"Helvetica,sans-Serif\" font-size=\"14.00\">samples = 43.4%</text>\r\n",
       "<text text-anchor=\"middle\" x=\"707\" y=\"-631.8\" font-family=\"Helvetica,sans-Serif\" font-size=\"14.00\">value = [0.966, 0.034]</text>\r\n",
       "<text text-anchor=\"middle\" x=\"707\" y=\"-616.8\" font-family=\"Helvetica,sans-Serif\" font-size=\"14.00\">class = edible</text>\r\n",
       "</g>\r\n",
       "<!-- 0&#45;&gt;12 -->\r\n",
       "<g id=\"edge12\" class=\"edge\"><title>0&#45;&gt;12</title>\r\n",
       "<path fill=\"none\" stroke=\"black\" d=\"M628.662,-712.884C639.096,-703.709 650.535,-693.65 661.37,-684.123\"/>\r\n",
       "<polygon fill=\"black\" stroke=\"black\" points=\"663.932,-686.531 669.13,-677.299 659.309,-681.274 663.932,-686.531\"/>\r\n",
       "<text text-anchor=\"middle\" x=\"667.528\" y=\"-698.548\" font-family=\"Helvetica,sans-Serif\" font-size=\"14.00\">False</text>\r\n",
       "</g>\r\n",
       "<!-- 2 -->\r\n",
       "<g id=\"node3\" class=\"node\"><title>2</title>\r\n",
       "<path fill=\"#48a5e7\" stroke=\"black\" d=\"M355.5,-573C355.5,-573 128.5,-573 128.5,-573 122.5,-573 116.5,-567 116.5,-561 116.5,-561 116.5,-517 116.5,-517 116.5,-511 122.5,-505 128.5,-505 128.5,-505 355.5,-505 355.5,-505 361.5,-505 367.5,-511 367.5,-517 367.5,-517 367.5,-561 367.5,-561 367.5,-567 361.5,-573 355.5,-573\"/>\r\n",
       "<text text-anchor=\"middle\" x=\"242\" y=\"-557.8\" font-family=\"Helvetica,sans-Serif\" font-size=\"14.00\">stalk&#45;surface&#45;below&#45;ring_scaly &lt;= 0.5</text>\r\n",
       "<text text-anchor=\"middle\" x=\"242\" y=\"-542.8\" font-family=\"Helvetica,sans-Serif\" font-size=\"14.00\">samples = 49.8%</text>\r\n",
       "<text text-anchor=\"middle\" x=\"242\" y=\"-527.8\" font-family=\"Helvetica,sans-Serif\" font-size=\"14.00\">value = [0.071, 0.929]</text>\r\n",
       "<text text-anchor=\"middle\" x=\"242\" y=\"-512.8\" font-family=\"Helvetica,sans-Serif\" font-size=\"14.00\">class = poisonous</text>\r\n",
       "</g>\r\n",
       "<!-- 1&#45;&gt;2 -->\r\n",
       "<g id=\"edge2\" class=\"edge\"><title>1&#45;&gt;2</title>\r\n",
       "<path fill=\"none\" stroke=\"black\" d=\"M399.352,-608.884C376.242,-598.767 350.677,-587.575 326.99,-577.206\"/>\r\n",
       "<polygon fill=\"black\" stroke=\"black\" points=\"328.232,-573.929 317.667,-573.125 325.424,-580.341 328.232,-573.929\"/>\r\n",
       "</g>\r\n",
       "<!-- 9 -->\r\n",
       "<g id=\"node10\" class=\"node\"><title>9</title>\r\n",
       "<path fill=\"#e78a47\" stroke=\"black\" d=\"M550.5,-573C550.5,-573 399.5,-573 399.5,-573 393.5,-573 387.5,-567 387.5,-561 387.5,-561 387.5,-517 387.5,-517 387.5,-511 393.5,-505 399.5,-505 399.5,-505 550.5,-505 550.5,-505 556.5,-505 562.5,-511 562.5,-517 562.5,-517 562.5,-561 562.5,-561 562.5,-567 556.5,-573 550.5,-573\"/>\r\n",
       "<text text-anchor=\"middle\" x=\"475\" y=\"-557.8\" font-family=\"Helvetica,sans-Serif\" font-size=\"14.00\">ring&#45;type_pendant &lt;= 0.5</text>\r\n",
       "<text text-anchor=\"middle\" x=\"475\" y=\"-542.8\" font-family=\"Helvetica,sans-Serif\" font-size=\"14.00\">samples = 6.7%</text>\r\n",
       "<text text-anchor=\"middle\" x=\"475\" y=\"-527.8\" font-family=\"Helvetica,sans-Serif\" font-size=\"14.00\">value = [0.934, 0.066]</text>\r\n",
       "<text text-anchor=\"middle\" x=\"475\" y=\"-512.8\" font-family=\"Helvetica,sans-Serif\" font-size=\"14.00\">class = edible</text>\r\n",
       "</g>\r\n",
       "<!-- 1&#45;&gt;9 -->\r\n",
       "<g id=\"edge9\" class=\"edge\"><title>1&#45;&gt;9</title>\r\n",
       "<path fill=\"none\" stroke=\"black\" d=\"M475,-608.884C475,-600.778 475,-591.982 475,-583.472\"/>\r\n",
       "<polygon fill=\"black\" stroke=\"black\" points=\"478.5,-583.299 475,-573.299 471.5,-583.299 478.5,-583.299\"/>\r\n",
       "</g>\r\n",
       "<!-- 3 -->\r\n",
       "<g id=\"node4\" class=\"node\"><title>3</title>\r\n",
       "<path fill=\"#3ea0e6\" stroke=\"black\" d=\"M151,-469C151,-469 21,-469 21,-469 15,-469 9,-463 9,-457 9,-457 9,-413 9,-413 9,-407 15,-401 21,-401 21,-401 151,-401 151,-401 157,-401 163,-407 163,-413 163,-413 163,-457 163,-457 163,-463 157,-469 151,-469\"/>\r\n",
       "<text text-anchor=\"middle\" x=\"86\" y=\"-453.8\" font-family=\"Helvetica,sans-Serif\" font-size=\"14.00\">odor_anise &lt;= 0.5</text>\r\n",
       "<text text-anchor=\"middle\" x=\"86\" y=\"-438.8\" font-family=\"Helvetica,sans-Serif\" font-size=\"14.00\">samples = 47.5%</text>\r\n",
       "<text text-anchor=\"middle\" x=\"86\" y=\"-423.8\" font-family=\"Helvetica,sans-Serif\" font-size=\"14.00\">value = [0.025, 0.975]</text>\r\n",
       "<text text-anchor=\"middle\" x=\"86\" y=\"-408.8\" font-family=\"Helvetica,sans-Serif\" font-size=\"14.00\">class = poisonous</text>\r\n",
       "</g>\r\n",
       "<!-- 2&#45;&gt;3 -->\r\n",
       "<g id=\"edge3\" class=\"edge\"><title>2&#45;&gt;3</title>\r\n",
       "<path fill=\"none\" stroke=\"black\" d=\"M191.351,-504.884C176.7,-495.304 160.575,-484.761 145.44,-474.864\"/>\r\n",
       "<polygon fill=\"black\" stroke=\"black\" points=\"146.946,-471.668 136.661,-469.125 143.116,-477.527 146.946,-471.668\"/>\r\n",
       "</g>\r\n",
       "<!-- 8 -->\r\n",
       "<g id=\"node9\" class=\"node\"><title>8</title>\r\n",
       "<path fill=\"#e58139\" stroke=\"black\" d=\"M290.5,-461.5C290.5,-461.5 193.5,-461.5 193.5,-461.5 187.5,-461.5 181.5,-455.5 181.5,-449.5 181.5,-449.5 181.5,-420.5 181.5,-420.5 181.5,-414.5 187.5,-408.5 193.5,-408.5 193.5,-408.5 290.5,-408.5 290.5,-408.5 296.5,-408.5 302.5,-414.5 302.5,-420.5 302.5,-420.5 302.5,-449.5 302.5,-449.5 302.5,-455.5 296.5,-461.5 290.5,-461.5\"/>\r\n",
       "<text text-anchor=\"middle\" x=\"242\" y=\"-446.3\" font-family=\"Helvetica,sans-Serif\" font-size=\"14.00\">samples = 2.4%</text>\r\n",
       "<text text-anchor=\"middle\" x=\"242\" y=\"-431.3\" font-family=\"Helvetica,sans-Serif\" font-size=\"14.00\">value = [1.0, 0.0]</text>\r\n",
       "<text text-anchor=\"middle\" x=\"242\" y=\"-416.3\" font-family=\"Helvetica,sans-Serif\" font-size=\"14.00\">class = edible</text>\r\n",
       "</g>\r\n",
       "<!-- 2&#45;&gt;8 -->\r\n",
       "<g id=\"edge8\" class=\"edge\"><title>2&#45;&gt;8</title>\r\n",
       "<path fill=\"none\" stroke=\"black\" d=\"M242,-504.884C242,-494.326 242,-482.597 242,-471.854\"/>\r\n",
       "<polygon fill=\"black\" stroke=\"black\" points=\"245.5,-471.52 242,-461.52 238.5,-471.52 245.5,-471.52\"/>\r\n",
       "</g>\r\n",
       "<!-- 4 -->\r\n",
       "<g id=\"node5\" class=\"node\"><title>4</title>\r\n",
       "<path fill=\"#3c9ee5\" stroke=\"black\" d=\"M142,-365C142,-365 12,-365 12,-365 6,-365 0,-359 0,-353 0,-353 0,-309 0,-309 0,-303 6,-297 12,-297 12,-297 142,-297 142,-297 148,-297 154,-303 154,-309 154,-309 154,-353 154,-353 154,-359 148,-365 142,-365\"/>\r\n",
       "<text text-anchor=\"middle\" x=\"77\" y=\"-349.8\" font-family=\"Helvetica,sans-Serif\" font-size=\"14.00\">odor_almond &lt;= 0.5</text>\r\n",
       "<text text-anchor=\"middle\" x=\"77\" y=\"-334.8\" font-family=\"Helvetica,sans-Serif\" font-size=\"14.00\">samples = 46.9%</text>\r\n",
       "<text text-anchor=\"middle\" x=\"77\" y=\"-319.8\" font-family=\"Helvetica,sans-Serif\" font-size=\"14.00\">value = [0.013, 0.987]</text>\r\n",
       "<text text-anchor=\"middle\" x=\"77\" y=\"-304.8\" font-family=\"Helvetica,sans-Serif\" font-size=\"14.00\">class = poisonous</text>\r\n",
       "</g>\r\n",
       "<!-- 3&#45;&gt;4 -->\r\n",
       "<g id=\"edge4\" class=\"edge\"><title>3&#45;&gt;4</title>\r\n",
       "<path fill=\"none\" stroke=\"black\" d=\"M83.078,-400.884C82.3627,-392.778 81.5866,-383.982 80.8358,-375.472\"/>\r\n",
       "<polygon fill=\"black\" stroke=\"black\" points=\"84.3037,-374.953 79.9382,-365.299 77.3308,-375.568 84.3037,-374.953\"/>\r\n",
       "</g>\r\n",
       "<!-- 7 -->\r\n",
       "<g id=\"node8\" class=\"node\"><title>7</title>\r\n",
       "<path fill=\"#e58139\" stroke=\"black\" d=\"M281.5,-357.5C281.5,-357.5 184.5,-357.5 184.5,-357.5 178.5,-357.5 172.5,-351.5 172.5,-345.5 172.5,-345.5 172.5,-316.5 172.5,-316.5 172.5,-310.5 178.5,-304.5 184.5,-304.5 184.5,-304.5 281.5,-304.5 281.5,-304.5 287.5,-304.5 293.5,-310.5 293.5,-316.5 293.5,-316.5 293.5,-345.5 293.5,-345.5 293.5,-351.5 287.5,-357.5 281.5,-357.5\"/>\r\n",
       "<text text-anchor=\"middle\" x=\"233\" y=\"-342.3\" font-family=\"Helvetica,sans-Serif\" font-size=\"14.00\">samples = 0.6%</text>\r\n",
       "<text text-anchor=\"middle\" x=\"233\" y=\"-327.3\" font-family=\"Helvetica,sans-Serif\" font-size=\"14.00\">value = [1.0, 0.0]</text>\r\n",
       "<text text-anchor=\"middle\" x=\"233\" y=\"-312.3\" font-family=\"Helvetica,sans-Serif\" font-size=\"14.00\">class = edible</text>\r\n",
       "</g>\r\n",
       "<!-- 3&#45;&gt;7 -->\r\n",
       "<g id=\"edge7\" class=\"edge\"><title>3&#45;&gt;7</title>\r\n",
       "<path fill=\"none\" stroke=\"black\" d=\"M133.727,-400.884C151.162,-388.786 170.812,-375.151 188.001,-363.224\"/>\r\n",
       "<polygon fill=\"black\" stroke=\"black\" points=\"190.001,-366.096 196.221,-357.52 186.01,-360.345 190.001,-366.096\"/>\r\n",
       "</g>\r\n",
       "<!-- 5 -->\r\n",
       "<g id=\"node6\" class=\"node\"><title>5</title>\r\n",
       "<path fill=\"#399de5\" stroke=\"black\" d=\"M126.5,-253.5C126.5,-253.5 19.5,-253.5 19.5,-253.5 13.5,-253.5 7.5,-247.5 7.5,-241.5 7.5,-241.5 7.5,-212.5 7.5,-212.5 7.5,-206.5 13.5,-200.5 19.5,-200.5 19.5,-200.5 126.5,-200.5 126.5,-200.5 132.5,-200.5 138.5,-206.5 138.5,-212.5 138.5,-212.5 138.5,-241.5 138.5,-241.5 138.5,-247.5 132.5,-253.5 126.5,-253.5\"/>\r\n",
       "<text text-anchor=\"middle\" x=\"73\" y=\"-238.3\" font-family=\"Helvetica,sans-Serif\" font-size=\"14.00\">samples = 46.3%</text>\r\n",
       "<text text-anchor=\"middle\" x=\"73\" y=\"-223.3\" font-family=\"Helvetica,sans-Serif\" font-size=\"14.00\">value = [0.0, 1.0]</text>\r\n",
       "<text text-anchor=\"middle\" x=\"73\" y=\"-208.3\" font-family=\"Helvetica,sans-Serif\" font-size=\"14.00\">class = poisonous</text>\r\n",
       "</g>\r\n",
       "<!-- 4&#45;&gt;5 -->\r\n",
       "<g id=\"edge5\" class=\"edge\"><title>4&#45;&gt;5</title>\r\n",
       "<path fill=\"none\" stroke=\"black\" d=\"M75.7013,-296.884C75.283,-286.216 74.8177,-274.352 74.3929,-263.519\"/>\r\n",
       "<polygon fill=\"black\" stroke=\"black\" points=\"77.89,-263.375 74.0008,-253.52 70.8954,-263.649 77.89,-263.375\"/>\r\n",
       "</g>\r\n",
       "<!-- 6 -->\r\n",
       "<g id=\"node7\" class=\"node\"><title>6</title>\r\n",
       "<path fill=\"#e58139\" stroke=\"black\" d=\"M265.5,-253.5C265.5,-253.5 168.5,-253.5 168.5,-253.5 162.5,-253.5 156.5,-247.5 156.5,-241.5 156.5,-241.5 156.5,-212.5 156.5,-212.5 156.5,-206.5 162.5,-200.5 168.5,-200.5 168.5,-200.5 265.5,-200.5 265.5,-200.5 271.5,-200.5 277.5,-206.5 277.5,-212.5 277.5,-212.5 277.5,-241.5 277.5,-241.5 277.5,-247.5 271.5,-253.5 265.5,-253.5\"/>\r\n",
       "<text text-anchor=\"middle\" x=\"217\" y=\"-238.3\" font-family=\"Helvetica,sans-Serif\" font-size=\"14.00\">samples = 0.6%</text>\r\n",
       "<text text-anchor=\"middle\" x=\"217\" y=\"-223.3\" font-family=\"Helvetica,sans-Serif\" font-size=\"14.00\">value = [1.0, 0.0]</text>\r\n",
       "<text text-anchor=\"middle\" x=\"217\" y=\"-208.3\" font-family=\"Helvetica,sans-Serif\" font-size=\"14.00\">class = edible</text>\r\n",
       "</g>\r\n",
       "<!-- 4&#45;&gt;6 -->\r\n",
       "<g id=\"edge6\" class=\"edge\"><title>4&#45;&gt;6</title>\r\n",
       "<path fill=\"none\" stroke=\"black\" d=\"M122.454,-296.884C138.908,-284.896 157.433,-271.399 173.697,-259.549\"/>\r\n",
       "<polygon fill=\"black\" stroke=\"black\" points=\"175.951,-262.237 181.973,-253.52 171.829,-256.58 175.951,-262.237\"/>\r\n",
       "</g>\r\n",
       "<!-- 10 -->\r\n",
       "<g id=\"node11\" class=\"node\"><title>10</title>\r\n",
       "<path fill=\"#399de5\" stroke=\"black\" d=\"M439.5,-461.5C439.5,-461.5 332.5,-461.5 332.5,-461.5 326.5,-461.5 320.5,-455.5 320.5,-449.5 320.5,-449.5 320.5,-420.5 320.5,-420.5 320.5,-414.5 326.5,-408.5 332.5,-408.5 332.5,-408.5 439.5,-408.5 439.5,-408.5 445.5,-408.5 451.5,-414.5 451.5,-420.5 451.5,-420.5 451.5,-449.5 451.5,-449.5 451.5,-455.5 445.5,-461.5 439.5,-461.5\"/>\r\n",
       "<text text-anchor=\"middle\" x=\"386\" y=\"-446.3\" font-family=\"Helvetica,sans-Serif\" font-size=\"14.00\">samples = 0.4%</text>\r\n",
       "<text text-anchor=\"middle\" x=\"386\" y=\"-431.3\" font-family=\"Helvetica,sans-Serif\" font-size=\"14.00\">value = [0.0, 1.0]</text>\r\n",
       "<text text-anchor=\"middle\" x=\"386\" y=\"-416.3\" font-family=\"Helvetica,sans-Serif\" font-size=\"14.00\">class = poisonous</text>\r\n",
       "</g>\r\n",
       "<!-- 9&#45;&gt;10 -->\r\n",
       "<g id=\"edge10\" class=\"edge\"><title>9&#45;&gt;10</title>\r\n",
       "<path fill=\"none\" stroke=\"black\" d=\"M446.104,-504.884C436.124,-493.446 424.945,-480.634 414.96,-469.19\"/>\r\n",
       "<polygon fill=\"black\" stroke=\"black\" points=\"417.479,-466.754 408.267,-461.52 412.205,-471.356 417.479,-466.754\"/>\r\n",
       "</g>\r\n",
       "<!-- 11 -->\r\n",
       "<g id=\"node12\" class=\"node\"><title>11</title>\r\n",
       "<path fill=\"#e58139\" stroke=\"black\" d=\"M578.5,-461.5C578.5,-461.5 481.5,-461.5 481.5,-461.5 475.5,-461.5 469.5,-455.5 469.5,-449.5 469.5,-449.5 469.5,-420.5 469.5,-420.5 469.5,-414.5 475.5,-408.5 481.5,-408.5 481.5,-408.5 578.5,-408.5 578.5,-408.5 584.5,-408.5 590.5,-414.5 590.5,-420.5 590.5,-420.5 590.5,-449.5 590.5,-449.5 590.5,-455.5 584.5,-461.5 578.5,-461.5\"/>\r\n",
       "<text text-anchor=\"middle\" x=\"530\" y=\"-446.3\" font-family=\"Helvetica,sans-Serif\" font-size=\"14.00\">samples = 6.3%</text>\r\n",
       "<text text-anchor=\"middle\" x=\"530\" y=\"-431.3\" font-family=\"Helvetica,sans-Serif\" font-size=\"14.00\">value = [1.0, 0.0]</text>\r\n",
       "<text text-anchor=\"middle\" x=\"530\" y=\"-416.3\" font-family=\"Helvetica,sans-Serif\" font-size=\"14.00\">class = edible</text>\r\n",
       "</g>\r\n",
       "<!-- 9&#45;&gt;11 -->\r\n",
       "<g id=\"edge11\" class=\"edge\"><title>9&#45;&gt;11</title>\r\n",
       "<path fill=\"none\" stroke=\"black\" d=\"M492.857,-504.884C498.787,-493.886 505.402,-481.617 511.388,-470.517\"/>\r\n",
       "<polygon fill=\"black\" stroke=\"black\" points=\"514.574,-471.983 516.239,-461.52 508.412,-468.661 514.574,-471.983\"/>\r\n",
       "</g>\r\n",
       "<!-- 13 -->\r\n",
       "<g id=\"node14\" class=\"node\"><title>13</title>\r\n",
       "<path fill=\"#e5833c\" stroke=\"black\" d=\"M820.5,-573C820.5,-573 593.5,-573 593.5,-573 587.5,-573 581.5,-567 581.5,-561 581.5,-561 581.5,-517 581.5,-517 581.5,-511 587.5,-505 593.5,-505 593.5,-505 820.5,-505 820.5,-505 826.5,-505 832.5,-511 832.5,-517 832.5,-517 832.5,-561 832.5,-561 832.5,-567 826.5,-573 820.5,-573\"/>\r\n",
       "<text text-anchor=\"middle\" x=\"707\" y=\"-557.8\" font-family=\"Helvetica,sans-Serif\" font-size=\"14.00\">stalk&#45;surface&#45;below&#45;ring_scaly &lt;= 0.5</text>\r\n",
       "<text text-anchor=\"middle\" x=\"707\" y=\"-542.8\" font-family=\"Helvetica,sans-Serif\" font-size=\"14.00\">samples = 42.5%</text>\r\n",
       "<text text-anchor=\"middle\" x=\"707\" y=\"-527.8\" font-family=\"Helvetica,sans-Serif\" font-size=\"14.00\">value = [0.986, 0.014]</text>\r\n",
       "<text text-anchor=\"middle\" x=\"707\" y=\"-512.8\" font-family=\"Helvetica,sans-Serif\" font-size=\"14.00\">class = edible</text>\r\n",
       "</g>\r\n",
       "<!-- 12&#45;&gt;13 -->\r\n",
       "<g id=\"edge13\" class=\"edge\"><title>12&#45;&gt;13</title>\r\n",
       "<path fill=\"none\" stroke=\"black\" d=\"M707,-608.884C707,-600.778 707,-591.982 707,-583.472\"/>\r\n",
       "<polygon fill=\"black\" stroke=\"black\" points=\"710.5,-583.299 707,-573.299 703.5,-583.299 710.5,-583.299\"/>\r\n",
       "</g>\r\n",
       "<!-- 26 -->\r\n",
       "<g id=\"node27\" class=\"node\"><title>26</title>\r\n",
       "<path fill=\"#399de5\" stroke=\"black\" d=\"M969.5,-565.5C969.5,-565.5 862.5,-565.5 862.5,-565.5 856.5,-565.5 850.5,-559.5 850.5,-553.5 850.5,-553.5 850.5,-524.5 850.5,-524.5 850.5,-518.5 856.5,-512.5 862.5,-512.5 862.5,-512.5 969.5,-512.5 969.5,-512.5 975.5,-512.5 981.5,-518.5 981.5,-524.5 981.5,-524.5 981.5,-553.5 981.5,-553.5 981.5,-559.5 975.5,-565.5 969.5,-565.5\"/>\r\n",
       "<text text-anchor=\"middle\" x=\"916\" y=\"-550.3\" font-family=\"Helvetica,sans-Serif\" font-size=\"14.00\">samples = 0.9%</text>\r\n",
       "<text text-anchor=\"middle\" x=\"916\" y=\"-535.3\" font-family=\"Helvetica,sans-Serif\" font-size=\"14.00\">value = [0.0, 1.0]</text>\r\n",
       "<text text-anchor=\"middle\" x=\"916\" y=\"-520.3\" font-family=\"Helvetica,sans-Serif\" font-size=\"14.00\">class = poisonous</text>\r\n",
       "</g>\r\n",
       "<!-- 12&#45;&gt;26 -->\r\n",
       "<g id=\"edge26\" class=\"edge\"><title>12&#45;&gt;26</title>\r\n",
       "<path fill=\"none\" stroke=\"black\" d=\"M774.856,-608.884C800.546,-596.346 829.619,-582.157 854.674,-569.93\"/>\r\n",
       "<polygon fill=\"black\" stroke=\"black\" points=\"856.257,-573.051 863.709,-565.52 853.187,-566.761 856.257,-573.051\"/>\r\n",
       "</g>\r\n",
       "<!-- 14 -->\r\n",
       "<g id=\"node15\" class=\"node\"><title>14</title>\r\n",
       "<path fill=\"#e58139\" stroke=\"black\" d=\"M793,-469C793,-469 621,-469 621,-469 615,-469 609,-463 609,-457 609,-457 609,-413 609,-413 609,-407 615,-401 621,-401 621,-401 793,-401 793,-401 799,-401 805,-407 805,-413 805,-413 805,-457 805,-457 805,-463 799,-469 793,-469\"/>\r\n",
       "<text text-anchor=\"middle\" x=\"707\" y=\"-453.8\" font-family=\"Helvetica,sans-Serif\" font-size=\"14.00\">cap&#45;surface_grooves &lt;= 0.5</text>\r\n",
       "<text text-anchor=\"middle\" x=\"707\" y=\"-438.8\" font-family=\"Helvetica,sans-Serif\" font-size=\"14.00\">samples = 41.9%</text>\r\n",
       "<text text-anchor=\"middle\" x=\"707\" y=\"-423.8\" font-family=\"Helvetica,sans-Serif\" font-size=\"14.00\">value = [0.998, 0.002]</text>\r\n",
       "<text text-anchor=\"middle\" x=\"707\" y=\"-408.8\" font-family=\"Helvetica,sans-Serif\" font-size=\"14.00\">class = edible</text>\r\n",
       "</g>\r\n",
       "<!-- 13&#45;&gt;14 -->\r\n",
       "<g id=\"edge14\" class=\"edge\"><title>13&#45;&gt;14</title>\r\n",
       "<path fill=\"none\" stroke=\"black\" d=\"M707,-504.884C707,-496.778 707,-487.982 707,-479.472\"/>\r\n",
       "<polygon fill=\"black\" stroke=\"black\" points=\"710.5,-479.299 707,-469.299 703.5,-479.299 710.5,-479.299\"/>\r\n",
       "</g>\r\n",
       "<!-- 23 -->\r\n",
       "<g id=\"node24\" class=\"node\"><title>23</title>\r\n",
       "<path fill=\"#88c4ef\" stroke=\"black\" d=\"M965,-469C965,-469 835,-469 835,-469 829,-469 823,-463 823,-457 823,-457 823,-413 823,-413 823,-407 829,-401 835,-401 835,-401 965,-401 965,-401 971,-401 977,-407 977,-413 977,-413 977,-457 977,-457 977,-463 971,-469 965,-469\"/>\r\n",
       "<text text-anchor=\"middle\" x=\"900\" y=\"-453.8\" font-family=\"Helvetica,sans-Serif\" font-size=\"14.00\">gill&#45;size_broad &lt;= 0.5</text>\r\n",
       "<text text-anchor=\"middle\" x=\"900\" y=\"-438.8\" font-family=\"Helvetica,sans-Serif\" font-size=\"14.00\">samples = 0.7%</text>\r\n",
       "<text text-anchor=\"middle\" x=\"900\" y=\"-423.8\" font-family=\"Helvetica,sans-Serif\" font-size=\"14.00\">value = [0.286, 0.714]</text>\r\n",
       "<text text-anchor=\"middle\" x=\"900\" y=\"-408.8\" font-family=\"Helvetica,sans-Serif\" font-size=\"14.00\">class = poisonous</text>\r\n",
       "</g>\r\n",
       "<!-- 13&#45;&gt;23 -->\r\n",
       "<g id=\"edge23\" class=\"edge\"><title>13&#45;&gt;23</title>\r\n",
       "<path fill=\"none\" stroke=\"black\" d=\"M769.662,-504.884C788.38,-494.991 809.044,-484.07 828.296,-473.895\"/>\r\n",
       "<polygon fill=\"black\" stroke=\"black\" points=\"830.117,-476.892 837.323,-469.125 826.846,-470.703 830.117,-476.892\"/>\r\n",
       "</g>\r\n",
       "<!-- 15 -->\r\n",
       "<g id=\"node16\" class=\"node\"><title>15</title>\r\n",
       "<path fill=\"#e58139\" stroke=\"black\" d=\"M622,-365C622,-365 466,-365 466,-365 460,-365 454,-359 454,-353 454,-353 454,-309 454,-309 454,-303 460,-297 466,-297 466,-297 622,-297 622,-297 628,-297 634,-303 634,-309 634,-309 634,-353 634,-353 634,-359 628,-365 622,-365\"/>\r\n",
       "<text text-anchor=\"middle\" x=\"544\" y=\"-349.8\" font-family=\"Helvetica,sans-Serif\" font-size=\"14.00\">cap&#45;shape_conical &lt;= 0.5</text>\r\n",
       "<text text-anchor=\"middle\" x=\"544\" y=\"-334.8\" font-family=\"Helvetica,sans-Serif\" font-size=\"14.00\">samples = 41.8%</text>\r\n",
       "<text text-anchor=\"middle\" x=\"544\" y=\"-319.8\" font-family=\"Helvetica,sans-Serif\" font-size=\"14.00\">value = [0.999, 0.001]</text>\r\n",
       "<text text-anchor=\"middle\" x=\"544\" y=\"-304.8\" font-family=\"Helvetica,sans-Serif\" font-size=\"14.00\">class = edible</text>\r\n",
       "</g>\r\n",
       "<!-- 14&#45;&gt;15 -->\r\n",
       "<g id=\"edge15\" class=\"edge\"><title>14&#45;&gt;15</title>\r\n",
       "<path fill=\"none\" stroke=\"black\" d=\"M654.079,-400.884C638.627,-391.214 621.606,-380.563 605.664,-370.587\"/>\r\n",
       "<polygon fill=\"black\" stroke=\"black\" points=\"607.268,-367.462 596.935,-365.125 603.555,-373.396 607.268,-367.462\"/>\r\n",
       "</g>\r\n",
       "<!-- 22 -->\r\n",
       "<g id=\"node23\" class=\"node\"><title>22</title>\r\n",
       "<path fill=\"#399de5\" stroke=\"black\" d=\"M771.5,-357.5C771.5,-357.5 664.5,-357.5 664.5,-357.5 658.5,-357.5 652.5,-351.5 652.5,-345.5 652.5,-345.5 652.5,-316.5 652.5,-316.5 652.5,-310.5 658.5,-304.5 664.5,-304.5 664.5,-304.5 771.5,-304.5 771.5,-304.5 777.5,-304.5 783.5,-310.5 783.5,-316.5 783.5,-316.5 783.5,-345.5 783.5,-345.5 783.5,-351.5 777.5,-357.5 771.5,-357.5\"/>\r\n",
       "<text text-anchor=\"middle\" x=\"718\" y=\"-342.3\" font-family=\"Helvetica,sans-Serif\" font-size=\"14.00\">samples = 0.0%</text>\r\n",
       "<text text-anchor=\"middle\" x=\"718\" y=\"-327.3\" font-family=\"Helvetica,sans-Serif\" font-size=\"14.00\">value = [0.0, 1.0]</text>\r\n",
       "<text text-anchor=\"middle\" x=\"718\" y=\"-312.3\" font-family=\"Helvetica,sans-Serif\" font-size=\"14.00\">class = poisonous</text>\r\n",
       "</g>\r\n",
       "<!-- 14&#45;&gt;22 -->\r\n",
       "<g id=\"edge22\" class=\"edge\"><title>14&#45;&gt;22</title>\r\n",
       "<path fill=\"none\" stroke=\"black\" d=\"M710.571,-400.884C711.722,-390.216 713.001,-378.352 714.17,-367.519\"/>\r\n",
       "<polygon fill=\"black\" stroke=\"black\" points=\"717.655,-367.838 715.248,-357.52 710.696,-367.087 717.655,-367.838\"/>\r\n",
       "</g>\r\n",
       "<!-- 16 -->\r\n",
       "<g id=\"node17\" class=\"node\"><title>16</title>\r\n",
       "<path fill=\"#e58139\" stroke=\"black\" d=\"M521,-261C521,-261 387,-261 387,-261 381,-261 375,-255 375,-249 375,-249 375,-205 375,-205 375,-199 381,-193 387,-193 387,-193 521,-193 521,-193 527,-193 533,-199 533,-205 533,-205 533,-249 533,-249 533,-255 527,-261 521,-261\"/>\r\n",
       "<text text-anchor=\"middle\" x=\"454\" y=\"-245.8\" font-family=\"Helvetica,sans-Serif\" font-size=\"14.00\">gill&#45;size_narrow &lt;= 0.5</text>\r\n",
       "<text text-anchor=\"middle\" x=\"454\" y=\"-230.8\" font-family=\"Helvetica,sans-Serif\" font-size=\"14.00\">samples = 41.8%</text>\r\n",
       "<text text-anchor=\"middle\" x=\"454\" y=\"-215.8\" font-family=\"Helvetica,sans-Serif\" font-size=\"14.00\">value = [0.999, 0.001]</text>\r\n",
       "<text text-anchor=\"middle\" x=\"454\" y=\"-200.8\" font-family=\"Helvetica,sans-Serif\" font-size=\"14.00\">class = edible</text>\r\n",
       "</g>\r\n",
       "<!-- 15&#45;&gt;16 -->\r\n",
       "<g id=\"edge16\" class=\"edge\"><title>15&#45;&gt;16</title>\r\n",
       "<path fill=\"none\" stroke=\"black\" d=\"M514.78,-296.884C506.92,-287.976 498.325,-278.235 490.138,-268.957\"/>\r\n",
       "<polygon fill=\"black\" stroke=\"black\" points=\"492.622,-266.482 483.382,-261.299 487.374,-271.113 492.622,-266.482\"/>\r\n",
       "</g>\r\n",
       "<!-- 21 -->\r\n",
       "<g id=\"node22\" class=\"node\"><title>21</title>\r\n",
       "<path fill=\"#399de5\" stroke=\"black\" d=\"M670.5,-253.5C670.5,-253.5 563.5,-253.5 563.5,-253.5 557.5,-253.5 551.5,-247.5 551.5,-241.5 551.5,-241.5 551.5,-212.5 551.5,-212.5 551.5,-206.5 557.5,-200.5 563.5,-200.5 563.5,-200.5 670.5,-200.5 670.5,-200.5 676.5,-200.5 682.5,-206.5 682.5,-212.5 682.5,-212.5 682.5,-241.5 682.5,-241.5 682.5,-247.5 676.5,-253.5 670.5,-253.5\"/>\r\n",
       "<text text-anchor=\"middle\" x=\"617\" y=\"-238.3\" font-family=\"Helvetica,sans-Serif\" font-size=\"14.00\">samples = 0.0%</text>\r\n",
       "<text text-anchor=\"middle\" x=\"617\" y=\"-223.3\" font-family=\"Helvetica,sans-Serif\" font-size=\"14.00\">value = [0.0, 1.0]</text>\r\n",
       "<text text-anchor=\"middle\" x=\"617\" y=\"-208.3\" font-family=\"Helvetica,sans-Serif\" font-size=\"14.00\">class = poisonous</text>\r\n",
       "</g>\r\n",
       "<!-- 15&#45;&gt;21 -->\r\n",
       "<g id=\"edge21\" class=\"edge\"><title>15&#45;&gt;21</title>\r\n",
       "<path fill=\"none\" stroke=\"black\" d=\"M567.701,-296.884C575.729,-285.666 584.704,-273.126 592.773,-261.852\"/>\r\n",
       "<polygon fill=\"black\" stroke=\"black\" points=\"595.762,-263.689 598.736,-253.52 590.07,-259.615 595.762,-263.689\"/>\r\n",
       "</g>\r\n",
       "<!-- 17 -->\r\n",
       "<g id=\"node18\" class=\"node\"><title>17</title>\r\n",
       "<path fill=\"#e58139\" stroke=\"black\" d=\"M416,-149.5C416,-149.5 312,-149.5 312,-149.5 306,-149.5 300,-143.5 300,-137.5 300,-137.5 300,-108.5 300,-108.5 300,-102.5 306,-96.5 312,-96.5 312,-96.5 416,-96.5 416,-96.5 422,-96.5 428,-102.5 428,-108.5 428,-108.5 428,-137.5 428,-137.5 428,-143.5 422,-149.5 416,-149.5\"/>\r\n",
       "<text text-anchor=\"middle\" x=\"364\" y=\"-134.3\" font-family=\"Helvetica,sans-Serif\" font-size=\"14.00\">samples = 39.4%</text>\r\n",
       "<text text-anchor=\"middle\" x=\"364\" y=\"-119.3\" font-family=\"Helvetica,sans-Serif\" font-size=\"14.00\">value = [1.0, 0.0]</text>\r\n",
       "<text text-anchor=\"middle\" x=\"364\" y=\"-104.3\" font-family=\"Helvetica,sans-Serif\" font-size=\"14.00\">class = edible</text>\r\n",
       "</g>\r\n",
       "<!-- 16&#45;&gt;17 -->\r\n",
       "<g id=\"edge17\" class=\"edge\"><title>16&#45;&gt;17</title>\r\n",
       "<path fill=\"none\" stroke=\"black\" d=\"M424.78,-192.884C414.687,-181.446 403.383,-168.634 393.285,-157.19\"/>\r\n",
       "<polygon fill=\"black\" stroke=\"black\" points=\"395.758,-154.703 386.518,-149.52 390.509,-159.334 395.758,-154.703\"/>\r\n",
       "</g>\r\n",
       "<!-- 18 -->\r\n",
       "<g id=\"node19\" class=\"node\"><title>18</title>\r\n",
       "<path fill=\"#e5833c\" stroke=\"black\" d=\"M627.5,-157C627.5,-157 458.5,-157 458.5,-157 452.5,-157 446.5,-151 446.5,-145 446.5,-145 446.5,-101 446.5,-101 446.5,-95 452.5,-89 458.5,-89 458.5,-89 627.5,-89 627.5,-89 633.5,-89 639.5,-95 639.5,-101 639.5,-101 639.5,-145 639.5,-145 639.5,-151 633.5,-157 627.5,-157\"/>\r\n",
       "<text text-anchor=\"middle\" x=\"543\" y=\"-141.8\" font-family=\"Helvetica,sans-Serif\" font-size=\"14.00\">population_clustered &lt;= 0.5</text>\r\n",
       "<text text-anchor=\"middle\" x=\"543\" y=\"-126.8\" font-family=\"Helvetica,sans-Serif\" font-size=\"14.00\">samples = 2.4%</text>\r\n",
       "<text text-anchor=\"middle\" x=\"543\" y=\"-111.8\" font-family=\"Helvetica,sans-Serif\" font-size=\"14.00\">value = [0.985, 0.015]</text>\r\n",
       "<text text-anchor=\"middle\" x=\"543\" y=\"-96.8\" font-family=\"Helvetica,sans-Serif\" font-size=\"14.00\">class = edible</text>\r\n",
       "</g>\r\n",
       "<!-- 16&#45;&gt;18 -->\r\n",
       "<g id=\"edge18\" class=\"edge\"><title>16&#45;&gt;18</title>\r\n",
       "<path fill=\"none\" stroke=\"black\" d=\"M482.896,-192.884C490.668,-183.976 499.167,-174.235 507.263,-164.957\"/>\r\n",
       "<polygon fill=\"black\" stroke=\"black\" points=\"510.007,-167.135 513.945,-157.299 504.733,-162.533 510.007,-167.135\"/>\r\n",
       "</g>\r\n",
       "<!-- 19 -->\r\n",
       "<g id=\"node20\" class=\"node\"><title>19</title>\r\n",
       "<path fill=\"#e58139\" stroke=\"black\" d=\"M519.5,-53C519.5,-53 422.5,-53 422.5,-53 416.5,-53 410.5,-47 410.5,-41 410.5,-41 410.5,-12 410.5,-12 410.5,-6 416.5,-0 422.5,-0 422.5,-0 519.5,-0 519.5,-0 525.5,-0 531.5,-6 531.5,-12 531.5,-12 531.5,-41 531.5,-41 531.5,-47 525.5,-53 519.5,-53\"/>\r\n",
       "<text text-anchor=\"middle\" x=\"471\" y=\"-37.8\" font-family=\"Helvetica,sans-Serif\" font-size=\"14.00\">samples = 2.4%</text>\r\n",
       "<text text-anchor=\"middle\" x=\"471\" y=\"-22.8\" font-family=\"Helvetica,sans-Serif\" font-size=\"14.00\">value = [1.0, 0.0]</text>\r\n",
       "<text text-anchor=\"middle\" x=\"471\" y=\"-7.8\" font-family=\"Helvetica,sans-Serif\" font-size=\"14.00\">class = edible</text>\r\n",
       "</g>\r\n",
       "<!-- 18&#45;&gt;19 -->\r\n",
       "<g id=\"edge19\" class=\"edge\"><title>18&#45;&gt;19</title>\r\n",
       "<path fill=\"none\" stroke=\"black\" d=\"M517.818,-88.9485C510.987,-79.9834 503.584,-70.2666 496.724,-61.2629\"/>\r\n",
       "<polygon fill=\"black\" stroke=\"black\" points=\"499.453,-59.0699 490.609,-53.2367 493.885,-63.3122 499.453,-59.0699\"/>\r\n",
       "</g>\r\n",
       "<!-- 20 -->\r\n",
       "<g id=\"node21\" class=\"node\"><title>20</title>\r\n",
       "<path fill=\"#399de5\" stroke=\"black\" d=\"M668.5,-53C668.5,-53 561.5,-53 561.5,-53 555.5,-53 549.5,-47 549.5,-41 549.5,-41 549.5,-12 549.5,-12 549.5,-6 555.5,-0 561.5,-0 561.5,-0 668.5,-0 668.5,-0 674.5,-0 680.5,-6 680.5,-12 680.5,-12 680.5,-41 680.5,-41 680.5,-47 674.5,-53 668.5,-53\"/>\r\n",
       "<text text-anchor=\"middle\" x=\"615\" y=\"-37.8\" font-family=\"Helvetica,sans-Serif\" font-size=\"14.00\">samples = 0.0%</text>\r\n",
       "<text text-anchor=\"middle\" x=\"615\" y=\"-22.8\" font-family=\"Helvetica,sans-Serif\" font-size=\"14.00\">value = [0.0, 1.0]</text>\r\n",
       "<text text-anchor=\"middle\" x=\"615\" y=\"-7.8\" font-family=\"Helvetica,sans-Serif\" font-size=\"14.00\">class = poisonous</text>\r\n",
       "</g>\r\n",
       "<!-- 18&#45;&gt;20 -->\r\n",
       "<g id=\"edge20\" class=\"edge\"><title>18&#45;&gt;20</title>\r\n",
       "<path fill=\"none\" stroke=\"black\" d=\"M568.182,-88.9485C575.013,-79.9834 582.416,-70.2666 589.276,-61.2629\"/>\r\n",
       "<polygon fill=\"black\" stroke=\"black\" points=\"592.115,-63.3122 595.391,-53.2367 586.547,-59.0699 592.115,-63.3122\"/>\r\n",
       "</g>\r\n",
       "<!-- 24 -->\r\n",
       "<g id=\"node25\" class=\"node\"><title>24</title>\r\n",
       "<path fill=\"#399de5\" stroke=\"black\" d=\"M942.5,-357.5C942.5,-357.5 835.5,-357.5 835.5,-357.5 829.5,-357.5 823.5,-351.5 823.5,-345.5 823.5,-345.5 823.5,-316.5 823.5,-316.5 823.5,-310.5 829.5,-304.5 835.5,-304.5 835.5,-304.5 942.5,-304.5 942.5,-304.5 948.5,-304.5 954.5,-310.5 954.5,-316.5 954.5,-316.5 954.5,-345.5 954.5,-345.5 954.5,-351.5 948.5,-357.5 942.5,-357.5\"/>\r\n",
       "<text text-anchor=\"middle\" x=\"889\" y=\"-342.3\" font-family=\"Helvetica,sans-Serif\" font-size=\"14.00\">samples = 0.5%</text>\r\n",
       "<text text-anchor=\"middle\" x=\"889\" y=\"-327.3\" font-family=\"Helvetica,sans-Serif\" font-size=\"14.00\">value = [0.0, 1.0]</text>\r\n",
       "<text text-anchor=\"middle\" x=\"889\" y=\"-312.3\" font-family=\"Helvetica,sans-Serif\" font-size=\"14.00\">class = poisonous</text>\r\n",
       "</g>\r\n",
       "<!-- 23&#45;&gt;24 -->\r\n",
       "<g id=\"edge24\" class=\"edge\"><title>23&#45;&gt;24</title>\r\n",
       "<path fill=\"none\" stroke=\"black\" d=\"M896.429,-400.884C895.278,-390.216 893.999,-378.352 892.83,-367.519\"/>\r\n",
       "<polygon fill=\"black\" stroke=\"black\" points=\"896.304,-367.087 891.752,-357.52 889.345,-367.838 896.304,-367.087\"/>\r\n",
       "</g>\r\n",
       "<!-- 25 -->\r\n",
       "<g id=\"node26\" class=\"node\"><title>25</title>\r\n",
       "<path fill=\"#e58139\" stroke=\"black\" d=\"M1081.5,-357.5C1081.5,-357.5 984.5,-357.5 984.5,-357.5 978.5,-357.5 972.5,-351.5 972.5,-345.5 972.5,-345.5 972.5,-316.5 972.5,-316.5 972.5,-310.5 978.5,-304.5 984.5,-304.5 984.5,-304.5 1081.5,-304.5 1081.5,-304.5 1087.5,-304.5 1093.5,-310.5 1093.5,-316.5 1093.5,-316.5 1093.5,-345.5 1093.5,-345.5 1093.5,-351.5 1087.5,-357.5 1081.5,-357.5\"/>\r\n",
       "<text text-anchor=\"middle\" x=\"1033\" y=\"-342.3\" font-family=\"Helvetica,sans-Serif\" font-size=\"14.00\">samples = 0.2%</text>\r\n",
       "<text text-anchor=\"middle\" x=\"1033\" y=\"-327.3\" font-family=\"Helvetica,sans-Serif\" font-size=\"14.00\">value = [1.0, 0.0]</text>\r\n",
       "<text text-anchor=\"middle\" x=\"1033\" y=\"-312.3\" font-family=\"Helvetica,sans-Serif\" font-size=\"14.00\">class = edible</text>\r\n",
       "</g>\r\n",
       "<!-- 23&#45;&gt;25 -->\r\n",
       "<g id=\"edge25\" class=\"edge\"><title>23&#45;&gt;25</title>\r\n",
       "<path fill=\"none\" stroke=\"black\" d=\"M943.181,-400.884C958.669,-389.006 976.089,-375.646 991.436,-363.876\"/>\r\n",
       "<polygon fill=\"black\" stroke=\"black\" points=\"993.919,-366.383 999.724,-357.52 989.659,-360.828 993.919,-366.383\"/>\r\n",
       "</g>\r\n",
       "</g>\r\n",
       "</svg>\r\n"
      ],
      "text/plain": [
       "<graphviz.files.Source at 0x1f307206610>"
      ]
     },
     "execution_count": 25,
     "metadata": {},
     "output_type": "execute_result"
    }
   ],
   "source": [
    "Tree.fit(attributes,target)\n",
    "dot_data = tree.export_graphviz(TreeCV.best_estimator_,\n",
    "                               out_file=None,\n",
    "                               feature_names=attributes.columns,\n",
    "                               class_names = ['edible','poisonous'],\n",
    "                               proportion=True,\n",
    "                               impurity=False,\n",
    "                               filled=True,\n",
    "                               rounded=True)\n",
    "graph = graphviz.Source(dot_data)\n",
    "graph.render('Mushroom')\n",
    "graph"
   ]
  },
  {
   "cell_type": "markdown",
   "metadata": {},
   "source": [
    "Because the first entry of the value field in each node is the proportion of edible mushrooms at that node, the odor is the most substantial attribute to determine whether the mushroom is poisone or edible."
   ]
  },
  {
   "cell_type": "markdown",
   "metadata": {},
   "source": [
    "The depth of the tree is only 7 instead of 14 because all the leaf nodes are either all edible or all poisonous."
   ]
  },
  {
   "cell_type": "code",
   "execution_count": null,
   "metadata": {},
   "outputs": [],
   "source": []
  }
 ],
 "metadata": {
  "kernelspec": {
   "display_name": "Python 3",
   "language": "python",
   "name": "python3"
  },
  "language_info": {
   "codemirror_mode": {
    "name": "ipython",
    "version": 3
   },
   "file_extension": ".py",
   "mimetype": "text/x-python",
   "name": "python",
   "nbconvert_exporter": "python",
   "pygments_lexer": "ipython3",
   "version": "3.8.3"
  }
 },
 "nbformat": 4,
 "nbformat_minor": 4
}
