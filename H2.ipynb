{
 "cells": [
  {
   "cell_type": "code",
   "execution_count": 47,
   "metadata": {},
   "outputs": [],
   "source": [
    "import numpy as np\n",
    "import pandas as pd"
   ]
  },
  {
   "cell_type": "code",
   "execution_count": 29,
   "metadata": {},
   "outputs": [
    {
     "data": {
      "text/html": [
       "<div>\n",
       "<style scoped>\n",
       "    .dataframe tbody tr th:only-of-type {\n",
       "        vertical-align: middle;\n",
       "    }\n",
       "\n",
       "    .dataframe tbody tr th {\n",
       "        vertical-align: top;\n",
       "    }\n",
       "\n",
       "    .dataframe thead th {\n",
       "        text-align: right;\n",
       "    }\n",
       "</style>\n",
       "<table border=\"1\" class=\"dataframe\">\n",
       "  <thead>\n",
       "    <tr style=\"text-align: right;\">\n",
       "      <th></th>\n",
       "      <th>price</th>\n",
       "      <th>gender</th>\n",
       "      <th>local time</th>\n",
       "      <th>temperature</th>\n",
       "    </tr>\n",
       "  </thead>\n",
       "  <tbody>\n",
       "    <tr>\n",
       "      <th>0</th>\n",
       "      <td>6.0</td>\n",
       "      <td>F</td>\n",
       "      <td>2001-01-01 14:00:00</td>\n",
       "      <td>hot</td>\n",
       "    </tr>\n",
       "    <tr>\n",
       "      <th>1</th>\n",
       "      <td>1.0</td>\n",
       "      <td>F</td>\n",
       "      <td>2001-01-01 16:00:00</td>\n",
       "      <td>cold</td>\n",
       "    </tr>\n",
       "    <tr>\n",
       "      <th>2</th>\n",
       "      <td>1.0</td>\n",
       "      <td>M</td>\n",
       "      <td>2001-01-01 11:00:00</td>\n",
       "      <td>warm</td>\n",
       "    </tr>\n",
       "    <tr>\n",
       "      <th>3</th>\n",
       "      <td>2.0</td>\n",
       "      <td>F</td>\n",
       "      <td>2001-01-01 13:00:00</td>\n",
       "      <td>hot</td>\n",
       "    </tr>\n",
       "    <tr>\n",
       "      <th>4</th>\n",
       "      <td>0.0</td>\n",
       "      <td>M</td>\n",
       "      <td>2001-01-01 13:00:00</td>\n",
       "      <td>warm</td>\n",
       "    </tr>\n",
       "  </tbody>\n",
       "</table>\n",
       "</div>"
      ],
      "text/plain": [
       "   price gender          local time temperature\n",
       "0    6.0      F 2001-01-01 14:00:00         hot\n",
       "1    1.0      F 2001-01-01 16:00:00        cold\n",
       "2    1.0      M 2001-01-01 11:00:00        warm\n",
       "3    2.0      F 2001-01-01 13:00:00         hot\n",
       "4    0.0      M 2001-01-01 13:00:00        warm"
      ]
     },
     "execution_count": 29,
     "metadata": {},
     "output_type": "execute_result"
    }
   ],
   "source": [
    "df = pd.DataFrame([(6.00, 'F', '01-01-01 02:00 pm', 'hot'),\n",
    "                    (1.00, 'F', '01-01-01 04:00 pm', 'cold'),\n",
    "                    (1.00, 'M', '01-01-01 11:00 am', 'warm'),\n",
    "                    (2.00, 'F', '01-01-01 01:00 pm', 'hot'),\n",
    "                    (0.00, 'M', '01-01-01 01:00 pm', 'warm')],\n",
    "                  columns = ('price', 'gender', 'local time', 'temperature')\n",
    "                 )\n",
    "df['local time']=pd.to_datetime(df['local time'])\n",
    "df"
   ]
  },
  {
   "cell_type": "code",
   "execution_count": 30,
   "metadata": {},
   "outputs": [
    {
     "data": {
      "text/html": [
       "<div>\n",
       "<style scoped>\n",
       "    .dataframe tbody tr th:only-of-type {\n",
       "        vertical-align: middle;\n",
       "    }\n",
       "\n",
       "    .dataframe tbody tr th {\n",
       "        vertical-align: top;\n",
       "    }\n",
       "\n",
       "    .dataframe thead th {\n",
       "        text-align: right;\n",
       "    }\n",
       "</style>\n",
       "<table border=\"1\" class=\"dataframe\">\n",
       "  <thead>\n",
       "    <tr style=\"text-align: right;\">\n",
       "      <th></th>\n",
       "      <th>price</th>\n",
       "      <th>gender</th>\n",
       "      <th>local time</th>\n",
       "      <th>temperature</th>\n",
       "    </tr>\n",
       "  </thead>\n",
       "  <tbody>\n",
       "    <tr>\n",
       "      <th>0</th>\n",
       "      <td>1.0</td>\n",
       "      <td>F</td>\n",
       "      <td>2001-01-01 13:00:00</td>\n",
       "      <td>hot</td>\n",
       "    </tr>\n",
       "    <tr>\n",
       "      <th>1</th>\n",
       "      <td>NaN</td>\n",
       "      <td>NaN</td>\n",
       "      <td>NaT</td>\n",
       "      <td>warm</td>\n",
       "    </tr>\n",
       "  </tbody>\n",
       "</table>\n",
       "</div>"
      ],
      "text/plain": [
       "   price gender          local time temperature\n",
       "0    1.0      F 2001-01-01 13:00:00         hot\n",
       "1    NaN    NaN                 NaT        warm"
      ]
     },
     "execution_count": 30,
     "metadata": {},
     "output_type": "execute_result"
    }
   ],
   "source": [
    "df.mode()"
   ]
  },
  {
   "cell_type": "code",
   "execution_count": 31,
   "metadata": {},
   "outputs": [
    {
     "data": {
      "text/plain": [
       "price    2.0\n",
       "dtype: float64"
      ]
     },
     "execution_count": 31,
     "metadata": {},
     "output_type": "execute_result"
    }
   ],
   "source": [
    "df.mean()"
   ]
  },
  {
   "cell_type": "code",
   "execution_count": 33,
   "metadata": {},
   "outputs": [
    {
     "data": {
      "text/plain": [
       "Timestamp('2001-01-01 13:24:00')"
      ]
     },
     "execution_count": 33,
     "metadata": {},
     "output_type": "execute_result"
    }
   ],
   "source": [
    "df['local time'].mean()"
   ]
  },
  {
   "cell_type": "code",
   "execution_count": 34,
   "metadata": {},
   "outputs": [
    {
     "data": {
      "text/plain": [
       "price    1.0\n",
       "dtype: float64"
      ]
     },
     "execution_count": 34,
     "metadata": {},
     "output_type": "execute_result"
    }
   ],
   "source": [
    "df.median()"
   ]
  },
  {
   "cell_type": "code",
   "execution_count": 90,
   "metadata": {},
   "outputs": [
    {
     "data": {
      "text/plain": [
       "<matplotlib.axes._subplots.AxesSubplot at 0x26f997a3160>"
      ]
     },
     "execution_count": 90,
     "metadata": {},
     "output_type": "execute_result"
    },
    {
     "data": {
      "image/png": "[encoded data removed]",
      "text/plain": [
       "<Figure size 432x288 with 1 Axes>"
      ]
     },
     "metadata": {
      "needs_background": "light"
     },
     "output_type": "display_data"
    }
   ],
   "source": [
    "import pandas as pd\n",
    "df = pd.DataFrame() # construct empty dataframe\n",
    "df['grades'] = [67,75,76,78,80,80,82,83,85,99]\n",
    "df.plot.box()"
   ]
  },
  {
   "cell_type": "code",
   "execution_count": 91,
   "metadata": {},
   "outputs": [
    {
     "data": {
      "text/html": [
       "<div>\n",
       "<style scoped>\n",
       "    .dataframe tbody tr th:only-of-type {\n",
       "        vertical-align: middle;\n",
       "    }\n",
       "\n",
       "    .dataframe tbody tr th {\n",
       "        vertical-align: top;\n",
       "    }\n",
       "\n",
       "    .dataframe thead th {\n",
       "        text-align: right;\n",
       "    }\n",
       "</style>\n",
       "<table border=\"1\" class=\"dataframe\">\n",
       "  <thead>\n",
       "    <tr style=\"text-align: right;\">\n",
       "      <th></th>\n",
       "      <th>Tow Date</th>\n",
       "      <th>Make</th>\n",
       "      <th>Style</th>\n",
       "      <th>Model</th>\n",
       "      <th>Color</th>\n",
       "      <th>Plate</th>\n",
       "      <th>State</th>\n",
       "      <th>Towed to Address</th>\n",
       "      <th>Tow Facility Phone</th>\n",
       "      <th>Inventory Number</th>\n",
       "    </tr>\n",
       "  </thead>\n",
       "  <tbody>\n",
       "    <tr>\n",
       "      <th>0</th>\n",
       "      <td>2015-12-03</td>\n",
       "      <td>ACUR</td>\n",
       "      <td>4D</td>\n",
       "      <td>NaN</td>\n",
       "      <td>WHI</td>\n",
       "      <td>Y753941</td>\n",
       "      <td>IL</td>\n",
       "      <td>701 N. Sacramento</td>\n",
       "      <td>(773) 265-7605</td>\n",
       "      <td>6833043</td>\n",
       "    </tr>\n",
       "    <tr>\n",
       "      <th>1</th>\n",
       "      <td>2015-12-03</td>\n",
       "      <td>ACUR</td>\n",
       "      <td>4D</td>\n",
       "      <td>NaN</td>\n",
       "      <td>SIL</td>\n",
       "      <td>3266735</td>\n",
       "      <td>IL</td>\n",
       "      <td>701 N. Sacramento</td>\n",
       "      <td>(773) 265-7605</td>\n",
       "      <td>6833025</td>\n",
       "    </tr>\n",
       "    <tr>\n",
       "      <th>2</th>\n",
       "      <td>2015-12-03</td>\n",
       "      <td>ACUR</td>\n",
       "      <td>4D</td>\n",
       "      <td>NaN</td>\n",
       "      <td>GRY</td>\n",
       "      <td>A421860</td>\n",
       "      <td>IL</td>\n",
       "      <td>701 N. Sacramento</td>\n",
       "      <td>(773) 265-7605</td>\n",
       "      <td>6833027</td>\n",
       "    </tr>\n",
       "    <tr>\n",
       "      <th>3</th>\n",
       "      <td>2015-12-03</td>\n",
       "      <td>ACUR</td>\n",
       "      <td>4D</td>\n",
       "      <td>NaN</td>\n",
       "      <td>GRY</td>\n",
       "      <td>K511765</td>\n",
       "      <td>IL</td>\n",
       "      <td>701 N. Sacramento</td>\n",
       "      <td>(773) 265-7605</td>\n",
       "      <td>6833019</td>\n",
       "    </tr>\n",
       "    <tr>\n",
       "      <th>4</th>\n",
       "      <td>2015-12-03</td>\n",
       "      <td>ACUR</td>\n",
       "      <td>4D</td>\n",
       "      <td>NaN</td>\n",
       "      <td>BLK</td>\n",
       "      <td>4647389</td>\n",
       "      <td>IL</td>\n",
       "      <td>701 N. Sacramento</td>\n",
       "      <td>(773) 265-7605</td>\n",
       "      <td>6832991</td>\n",
       "    </tr>\n",
       "  </tbody>\n",
       "</table>\n",
       "</div>"
      ],
      "text/plain": [
       "    Tow Date  Make Style Model Color    Plate State   Towed to Address  \\\n",
       "0 2015-12-03  ACUR    4D   NaN   WHI  Y753941    IL  701 N. Sacramento   \n",
       "1 2015-12-03  ACUR    4D   NaN   SIL  3266735    IL  701 N. Sacramento   \n",
       "2 2015-12-03  ACUR    4D   NaN   GRY  A421860    IL  701 N. Sacramento   \n",
       "3 2015-12-03  ACUR    4D   NaN   GRY  K511765    IL  701 N. Sacramento   \n",
       "4 2015-12-03  ACUR    4D   NaN   BLK  4647389    IL  701 N. Sacramento   \n",
       "\n",
       "  Tow Facility Phone Inventory Number  \n",
       "0     (773) 265-7605          6833043  \n",
       "1     (773) 265-7605          6833025  \n",
       "2     (773) 265-7605          6833027  \n",
       "3     (773) 265-7605          6833019  \n",
       "4     (773) 265-7605          6832991  "
      ]
     },
     "execution_count": 91,
     "metadata": {},
     "output_type": "execute_result"
    }
   ],
   "source": [
    "import numpy as np\n",
    "import pandas as pd\n",
    "df = pd.read_csv('Data/TowedVehicles/Towed_Vehicles.csv')\n",
    "df['Tow Date']=pd.to_datetime(df['Tow Date'])\n",
    "df.head(5)"
   ]
  },
  {
   "cell_type": "code",
   "execution_count": null,
   "metadata": {},
   "outputs": [],
   "source": []
  },
  {
   "cell_type": "code",
   "execution_count": 92,
   "metadata": {},
   "outputs": [
    {
     "data": {
      "text/plain": [
       "IL    4389\n",
       "IN     109\n",
       "WI      39\n",
       "MN      21\n",
       "MI      18\n",
       "TX      16\n",
       "IA      15\n",
       "AZ      10\n",
       "FL       8\n",
       "OH       7\n",
       "Name: State, dtype: int64"
      ]
     },
     "execution_count": 92,
     "metadata": {},
     "output_type": "execute_result"
    }
   ],
   "source": [
    "df.State.value_counts().head(10)"
   ]
  },
  {
   "cell_type": "markdown",
   "metadata": {},
   "source": [
    "Because Chicago is in IL, so IL is the most of the towed vehicles registered, and the number of towed vehicles registered in IL is far more than other states'."
   ]
  },
  {
   "cell_type": "code",
   "execution_count": 93,
   "metadata": {},
   "outputs": [
    {
     "data": {
      "text/plain": [
       "<matplotlib.axes._subplots.AxesSubplot at 0x26f997f28e0>"
      ]
     },
     "execution_count": 93,
     "metadata": {},
     "output_type": "execute_result"
    },
    {
     "data": {
      "image/png": "[encoded data removed]",
      "text/plain": [
       "<Figure size 432x288 with 1 Axes>"
      ]
     },
     "metadata": {
      "needs_background": "light"
     },
     "output_type": "display_data"
    }
   ],
   "source": [
    "df.iloc[:, 0].value_counts().plot()"
   ]
  },
  {
   "cell_type": "code",
   "execution_count": 96,
   "metadata": {},
   "outputs": [
    {
     "data": {
      "text/plain": [
       "2015-12-03    167\n",
       "2015-12-02    165\n",
       "2015-11-25    131\n",
       "2015-12-01    115\n",
       "2015-11-27    112\n",
       "             ... \n",
       "2015-09-06     20\n",
       "2015-09-15     18\n",
       "2015-09-10     18\n",
       "2015-09-08     13\n",
       "2015-09-04      7\n",
       "Name: Tow Date, Length: 91, dtype: int64"
      ]
     },
     "execution_count": 96,
     "metadata": {},
     "output_type": "execute_result"
    }
   ],
   "source": [
    "df.iloc[:, 0].value_counts()"
   ]
  },
  {
   "cell_type": "markdown",
   "metadata": {},
   "source": [
    "From 2015-11-25 to 2015-12-03, the number of towed vehicles is larger than normal. Maybe because of the end of year, many people go out resulting inadequate parking space. So they parked their cars illegally. In the September 20015, number of towed vechicles is lower than normal."
   ]
  },
  {
   "cell_type": "code",
   "execution_count": 99,
   "metadata": {},
   "outputs": [
    {
     "data": {
      "text/plain": [
       "1448764B    2\n",
       "S890142     2\n",
       "L851112     2\n",
       "Y765088     2\n",
       "E437592     2\n",
       "S954418     2\n",
       "E150993     1\n",
       "E648833     1\n",
       "R488396     1\n",
       "S497977     1\n",
       "Name: Plate, dtype: int64"
      ]
     },
     "execution_count": 99,
     "metadata": {},
     "output_type": "execute_result"
    }
   ],
   "source": [
    "df.Plate.value_counts().head(10)"
   ]
  },
  {
   "cell_type": "code",
   "execution_count": null,
   "metadata": {},
   "outputs": [],
   "source": []
  },
  {
   "cell_type": "markdown",
   "metadata": {},
   "source": [
    "1448764B    \n",
    "S890142     \n",
    "L851112     \n",
    "Y765088     \n",
    "E437592     \n",
    "S954418     \n",
    "They are towed twice"
   ]
  },
  {
   "cell_type": "code",
   "execution_count": 119,
   "metadata": {},
   "outputs": [
    {
     "name": "stdout",
     "output_type": "stream",
     "text": [
      "       Tow Date  Make Style Model Color     Plate\n",
      "2859 2015-10-28  FORD    PK   NaN   WHI  1448764B\n",
      "2861 2015-10-28  FORD    PK   NaN   WHI  1448764B\n",
      "      Tow Date  Make Style Model Color    Plate\n",
      "112 2015-12-03  NISS    4D   NaN   GLD  S890142\n",
      "113 2015-12-03  NISS    4D   NaN   GLD  S890142\n",
      "       Tow Date  Make Style Model Color    Plate\n",
      "4330 2015-09-18  CHEV    4D   NaN   GLD  L851112\n",
      "4332 2015-09-18  CHEV    4D   NaN   GLD  L851112\n",
      "      Tow Date  Make Style Model Color    Plate\n",
      "441 2015-12-01  TOYT    VN   NaN   GRY  Y765088\n",
      "442 2015-12-01  TOYT    VN   NaN   GRY  Y765088\n",
      "       Tow Date  Make Style Model Color    Plate\n",
      "2760 2015-10-30  VOLV    4D   NaN   BLK  E437592\n",
      "2761 2015-10-30  VOLV    4D   NaN   BLK  E437592\n",
      "       Tow Date  Make Style Model Color    Plate\n",
      "4360 2015-09-18  NISS    4D   MAX   WHI  S954418\n",
      "4364 2015-09-18  NISS    4D   MAX   WHI  S954418\n"
     ]
    }
   ],
   "source": [
    "c = df.Plate.value_counts().head(6)\n",
    "for i in c.index:\n",
    "    print(df[df.Plate==i].iloc[:, 0:6])"
   ]
  },
  {
   "cell_type": "markdown",
   "metadata": {},
   "source": [
    "These dates are all duplicated, so a car might be impossible to be towed twice on the same day."
   ]
  },
  {
   "cell_type": "code",
   "execution_count": null,
   "metadata": {},
   "outputs": [],
   "source": []
  }
 ],
 "metadata": {
  "kernelspec": {
   "display_name": "Python 3",
   "language": "python",
   "name": "python3"
  },
  "language_info": {
   "codemirror_mode": {
    "name": "ipython",
    "version": 3
   },
   "file_extension": ".py",
   "mimetype": "text/x-python",
   "name": "python",
   "nbconvert_exporter": "python",
   "pygments_lexer": "ipython3",
   "version": "3.8.3"
  }
 },
 "nbformat": 4,
 "nbformat_minor": 4
}
