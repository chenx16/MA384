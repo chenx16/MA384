{
 "cells": [
  {
   "cell_type": "markdown",
   "metadata": {},
   "source": [
    "### Video\n",
    "a)\tAn AI winter is a period of reduced funding and interest in artificial intelligence research. There was a lot of hype around AI from the 1960s to the 1980s. It didn’t pan out 20 years ago. He does not believe it will repeat because if you bring the data science to data, you can have transformative impacts within these companies.\n",
    "\n",
    "b)\tThe data scientist and the business user sitting together on the data side has presented some results and then the business user makes some decision about what to do based on that. More and more data science right now is focused on a prediction but increasingly it’s going to be focused on actual planning and optimal decision making.\n",
    "\n",
    "c)\tYes. Because if companies want to compete with their competitors, they need a data scientist to bring in data science and build out data science practice.\n"
   ]
  },
  {
   "cell_type": "code",
   "execution_count": 2,
   "metadata": {},
   "outputs": [],
   "source": [
    "import pandas as pd\n",
    "import matplotlib.pyplot as plt\n",
    "import seaborn as sns\n",
    "%matplotlib inline"
   ]
  },
  {
   "cell_type": "code",
   "execution_count": 3,
   "metadata": {},
   "outputs": [
    {
     "data": {
      "text/html": [
       "<div>\n",
       "<style scoped>\n",
       "    .dataframe tbody tr th:only-of-type {\n",
       "        vertical-align: middle;\n",
       "    }\n",
       "\n",
       "    .dataframe tbody tr th {\n",
       "        vertical-align: top;\n",
       "    }\n",
       "\n",
       "    .dataframe thead th {\n",
       "        text-align: right;\n",
       "    }\n",
       "</style>\n",
       "<table border=\"1\" class=\"dataframe\">\n",
       "  <thead>\n",
       "    <tr style=\"text-align: right;\">\n",
       "      <th></th>\n",
       "      <th>ID</th>\n",
       "      <th>Case Number</th>\n",
       "      <th>Date</th>\n",
       "      <th>Block</th>\n",
       "      <th>IUCR</th>\n",
       "      <th>Primary Type</th>\n",
       "      <th>Description</th>\n",
       "      <th>Location Description</th>\n",
       "      <th>Arrest</th>\n",
       "      <th>Domestic</th>\n",
       "      <th>...</th>\n",
       "      <th>Ward</th>\n",
       "      <th>Community Area</th>\n",
       "      <th>FBI Code</th>\n",
       "      <th>X Coordinate</th>\n",
       "      <th>Y Coordinate</th>\n",
       "      <th>Year</th>\n",
       "      <th>Updated On</th>\n",
       "      <th>Latitude</th>\n",
       "      <th>Longitude</th>\n",
       "      <th>Location</th>\n",
       "    </tr>\n",
       "  </thead>\n",
       "  <tbody>\n",
       "    <tr>\n",
       "      <th>0</th>\n",
       "      <td>4647369</td>\n",
       "      <td>HM155213</td>\n",
       "      <td>01/31/2006 12:13:05 PM</td>\n",
       "      <td>066XX N BOSWORTH AVE</td>\n",
       "      <td>1811</td>\n",
       "      <td>NARCOTICS</td>\n",
       "      <td>POSS: CANNABIS 30GMS OR LESS</td>\n",
       "      <td>SCHOOL, PUBLIC, BUILDING</td>\n",
       "      <td>True</td>\n",
       "      <td>False</td>\n",
       "      <td>...</td>\n",
       "      <td>40.0</td>\n",
       "      <td>1.0</td>\n",
       "      <td>18</td>\n",
       "      <td>1164737.0</td>\n",
       "      <td>1944193.0</td>\n",
       "      <td>2006</td>\n",
       "      <td>04/15/2016 08:55:02 AM</td>\n",
       "      <td>42.002478</td>\n",
       "      <td>-87.669297</td>\n",
       "      <td>(42.002478396, -87.66929687)</td>\n",
       "    </tr>\n",
       "    <tr>\n",
       "      <th>1</th>\n",
       "      <td>4647370</td>\n",
       "      <td>HM245080</td>\n",
       "      <td>03/21/2006 07:00:00 PM</td>\n",
       "      <td>062XX S WESTERN AVE</td>\n",
       "      <td>1330</td>\n",
       "      <td>CRIMINAL TRESPASS</td>\n",
       "      <td>TO LAND</td>\n",
       "      <td>PARKING LOT/GARAGE(NON.RESID.)</td>\n",
       "      <td>True</td>\n",
       "      <td>False</td>\n",
       "      <td>...</td>\n",
       "      <td>15.0</td>\n",
       "      <td>66.0</td>\n",
       "      <td>26</td>\n",
       "      <td>1161441.0</td>\n",
       "      <td>1863309.0</td>\n",
       "      <td>2006</td>\n",
       "      <td>04/15/2016 08:55:02 AM</td>\n",
       "      <td>41.780595</td>\n",
       "      <td>-87.683676</td>\n",
       "      <td>(41.780595495, -87.68367553)</td>\n",
       "    </tr>\n",
       "    <tr>\n",
       "      <th>2</th>\n",
       "      <td>4647372</td>\n",
       "      <td>HM171175</td>\n",
       "      <td>02/09/2006 01:44:41 AM</td>\n",
       "      <td>058XX S SHIELDS AVE</td>\n",
       "      <td>1811</td>\n",
       "      <td>NARCOTICS</td>\n",
       "      <td>POSS: CANNABIS 30GMS OR LESS</td>\n",
       "      <td>STREET</td>\n",
       "      <td>True</td>\n",
       "      <td>False</td>\n",
       "      <td>...</td>\n",
       "      <td>20.0</td>\n",
       "      <td>68.0</td>\n",
       "      <td>18</td>\n",
       "      <td>1174958.0</td>\n",
       "      <td>1866097.0</td>\n",
       "      <td>2006</td>\n",
       "      <td>04/15/2016 08:55:02 AM</td>\n",
       "      <td>41.787955</td>\n",
       "      <td>-87.634037</td>\n",
       "      <td>(41.787955143, -87.634036744)</td>\n",
       "    </tr>\n",
       "  </tbody>\n",
       "</table>\n",
       "<p>3 rows × 22 columns</p>\n",
       "</div>"
      ],
      "text/plain": [
       "        ID Case Number                    Date                 Block  IUCR  \\\n",
       "0  4647369    HM155213  01/31/2006 12:13:05 PM  066XX N BOSWORTH AVE  1811   \n",
       "1  4647370    HM245080  03/21/2006 07:00:00 PM   062XX S WESTERN AVE  1330   \n",
       "2  4647372    HM171175  02/09/2006 01:44:41 AM   058XX S SHIELDS AVE  1811   \n",
       "\n",
       "        Primary Type                   Description  \\\n",
       "0          NARCOTICS  POSS: CANNABIS 30GMS OR LESS   \n",
       "1  CRIMINAL TRESPASS                       TO LAND   \n",
       "2          NARCOTICS  POSS: CANNABIS 30GMS OR LESS   \n",
       "\n",
       "             Location Description  Arrest  Domestic  ...  Ward  \\\n",
       "0        SCHOOL, PUBLIC, BUILDING    True     False  ...  40.0   \n",
       "1  PARKING LOT/GARAGE(NON.RESID.)    True     False  ...  15.0   \n",
       "2                          STREET    True     False  ...  20.0   \n",
       "\n",
       "   Community Area  FBI Code  X Coordinate Y Coordinate  Year  \\\n",
       "0             1.0        18     1164737.0    1944193.0  2006   \n",
       "1            66.0        26     1161441.0    1863309.0  2006   \n",
       "2            68.0        18     1174958.0    1866097.0  2006   \n",
       "\n",
       "               Updated On   Latitude  Longitude                       Location  \n",
       "0  04/15/2016 08:55:02 AM  42.002478 -87.669297   (42.002478396, -87.66929687)  \n",
       "1  04/15/2016 08:55:02 AM  41.780595 -87.683676   (41.780595495, -87.68367553)  \n",
       "2  04/15/2016 08:55:02 AM  41.787955 -87.634037  (41.787955143, -87.634036744)  \n",
       "\n",
       "[3 rows x 22 columns]"
      ]
     },
     "execution_count": 3,
     "metadata": {},
     "output_type": "execute_result"
    }
   ],
   "source": [
    "df = pd.read_csv('C:/Users/chenx16/Desktop/MA384/Data/ChicagoCrime/ChicagoCrime2017-12-08.csv')\n",
    "df.head(3)"
   ]
  },
  {
   "cell_type": "code",
   "execution_count": 4,
   "metadata": {},
   "outputs": [
    {
     "data": {
      "text/plain": [
       "(6491260, 22)"
      ]
     },
     "execution_count": 4,
     "metadata": {},
     "output_type": "execute_result"
    }
   ],
   "source": [
    "#a\n",
    "df.shape\n",
    "#(records, attributes)"
   ]
  },
  {
   "cell_type": "code",
   "execution_count": 5,
   "metadata": {},
   "outputs": [
    {
     "data": {
      "text/plain": [
       "0.10725359945526755"
      ]
     },
     "execution_count": 5,
     "metadata": {},
     "output_type": "execute_result"
    }
   ],
   "source": [
    "#b\n",
    "(df.shape[0]- df.dropna().shape[0])/df.shape[0]"
   ]
  },
  {
   "cell_type": "code",
   "execution_count": 6,
   "metadata": {},
   "outputs": [
    {
     "name": "stdout",
     "output_type": "stream",
     "text": [
      "<class 'pandas.core.frame.DataFrame'>\n",
      "RangeIndex: 6491260 entries, 0 to 6491259\n",
      "Data columns (total 22 columns):\n",
      " #   Column                Dtype  \n",
      "---  ------                -----  \n",
      " 0   ID                    int64  \n",
      " 1   Case Number           object \n",
      " 2   Date                  object \n",
      " 3   Block                 object \n",
      " 4   IUCR                  object \n",
      " 5   Primary Type          object \n",
      " 6   Description           object \n",
      " 7   Location Description  object \n",
      " 8   Arrest                bool   \n",
      " 9   Domestic              bool   \n",
      " 10  Beat                  int64  \n",
      " 11  District              float64\n",
      " 12  Ward                  float64\n",
      " 13  Community Area        float64\n",
      " 14  FBI Code              object \n",
      " 15  X Coordinate          float64\n",
      " 16  Y Coordinate          float64\n",
      " 17  Year                  int64  \n",
      " 18  Updated On            object \n",
      " 19  Latitude              float64\n",
      " 20  Longitude             float64\n",
      " 21  Location              object \n",
      "dtypes: bool(2), float64(7), int64(3), object(10)\n",
      "memory usage: 1002.9+ MB\n"
     ]
    }
   ],
   "source": [
    "#c\n",
    "df.info()"
   ]
  },
  {
   "cell_type": "code",
   "execution_count": 7,
   "metadata": {},
   "outputs": [
    {
     "name": "stdout",
     "output_type": "stream",
     "text": [
      "0 ID\n",
      "1 Case Number\n",
      "2 Date\n",
      "3 Block\n",
      "4 IUCR\n",
      "5 Primary Type\n",
      "6 Description\n",
      "7 Location Description\n",
      "8 Arrest\n",
      "9 Domestic\n",
      "10 Beat\n",
      "11 District\n",
      "12 Ward\n",
      "13 Community Area\n",
      "14 FBI Code\n",
      "15 X Coordinate\n",
      "16 Y Coordinate\n",
      "17 Year\n",
      "18 Updated On\n",
      "19 Latitude\n",
      "20 Longitude\n",
      "21 Location\n"
     ]
    }
   ],
   "source": [
    "for i,col in enumerate(df.columns):\n",
    "    print(i,col)"
   ]
  },
  {
   "cell_type": "code",
   "execution_count": 8,
   "metadata": {},
   "outputs": [
    {
     "name": "stdout",
     "output_type": "stream",
     "text": [
      "3 Block\n",
      "4 IUCR\n",
      "5 Primary Type\n",
      "6 Description\n",
      "7 Location Description\n",
      "10 Beat\n",
      "11 District\n",
      "12 Ward\n",
      "13 Community Area\n",
      "14 FBI Code\n",
      "17 Year\n",
      "21 Location\n"
     ]
    }
   ],
   "source": [
    "for i in [3,4,5,6,7,10,11,12,13,14,17,21]:\n",
    "    col = df.columns[i]\n",
    "    print(i,col)\n",
    "    df[col] = df[col].astype('category')"
   ]
  },
  {
   "cell_type": "code",
   "execution_count": 9,
   "metadata": {},
   "outputs": [
    {
     "name": "stdout",
     "output_type": "stream",
     "text": [
      "<class 'pandas.core.frame.DataFrame'>\n",
      "RangeIndex: 6491260 entries, 0 to 6491259\n",
      "Data columns (total 22 columns):\n",
      " #   Column                Dtype   \n",
      "---  ------                -----   \n",
      " 0   ID                    int64   \n",
      " 1   Case Number           object  \n",
      " 2   Date                  object  \n",
      " 3   Block                 category\n",
      " 4   IUCR                  category\n",
      " 5   Primary Type          category\n",
      " 6   Description           category\n",
      " 7   Location Description  category\n",
      " 8   Arrest                bool    \n",
      " 9   Domestic              bool    \n",
      " 10  Beat                  category\n",
      " 11  District              category\n",
      " 12  Ward                  category\n",
      " 13  Community Area        category\n",
      " 14  FBI Code              category\n",
      " 15  X Coordinate          float64 \n",
      " 16  Y Coordinate          float64 \n",
      " 17  Year                  category\n",
      " 18  Updated On            object  \n",
      " 19  Latitude              float64 \n",
      " 20  Longitude             float64 \n",
      " 21  Location              category\n",
      "dtypes: bool(2), category(12), float64(4), int64(1), object(3)\n",
      "memory usage: 594.3+ MB\n"
     ]
    }
   ],
   "source": [
    "df.info()"
   ]
  },
  {
   "cell_type": "code",
   "execution_count": 10,
   "metadata": {},
   "outputs": [
    {
     "data": {
      "text/plain": [
       "0.4074184863894706"
      ]
     },
     "execution_count": 10,
     "metadata": {},
     "output_type": "execute_result"
    }
   ],
   "source": [
    "(1002.9 - 594.3)/1002.9"
   ]
  },
  {
   "cell_type": "code",
   "execution_count": 13,
   "metadata": {},
   "outputs": [],
   "source": [
    "df.to_hdf('C:/Users/chenx16/Desktop/MA384/Data/ChicagoCrime/ChicagoCrime2017-12-08.h5','df',mode='w',format='table',complevel=9)"
   ]
  },
  {
   "cell_type": "code",
   "execution_count": 39,
   "metadata": {},
   "outputs": [
    {
     "data": {
      "text/plain": [
       "83.06"
      ]
     },
     "execution_count": 39,
     "metadata": {},
     "output_type": "execute_result"
    }
   ],
   "source": [
    "(100*(1.5 - 0.2541)/1.5)"
   ]
  },
  {
   "cell_type": "code",
   "execution_count": 40,
   "metadata": {},
   "outputs": [
    {
     "data": {
      "text/plain": [
       "Year\n",
       "2001    485736\n",
       "2002    486744\n",
       "2003    475921\n",
       "2004    469362\n",
       "2005    453687\n",
       "Name: ID, dtype: int64"
      ]
     },
     "execution_count": 40,
     "metadata": {},
     "output_type": "execute_result"
    }
   ],
   "source": [
    "#f\n",
    "df1 = df.groupby('Year')['ID'].count()\n",
    "df1.head()"
   ]
  },
  {
   "cell_type": "code",
   "execution_count": 41,
   "metadata": {},
   "outputs": [
    {
     "data": {
      "text/plain": [
       "Text(0.5, 1.0, 'Police Crime Reports in Chicago')"
      ]
     },
     "execution_count": 41,
     "metadata": {},
     "output_type": "execute_result"
    },
    {
     "data": {
      "image/png": "[encoded data removed]",
      "text/plain": [
       "<Figure size 432x288 with 1 Axes>"
      ]
     },
     "metadata": {
      "needs_background": "light"
     },
     "output_type": "display_data"
    }
   ],
   "source": [
    "df1.plot.bar(color='b')\n",
    "plt.title('Police Crime Reports in Chicago')"
   ]
  },
  {
   "cell_type": "code",
   "execution_count": 42,
   "metadata": {},
   "outputs": [
    {
     "data": {
      "text/plain": [
       "26"
      ]
     },
     "execution_count": 42,
     "metadata": {},
     "output_type": "execute_result"
    }
   ],
   "source": [
    "#g\n",
    "df['FBI Code'].unique().shape[0]"
   ]
  },
  {
   "cell_type": "code",
   "execution_count": 43,
   "metadata": {},
   "outputs": [
    {
     "data": {
      "text/html": [
       "<div>\n",
       "<style scoped>\n",
       "    .dataframe tbody tr th:only-of-type {\n",
       "        vertical-align: middle;\n",
       "    }\n",
       "\n",
       "    .dataframe tbody tr th {\n",
       "        vertical-align: top;\n",
       "    }\n",
       "\n",
       "    .dataframe thead th {\n",
       "        text-align: right;\n",
       "    }\n",
       "</style>\n",
       "<table border=\"1\" class=\"dataframe\">\n",
       "  <thead>\n",
       "    <tr style=\"text-align: right;\">\n",
       "      <th>FBI Code</th>\n",
       "      <th>01A</th>\n",
       "      <th>01B</th>\n",
       "      <th>02</th>\n",
       "      <th>03</th>\n",
       "      <th>04A</th>\n",
       "      <th>04B</th>\n",
       "      <th>05</th>\n",
       "      <th>06</th>\n",
       "      <th>07</th>\n",
       "      <th>08A</th>\n",
       "      <th>...</th>\n",
       "      <th>14</th>\n",
       "      <th>15</th>\n",
       "      <th>16</th>\n",
       "      <th>17</th>\n",
       "      <th>18</th>\n",
       "      <th>19</th>\n",
       "      <th>20</th>\n",
       "      <th>22</th>\n",
       "      <th>24</th>\n",
       "      <th>26</th>\n",
       "    </tr>\n",
       "    <tr>\n",
       "      <th>Primary Type</th>\n",
       "      <th></th>\n",
       "      <th></th>\n",
       "      <th></th>\n",
       "      <th></th>\n",
       "      <th></th>\n",
       "      <th></th>\n",
       "      <th></th>\n",
       "      <th></th>\n",
       "      <th></th>\n",
       "      <th></th>\n",
       "      <th></th>\n",
       "      <th></th>\n",
       "      <th></th>\n",
       "      <th></th>\n",
       "      <th></th>\n",
       "      <th></th>\n",
       "      <th></th>\n",
       "      <th></th>\n",
       "      <th></th>\n",
       "      <th></th>\n",
       "      <th></th>\n",
       "    </tr>\n",
       "  </thead>\n",
       "  <tbody>\n",
       "    <tr>\n",
       "      <th>ARSON</th>\n",
       "      <td>0</td>\n",
       "      <td>0</td>\n",
       "      <td>0</td>\n",
       "      <td>0</td>\n",
       "      <td>0</td>\n",
       "      <td>0</td>\n",
       "      <td>0</td>\n",
       "      <td>0</td>\n",
       "      <td>0</td>\n",
       "      <td>0</td>\n",
       "      <td>...</td>\n",
       "      <td>0</td>\n",
       "      <td>0</td>\n",
       "      <td>0</td>\n",
       "      <td>0</td>\n",
       "      <td>0</td>\n",
       "      <td>0</td>\n",
       "      <td>0</td>\n",
       "      <td>0</td>\n",
       "      <td>0</td>\n",
       "      <td>113</td>\n",
       "    </tr>\n",
       "    <tr>\n",
       "      <th>ASSAULT</th>\n",
       "      <td>0</td>\n",
       "      <td>0</td>\n",
       "      <td>0</td>\n",
       "      <td>0</td>\n",
       "      <td>101715</td>\n",
       "      <td>0</td>\n",
       "      <td>0</td>\n",
       "      <td>0</td>\n",
       "      <td>0</td>\n",
       "      <td>297526</td>\n",
       "      <td>...</td>\n",
       "      <td>0</td>\n",
       "      <td>0</td>\n",
       "      <td>0</td>\n",
       "      <td>0</td>\n",
       "      <td>0</td>\n",
       "      <td>0</td>\n",
       "      <td>0</td>\n",
       "      <td>0</td>\n",
       "      <td>0</td>\n",
       "      <td>0</td>\n",
       "    </tr>\n",
       "    <tr>\n",
       "      <th>BATTERY</th>\n",
       "      <td>0</td>\n",
       "      <td>0</td>\n",
       "      <td>0</td>\n",
       "      <td>0</td>\n",
       "      <td>0</td>\n",
       "      <td>171501</td>\n",
       "      <td>0</td>\n",
       "      <td>0</td>\n",
       "      <td>0</td>\n",
       "      <td>0</td>\n",
       "      <td>...</td>\n",
       "      <td>0</td>\n",
       "      <td>0</td>\n",
       "      <td>0</td>\n",
       "      <td>0</td>\n",
       "      <td>0</td>\n",
       "      <td>0</td>\n",
       "      <td>0</td>\n",
       "      <td>0</td>\n",
       "      <td>0</td>\n",
       "      <td>0</td>\n",
       "    </tr>\n",
       "    <tr>\n",
       "      <th>BURGLARY</th>\n",
       "      <td>0</td>\n",
       "      <td>0</td>\n",
       "      <td>0</td>\n",
       "      <td>0</td>\n",
       "      <td>0</td>\n",
       "      <td>0</td>\n",
       "      <td>376773</td>\n",
       "      <td>0</td>\n",
       "      <td>0</td>\n",
       "      <td>0</td>\n",
       "      <td>...</td>\n",
       "      <td>0</td>\n",
       "      <td>0</td>\n",
       "      <td>0</td>\n",
       "      <td>0</td>\n",
       "      <td>0</td>\n",
       "      <td>0</td>\n",
       "      <td>0</td>\n",
       "      <td>0</td>\n",
       "      <td>0</td>\n",
       "      <td>0</td>\n",
       "    </tr>\n",
       "    <tr>\n",
       "      <th>CONCEALED CARRY LICENSE VIOLATION</th>\n",
       "      <td>0</td>\n",
       "      <td>0</td>\n",
       "      <td>0</td>\n",
       "      <td>0</td>\n",
       "      <td>0</td>\n",
       "      <td>0</td>\n",
       "      <td>0</td>\n",
       "      <td>0</td>\n",
       "      <td>0</td>\n",
       "      <td>0</td>\n",
       "      <td>...</td>\n",
       "      <td>0</td>\n",
       "      <td>148</td>\n",
       "      <td>0</td>\n",
       "      <td>0</td>\n",
       "      <td>0</td>\n",
       "      <td>0</td>\n",
       "      <td>0</td>\n",
       "      <td>0</td>\n",
       "      <td>0</td>\n",
       "      <td>0</td>\n",
       "    </tr>\n",
       "  </tbody>\n",
       "</table>\n",
       "<p>5 rows × 26 columns</p>\n",
       "</div>"
      ],
      "text/plain": [
       "FBI Code                           01A  01B  02  03     04A     04B      05  \\\n",
       "Primary Type                                                                  \n",
       "ARSON                                0    0   0   0       0       0       0   \n",
       "ASSAULT                              0    0   0   0  101715       0       0   \n",
       "BATTERY                              0    0   0   0       0  171501       0   \n",
       "BURGLARY                             0    0   0   0       0       0  376773   \n",
       "CONCEALED CARRY LICENSE VIOLATION    0    0   0   0       0       0       0   \n",
       "\n",
       "FBI Code                           06  07     08A  ...  14   15  16  17  18  \\\n",
       "Primary Type                                       ...                        \n",
       "ARSON                               0   0       0  ...   0    0   0   0   0   \n",
       "ASSAULT                             0   0  297526  ...   0    0   0   0   0   \n",
       "BATTERY                             0   0       0  ...   0    0   0   0   0   \n",
       "BURGLARY                            0   0       0  ...   0    0   0   0   0   \n",
       "CONCEALED CARRY LICENSE VIOLATION   0   0       0  ...   0  148   0   0   0   \n",
       "\n",
       "FBI Code                           19  20  22  24   26  \n",
       "Primary Type                                            \n",
       "ARSON                               0   0   0   0  113  \n",
       "ASSAULT                             0   0   0   0    0  \n",
       "BATTERY                             0   0   0   0    0  \n",
       "BURGLARY                            0   0   0   0    0  \n",
       "CONCEALED CARRY LICENSE VIOLATION   0   0   0   0    0  \n",
       "\n",
       "[5 rows x 26 columns]"
      ]
     },
     "execution_count": 43,
     "metadata": {},
     "output_type": "execute_result"
    }
   ],
   "source": [
    "fbi = pd.crosstab(df['Primary Type'],df['FBI Code'])\n",
    "fbi.head()"
   ]
  },
  {
   "cell_type": "code",
   "execution_count": 44,
   "metadata": {},
   "outputs": [
    {
     "data": {
      "text/plain": [
       "FBI Code\n",
       "01A               HOMICIDE\n",
       "01B               HOMICIDE\n",
       "02     CRIM SEXUAL ASSAULT\n",
       "03                 ROBBERY\n",
       "04A                ASSAULT\n",
       "dtype: object"
      ]
     },
     "execution_count": 44,
     "metadata": {},
     "output_type": "execute_result"
    }
   ],
   "source": [
    "fbi.idxmax().head()"
   ]
  },
  {
   "cell_type": "code",
   "execution_count": 45,
   "metadata": {},
   "outputs": [
    {
     "data": {
      "text/plain": [
       "'ROBBERY'"
      ]
     },
     "execution_count": 45,
     "metadata": {},
     "output_type": "execute_result"
    }
   ],
   "source": [
    "fbi.idxmax()['03']"
   ]
  },
  {
   "cell_type": "code",
   "execution_count": 46,
   "metadata": {},
   "outputs": [
    {
     "data": {
      "text/html": [
       "<div>\n",
       "<style scoped>\n",
       "    .dataframe tbody tr th:only-of-type {\n",
       "        vertical-align: middle;\n",
       "    }\n",
       "\n",
       "    .dataframe tbody tr th {\n",
       "        vertical-align: top;\n",
       "    }\n",
       "\n",
       "    .dataframe thead th {\n",
       "        text-align: right;\n",
       "    }\n",
       "</style>\n",
       "<table border=\"1\" class=\"dataframe\">\n",
       "  <thead>\n",
       "    <tr style=\"text-align: right;\">\n",
       "      <th>Year</th>\n",
       "      <th>2001</th>\n",
       "      <th>2002</th>\n",
       "      <th>2003</th>\n",
       "      <th>2004</th>\n",
       "      <th>2005</th>\n",
       "      <th>2006</th>\n",
       "      <th>2007</th>\n",
       "      <th>2008</th>\n",
       "      <th>2009</th>\n",
       "      <th>2010</th>\n",
       "      <th>2011</th>\n",
       "      <th>2012</th>\n",
       "      <th>2013</th>\n",
       "      <th>2014</th>\n",
       "      <th>2015</th>\n",
       "      <th>2016</th>\n",
       "      <th>2017</th>\n",
       "    </tr>\n",
       "    <tr>\n",
       "      <th>FBI Code</th>\n",
       "      <th></th>\n",
       "      <th></th>\n",
       "      <th></th>\n",
       "      <th></th>\n",
       "      <th></th>\n",
       "      <th></th>\n",
       "      <th></th>\n",
       "      <th></th>\n",
       "      <th></th>\n",
       "      <th></th>\n",
       "      <th></th>\n",
       "      <th></th>\n",
       "      <th></th>\n",
       "      <th></th>\n",
       "      <th></th>\n",
       "      <th></th>\n",
       "      <th></th>\n",
       "    </tr>\n",
       "  </thead>\n",
       "  <tbody>\n",
       "    <tr>\n",
       "      <th>01A</th>\n",
       "      <td>667</td>\n",
       "      <td>656</td>\n",
       "      <td>601</td>\n",
       "      <td>453</td>\n",
       "      <td>451</td>\n",
       "      <td>471</td>\n",
       "      <td>448</td>\n",
       "      <td>513</td>\n",
       "      <td>460</td>\n",
       "      <td>438</td>\n",
       "      <td>436</td>\n",
       "      <td>504</td>\n",
       "      <td>421</td>\n",
       "      <td>424</td>\n",
       "      <td>493</td>\n",
       "      <td>777</td>\n",
       "      <td>621</td>\n",
       "    </tr>\n",
       "    <tr>\n",
       "      <th>01B</th>\n",
       "      <td>0</td>\n",
       "      <td>1</td>\n",
       "      <td>3</td>\n",
       "      <td>1</td>\n",
       "      <td>2</td>\n",
       "      <td>6</td>\n",
       "      <td>0</td>\n",
       "      <td>0</td>\n",
       "      <td>0</td>\n",
       "      <td>0</td>\n",
       "      <td>1</td>\n",
       "      <td>1</td>\n",
       "      <td>1</td>\n",
       "      <td>2</td>\n",
       "      <td>6</td>\n",
       "      <td>3</td>\n",
       "      <td>1</td>\n",
       "    </tr>\n",
       "    <tr>\n",
       "      <th>02</th>\n",
       "      <td>2154</td>\n",
       "      <td>2194</td>\n",
       "      <td>1967</td>\n",
       "      <td>1915</td>\n",
       "      <td>1878</td>\n",
       "      <td>1762</td>\n",
       "      <td>1830</td>\n",
       "      <td>1729</td>\n",
       "      <td>1607</td>\n",
       "      <td>1538</td>\n",
       "      <td>1631</td>\n",
       "      <td>1555</td>\n",
       "      <td>1395</td>\n",
       "      <td>1456</td>\n",
       "      <td>1510</td>\n",
       "      <td>1635</td>\n",
       "      <td>1571</td>\n",
       "    </tr>\n",
       "    <tr>\n",
       "      <th>03</th>\n",
       "      <td>18441</td>\n",
       "      <td>18522</td>\n",
       "      <td>17332</td>\n",
       "      <td>15978</td>\n",
       "      <td>16047</td>\n",
       "      <td>15968</td>\n",
       "      <td>15450</td>\n",
       "      <td>16703</td>\n",
       "      <td>15980</td>\n",
       "      <td>14273</td>\n",
       "      <td>13982</td>\n",
       "      <td>13485</td>\n",
       "      <td>11820</td>\n",
       "      <td>9799</td>\n",
       "      <td>9638</td>\n",
       "      <td>11960</td>\n",
       "      <td>10818</td>\n",
       "    </tr>\n",
       "    <tr>\n",
       "      <th>04A</th>\n",
       "      <td>7871</td>\n",
       "      <td>7721</td>\n",
       "      <td>7372</td>\n",
       "      <td>7331</td>\n",
       "      <td>6753</td>\n",
       "      <td>6597</td>\n",
       "      <td>6335</td>\n",
       "      <td>6250</td>\n",
       "      <td>6000</td>\n",
       "      <td>5277</td>\n",
       "      <td>5157</td>\n",
       "      <td>4873</td>\n",
       "      <td>4268</td>\n",
       "      <td>4337</td>\n",
       "      <td>4479</td>\n",
       "      <td>5709</td>\n",
       "      <td>5385</td>\n",
       "    </tr>\n",
       "  </tbody>\n",
       "</table>\n",
       "</div>"
      ],
      "text/plain": [
       "Year       2001   2002   2003   2004   2005   2006   2007   2008   2009  \\\n",
       "FBI Code                                                                  \n",
       "01A         667    656    601    453    451    471    448    513    460   \n",
       "01B           0      1      3      1      2      6      0      0      0   \n",
       "02         2154   2194   1967   1915   1878   1762   1830   1729   1607   \n",
       "03        18441  18522  17332  15978  16047  15968  15450  16703  15980   \n",
       "04A        7871   7721   7372   7331   6753   6597   6335   6250   6000   \n",
       "\n",
       "Year       2010   2011   2012   2013  2014  2015   2016   2017  \n",
       "FBI Code                                                        \n",
       "01A         438    436    504    421   424   493    777    621  \n",
       "01B           0      1      1      1     2     6      3      1  \n",
       "02         1538   1631   1555   1395  1456  1510   1635   1571  \n",
       "03        14273  13982  13485  11820  9799  9638  11960  10818  \n",
       "04A        5277   5157   4873   4268  4337  4479   5709   5385  "
      ]
     },
     "execution_count": 46,
     "metadata": {},
     "output_type": "execute_result"
    }
   ],
   "source": [
    "#h\n",
    "\n",
    "h = pd.crosstab(df['FBI Code'],df['Year'])\n",
    "h.head()"
   ]
  },
  {
   "cell_type": "code",
   "execution_count": 47,
   "metadata": {},
   "outputs": [
    {
     "data": {
      "text/html": [
       "<div>\n",
       "<style scoped>\n",
       "    .dataframe tbody tr th:only-of-type {\n",
       "        vertical-align: middle;\n",
       "    }\n",
       "\n",
       "    .dataframe tbody tr th {\n",
       "        vertical-align: top;\n",
       "    }\n",
       "\n",
       "    .dataframe thead th {\n",
       "        text-align: right;\n",
       "    }\n",
       "</style>\n",
       "<table border=\"1\" class=\"dataframe\">\n",
       "  <thead>\n",
       "    <tr style=\"text-align: right;\">\n",
       "      <th>Year</th>\n",
       "      <th>2001</th>\n",
       "      <th>2002</th>\n",
       "      <th>2003</th>\n",
       "      <th>2004</th>\n",
       "      <th>2005</th>\n",
       "      <th>2006</th>\n",
       "      <th>2007</th>\n",
       "      <th>2008</th>\n",
       "      <th>2009</th>\n",
       "      <th>2010</th>\n",
       "      <th>2011</th>\n",
       "      <th>2012</th>\n",
       "      <th>2013</th>\n",
       "      <th>2014</th>\n",
       "      <th>2015</th>\n",
       "      <th>2016</th>\n",
       "      <th>2017</th>\n",
       "    </tr>\n",
       "  </thead>\n",
       "  <tbody>\n",
       "    <tr>\n",
       "      <th>HOMICIDE</th>\n",
       "      <td>667</td>\n",
       "      <td>656</td>\n",
       "      <td>601</td>\n",
       "      <td>453</td>\n",
       "      <td>451</td>\n",
       "      <td>471</td>\n",
       "      <td>448</td>\n",
       "      <td>513</td>\n",
       "      <td>460</td>\n",
       "      <td>438</td>\n",
       "      <td>436</td>\n",
       "      <td>504</td>\n",
       "      <td>421</td>\n",
       "      <td>424</td>\n",
       "      <td>493</td>\n",
       "      <td>777</td>\n",
       "      <td>621</td>\n",
       "    </tr>\n",
       "    <tr>\n",
       "      <th>HOMICIDE</th>\n",
       "      <td>0</td>\n",
       "      <td>1</td>\n",
       "      <td>3</td>\n",
       "      <td>1</td>\n",
       "      <td>2</td>\n",
       "      <td>6</td>\n",
       "      <td>0</td>\n",
       "      <td>0</td>\n",
       "      <td>0</td>\n",
       "      <td>0</td>\n",
       "      <td>1</td>\n",
       "      <td>1</td>\n",
       "      <td>1</td>\n",
       "      <td>2</td>\n",
       "      <td>6</td>\n",
       "      <td>3</td>\n",
       "      <td>1</td>\n",
       "    </tr>\n",
       "    <tr>\n",
       "      <th>CRIM SEXUAL ASSAULT</th>\n",
       "      <td>2154</td>\n",
       "      <td>2194</td>\n",
       "      <td>1967</td>\n",
       "      <td>1915</td>\n",
       "      <td>1878</td>\n",
       "      <td>1762</td>\n",
       "      <td>1830</td>\n",
       "      <td>1729</td>\n",
       "      <td>1607</td>\n",
       "      <td>1538</td>\n",
       "      <td>1631</td>\n",
       "      <td>1555</td>\n",
       "      <td>1395</td>\n",
       "      <td>1456</td>\n",
       "      <td>1510</td>\n",
       "      <td>1635</td>\n",
       "      <td>1571</td>\n",
       "    </tr>\n",
       "    <tr>\n",
       "      <th>ROBBERY</th>\n",
       "      <td>18441</td>\n",
       "      <td>18522</td>\n",
       "      <td>17332</td>\n",
       "      <td>15978</td>\n",
       "      <td>16047</td>\n",
       "      <td>15968</td>\n",
       "      <td>15450</td>\n",
       "      <td>16703</td>\n",
       "      <td>15980</td>\n",
       "      <td>14273</td>\n",
       "      <td>13982</td>\n",
       "      <td>13485</td>\n",
       "      <td>11820</td>\n",
       "      <td>9799</td>\n",
       "      <td>9638</td>\n",
       "      <td>11960</td>\n",
       "      <td>10818</td>\n",
       "    </tr>\n",
       "    <tr>\n",
       "      <th>ASSAULT</th>\n",
       "      <td>7871</td>\n",
       "      <td>7721</td>\n",
       "      <td>7372</td>\n",
       "      <td>7331</td>\n",
       "      <td>6753</td>\n",
       "      <td>6597</td>\n",
       "      <td>6335</td>\n",
       "      <td>6250</td>\n",
       "      <td>6000</td>\n",
       "      <td>5277</td>\n",
       "      <td>5157</td>\n",
       "      <td>4873</td>\n",
       "      <td>4268</td>\n",
       "      <td>4337</td>\n",
       "      <td>4479</td>\n",
       "      <td>5709</td>\n",
       "      <td>5385</td>\n",
       "    </tr>\n",
       "  </tbody>\n",
       "</table>\n",
       "</div>"
      ],
      "text/plain": [
       "Year                  2001   2002   2003   2004   2005   2006   2007   2008  \\\n",
       "HOMICIDE               667    656    601    453    451    471    448    513   \n",
       "HOMICIDE                 0      1      3      1      2      6      0      0   \n",
       "CRIM SEXUAL ASSAULT   2154   2194   1967   1915   1878   1762   1830   1729   \n",
       "ROBBERY              18441  18522  17332  15978  16047  15968  15450  16703   \n",
       "ASSAULT               7871   7721   7372   7331   6753   6597   6335   6250   \n",
       "\n",
       "Year                  2009   2010   2011   2012   2013  2014  2015   2016  \\\n",
       "HOMICIDE               460    438    436    504    421   424   493    777   \n",
       "HOMICIDE                 0      0      1      1      1     2     6      3   \n",
       "CRIM SEXUAL ASSAULT   1607   1538   1631   1555   1395  1456  1510   1635   \n",
       "ROBBERY              15980  14273  13982  13485  11820  9799  9638  11960   \n",
       "ASSAULT               6000   5277   5157   4873   4268  4337  4479   5709   \n",
       "\n",
       "Year                  2017  \n",
       "HOMICIDE               621  \n",
       "HOMICIDE                 1  \n",
       "CRIM SEXUAL ASSAULT   1571  \n",
       "ROBBERY              10818  \n",
       "ASSAULT               5385  "
      ]
     },
     "execution_count": 47,
     "metadata": {},
     "output_type": "execute_result"
    }
   ],
   "source": [
    "h.index = fbi.idxmax().values\n",
    "h.head()"
   ]
  },
  {
   "cell_type": "code",
   "execution_count": 48,
   "metadata": {},
   "outputs": [
    {
     "data": {
      "text/html": [
       "<div>\n",
       "<style scoped>\n",
       "    .dataframe tbody tr th:only-of-type {\n",
       "        vertical-align: middle;\n",
       "    }\n",
       "\n",
       "    .dataframe tbody tr th {\n",
       "        vertical-align: top;\n",
       "    }\n",
       "\n",
       "    .dataframe thead th {\n",
       "        text-align: right;\n",
       "    }\n",
       "</style>\n",
       "<table border=\"1\" class=\"dataframe\">\n",
       "  <thead>\n",
       "    <tr style=\"text-align: right;\">\n",
       "      <th>Year</th>\n",
       "      <th>2001</th>\n",
       "      <th>2002</th>\n",
       "      <th>2003</th>\n",
       "      <th>2004</th>\n",
       "      <th>2005</th>\n",
       "      <th>2006</th>\n",
       "      <th>2007</th>\n",
       "      <th>2008</th>\n",
       "      <th>2009</th>\n",
       "      <th>2010</th>\n",
       "      <th>2011</th>\n",
       "      <th>2012</th>\n",
       "      <th>2013</th>\n",
       "      <th>2014</th>\n",
       "      <th>2015</th>\n",
       "      <th>2016</th>\n",
       "      <th>2017</th>\n",
       "    </tr>\n",
       "  </thead>\n",
       "  <tbody>\n",
       "    <tr>\n",
       "      <th>HOMICIDE</th>\n",
       "      <td>0.001373</td>\n",
       "      <td>0.001348</td>\n",
       "      <td>0.001263</td>\n",
       "      <td>0.000965</td>\n",
       "      <td>0.000994</td>\n",
       "      <td>0.001051</td>\n",
       "      <td>0.001025</td>\n",
       "      <td>0.001201</td>\n",
       "      <td>0.001172</td>\n",
       "      <td>0.001183</td>\n",
       "      <td>0.001240</td>\n",
       "      <td>0.001501</td>\n",
       "      <td>0.001372</td>\n",
       "      <td>0.001543</td>\n",
       "      <td>0.001871</td>\n",
       "      <td>0.002897</td>\n",
       "      <td>0.002544</td>\n",
       "    </tr>\n",
       "    <tr>\n",
       "      <th>HOMICIDE</th>\n",
       "      <td>0.000000</td>\n",
       "      <td>0.000002</td>\n",
       "      <td>0.000006</td>\n",
       "      <td>0.000002</td>\n",
       "      <td>0.000004</td>\n",
       "      <td>0.000013</td>\n",
       "      <td>0.000000</td>\n",
       "      <td>0.000000</td>\n",
       "      <td>0.000000</td>\n",
       "      <td>0.000000</td>\n",
       "      <td>0.000003</td>\n",
       "      <td>0.000003</td>\n",
       "      <td>0.000003</td>\n",
       "      <td>0.000007</td>\n",
       "      <td>0.000023</td>\n",
       "      <td>0.000011</td>\n",
       "      <td>0.000004</td>\n",
       "    </tr>\n",
       "    <tr>\n",
       "      <th>CRIM SEXUAL ASSAULT</th>\n",
       "      <td>0.004435</td>\n",
       "      <td>0.004508</td>\n",
       "      <td>0.004133</td>\n",
       "      <td>0.004080</td>\n",
       "      <td>0.004139</td>\n",
       "      <td>0.003932</td>\n",
       "      <td>0.004188</td>\n",
       "      <td>0.004049</td>\n",
       "      <td>0.004093</td>\n",
       "      <td>0.004154</td>\n",
       "      <td>0.004638</td>\n",
       "      <td>0.004631</td>\n",
       "      <td>0.004546</td>\n",
       "      <td>0.005297</td>\n",
       "      <td>0.005730</td>\n",
       "      <td>0.006096</td>\n",
       "      <td>0.006437</td>\n",
       "    </tr>\n",
       "    <tr>\n",
       "      <th>ROBBERY</th>\n",
       "      <td>0.037965</td>\n",
       "      <td>0.038053</td>\n",
       "      <td>0.036418</td>\n",
       "      <td>0.034042</td>\n",
       "      <td>0.035370</td>\n",
       "      <td>0.035638</td>\n",
       "      <td>0.035357</td>\n",
       "      <td>0.039117</td>\n",
       "      <td>0.040703</td>\n",
       "      <td>0.038552</td>\n",
       "      <td>0.039760</td>\n",
       "      <td>0.040158</td>\n",
       "      <td>0.038520</td>\n",
       "      <td>0.035653</td>\n",
       "      <td>0.036575</td>\n",
       "      <td>0.044594</td>\n",
       "      <td>0.044323</td>\n",
       "    </tr>\n",
       "    <tr>\n",
       "      <th>ASSAULT</th>\n",
       "      <td>0.016204</td>\n",
       "      <td>0.015863</td>\n",
       "      <td>0.015490</td>\n",
       "      <td>0.015619</td>\n",
       "      <td>0.014885</td>\n",
       "      <td>0.014723</td>\n",
       "      <td>0.014498</td>\n",
       "      <td>0.014637</td>\n",
       "      <td>0.015283</td>\n",
       "      <td>0.014253</td>\n",
       "      <td>0.014665</td>\n",
       "      <td>0.014512</td>\n",
       "      <td>0.013909</td>\n",
       "      <td>0.015780</td>\n",
       "      <td>0.016997</td>\n",
       "      <td>0.021287</td>\n",
       "      <td>0.022063</td>\n",
       "    </tr>\n",
       "  </tbody>\n",
       "</table>\n",
       "</div>"
      ],
      "text/plain": [
       "Year                     2001      2002      2003      2004      2005  \\\n",
       "HOMICIDE             0.001373  0.001348  0.001263  0.000965  0.000994   \n",
       "HOMICIDE             0.000000  0.000002  0.000006  0.000002  0.000004   \n",
       "CRIM SEXUAL ASSAULT  0.004435  0.004508  0.004133  0.004080  0.004139   \n",
       "ROBBERY              0.037965  0.038053  0.036418  0.034042  0.035370   \n",
       "ASSAULT              0.016204  0.015863  0.015490  0.015619  0.014885   \n",
       "\n",
       "Year                     2006      2007      2008      2009      2010  \\\n",
       "HOMICIDE             0.001051  0.001025  0.001201  0.001172  0.001183   \n",
       "HOMICIDE             0.000013  0.000000  0.000000  0.000000  0.000000   \n",
       "CRIM SEXUAL ASSAULT  0.003932  0.004188  0.004049  0.004093  0.004154   \n",
       "ROBBERY              0.035638  0.035357  0.039117  0.040703  0.038552   \n",
       "ASSAULT              0.014723  0.014498  0.014637  0.015283  0.014253   \n",
       "\n",
       "Year                     2011      2012      2013      2014      2015  \\\n",
       "HOMICIDE             0.001240  0.001501  0.001372  0.001543  0.001871   \n",
       "HOMICIDE             0.000003  0.000003  0.000003  0.000007  0.000023   \n",
       "CRIM SEXUAL ASSAULT  0.004638  0.004631  0.004546  0.005297  0.005730   \n",
       "ROBBERY              0.039760  0.040158  0.038520  0.035653  0.036575   \n",
       "ASSAULT              0.014665  0.014512  0.013909  0.015780  0.016997   \n",
       "\n",
       "Year                     2016      2017  \n",
       "HOMICIDE             0.002897  0.002544  \n",
       "HOMICIDE             0.000011  0.000004  \n",
       "CRIM SEXUAL ASSAULT  0.006096  0.006437  \n",
       "ROBBERY              0.044594  0.044323  \n",
       "ASSAULT              0.021287  0.022063  "
      ]
     },
     "execution_count": 48,
     "metadata": {},
     "output_type": "execute_result"
    }
   ],
   "source": [
    "crimes = h/h.sum()\n",
    "crimes.head()"
   ]
  },
  {
   "cell_type": "code",
   "execution_count": 51,
   "metadata": {},
   "outputs": [
    {
     "data": {
      "text/plain": [
       "<matplotlib.axes._subplots.AxesSubplot at 0x191d1d6ebe0>"
      ]
     },
     "execution_count": 51,
     "metadata": {},
     "output_type": "execute_result"
    },
    {
     "data": {
      "image/png": "[encoded data removed]",
      "text/plain": [
       "<Figure size 1440x720 with 2 Axes>"
      ]
     },
     "metadata": {
      "needs_background": "light"
     },
     "output_type": "display_data"
    }
   ],
   "source": [
    "plt.subplots(figsize=(20,10))\n",
    "sns.heatmap(crimes)"
   ]
  },
  {
   "cell_type": "markdown",
   "metadata": {},
   "source": [
    "The appearance of theft is increasing, and the appearance of narcotics is decreasing. One  of the deceptive practive is increasing, and criminal damage, motor theft is decreasing. All others are tend to be constant."
   ]
  },
  {
   "cell_type": "code",
   "execution_count": 52,
   "metadata": {},
   "outputs": [
    {
     "data": {
      "text/plain": [
       "<matplotlib.axes._subplots.AxesSubplot at 0x191d1e44f10>"
      ]
     },
     "execution_count": 52,
     "metadata": {},
     "output_type": "execute_result"
    },
    {
     "data": {
      "image/png": "[encoded data removed]",
      "text/plain": [
       "<Figure size 432x288 with 1 Axes>"
      ]
     },
     "metadata": {
      "needs_background": "light"
     },
     "output_type": "display_data"
    }
   ],
   "source": [
    "h.T.iloc[:,0:2].plot.line()"
   ]
  },
  {
   "cell_type": "code",
   "execution_count": null,
   "metadata": {},
   "outputs": [],
   "source": []
  }
 ],
 "metadata": {
  "kernelspec": {
   "display_name": "Python 3",
   "language": "python",
   "name": "python3"
  },
  "language_info": {
   "codemirror_mode": {
    "name": "ipython",
    "version": 3
   },
   "file_extension": ".py",
   "mimetype": "text/x-python",
   "name": "python",
   "nbconvert_exporter": "python",
   "pygments_lexer": "ipython3",
   "version": "3.8.3"
  }
 },
 "nbformat": 4,
 "nbformat_minor": 4
}
