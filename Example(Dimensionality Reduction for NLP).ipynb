{
 "cells": [
  {
   "cell_type": "markdown",
   "metadata": {},
   "source": [
    "# Example (Latent Semantic Analysis)"
   ]
  },
  {
   "cell_type": "code",
   "execution_count": 1,
   "metadata": {},
   "outputs": [],
   "source": [
    "import numpy as np\n",
    "import pandas as pd\n",
    "from sklearn.feature_extraction.text import TfidfVectorizer\n",
    "from sklearn.decomposition import TruncatedSVD"
   ]
  },
  {
   "cell_type": "code",
   "execution_count": 2,
   "metadata": {},
   "outputs": [
    {
     "name": "stdout",
     "output_type": "stream",
     "text": [
      "(5331, 2)\n"
     ]
    },
    {
     "data": {
      "text/html": [
       "<div>\n",
       "<style scoped>\n",
       "    .dataframe tbody tr th:only-of-type {\n",
       "        vertical-align: middle;\n",
       "    }\n",
       "\n",
       "    .dataframe tbody tr th {\n",
       "        vertical-align: top;\n",
       "    }\n",
       "\n",
       "    .dataframe thead th {\n",
       "        text-align: right;\n",
       "    }\n",
       "</style>\n",
       "<table border=\"1\" class=\"dataframe\">\n",
       "  <thead>\n",
       "    <tr style=\"text-align: right;\">\n",
       "      <th></th>\n",
       "      <th>movie_review</th>\n",
       "      <th>sentiment</th>\n",
       "    </tr>\n",
       "  </thead>\n",
       "  <tbody>\n",
       "    <tr>\n",
       "      <th>0</th>\n",
       "      <td>simplistic , silly and tedious .</td>\n",
       "      <td>neg</td>\n",
       "    </tr>\n",
       "    <tr>\n",
       "      <th>1</th>\n",
       "      <td>it's so laddish and juvenile , only teenage bo...</td>\n",
       "      <td>neg</td>\n",
       "    </tr>\n",
       "    <tr>\n",
       "      <th>2</th>\n",
       "      <td>exploitative and largely devoid of the depth o...</td>\n",
       "      <td>neg</td>\n",
       "    </tr>\n",
       "    <tr>\n",
       "      <th>3</th>\n",
       "      <td>[garbus] discards the potential for pathologic...</td>\n",
       "      <td>neg</td>\n",
       "    </tr>\n",
       "    <tr>\n",
       "      <th>4</th>\n",
       "      <td>a visually flashy but narratively opaque and e...</td>\n",
       "      <td>neg</td>\n",
       "    </tr>\n",
       "  </tbody>\n",
       "</table>\n",
       "</div>"
      ],
      "text/plain": [
       "                                        movie_review sentiment\n",
       "0                   simplistic , silly and tedious .       neg\n",
       "1  it's so laddish and juvenile , only teenage bo...       neg\n",
       "2  exploitative and largely devoid of the depth o...       neg\n",
       "3  [garbus] discards the potential for pathologic...       neg\n",
       "4  a visually flashy but narratively opaque and e...       neg"
      ]
     },
     "execution_count": 2,
     "metadata": {},
     "output_type": "execute_result"
    }
   ],
   "source": [
    "# load negative reviews \n",
    "corpus_neg = pd.read_fwf('Data/MovieSentiment/rt-polarity.neg',header=None,names=['movie_review','sentiment'])\n",
    "corpus_neg['sentiment'] = 'neg'\n",
    "print(corpus_neg.shape)\n",
    "corpus_neg.head()"
   ]
  },
  {
   "cell_type": "code",
   "execution_count": 3,
   "metadata": {
    "scrolled": true
   },
   "outputs": [
    {
     "name": "stdout",
     "output_type": "stream",
     "text": [
      "(5331, 2)\n"
     ]
    },
    {
     "data": {
      "text/html": [
       "<div>\n",
       "<style scoped>\n",
       "    .dataframe tbody tr th:only-of-type {\n",
       "        vertical-align: middle;\n",
       "    }\n",
       "\n",
       "    .dataframe tbody tr th {\n",
       "        vertical-align: top;\n",
       "    }\n",
       "\n",
       "    .dataframe thead th {\n",
       "        text-align: right;\n",
       "    }\n",
       "</style>\n",
       "<table border=\"1\" class=\"dataframe\">\n",
       "  <thead>\n",
       "    <tr style=\"text-align: right;\">\n",
       "      <th></th>\n",
       "      <th>movie_review</th>\n",
       "      <th>sentiment</th>\n",
       "    </tr>\n",
       "  </thead>\n",
       "  <tbody>\n",
       "    <tr>\n",
       "      <th>0</th>\n",
       "      <td>the rock is destined to be the 21st century's ...</td>\n",
       "      <td>pos</td>\n",
       "    </tr>\n",
       "    <tr>\n",
       "      <th>1</th>\n",
       "      <td>the gorgeously elaborate continuation of \" the...</td>\n",
       "      <td>pos</td>\n",
       "    </tr>\n",
       "    <tr>\n",
       "      <th>2</th>\n",
       "      <td>effective but too-tepid biopic</td>\n",
       "      <td>pos</td>\n",
       "    </tr>\n",
       "    <tr>\n",
       "      <th>3</th>\n",
       "      <td>if you sometimes like to go to the movies to h...</td>\n",
       "      <td>pos</td>\n",
       "    </tr>\n",
       "    <tr>\n",
       "      <th>4</th>\n",
       "      <td>emerges as something rare , an issue movie tha...</td>\n",
       "      <td>pos</td>\n",
       "    </tr>\n",
       "  </tbody>\n",
       "</table>\n",
       "</div>"
      ],
      "text/plain": [
       "                                        movie_review sentiment\n",
       "0  the rock is destined to be the 21st century's ...       pos\n",
       "1  the gorgeously elaborate continuation of \" the...       pos\n",
       "2                     effective but too-tepid biopic       pos\n",
       "3  if you sometimes like to go to the movies to h...       pos\n",
       "4  emerges as something rare , an issue movie tha...       pos"
      ]
     },
     "execution_count": 3,
     "metadata": {},
     "output_type": "execute_result"
    }
   ],
   "source": [
    "# load positive reviews \n",
    "corpus_pos = pd.read_fwf('Data/MovieSentiment/rt-polarity.pos',header=None,names=['movie_review','sentiment'])\n",
    "corpus_pos['sentiment'] = 'pos'\n",
    "print(corpus_pos.shape)\n",
    "corpus_pos.head()"
   ]
  },
  {
   "cell_type": "code",
   "execution_count": 4,
   "metadata": {},
   "outputs": [
    {
     "name": "stdout",
     "output_type": "stream",
     "text": [
      "(10662, 2)\n"
     ]
    },
    {
     "data": {
      "text/html": [
       "<div>\n",
       "<style scoped>\n",
       "    .dataframe tbody tr th:only-of-type {\n",
       "        vertical-align: middle;\n",
       "    }\n",
       "\n",
       "    .dataframe tbody tr th {\n",
       "        vertical-align: top;\n",
       "    }\n",
       "\n",
       "    .dataframe thead th {\n",
       "        text-align: right;\n",
       "    }\n",
       "</style>\n",
       "<table border=\"1\" class=\"dataframe\">\n",
       "  <thead>\n",
       "    <tr style=\"text-align: right;\">\n",
       "      <th></th>\n",
       "      <th>movie_review</th>\n",
       "      <th>sentiment</th>\n",
       "    </tr>\n",
       "  </thead>\n",
       "  <tbody>\n",
       "    <tr>\n",
       "      <th>0</th>\n",
       "      <td>the sentimental cliches mar an otherwise excel...</td>\n",
       "      <td>pos</td>\n",
       "    </tr>\n",
       "    <tr>\n",
       "      <th>1</th>\n",
       "      <td>if you love the music , and i do , its hard to...</td>\n",
       "      <td>pos</td>\n",
       "    </tr>\n",
       "    <tr>\n",
       "      <th>2</th>\n",
       "      <td>though harris is affecting at times , he canno...</td>\n",
       "      <td>neg</td>\n",
       "    </tr>\n",
       "    <tr>\n",
       "      <th>3</th>\n",
       "      <td>poignant japanese epic about adolescent anomie...</td>\n",
       "      <td>pos</td>\n",
       "    </tr>\n",
       "    <tr>\n",
       "      <th>4</th>\n",
       "      <td>cantet perfectly captures the hotel lobbies , ...</td>\n",
       "      <td>pos</td>\n",
       "    </tr>\n",
       "  </tbody>\n",
       "</table>\n",
       "</div>"
      ],
      "text/plain": [
       "                                        movie_review sentiment\n",
       "0  the sentimental cliches mar an otherwise excel...       pos\n",
       "1  if you love the music , and i do , its hard to...       pos\n",
       "2  though harris is affecting at times , he canno...       neg\n",
       "3  poignant japanese epic about adolescent anomie...       pos\n",
       "4  cantet perfectly captures the hotel lobbies , ...       pos"
      ]
     },
     "execution_count": 4,
     "metadata": {},
     "output_type": "execute_result"
    }
   ],
   "source": [
    "# concatenate negative and positive reviews,randomize order and reset index\n",
    "corpus = pd.concat([corpus_neg,corpus_pos]).sample(frac=1.0,random_state=0).reset_index(drop=True)\n",
    "corpus.sentiment = corpus.sentiment.astype('category')\n",
    "print(corpus.shape)\n",
    "corpus.head()"
   ]
  },
  {
   "cell_type": "code",
   "execution_count": 5,
   "metadata": {},
   "outputs": [
    {
     "name": "stdout",
     "output_type": "stream",
     "text": [
      "the sentimental cliches mar an otherwise excellent film . a powerful performance from mel gibson and a brutal 90-minute battle sequence that does everything but issue you a dog-tag and an m-16 .\n",
      "----------\n",
      "pos\n",
      "\n",
      "if you love the music , and i do , its hard to imagine having more fun watching a documentary . . .\n",
      "----------\n",
      "pos\n",
      "\n",
      "though harris is affecting at times , he cannot overcome the sense that pumpkin is a mere plot pawn for two directors with far less endearing disabilities .\n",
      "----------\n",
      "neg\n",
      "\n"
     ]
    }
   ],
   "source": [
    "# print first 3 reviews\n",
    "for ix in range (3):# concatenate negative and positive reviews,randomize order and reset index\n",
    "    print(corpus.movie_review[ix])\n",
    "    print('----------')\n",
    "    print(corpus.sentiment[ix])\n",
    "    print()"
   ]
  },
  {
   "cell_type": "code",
   "execution_count": 6,
   "metadata": {},
   "outputs": [],
   "source": [
    "vectorizer = TfidfVectorizer(analyzer = 'word', stop_words= 'english')\n",
    "attributes = vectorizer.fit_transform(corpus.movie_review)\n",
    "vocabulary = pd.Series(vectorizer.get_feature_names())"
   ]
  },
  {
   "cell_type": "code",
   "execution_count": 7,
   "metadata": {},
   "outputs": [
    {
     "data": {
      "text/plain": [
       "(10662, 18067)"
      ]
     },
     "execution_count": 7,
     "metadata": {},
     "output_type": "execute_result"
    }
   ],
   "source": [
    "attributes.shape"
   ]
  },
  {
   "cell_type": "code",
   "execution_count": 8,
   "metadata": {},
   "outputs": [
    {
     "data": {
      "text/plain": [
       "(18067,)"
      ]
     },
     "execution_count": 8,
     "metadata": {},
     "output_type": "execute_result"
    }
   ],
   "source": [
    "vocabulary.shape"
   ]
  },
  {
   "cell_type": "code",
   "execution_count": 9,
   "metadata": {},
   "outputs": [
    {
     "data": {
      "text/plain": [
       "0     00\n",
       "1    000\n",
       "2    007\n",
       "3     10\n",
       "4    100\n",
       "dtype: object"
      ]
     },
     "execution_count": 9,
     "metadata": {},
     "output_type": "execute_result"
    }
   ],
   "source": [
    "vocabulary.head()"
   ]
  },
  {
   "cell_type": "code",
   "execution_count": 10,
   "metadata": {
    "scrolled": false
   },
   "outputs": [
    {
     "name": "stdout",
     "output_type": "stream",
     "text": [
      "  (0, 31)\t0.30171901115514116\n",
      "  (0, 15819)\t0.2889508680939305\n",
      "  (0, 4660)\t0.21861479119282762\n",
      "  (0, 8574)\t0.24044207592555794\n",
      "  (0, 4658)\t0.15915668831837568\n",
      "  (0, 14101)\t0.23082557252793925\n",
      "  (0, 1413)\t0.22767393286434728\n",
      "  (0, 10158)\t0.19514417106843365\n",
      "  (0, 165)\t0.2175097614810294\n",
      "  (0, 2098)\t0.24044207592555794\n",
      "  (0, 6779)\t0.26712358336120023\n",
      "  (0, 9965)\t0.26712358336120023\n",
      "  (0, 11587)\t0.16815914209800692\n",
      "  (0, 12074)\t0.19912117505824092\n",
      "  (0, 6087)\t0.09205747471999999\n",
      "  (0, 5599)\t0.21158797500225573\n",
      "  (0, 9755)\t0.30171901115514116\n",
      "  (0, 2849)\t0.20738305603364804\n",
      "  (0, 14085)\t0.21976001250604862\n",
      "  (1, 4648)\t0.33480127894870537\n",
      "  (1, 17542)\t0.3424970674175355\n",
      "  (1, 6558)\t0.3187507424270541\n",
      "  (1, 7359)\t0.41312287168421535\n",
      "  (1, 7930)\t0.4148622238748484\n",
      "  (1, 7297)\t0.3310581378002287\n",
      "  :\t:\n",
      "  (10658, 14329)\t0.23068997552081705\n",
      "  (10659, 14547)\t0.3720543034366151\n",
      "  (10659, 2425)\t0.3720543034366151\n",
      "  (10659, 7799)\t0.3720543034366151\n",
      "  (10659, 12098)\t0.3720543034366151\n",
      "  (10659, 17765)\t0.3451387465213999\n",
      "  (10659, 12538)\t0.35630971195518824\n",
      "  (10659, 4519)\t0.2520262178956729\n",
      "  (10659, 15454)\t0.22338455723364545\n",
      "  (10659, 7514)\t0.22173192737911246\n",
      "  (10659, 4784)\t0.19401570414969824\n",
      "  (10660, 15361)\t0.46629627608123103\n",
      "  (10660, 2479)\t0.46629627608123103\n",
      "  (10660, 8647)\t0.46629627608123103\n",
      "  (10660, 17140)\t0.33786158399238286\n",
      "  (10660, 1252)\t0.412830241282857\n",
      "  (10660, 6558)\t0.2512450809126919\n",
      "  (10661, 10463)\t0.5006990870807317\n",
      "  (10661, 1405)\t0.45281605201601693\n",
      "  (10661, 11242)\t0.4644769693650213\n",
      "  (10661, 11793)\t0.31719460806568234\n",
      "  (10661, 9466)\t0.2655504200323792\n",
      "  (10661, 8403)\t0.28587522109857\n",
      "  (10661, 16217)\t0.228750865838075\n",
      "  (10661, 6087)\t0.15276827726165682\n"
     ]
    }
   ],
   "source": [
    "print(attributes)"
   ]
  },
  {
   "cell_type": "code",
   "execution_count": 11,
   "metadata": {},
   "outputs": [
    {
     "data": {
      "text/plain": [
       "array([   31, 15819,  4660, ...,  8403, 16217,  6087], dtype=int32)"
      ]
     },
     "execution_count": 11,
     "metadata": {},
     "output_type": "execute_result"
    }
   ],
   "source": [
    "attributes.indices"
   ]
  },
  {
   "cell_type": "code",
   "execution_count": 12,
   "metadata": {},
   "outputs": [
    {
     "data": {
      "text/plain": [
       "array([     0,     19,     27, ..., 102985, 102991, 102999], dtype=int32)"
      ]
     },
     "execution_count": 12,
     "metadata": {},
     "output_type": "execute_result"
    }
   ],
   "source": [
    "attributes.indptr"
   ]
  },
  {
   "cell_type": "code",
   "execution_count": 13,
   "metadata": {},
   "outputs": [
    {
     "data": {
      "text/plain": [
       "array([   31, 15819,  4660,  8574,  4658, 14101,  1413, 10158,   165,\n",
       "        2098,  6779,  9965, 11587, 12074,  6087,  5599,  9755,  2849,\n",
       "       14085], dtype=int32)"
      ]
     },
     "execution_count": 13,
     "metadata": {},
     "output_type": "execute_result"
    }
   ],
   "source": [
    "attributes.indices[0:19]"
   ]
  },
  {
   "cell_type": "code",
   "execution_count": 14,
   "metadata": {},
   "outputs": [
    {
     "data": {
      "text/plain": [
       "array([ 4648, 17542,  6558,  7359,  7930,  7297, 10497,  9514],\n",
       "      dtype=int32)"
      ]
     },
     "execution_count": 14,
     "metadata": {},
     "output_type": "execute_result"
    }
   ],
   "source": [
    "attributes.indices[19:27]"
   ]
  },
  {
   "cell_type": "code",
   "execution_count": 15,
   "metadata": {},
   "outputs": [
    {
     "data": {
      "text/html": [
       "<div>\n",
       "<style scoped>\n",
       "    .dataframe tbody tr th:only-of-type {\n",
       "        vertical-align: middle;\n",
       "    }\n",
       "\n",
       "    .dataframe tbody tr th {\n",
       "        vertical-align: top;\n",
       "    }\n",
       "\n",
       "    .dataframe thead th {\n",
       "        text-align: right;\n",
       "    }\n",
       "</style>\n",
       "<table border=\"1\" class=\"dataframe\">\n",
       "  <thead>\n",
       "    <tr style=\"text-align: right;\">\n",
       "      <th></th>\n",
       "      <th>review</th>\n",
       "      <th>words</th>\n",
       "      <th>tfidf</th>\n",
       "    </tr>\n",
       "  </thead>\n",
       "  <tbody>\n",
       "    <tr>\n",
       "      <th>0</th>\n",
       "      <td>0</td>\n",
       "      <td>16</td>\n",
       "      <td>0.362919</td>\n",
       "    </tr>\n",
       "    <tr>\n",
       "      <th>1</th>\n",
       "      <td>0</td>\n",
       "      <td>tag</td>\n",
       "      <td>0.419458</td>\n",
       "    </tr>\n",
       "    <tr>\n",
       "      <th>2</th>\n",
       "      <td>0</td>\n",
       "      <td>dog</td>\n",
       "      <td>0.191063</td>\n",
       "    </tr>\n",
       "  </tbody>\n",
       "</table>\n",
       "</div>"
      ],
      "text/plain": [
       "   review words     tfidf\n",
       "0       0    16  0.362919\n",
       "1       0   tag  0.419458\n",
       "2       0   dog  0.191063"
      ]
     },
     "execution_count": 15,
     "metadata": {},
     "output_type": "execute_result"
    }
   ],
   "source": [
    "review = []\n",
    "words   = [] \n",
    "tfidf   = []\n",
    "ptr  = attributes.indptr\n",
    "ix   = attributes.indices\n",
    "data = attributes.data\n",
    "k = 0\n",
    "for i in range(len(ptr)-1):\n",
    "     word_list = vocabulary[ix[ptr[i]:ptr[i+1]]]\n",
    "     data_list = data[ix[ptr[i]:ptr[i+1]]]\n",
    "     for j in range(len(word_list)):\n",
    "            words.append(word_list.iloc[j])\n",
    "            tfidf.append(data_list[j])\n",
    "            review.append(k)\n",
    "     k = k + 1\n",
    "    \n",
    "df = pd.DataFrame()\n",
    "df['review'] = review\n",
    "df['words']   = words\n",
    "df['tfidf']  = tfidf\n",
    "df.head(3)"
   ]
  },
  {
   "cell_type": "code",
   "execution_count": 16,
   "metadata": {
    "scrolled": false
   },
   "outputs": [
    {
     "data": {
      "text/html": [
       "<div>\n",
       "<style scoped>\n",
       "    .dataframe tbody tr th:only-of-type {\n",
       "        vertical-align: middle;\n",
       "    }\n",
       "\n",
       "    .dataframe tbody tr th {\n",
       "        vertical-align: top;\n",
       "    }\n",
       "\n",
       "    .dataframe thead th {\n",
       "        text-align: right;\n",
       "    }\n",
       "</style>\n",
       "<table border=\"1\" class=\"dataframe\">\n",
       "  <thead>\n",
       "    <tr style=\"text-align: right;\">\n",
       "      <th></th>\n",
       "      <th>review</th>\n",
       "      <th>words</th>\n",
       "      <th>tfidf</th>\n",
       "    </tr>\n",
       "  </thead>\n",
       "  <tbody>\n",
       "    <tr>\n",
       "      <th>0</th>\n",
       "      <td>0</td>\n",
       "      <td>16</td>\n",
       "      <td>0.362919</td>\n",
       "    </tr>\n",
       "    <tr>\n",
       "      <th>1</th>\n",
       "      <td>0</td>\n",
       "      <td>tag</td>\n",
       "      <td>0.419458</td>\n",
       "    </tr>\n",
       "    <tr>\n",
       "      <th>2</th>\n",
       "      <td>0</td>\n",
       "      <td>dog</td>\n",
       "      <td>0.191063</td>\n",
       "    </tr>\n",
       "    <tr>\n",
       "      <th>3</th>\n",
       "      <td>0</td>\n",
       "      <td>issue</td>\n",
       "      <td>0.434604</td>\n",
       "    </tr>\n",
       "    <tr>\n",
       "      <th>4</th>\n",
       "      <td>0</td>\n",
       "      <td>does</td>\n",
       "      <td>0.216880</td>\n",
       "    </tr>\n",
       "    <tr>\n",
       "      <th>5</th>\n",
       "      <td>0</td>\n",
       "      <td>sequence</td>\n",
       "      <td>0.242235</td>\n",
       "    </tr>\n",
       "    <tr>\n",
       "      <th>6</th>\n",
       "      <td>0</td>\n",
       "      <td>battle</td>\n",
       "      <td>0.320308</td>\n",
       "    </tr>\n",
       "    <tr>\n",
       "      <th>7</th>\n",
       "      <td>0</td>\n",
       "      <td>minute</td>\n",
       "      <td>0.271665</td>\n",
       "    </tr>\n",
       "    <tr>\n",
       "      <th>8</th>\n",
       "      <td>0</td>\n",
       "      <td>90</td>\n",
       "      <td>0.318394</td>\n",
       "    </tr>\n",
       "    <tr>\n",
       "      <th>9</th>\n",
       "      <td>0</td>\n",
       "      <td>brutal</td>\n",
       "      <td>0.588853</td>\n",
       "    </tr>\n",
       "    <tr>\n",
       "      <th>10</th>\n",
       "      <td>0</td>\n",
       "      <td>gibson</td>\n",
       "      <td>0.197817</td>\n",
       "    </tr>\n",
       "    <tr>\n",
       "      <th>11</th>\n",
       "      <td>0</td>\n",
       "      <td>mel</td>\n",
       "      <td>0.245923</td>\n",
       "    </tr>\n",
       "    <tr>\n",
       "      <th>12</th>\n",
       "      <td>0</td>\n",
       "      <td>performance</td>\n",
       "      <td>0.223724</td>\n",
       "    </tr>\n",
       "    <tr>\n",
       "      <th>13</th>\n",
       "      <td>0</td>\n",
       "      <td>powerful</td>\n",
       "      <td>0.211176</td>\n",
       "    </tr>\n",
       "    <tr>\n",
       "      <th>14</th>\n",
       "      <td>0</td>\n",
       "      <td>film</td>\n",
       "      <td>0.289802</td>\n",
       "    </tr>\n",
       "    <tr>\n",
       "      <th>15</th>\n",
       "      <td>0</td>\n",
       "      <td>excellent</td>\n",
       "      <td>0.315953</td>\n",
       "    </tr>\n",
       "    <tr>\n",
       "      <th>16</th>\n",
       "      <td>0</td>\n",
       "      <td>mar</td>\n",
       "      <td>0.202253</td>\n",
       "    </tr>\n",
       "    <tr>\n",
       "      <th>17</th>\n",
       "      <td>0</td>\n",
       "      <td>cliches</td>\n",
       "      <td>0.331624</td>\n",
       "    </tr>\n",
       "    <tr>\n",
       "      <th>18</th>\n",
       "      <td>0</td>\n",
       "      <td>sentimental</td>\n",
       "      <td>0.200388</td>\n",
       "    </tr>\n",
       "    <tr>\n",
       "      <th>19</th>\n",
       "      <td>1</td>\n",
       "      <td>documentary</td>\n",
       "      <td>0.261074</td>\n",
       "    </tr>\n",
       "    <tr>\n",
       "      <th>20</th>\n",
       "      <td>1</td>\n",
       "      <td>watching</td>\n",
       "      <td>0.162054</td>\n",
       "    </tr>\n",
       "    <tr>\n",
       "      <th>21</th>\n",
       "      <td>1</td>\n",
       "      <td>fun</td>\n",
       "      <td>0.242207</td>\n",
       "    </tr>\n",
       "    <tr>\n",
       "      <th>22</th>\n",
       "      <td>1</td>\n",
       "      <td>having</td>\n",
       "      <td>0.453376</td>\n",
       "    </tr>\n",
       "    <tr>\n",
       "      <th>23</th>\n",
       "      <td>1</td>\n",
       "      <td>imagine</td>\n",
       "      <td>0.196357</td>\n",
       "    </tr>\n",
       "    <tr>\n",
       "      <th>24</th>\n",
       "      <td>1</td>\n",
       "      <td>hard</td>\n",
       "      <td>0.366753</td>\n",
       "    </tr>\n",
       "  </tbody>\n",
       "</table>\n",
       "</div>"
      ],
      "text/plain": [
       "    review        words     tfidf\n",
       "0        0           16  0.362919\n",
       "1        0          tag  0.419458\n",
       "2        0          dog  0.191063\n",
       "3        0        issue  0.434604\n",
       "4        0         does  0.216880\n",
       "5        0     sequence  0.242235\n",
       "6        0       battle  0.320308\n",
       "7        0       minute  0.271665\n",
       "8        0           90  0.318394\n",
       "9        0       brutal  0.588853\n",
       "10       0       gibson  0.197817\n",
       "11       0          mel  0.245923\n",
       "12       0  performance  0.223724\n",
       "13       0     powerful  0.211176\n",
       "14       0         film  0.289802\n",
       "15       0    excellent  0.315953\n",
       "16       0          mar  0.202253\n",
       "17       0      cliches  0.331624\n",
       "18       0  sentimental  0.200388\n",
       "19       1  documentary  0.261074\n",
       "20       1     watching  0.162054\n",
       "21       1          fun  0.242207\n",
       "22       1       having  0.453376\n",
       "23       1      imagine  0.196357\n",
       "24       1         hard  0.366753"
      ]
     },
     "execution_count": 16,
     "metadata": {},
     "output_type": "execute_result"
    }
   ],
   "source": [
    "df.head(25)"
   ]
  },
  {
   "cell_type": "code",
   "execution_count": 17,
   "metadata": {},
   "outputs": [
    {
     "data": {
      "text/html": [
       "<div>\n",
       "<style scoped>\n",
       "    .dataframe tbody tr th:only-of-type {\n",
       "        vertical-align: middle;\n",
       "    }\n",
       "\n",
       "    .dataframe tbody tr th {\n",
       "        vertical-align: top;\n",
       "    }\n",
       "\n",
       "    .dataframe thead th {\n",
       "        text-align: right;\n",
       "    }\n",
       "</style>\n",
       "<table border=\"1\" class=\"dataframe\">\n",
       "  <thead>\n",
       "    <tr style=\"text-align: right;\">\n",
       "      <th></th>\n",
       "      <th>review</th>\n",
       "      <th>words</th>\n",
       "      <th>tfidf</th>\n",
       "      <th>sentiment</th>\n",
       "    </tr>\n",
       "  </thead>\n",
       "  <tbody>\n",
       "    <tr>\n",
       "      <th>0</th>\n",
       "      <td>0</td>\n",
       "      <td>16</td>\n",
       "      <td>0.362919</td>\n",
       "      <td>pos</td>\n",
       "    </tr>\n",
       "    <tr>\n",
       "      <th>1</th>\n",
       "      <td>0</td>\n",
       "      <td>tag</td>\n",
       "      <td>0.419458</td>\n",
       "      <td>pos</td>\n",
       "    </tr>\n",
       "    <tr>\n",
       "      <th>2</th>\n",
       "      <td>0</td>\n",
       "      <td>dog</td>\n",
       "      <td>0.191063</td>\n",
       "      <td>pos</td>\n",
       "    </tr>\n",
       "    <tr>\n",
       "      <th>3</th>\n",
       "      <td>0</td>\n",
       "      <td>issue</td>\n",
       "      <td>0.434604</td>\n",
       "      <td>pos</td>\n",
       "    </tr>\n",
       "    <tr>\n",
       "      <th>4</th>\n",
       "      <td>0</td>\n",
       "      <td>does</td>\n",
       "      <td>0.216880</td>\n",
       "      <td>pos</td>\n",
       "    </tr>\n",
       "    <tr>\n",
       "      <th>5</th>\n",
       "      <td>0</td>\n",
       "      <td>sequence</td>\n",
       "      <td>0.242235</td>\n",
       "      <td>pos</td>\n",
       "    </tr>\n",
       "    <tr>\n",
       "      <th>6</th>\n",
       "      <td>0</td>\n",
       "      <td>battle</td>\n",
       "      <td>0.320308</td>\n",
       "      <td>pos</td>\n",
       "    </tr>\n",
       "    <tr>\n",
       "      <th>7</th>\n",
       "      <td>0</td>\n",
       "      <td>minute</td>\n",
       "      <td>0.271665</td>\n",
       "      <td>pos</td>\n",
       "    </tr>\n",
       "    <tr>\n",
       "      <th>8</th>\n",
       "      <td>0</td>\n",
       "      <td>90</td>\n",
       "      <td>0.318394</td>\n",
       "      <td>pos</td>\n",
       "    </tr>\n",
       "    <tr>\n",
       "      <th>9</th>\n",
       "      <td>0</td>\n",
       "      <td>brutal</td>\n",
       "      <td>0.588853</td>\n",
       "      <td>pos</td>\n",
       "    </tr>\n",
       "    <tr>\n",
       "      <th>10</th>\n",
       "      <td>0</td>\n",
       "      <td>gibson</td>\n",
       "      <td>0.197817</td>\n",
       "      <td>pos</td>\n",
       "    </tr>\n",
       "    <tr>\n",
       "      <th>11</th>\n",
       "      <td>0</td>\n",
       "      <td>mel</td>\n",
       "      <td>0.245923</td>\n",
       "      <td>pos</td>\n",
       "    </tr>\n",
       "    <tr>\n",
       "      <th>12</th>\n",
       "      <td>0</td>\n",
       "      <td>performance</td>\n",
       "      <td>0.223724</td>\n",
       "      <td>pos</td>\n",
       "    </tr>\n",
       "    <tr>\n",
       "      <th>13</th>\n",
       "      <td>0</td>\n",
       "      <td>powerful</td>\n",
       "      <td>0.211176</td>\n",
       "      <td>pos</td>\n",
       "    </tr>\n",
       "    <tr>\n",
       "      <th>14</th>\n",
       "      <td>0</td>\n",
       "      <td>film</td>\n",
       "      <td>0.289802</td>\n",
       "      <td>pos</td>\n",
       "    </tr>\n",
       "    <tr>\n",
       "      <th>15</th>\n",
       "      <td>0</td>\n",
       "      <td>excellent</td>\n",
       "      <td>0.315953</td>\n",
       "      <td>pos</td>\n",
       "    </tr>\n",
       "    <tr>\n",
       "      <th>16</th>\n",
       "      <td>0</td>\n",
       "      <td>mar</td>\n",
       "      <td>0.202253</td>\n",
       "      <td>pos</td>\n",
       "    </tr>\n",
       "    <tr>\n",
       "      <th>17</th>\n",
       "      <td>0</td>\n",
       "      <td>cliches</td>\n",
       "      <td>0.331624</td>\n",
       "      <td>pos</td>\n",
       "    </tr>\n",
       "    <tr>\n",
       "      <th>18</th>\n",
       "      <td>0</td>\n",
       "      <td>sentimental</td>\n",
       "      <td>0.200388</td>\n",
       "      <td>pos</td>\n",
       "    </tr>\n",
       "    <tr>\n",
       "      <th>19</th>\n",
       "      <td>1</td>\n",
       "      <td>documentary</td>\n",
       "      <td>0.261074</td>\n",
       "      <td>pos</td>\n",
       "    </tr>\n",
       "    <tr>\n",
       "      <th>20</th>\n",
       "      <td>1</td>\n",
       "      <td>watching</td>\n",
       "      <td>0.162054</td>\n",
       "      <td>pos</td>\n",
       "    </tr>\n",
       "    <tr>\n",
       "      <th>21</th>\n",
       "      <td>1</td>\n",
       "      <td>fun</td>\n",
       "      <td>0.242207</td>\n",
       "      <td>pos</td>\n",
       "    </tr>\n",
       "    <tr>\n",
       "      <th>22</th>\n",
       "      <td>1</td>\n",
       "      <td>having</td>\n",
       "      <td>0.453376</td>\n",
       "      <td>pos</td>\n",
       "    </tr>\n",
       "    <tr>\n",
       "      <th>23</th>\n",
       "      <td>1</td>\n",
       "      <td>imagine</td>\n",
       "      <td>0.196357</td>\n",
       "      <td>pos</td>\n",
       "    </tr>\n",
       "    <tr>\n",
       "      <th>24</th>\n",
       "      <td>1</td>\n",
       "      <td>hard</td>\n",
       "      <td>0.366753</td>\n",
       "      <td>pos</td>\n",
       "    </tr>\n",
       "    <tr>\n",
       "      <th>25</th>\n",
       "      <td>1</td>\n",
       "      <td>music</td>\n",
       "      <td>0.240651</td>\n",
       "      <td>pos</td>\n",
       "    </tr>\n",
       "    <tr>\n",
       "      <th>26</th>\n",
       "      <td>1</td>\n",
       "      <td>love</td>\n",
       "      <td>0.255954</td>\n",
       "      <td>pos</td>\n",
       "    </tr>\n",
       "    <tr>\n",
       "      <th>27</th>\n",
       "      <td>2</td>\n",
       "      <td>disabilities</td>\n",
       "      <td>0.305841</td>\n",
       "      <td>neg</td>\n",
       "    </tr>\n",
       "    <tr>\n",
       "      <th>28</th>\n",
       "      <td>2</td>\n",
       "      <td>endearing</td>\n",
       "      <td>0.196586</td>\n",
       "      <td>neg</td>\n",
       "    </tr>\n",
       "    <tr>\n",
       "      <th>29</th>\n",
       "      <td>2</td>\n",
       "      <td>far</td>\n",
       "      <td>0.223330</td>\n",
       "      <td>neg</td>\n",
       "    </tr>\n",
       "  </tbody>\n",
       "</table>\n",
       "</div>"
      ],
      "text/plain": [
       "    review         words     tfidf sentiment\n",
       "0        0            16  0.362919       pos\n",
       "1        0           tag  0.419458       pos\n",
       "2        0           dog  0.191063       pos\n",
       "3        0         issue  0.434604       pos\n",
       "4        0          does  0.216880       pos\n",
       "5        0      sequence  0.242235       pos\n",
       "6        0        battle  0.320308       pos\n",
       "7        0        minute  0.271665       pos\n",
       "8        0            90  0.318394       pos\n",
       "9        0        brutal  0.588853       pos\n",
       "10       0        gibson  0.197817       pos\n",
       "11       0           mel  0.245923       pos\n",
       "12       0   performance  0.223724       pos\n",
       "13       0      powerful  0.211176       pos\n",
       "14       0          film  0.289802       pos\n",
       "15       0     excellent  0.315953       pos\n",
       "16       0           mar  0.202253       pos\n",
       "17       0       cliches  0.331624       pos\n",
       "18       0   sentimental  0.200388       pos\n",
       "19       1   documentary  0.261074       pos\n",
       "20       1      watching  0.162054       pos\n",
       "21       1           fun  0.242207       pos\n",
       "22       1        having  0.453376       pos\n",
       "23       1       imagine  0.196357       pos\n",
       "24       1          hard  0.366753       pos\n",
       "25       1         music  0.240651       pos\n",
       "26       1          love  0.255954       pos\n",
       "27       2  disabilities  0.305841       neg\n",
       "28       2     endearing  0.196586       neg\n",
       "29       2           far  0.223330       neg"
      ]
     },
     "execution_count": 17,
     "metadata": {},
     "output_type": "execute_result"
    }
   ],
   "source": [
    "df = df.merge(corpus.sentiment,left_on='review',right_index=True)\n",
    "df.head(30)"
   ]
  },
  {
   "cell_type": "code",
   "execution_count": 18,
   "metadata": {},
   "outputs": [
    {
     "data": {
      "text/plain": [
       "'if you love the music , and i do , its hard to imagine having more fun watching a documentary . . .'"
      ]
     },
     "execution_count": 18,
     "metadata": {},
     "output_type": "execute_result"
    }
   ],
   "source": [
    "corpus.movie_review.iloc[1] #article number 1"
   ]
  },
  {
   "cell_type": "code",
   "execution_count": 19,
   "metadata": {},
   "outputs": [
    {
     "data": {
      "text/html": [
       "<div>\n",
       "<style scoped>\n",
       "    .dataframe tbody tr th:only-of-type {\n",
       "        vertical-align: middle;\n",
       "    }\n",
       "\n",
       "    .dataframe tbody tr th {\n",
       "        vertical-align: top;\n",
       "    }\n",
       "\n",
       "    .dataframe thead th {\n",
       "        text-align: right;\n",
       "    }\n",
       "</style>\n",
       "<table border=\"1\" class=\"dataframe\">\n",
       "  <thead>\n",
       "    <tr style=\"text-align: right;\">\n",
       "      <th></th>\n",
       "      <th>review</th>\n",
       "      <th>words</th>\n",
       "      <th>tfidf</th>\n",
       "      <th>sentiment</th>\n",
       "    </tr>\n",
       "  </thead>\n",
       "  <tbody>\n",
       "    <tr>\n",
       "      <th>19</th>\n",
       "      <td>1</td>\n",
       "      <td>documentary</td>\n",
       "      <td>0.261074</td>\n",
       "      <td>pos</td>\n",
       "    </tr>\n",
       "    <tr>\n",
       "      <th>20</th>\n",
       "      <td>1</td>\n",
       "      <td>watching</td>\n",
       "      <td>0.162054</td>\n",
       "      <td>pos</td>\n",
       "    </tr>\n",
       "    <tr>\n",
       "      <th>21</th>\n",
       "      <td>1</td>\n",
       "      <td>fun</td>\n",
       "      <td>0.242207</td>\n",
       "      <td>pos</td>\n",
       "    </tr>\n",
       "    <tr>\n",
       "      <th>22</th>\n",
       "      <td>1</td>\n",
       "      <td>having</td>\n",
       "      <td>0.453376</td>\n",
       "      <td>pos</td>\n",
       "    </tr>\n",
       "    <tr>\n",
       "      <th>23</th>\n",
       "      <td>1</td>\n",
       "      <td>imagine</td>\n",
       "      <td>0.196357</td>\n",
       "      <td>pos</td>\n",
       "    </tr>\n",
       "    <tr>\n",
       "      <th>24</th>\n",
       "      <td>1</td>\n",
       "      <td>hard</td>\n",
       "      <td>0.366753</td>\n",
       "      <td>pos</td>\n",
       "    </tr>\n",
       "    <tr>\n",
       "      <th>25</th>\n",
       "      <td>1</td>\n",
       "      <td>music</td>\n",
       "      <td>0.240651</td>\n",
       "      <td>pos</td>\n",
       "    </tr>\n",
       "    <tr>\n",
       "      <th>26</th>\n",
       "      <td>1</td>\n",
       "      <td>love</td>\n",
       "      <td>0.255954</td>\n",
       "      <td>pos</td>\n",
       "    </tr>\n",
       "  </tbody>\n",
       "</table>\n",
       "</div>"
      ],
      "text/plain": [
       "    review        words     tfidf sentiment\n",
       "19       1  documentary  0.261074       pos\n",
       "20       1     watching  0.162054       pos\n",
       "21       1          fun  0.242207       pos\n",
       "22       1       having  0.453376       pos\n",
       "23       1      imagine  0.196357       pos\n",
       "24       1         hard  0.366753       pos\n",
       "25       1        music  0.240651       pos\n",
       "26       1         love  0.255954       pos"
      ]
     },
     "execution_count": 19,
     "metadata": {},
     "output_type": "execute_result"
    }
   ],
   "source": [
    "df[df.review==1]"
   ]
  },
  {
   "cell_type": "code",
   "execution_count": 20,
   "metadata": {},
   "outputs": [
    {
     "data": {
      "text/html": [
       "<div>\n",
       "<style scoped>\n",
       "    .dataframe tbody tr th:only-of-type {\n",
       "        vertical-align: middle;\n",
       "    }\n",
       "\n",
       "    .dataframe tbody tr th {\n",
       "        vertical-align: top;\n",
       "    }\n",
       "\n",
       "    .dataframe thead th {\n",
       "        text-align: right;\n",
       "    }\n",
       "</style>\n",
       "<table border=\"1\" class=\"dataframe\">\n",
       "  <thead>\n",
       "    <tr style=\"text-align: right;\">\n",
       "      <th>sentiment</th>\n",
       "      <th>neg</th>\n",
       "      <th>pos</th>\n",
       "    </tr>\n",
       "    <tr>\n",
       "      <th>words</th>\n",
       "      <th></th>\n",
       "      <th></th>\n",
       "    </tr>\n",
       "  </thead>\n",
       "  <tbody>\n",
       "    <tr>\n",
       "      <th>00</th>\n",
       "      <td>0.301719</td>\n",
       "      <td>NaN</td>\n",
       "    </tr>\n",
       "    <tr>\n",
       "      <th>000</th>\n",
       "      <td>0.577902</td>\n",
       "      <td>NaN</td>\n",
       "    </tr>\n",
       "    <tr>\n",
       "      <th>007</th>\n",
       "      <td>0.437230</td>\n",
       "      <td>NaN</td>\n",
       "    </tr>\n",
       "    <tr>\n",
       "      <th>10</th>\n",
       "      <td>3.606631</td>\n",
       "      <td>1.923537</td>\n",
       "    </tr>\n",
       "    <tr>\n",
       "      <th>100</th>\n",
       "      <td>1.432410</td>\n",
       "      <td>0.318313</td>\n",
       "    </tr>\n",
       "  </tbody>\n",
       "</table>\n",
       "</div>"
      ],
      "text/plain": [
       "sentiment       neg       pos\n",
       "words                        \n",
       "00         0.301719       NaN\n",
       "000        0.577902       NaN\n",
       "007        0.437230       NaN\n",
       "10         3.606631  1.923537\n",
       "100        1.432410  0.318313"
      ]
     },
     "execution_count": 20,
     "metadata": {},
     "output_type": "execute_result"
    }
   ],
   "source": [
    "word_ratings = df.pivot_table(index = \"words\",\n",
    "                             columns = \"sentiment\",\n",
    "                             values = \"tfidf\",\n",
    "                             aggfunc = \"sum\")\n",
    "word_ratings.head()"
   ]
  },
  {
   "cell_type": "code",
   "execution_count": 21,
   "metadata": {},
   "outputs": [
    {
     "data": {
      "text/plain": [
       "words\n",
       "00          NaN\n",
       "000         NaN\n",
       "007         NaN\n",
       "10    -1.683095\n",
       "100   -1.114097\n",
       "dtype: float64"
      ]
     },
     "execution_count": 21,
     "metadata": {},
     "output_type": "execute_result"
    }
   ],
   "source": [
    "word_ratings_diff = word_ratings.pos - word_ratings.neg\n",
    "word_ratings_diff.head()"
   ]
  },
  {
   "cell_type": "code",
   "execution_count": 22,
   "metadata": {},
   "outputs": [
    {
     "data": {
      "text/plain": [
       "words\n",
       "film            61.148300\n",
       "best            35.149080\n",
       "life            29.581342\n",
       "entertaining    24.146976\n",
       "look            23.103809\n",
       "manages         20.403439\n",
       "performances    20.135124\n",
       "makes           20.111728\n",
       "portrait        19.439150\n",
       "love            18.172733\n",
       "dtype: float64"
      ]
     },
     "execution_count": 22,
     "metadata": {},
     "output_type": "execute_result"
    }
   ],
   "source": [
    "word_ratings_diff.sort_values(ascending=False).head(10)"
   ]
  },
  {
   "cell_type": "code",
   "execution_count": 23,
   "metadata": {},
   "outputs": [
    {
     "data": {
      "text/plain": [
       "words\n",
       "movie     -70.295190\n",
       "just      -40.400646\n",
       "bad       -30.029831\n",
       "minutes   -29.072627\n",
       "feels     -26.306481\n",
       "like      -23.436447\n",
       "script    -22.665584\n",
       "doesn     -22.021548\n",
       "dull      -20.736435\n",
       "action    -19.862206\n",
       "dtype: float64"
      ]
     },
     "execution_count": 23,
     "metadata": {},
     "output_type": "execute_result"
    }
   ],
   "source": [
    "word_ratings_diff.sort_values(ascending=True).head(10) #negative review"
   ]
  },
  {
   "cell_type": "code",
   "execution_count": 24,
   "metadata": {},
   "outputs": [
    {
     "data": {
      "text/plain": [
       "(10662, 18067)"
      ]
     },
     "execution_count": 24,
     "metadata": {},
     "output_type": "execute_result"
    }
   ],
   "source": [
    "attributes.shape"
   ]
  },
  {
   "cell_type": "code",
   "execution_count": 25,
   "metadata": {},
   "outputs": [
    {
     "data": {
      "text/plain": [
       "0.047"
      ]
     },
     "execution_count": 25,
     "metadata": {},
     "output_type": "execute_result"
    }
   ],
   "source": [
    "svd = TruncatedSVD(n_components = 30)\n",
    "attributes_compressed = svd.fit_transform(attributes)\n",
    "svd.explained_variance_ratio_.sum().round(3)"
   ]
  },
  {
   "cell_type": "code",
   "execution_count": 27,
   "metadata": {},
   "outputs": [
    {
     "data": {
      "text/html": [
       "<div>\n",
       "<style scoped>\n",
       "    .dataframe tbody tr th:only-of-type {\n",
       "        vertical-align: middle;\n",
       "    }\n",
       "\n",
       "    .dataframe tbody tr th {\n",
       "        vertical-align: top;\n",
       "    }\n",
       "\n",
       "    .dataframe thead th {\n",
       "        text-align: right;\n",
       "    }\n",
       "</style>\n",
       "<table border=\"1\" class=\"dataframe\">\n",
       "  <thead>\n",
       "    <tr style=\"text-align: right;\">\n",
       "      <th></th>\n",
       "      <th>movie_review</th>\n",
       "      <th>sentiment</th>\n",
       "      <th>0</th>\n",
       "      <th>1</th>\n",
       "      <th>2</th>\n",
       "      <th>3</th>\n",
       "      <th>4</th>\n",
       "      <th>5</th>\n",
       "      <th>6</th>\n",
       "      <th>7</th>\n",
       "      <th>...</th>\n",
       "      <th>20</th>\n",
       "      <th>21</th>\n",
       "      <th>22</th>\n",
       "      <th>23</th>\n",
       "      <th>24</th>\n",
       "      <th>25</th>\n",
       "      <th>26</th>\n",
       "      <th>27</th>\n",
       "      <th>28</th>\n",
       "      <th>29</th>\n",
       "    </tr>\n",
       "  </thead>\n",
       "  <tbody>\n",
       "    <tr>\n",
       "      <th>0</th>\n",
       "      <td>the sentimental cliches mar an otherwise excel...</td>\n",
       "      <td>pos</td>\n",
       "      <td>0.077596</td>\n",
       "      <td>0.076318</td>\n",
       "      <td>0.025737</td>\n",
       "      <td>-0.012952</td>\n",
       "      <td>-0.004265</td>\n",
       "      <td>-0.005886</td>\n",
       "      <td>0.006199</td>\n",
       "      <td>-0.003257</td>\n",
       "      <td>...</td>\n",
       "      <td>-0.003226</td>\n",
       "      <td>0.002702</td>\n",
       "      <td>0.008894</td>\n",
       "      <td>-0.018016</td>\n",
       "      <td>-0.036273</td>\n",
       "      <td>0.014371</td>\n",
       "      <td>-0.023031</td>\n",
       "      <td>0.027625</td>\n",
       "      <td>0.008321</td>\n",
       "      <td>-0.008989</td>\n",
       "    </tr>\n",
       "    <tr>\n",
       "      <th>1</th>\n",
       "      <td>if you love the music , and i do , its hard to...</td>\n",
       "      <td>pos</td>\n",
       "      <td>0.095755</td>\n",
       "      <td>0.011204</td>\n",
       "      <td>-0.074454</td>\n",
       "      <td>-0.000020</td>\n",
       "      <td>-0.022782</td>\n",
       "      <td>-0.022530</td>\n",
       "      <td>0.010818</td>\n",
       "      <td>-0.034613</td>\n",
       "      <td>...</td>\n",
       "      <td>-0.128788</td>\n",
       "      <td>0.066406</td>\n",
       "      <td>0.033606</td>\n",
       "      <td>-0.017808</td>\n",
       "      <td>0.144434</td>\n",
       "      <td>-0.000746</td>\n",
       "      <td>-0.082103</td>\n",
       "      <td>0.054126</td>\n",
       "      <td>-0.140468</td>\n",
       "      <td>-0.058364</td>\n",
       "    </tr>\n",
       "    <tr>\n",
       "      <th>2</th>\n",
       "      <td>though harris is affecting at times , he canno...</td>\n",
       "      <td>neg</td>\n",
       "      <td>0.040396</td>\n",
       "      <td>0.009843</td>\n",
       "      <td>-0.016318</td>\n",
       "      <td>0.009309</td>\n",
       "      <td>-0.002316</td>\n",
       "      <td>-0.016082</td>\n",
       "      <td>0.018887</td>\n",
       "      <td>-0.011840</td>\n",
       "      <td>...</td>\n",
       "      <td>0.009748</td>\n",
       "      <td>0.015176</td>\n",
       "      <td>-0.005060</td>\n",
       "      <td>-0.012776</td>\n",
       "      <td>-0.008562</td>\n",
       "      <td>0.014267</td>\n",
       "      <td>-0.006070</td>\n",
       "      <td>-0.021437</td>\n",
       "      <td>-0.010269</td>\n",
       "      <td>0.004470</td>\n",
       "    </tr>\n",
       "  </tbody>\n",
       "</table>\n",
       "<p>3 rows × 32 columns</p>\n",
       "</div>"
      ],
      "text/plain": [
       "                                        movie_review sentiment         0  \\\n",
       "0  the sentimental cliches mar an otherwise excel...       pos  0.077596   \n",
       "1  if you love the music , and i do , its hard to...       pos  0.095755   \n",
       "2  though harris is affecting at times , he canno...       neg  0.040396   \n",
       "\n",
       "          1         2         3         4         5         6         7  ...  \\\n",
       "0  0.076318  0.025737 -0.012952 -0.004265 -0.005886  0.006199 -0.003257  ...   \n",
       "1  0.011204 -0.074454 -0.000020 -0.022782 -0.022530  0.010818 -0.034613  ...   \n",
       "2  0.009843 -0.016318  0.009309 -0.002316 -0.016082  0.018887 -0.011840  ...   \n",
       "\n",
       "         20        21        22        23        24        25        26  \\\n",
       "0 -0.003226  0.002702  0.008894 -0.018016 -0.036273  0.014371 -0.023031   \n",
       "1 -0.128788  0.066406  0.033606 -0.017808  0.144434 -0.000746 -0.082103   \n",
       "2  0.009748  0.015176 -0.005060 -0.012776 -0.008562  0.014267 -0.006070   \n",
       "\n",
       "         27        28        29  \n",
       "0  0.027625  0.008321 -0.008989  \n",
       "1  0.054126 -0.140468 -0.058364  \n",
       "2 -0.021437 -0.010269  0.004470  \n",
       "\n",
       "[3 rows x 32 columns]"
      ]
     },
     "execution_count": 27,
     "metadata": {},
     "output_type": "execute_result"
    }
   ],
   "source": [
    "attributes_compressed = pd.DataFrame(attributes_compressed)\n",
    "df = pd.concat([corpus,attributes_compressed], axis=1)\n",
    "df.head(3)\n",
    "#negative numbers -> cannot use Naive Bayes"
   ]
  },
  {
   "cell_type": "code",
   "execution_count": 29,
   "metadata": {},
   "outputs": [
    {
     "data": {
      "text/html": [
       "<div>\n",
       "<style scoped>\n",
       "    .dataframe tbody tr th:only-of-type {\n",
       "        vertical-align: middle;\n",
       "    }\n",
       "\n",
       "    .dataframe tbody tr th {\n",
       "        vertical-align: top;\n",
       "    }\n",
       "\n",
       "    .dataframe thead th {\n",
       "        text-align: right;\n",
       "    }\n",
       "</style>\n",
       "<table border=\"1\" class=\"dataframe\">\n",
       "  <thead>\n",
       "    <tr style=\"text-align: right;\">\n",
       "      <th></th>\n",
       "      <th>movie_review</th>\n",
       "      <th>sentiment</th>\n",
       "      <th>1</th>\n",
       "    </tr>\n",
       "  </thead>\n",
       "  <tbody>\n",
       "    <tr>\n",
       "      <th>6238</th>\n",
       "      <td>do not see this film .</td>\n",
       "      <td>neg</td>\n",
       "      <td>0.70</td>\n",
       "    </tr>\n",
       "    <tr>\n",
       "      <th>5447</th>\n",
       "      <td>a funny film .</td>\n",
       "      <td>pos</td>\n",
       "      <td>0.35</td>\n",
       "    </tr>\n",
       "    <tr>\n",
       "      <th>6198</th>\n",
       "      <td>a compelling film .</td>\n",
       "      <td>pos</td>\n",
       "      <td>0.34</td>\n",
       "    </tr>\n",
       "    <tr>\n",
       "      <th>1420</th>\n",
       "      <td>the film is full of charm .</td>\n",
       "      <td>pos</td>\n",
       "      <td>0.32</td>\n",
       "    </tr>\n",
       "    <tr>\n",
       "      <th>4340</th>\n",
       "      <td>the film is one of the year's best .</td>\n",
       "      <td>pos</td>\n",
       "      <td>0.31</td>\n",
       "    </tr>\n",
       "    <tr>\n",
       "      <th>1467</th>\n",
       "      <td>the film is flat .</td>\n",
       "      <td>neg</td>\n",
       "      <td>0.29</td>\n",
       "    </tr>\n",
       "    <tr>\n",
       "      <th>3856</th>\n",
       "      <td>this is a very fine movie -- go see it .</td>\n",
       "      <td>pos</td>\n",
       "      <td>-0.30</td>\n",
       "    </tr>\n",
       "    <tr>\n",
       "      <th>6180</th>\n",
       "      <td>i just saw this movie . . . well , it's probab...</td>\n",
       "      <td>pos</td>\n",
       "      <td>-0.31</td>\n",
       "    </tr>\n",
       "    <tr>\n",
       "      <th>9862</th>\n",
       "      <td>nothing about this movie works .</td>\n",
       "      <td>neg</td>\n",
       "      <td>-0.31</td>\n",
       "    </tr>\n",
       "    <tr>\n",
       "      <th>3183</th>\n",
       "      <td>a very funny movie .</td>\n",
       "      <td>pos</td>\n",
       "      <td>-0.40</td>\n",
       "    </tr>\n",
       "    <tr>\n",
       "      <th>7265</th>\n",
       "      <td>rarely , a movie is more than a movie . go .</td>\n",
       "      <td>pos</td>\n",
       "      <td>-0.46</td>\n",
       "    </tr>\n",
       "  </tbody>\n",
       "</table>\n",
       "</div>"
      ],
      "text/plain": [
       "                                           movie_review sentiment     1\n",
       "6238                             do not see this film .       neg  0.70\n",
       "5447                                     a funny film .       pos  0.35\n",
       "6198                                a compelling film .       pos  0.34\n",
       "1420                        the film is full of charm .       pos  0.32\n",
       "4340               the film is one of the year's best .       pos  0.31\n",
       "1467                                 the film is flat .       neg  0.29\n",
       "3856           this is a very fine movie -- go see it .       pos -0.30\n",
       "6180  i just saw this movie . . . well , it's probab...       pos -0.31\n",
       "9862                   nothing about this movie works .       neg -0.31\n",
       "3183                               a very funny movie .       pos -0.40\n",
       "7265       rarely , a movie is more than a movie . go .       pos -0.46"
      ]
     },
     "execution_count": 29,
     "metadata": {},
     "output_type": "execute_result"
    }
   ],
   "source": [
    "k = 1\n",
    "ix = [0,1,2,3,4,5,-5,-4,-3,-2,-1] #top 5 and bottoms 5\n",
    "df.sort_values(k,ascending=False).iloc[ix,:][['movie_review','sentiment',k]].round(2)"
   ]
  },
  {
   "cell_type": "code",
   "execution_count": 34,
   "metadata": {},
   "outputs": [
    {
     "data": {
      "text/plain": [
       "film            0.70\n",
       "best            0.04\n",
       "performances    0.03\n",
       "story           0.03\n",
       "year            0.03\n",
       "moving          0.03\n",
       "doesn          -0.02\n",
       "funny          -0.03\n",
       "just           -0.04\n",
       "bad            -0.07\n",
       "movie          -0.67\n",
       "dtype: float64"
      ]
     },
     "execution_count": 34,
     "metadata": {},
     "output_type": "execute_result"
    }
   ],
   "source": [
    "components = svd.components_\n",
    "k = 1\n",
    "components = pd.Series(components[k,:], index = vocabulary)\n",
    "components.sort_values(ascending = False)[ix].round(2)"
   ]
  },
  {
   "cell_type": "code",
   "execution_count": null,
   "metadata": {},
   "outputs": [],
   "source": []
  }
 ],
 "metadata": {
  "kernelspec": {
   "display_name": "Python 3",
   "language": "python",
   "name": "python3"
  },
  "language_info": {
   "codemirror_mode": {
    "name": "ipython",
    "version": 3
   },
   "file_extension": ".py",
   "mimetype": "text/x-python",
   "name": "python",
   "nbconvert_exporter": "python",
   "pygments_lexer": "ipython3",
   "version": "3.8.3"
  }
 },
 "nbformat": 4,
 "nbformat_minor": 4
}
