{
 "cells": [
  {
   "cell_type": "code",
   "execution_count": 1,
   "metadata": {},
   "outputs": [],
   "source": [
    "import numpy as np\n",
    "import pandas as pd\n",
    "from sklearn.datasets import fetch_20newsgroups\n",
    "from sklearn.naive_bayes import MultinomialNB\n",
    "from sklearn.model_selection import GridSearchCV\n",
    "from sklearn.feature_extraction.text import CountVectorizer, TfidfVectorizer"
   ]
  },
  {
   "cell_type": "code",
   "execution_count": 2,
   "metadata": {},
   "outputs": [
    {
     "name": "stderr",
     "output_type": "stream",
     "text": [
      "/opt/anaconda3/lib/python3.6/site-packages/sklearn/utils/deprecation.py:144: FutureWarning: The sklearn.datasets.base module is  deprecated in version 0.22 and will be removed in version 0.24. The corresponding classes / functions should instead be imported from sklearn.datasets. Anything that cannot be imported from sklearn.datasets is now part of the private API.\n",
      "  warnings.warn(message, FutureWarning)\n"
     ]
    }
   ],
   "source": [
    "NewsArticles = fetch_20newsgroups(subset='all',\n",
    "                            remove=('headers','footers','quotes'),\n",
    "                            data_home='/work/ma384/DataSets/Newsgroups', #pkz file only need to go to the directory\n",
    "                            download_if_missing=False)"
   ]
  },
  {
   "cell_type": "code",
   "execution_count": 3,
   "metadata": {},
   "outputs": [
    {
     "name": "stdout",
     "output_type": "stream",
     "text": [
      "(18846, 3)\n"
     ]
    },
    {
     "data": {
      "text/html": [
       "<div>\n",
       "<style scoped>\n",
       "    .dataframe tbody tr th:only-of-type {\n",
       "        vertical-align: middle;\n",
       "    }\n",
       "\n",
       "    .dataframe tbody tr th {\n",
       "        vertical-align: top;\n",
       "    }\n",
       "\n",
       "    .dataframe thead th {\n",
       "        text-align: right;\n",
       "    }\n",
       "</style>\n",
       "<table border=\"1\" class=\"dataframe\">\n",
       "  <thead>\n",
       "    <tr style=\"text-align: right;\">\n",
       "      <th></th>\n",
       "      <th>group</th>\n",
       "      <th>group_names</th>\n",
       "      <th>articles</th>\n",
       "    </tr>\n",
       "  </thead>\n",
       "  <tbody>\n",
       "    <tr>\n",
       "      <td>0</td>\n",
       "      <td>10</td>\n",
       "      <td>rec.sport.hockey</td>\n",
       "      <td>\\n\\nI am sure some bashers of Pens fans are pr...</td>\n",
       "    </tr>\n",
       "    <tr>\n",
       "      <td>1</td>\n",
       "      <td>3</td>\n",
       "      <td>comp.sys.ibm.pc.hardware</td>\n",
       "      <td>My brother is in the market for a high-perform...</td>\n",
       "    </tr>\n",
       "    <tr>\n",
       "      <td>2</td>\n",
       "      <td>17</td>\n",
       "      <td>talk.politics.mideast</td>\n",
       "      <td>\\n\\n\\n\\n\\tFinally you said what you dream abou...</td>\n",
       "    </tr>\n",
       "    <tr>\n",
       "      <td>3</td>\n",
       "      <td>3</td>\n",
       "      <td>comp.sys.ibm.pc.hardware</td>\n",
       "      <td>\\nThink!\\n\\nIt's the SCSI card doing the DMA t...</td>\n",
       "    </tr>\n",
       "    <tr>\n",
       "      <td>4</td>\n",
       "      <td>4</td>\n",
       "      <td>comp.sys.mac.hardware</td>\n",
       "      <td>1)    I have an old Jasmine drive which I cann...</td>\n",
       "    </tr>\n",
       "  </tbody>\n",
       "</table>\n",
       "</div>"
      ],
      "text/plain": [
       "   group               group_names  \\\n",
       "0     10          rec.sport.hockey   \n",
       "1      3  comp.sys.ibm.pc.hardware   \n",
       "2     17     talk.politics.mideast   \n",
       "3      3  comp.sys.ibm.pc.hardware   \n",
       "4      4     comp.sys.mac.hardware   \n",
       "\n",
       "                                            articles  \n",
       "0  \\n\\nI am sure some bashers of Pens fans are pr...  \n",
       "1  My brother is in the market for a high-perform...  \n",
       "2  \\n\\n\\n\\n\\tFinally you said what you dream abou...  \n",
       "3  \\nThink!\\n\\nIt's the SCSI card doing the DMA t...  \n",
       "4  1)    I have an old Jasmine drive which I cann...  "
      ]
     },
     "execution_count": 3,
     "metadata": {},
     "output_type": "execute_result"
    }
   ],
   "source": [
    "# create corpus dataframe\n",
    "GroupNames = pd.Series(NewsArticles.target_names)\n",
    "corpus = pd.DataFrame()\n",
    "corpus['group']      = NewsArticles.target\n",
    "corpus['group_names'] = GroupNames[NewsArticles.target].values\n",
    "corpus['articles']    = NewsArticles.data\n",
    "print(corpus.shape)\n",
    "corpus.head()"
   ]
  },
  {
   "cell_type": "markdown",
   "metadata": {},
   "source": [
    "## 1 gram"
   ]
  },
  {
   "cell_type": "code",
   "execution_count": 4,
   "metadata": {},
   "outputs": [],
   "source": [
    "vectorizer = TfidfVectorizer(analyzer = 'word', stop_words= 'english', norm = 'l1')"
   ]
  },
  {
   "cell_type": "code",
   "execution_count": 5,
   "metadata": {},
   "outputs": [
    {
     "name": "stdout",
     "output_type": "stream",
     "text": [
      "  (0, 22942)\t0.01\n",
      "  (0, 29416)\t0.02\n",
      "  (0, 29793)\t0.02\n",
      "  (0, 30409)\t0.01\n",
      "  (0, 30989)\t0.03\n",
      "  (0, 32124)\t0.02\n",
      "  (0, 38965)\t0.02\n",
      "  (0, 40109)\t0.01\n",
      "  (0, 44206)\t0.04\n",
      "  (0, 44922)\t0.02\n",
      "  (0, 49321)\t0.01\n",
      "  (0, 52286)\t0.02\n",
      "  (0, 53378)\t0.01\n",
      "  (0, 54152)\t0.02\n",
      "  (0, 55396)\t0.03\n",
      "  (0, 56276)\t0.01\n",
      "  (0, 56290)\t0.01\n",
      "  (0, 57968)\t0.02\n",
      "  (0, 67564)\t0.02\n",
      "  (0, 68455)\t0.04\n",
      "  (0, 68851)\t0.02\n",
      "  (0, 69968)\t0.01\n",
      "  (0, 71591)\t0.02\n",
      "  (0, 71631)\t0.01\n",
      "  (0, 73308)\t0.01\n",
      "  :\t:\n",
      "  (18845, 105990)\t0.01\n",
      "  (18845, 106361)\t0.0\n",
      "  (18845, 107288)\t0.01\n",
      "  (18845, 107841)\t0.01\n",
      "  (18845, 108286)\t0.01\n",
      "  (18845, 108448)\t0.01\n",
      "  (18845, 108562)\t0.01\n",
      "  (18845, 109047)\t0.01\n",
      "  (18845, 109116)\t0.01\n",
      "  (18845, 110501)\t0.01\n",
      "  (18845, 110981)\t0.01\n",
      "  (18845, 111070)\t0.01\n",
      "  (18845, 113859)\t0.01\n",
      "  (18845, 113880)\t0.01\n",
      "  (18845, 114648)\t0.01\n",
      "  (18845, 115367)\t0.01\n",
      "  (18845, 117361)\t0.01\n",
      "  (18845, 118367)\t0.01\n",
      "  (18845, 118486)\t0.01\n",
      "  (18845, 122267)\t0.0\n",
      "  (18845, 122408)\t0.01\n",
      "  (18845, 123189)\t0.01\n",
      "  (18845, 125969)\t0.01\n",
      "  (18845, 126098)\t0.01\n",
      "  (18845, 128089)\t0.01\n"
     ]
    }
   ],
   "source": [
    "word_tfidf = vectorizer.fit_transform(corpus.articles.values)\n",
    "print(round(word_tfidf,2))"
   ]
  },
  {
   "cell_type": "code",
   "execution_count": 6,
   "metadata": {},
   "outputs": [
    {
     "data": {
      "text/plain": [
       "(18846, 134101)"
      ]
     },
     "execution_count": 6,
     "metadata": {},
     "output_type": "execute_result"
    }
   ],
   "source": [
    "word_tfidf.shape"
   ]
  },
  {
   "cell_type": "code",
   "execution_count": 7,
   "metadata": {},
   "outputs": [
    {
     "data": {
      "text/plain": [
       "array([[0., 0., 0., ..., 0., 0., 0.],\n",
       "       [0., 0., 0., ..., 0., 0., 0.],\n",
       "       [0., 0., 0., ..., 0., 0., 0.],\n",
       "       ...,\n",
       "       [0., 0., 0., ..., 0., 0., 0.],\n",
       "       [0., 0., 0., ..., 0., 0., 0.],\n",
       "       [0., 0., 0., ..., 0., 0., 0.]])"
      ]
     },
     "execution_count": 7,
     "metadata": {},
     "output_type": "execute_result"
    }
   ],
   "source": [
    "word_tfidf.toarray()"
   ]
  },
  {
   "cell_type": "code",
   "execution_count": 8,
   "metadata": {},
   "outputs": [
    {
     "data": {
      "text/plain": [
       "0              00\n",
       "1             000\n",
       "2            0000\n",
       "3           00000\n",
       "4          000000\n",
       "           ...   \n",
       "134096     zzzzzz\n",
       "134097    zzzzzzt\n",
       "134098     ³ation\n",
       "134099         ýé\n",
       "134100    ÿhooked\n",
       "Length: 134101, dtype: object"
      ]
     },
     "execution_count": 8,
     "metadata": {},
     "output_type": "execute_result"
    }
   ],
   "source": [
    "words = pd.Series(vectorizer.get_feature_names())\n",
    "words"
   ]
  },
  {
   "cell_type": "code",
   "execution_count": 9,
   "metadata": {},
   "outputs": [
    {
     "data": {
      "text/plain": [
       "00          4.85\n",
       "000         4.72\n",
       "0000        8.45\n",
       "00000       8.76\n",
       "000000     10.15\n",
       "           ...  \n",
       "zzzzzz     10.15\n",
       "zzzzzzt    10.15\n",
       "³ation     10.15\n",
       "ýé         10.15\n",
       "ÿhooked    10.15\n",
       "Length: 134101, dtype: float64"
      ]
     },
     "execution_count": 9,
     "metadata": {},
     "output_type": "execute_result"
    }
   ],
   "source": [
    "word_idf = pd.Series(vectorizer.idf_,index=words)\n",
    "word_idf.round(2)"
   ]
  },
  {
   "cell_type": "code",
   "execution_count": 10,
   "metadata": {},
   "outputs": [
    {
     "data": {
      "text/html": [
       "<div>\n",
       "<style scoped>\n",
       "    .dataframe tbody tr th:only-of-type {\n",
       "        vertical-align: middle;\n",
       "    }\n",
       "\n",
       "    .dataframe tbody tr th {\n",
       "        vertical-align: top;\n",
       "    }\n",
       "\n",
       "    .dataframe thead th {\n",
       "        text-align: right;\n",
       "    }\n",
       "</style>\n",
       "<table border=\"1\" class=\"dataframe\">\n",
       "  <thead>\n",
       "    <tr style=\"text-align: right;\">\n",
       "      <th></th>\n",
       "      <th>00</th>\n",
       "      <th>000</th>\n",
       "      <th>0000</th>\n",
       "      <th>00000</th>\n",
       "      <th>000000</th>\n",
       "      <th>00000000</th>\n",
       "      <th>0000000004</th>\n",
       "      <th>00000000b</th>\n",
       "      <th>00000001</th>\n",
       "      <th>00000001b</th>\n",
       "      <th>...</th>\n",
       "      <th>zzs</th>\n",
       "      <th>zzvsi</th>\n",
       "      <th>zzy_3w</th>\n",
       "      <th>zzz</th>\n",
       "      <th>zzzoh</th>\n",
       "      <th>zzzzzz</th>\n",
       "      <th>zzzzzzt</th>\n",
       "      <th>³ation</th>\n",
       "      <th>ýé</th>\n",
       "      <th>ÿhooked</th>\n",
       "    </tr>\n",
       "  </thead>\n",
       "  <tbody>\n",
       "    <tr>\n",
       "      <td>0</td>\n",
       "      <td>0.0</td>\n",
       "      <td>0.0</td>\n",
       "      <td>0.0</td>\n",
       "      <td>0.0</td>\n",
       "      <td>0.0</td>\n",
       "      <td>0.0</td>\n",
       "      <td>0.0</td>\n",
       "      <td>0.0</td>\n",
       "      <td>0.0</td>\n",
       "      <td>0.0</td>\n",
       "      <td>...</td>\n",
       "      <td>0.0</td>\n",
       "      <td>0.0</td>\n",
       "      <td>0.0</td>\n",
       "      <td>0.0</td>\n",
       "      <td>0.0</td>\n",
       "      <td>0.0</td>\n",
       "      <td>0.0</td>\n",
       "      <td>0.0</td>\n",
       "      <td>0.0</td>\n",
       "      <td>0.0</td>\n",
       "    </tr>\n",
       "    <tr>\n",
       "      <td>1</td>\n",
       "      <td>0.0</td>\n",
       "      <td>0.0</td>\n",
       "      <td>0.0</td>\n",
       "      <td>0.0</td>\n",
       "      <td>0.0</td>\n",
       "      <td>0.0</td>\n",
       "      <td>0.0</td>\n",
       "      <td>0.0</td>\n",
       "      <td>0.0</td>\n",
       "      <td>0.0</td>\n",
       "      <td>...</td>\n",
       "      <td>0.0</td>\n",
       "      <td>0.0</td>\n",
       "      <td>0.0</td>\n",
       "      <td>0.0</td>\n",
       "      <td>0.0</td>\n",
       "      <td>0.0</td>\n",
       "      <td>0.0</td>\n",
       "      <td>0.0</td>\n",
       "      <td>0.0</td>\n",
       "      <td>0.0</td>\n",
       "    </tr>\n",
       "    <tr>\n",
       "      <td>2</td>\n",
       "      <td>0.0</td>\n",
       "      <td>0.0</td>\n",
       "      <td>0.0</td>\n",
       "      <td>0.0</td>\n",
       "      <td>0.0</td>\n",
       "      <td>0.0</td>\n",
       "      <td>0.0</td>\n",
       "      <td>0.0</td>\n",
       "      <td>0.0</td>\n",
       "      <td>0.0</td>\n",
       "      <td>...</td>\n",
       "      <td>0.0</td>\n",
       "      <td>0.0</td>\n",
       "      <td>0.0</td>\n",
       "      <td>0.0</td>\n",
       "      <td>0.0</td>\n",
       "      <td>0.0</td>\n",
       "      <td>0.0</td>\n",
       "      <td>0.0</td>\n",
       "      <td>0.0</td>\n",
       "      <td>0.0</td>\n",
       "    </tr>\n",
       "    <tr>\n",
       "      <td>3</td>\n",
       "      <td>0.0</td>\n",
       "      <td>0.0</td>\n",
       "      <td>0.0</td>\n",
       "      <td>0.0</td>\n",
       "      <td>0.0</td>\n",
       "      <td>0.0</td>\n",
       "      <td>0.0</td>\n",
       "      <td>0.0</td>\n",
       "      <td>0.0</td>\n",
       "      <td>0.0</td>\n",
       "      <td>...</td>\n",
       "      <td>0.0</td>\n",
       "      <td>0.0</td>\n",
       "      <td>0.0</td>\n",
       "      <td>0.0</td>\n",
       "      <td>0.0</td>\n",
       "      <td>0.0</td>\n",
       "      <td>0.0</td>\n",
       "      <td>0.0</td>\n",
       "      <td>0.0</td>\n",
       "      <td>0.0</td>\n",
       "    </tr>\n",
       "    <tr>\n",
       "      <td>4</td>\n",
       "      <td>0.0</td>\n",
       "      <td>0.0</td>\n",
       "      <td>0.0</td>\n",
       "      <td>0.0</td>\n",
       "      <td>0.0</td>\n",
       "      <td>0.0</td>\n",
       "      <td>0.0</td>\n",
       "      <td>0.0</td>\n",
       "      <td>0.0</td>\n",
       "      <td>0.0</td>\n",
       "      <td>...</td>\n",
       "      <td>0.0</td>\n",
       "      <td>0.0</td>\n",
       "      <td>0.0</td>\n",
       "      <td>0.0</td>\n",
       "      <td>0.0</td>\n",
       "      <td>0.0</td>\n",
       "      <td>0.0</td>\n",
       "      <td>0.0</td>\n",
       "      <td>0.0</td>\n",
       "      <td>0.0</td>\n",
       "    </tr>\n",
       "    <tr>\n",
       "      <td>...</td>\n",
       "      <td>...</td>\n",
       "      <td>...</td>\n",
       "      <td>...</td>\n",
       "      <td>...</td>\n",
       "      <td>...</td>\n",
       "      <td>...</td>\n",
       "      <td>...</td>\n",
       "      <td>...</td>\n",
       "      <td>...</td>\n",
       "      <td>...</td>\n",
       "      <td>...</td>\n",
       "      <td>...</td>\n",
       "      <td>...</td>\n",
       "      <td>...</td>\n",
       "      <td>...</td>\n",
       "      <td>...</td>\n",
       "      <td>...</td>\n",
       "      <td>...</td>\n",
       "      <td>...</td>\n",
       "      <td>...</td>\n",
       "      <td>...</td>\n",
       "    </tr>\n",
       "    <tr>\n",
       "      <td>18841</td>\n",
       "      <td>0.0</td>\n",
       "      <td>0.0</td>\n",
       "      <td>0.0</td>\n",
       "      <td>0.0</td>\n",
       "      <td>0.0</td>\n",
       "      <td>0.0</td>\n",
       "      <td>0.0</td>\n",
       "      <td>0.0</td>\n",
       "      <td>0.0</td>\n",
       "      <td>0.0</td>\n",
       "      <td>...</td>\n",
       "      <td>0.0</td>\n",
       "      <td>0.0</td>\n",
       "      <td>0.0</td>\n",
       "      <td>0.0</td>\n",
       "      <td>0.0</td>\n",
       "      <td>0.0</td>\n",
       "      <td>0.0</td>\n",
       "      <td>0.0</td>\n",
       "      <td>0.0</td>\n",
       "      <td>0.0</td>\n",
       "    </tr>\n",
       "    <tr>\n",
       "      <td>18842</td>\n",
       "      <td>0.0</td>\n",
       "      <td>0.0</td>\n",
       "      <td>0.0</td>\n",
       "      <td>0.0</td>\n",
       "      <td>0.0</td>\n",
       "      <td>0.0</td>\n",
       "      <td>0.0</td>\n",
       "      <td>0.0</td>\n",
       "      <td>0.0</td>\n",
       "      <td>0.0</td>\n",
       "      <td>...</td>\n",
       "      <td>0.0</td>\n",
       "      <td>0.0</td>\n",
       "      <td>0.0</td>\n",
       "      <td>0.0</td>\n",
       "      <td>0.0</td>\n",
       "      <td>0.0</td>\n",
       "      <td>0.0</td>\n",
       "      <td>0.0</td>\n",
       "      <td>0.0</td>\n",
       "      <td>0.0</td>\n",
       "    </tr>\n",
       "    <tr>\n",
       "      <td>18843</td>\n",
       "      <td>0.0</td>\n",
       "      <td>0.0</td>\n",
       "      <td>0.0</td>\n",
       "      <td>0.0</td>\n",
       "      <td>0.0</td>\n",
       "      <td>0.0</td>\n",
       "      <td>0.0</td>\n",
       "      <td>0.0</td>\n",
       "      <td>0.0</td>\n",
       "      <td>0.0</td>\n",
       "      <td>...</td>\n",
       "      <td>0.0</td>\n",
       "      <td>0.0</td>\n",
       "      <td>0.0</td>\n",
       "      <td>0.0</td>\n",
       "      <td>0.0</td>\n",
       "      <td>0.0</td>\n",
       "      <td>0.0</td>\n",
       "      <td>0.0</td>\n",
       "      <td>0.0</td>\n",
       "      <td>0.0</td>\n",
       "    </tr>\n",
       "    <tr>\n",
       "      <td>18844</td>\n",
       "      <td>0.0</td>\n",
       "      <td>0.0</td>\n",
       "      <td>0.0</td>\n",
       "      <td>0.0</td>\n",
       "      <td>0.0</td>\n",
       "      <td>0.0</td>\n",
       "      <td>0.0</td>\n",
       "      <td>0.0</td>\n",
       "      <td>0.0</td>\n",
       "      <td>0.0</td>\n",
       "      <td>...</td>\n",
       "      <td>0.0</td>\n",
       "      <td>0.0</td>\n",
       "      <td>0.0</td>\n",
       "      <td>0.0</td>\n",
       "      <td>0.0</td>\n",
       "      <td>0.0</td>\n",
       "      <td>0.0</td>\n",
       "      <td>0.0</td>\n",
       "      <td>0.0</td>\n",
       "      <td>0.0</td>\n",
       "    </tr>\n",
       "    <tr>\n",
       "      <td>18845</td>\n",
       "      <td>0.0</td>\n",
       "      <td>0.0</td>\n",
       "      <td>0.0</td>\n",
       "      <td>0.0</td>\n",
       "      <td>0.0</td>\n",
       "      <td>0.0</td>\n",
       "      <td>0.0</td>\n",
       "      <td>0.0</td>\n",
       "      <td>0.0</td>\n",
       "      <td>0.0</td>\n",
       "      <td>...</td>\n",
       "      <td>0.0</td>\n",
       "      <td>0.0</td>\n",
       "      <td>0.0</td>\n",
       "      <td>0.0</td>\n",
       "      <td>0.0</td>\n",
       "      <td>0.0</td>\n",
       "      <td>0.0</td>\n",
       "      <td>0.0</td>\n",
       "      <td>0.0</td>\n",
       "      <td>0.0</td>\n",
       "    </tr>\n",
       "  </tbody>\n",
       "</table>\n",
       "<p>18846 rows × 134101 columns</p>\n",
       "</div>"
      ],
      "text/plain": [
       "        00  000  0000  00000  000000  00000000  0000000004  00000000b  \\\n",
       "0      0.0  0.0   0.0    0.0     0.0       0.0         0.0        0.0   \n",
       "1      0.0  0.0   0.0    0.0     0.0       0.0         0.0        0.0   \n",
       "2      0.0  0.0   0.0    0.0     0.0       0.0         0.0        0.0   \n",
       "3      0.0  0.0   0.0    0.0     0.0       0.0         0.0        0.0   \n",
       "4      0.0  0.0   0.0    0.0     0.0       0.0         0.0        0.0   \n",
       "...    ...  ...   ...    ...     ...       ...         ...        ...   \n",
       "18841  0.0  0.0   0.0    0.0     0.0       0.0         0.0        0.0   \n",
       "18842  0.0  0.0   0.0    0.0     0.0       0.0         0.0        0.0   \n",
       "18843  0.0  0.0   0.0    0.0     0.0       0.0         0.0        0.0   \n",
       "18844  0.0  0.0   0.0    0.0     0.0       0.0         0.0        0.0   \n",
       "18845  0.0  0.0   0.0    0.0     0.0       0.0         0.0        0.0   \n",
       "\n",
       "       00000001  00000001b  ...  zzs  zzvsi  zzy_3w  zzz  zzzoh  zzzzzz  \\\n",
       "0           0.0        0.0  ...  0.0    0.0     0.0  0.0    0.0     0.0   \n",
       "1           0.0        0.0  ...  0.0    0.0     0.0  0.0    0.0     0.0   \n",
       "2           0.0        0.0  ...  0.0    0.0     0.0  0.0    0.0     0.0   \n",
       "3           0.0        0.0  ...  0.0    0.0     0.0  0.0    0.0     0.0   \n",
       "4           0.0        0.0  ...  0.0    0.0     0.0  0.0    0.0     0.0   \n",
       "...         ...        ...  ...  ...    ...     ...  ...    ...     ...   \n",
       "18841       0.0        0.0  ...  0.0    0.0     0.0  0.0    0.0     0.0   \n",
       "18842       0.0        0.0  ...  0.0    0.0     0.0  0.0    0.0     0.0   \n",
       "18843       0.0        0.0  ...  0.0    0.0     0.0  0.0    0.0     0.0   \n",
       "18844       0.0        0.0  ...  0.0    0.0     0.0  0.0    0.0     0.0   \n",
       "18845       0.0        0.0  ...  0.0    0.0     0.0  0.0    0.0     0.0   \n",
       "\n",
       "       zzzzzzt  ³ation   ýé  ÿhooked  \n",
       "0          0.0     0.0  0.0      0.0  \n",
       "1          0.0     0.0  0.0      0.0  \n",
       "2          0.0     0.0  0.0      0.0  \n",
       "3          0.0     0.0  0.0      0.0  \n",
       "4          0.0     0.0  0.0      0.0  \n",
       "...        ...     ...  ...      ...  \n",
       "18841      0.0     0.0  0.0      0.0  \n",
       "18842      0.0     0.0  0.0      0.0  \n",
       "18843      0.0     0.0  0.0      0.0  \n",
       "18844      0.0     0.0  0.0      0.0  \n",
       "18845      0.0     0.0  0.0      0.0  \n",
       "\n",
       "[18846 rows x 134101 columns]"
      ]
     },
     "execution_count": 10,
     "metadata": {},
     "output_type": "execute_result"
    }
   ],
   "source": [
    "attributes = pd.DataFrame(word_tfidf.toarray(),columns=words)\n",
    "attributes.round(2)"
   ]
  },
  {
   "cell_type": "code",
   "execution_count": 11,
   "metadata": {},
   "outputs": [
    {
     "data": {
      "text/plain": [
       "(18846, 134101)"
      ]
     },
     "execution_count": 11,
     "metadata": {},
     "output_type": "execute_result"
    }
   ],
   "source": [
    "attributes.shape"
   ]
  },
  {
   "cell_type": "code",
   "execution_count": 12,
   "metadata": {},
   "outputs": [
    {
     "data": {
      "text/plain": [
       "(18846,)"
      ]
     },
     "execution_count": 12,
     "metadata": {},
     "output_type": "execute_result"
    }
   ],
   "source": [
    "target = corpus.group\n",
    "target.shape"
   ]
  },
  {
   "cell_type": "code",
   "execution_count": 13,
   "metadata": {},
   "outputs": [],
   "source": [
    "hparam = {'alpha': [1e-10, 0.1, 0.2, 0.3, 0.4, 0.5]}"
   ]
  },
  {
   "cell_type": "code",
   "execution_count": 14,
   "metadata": {},
   "outputs": [],
   "source": [
    "NBayes = MultinomialNB()"
   ]
  },
  {
   "cell_type": "code",
   "execution_count": 15,
   "metadata": {},
   "outputs": [],
   "source": [
    "NBayesCV = GridSearchCV(NBayes, param_grid=hparam, return_train_score=True)"
   ]
  },
  {
   "cell_type": "code",
   "execution_count": 16,
   "metadata": {},
   "outputs": [
    {
     "data": {
      "text/plain": [
       "GridSearchCV(cv=None, error_score=nan,\n",
       "             estimator=MultinomialNB(alpha=1.0, class_prior=None,\n",
       "                                     fit_prior=True),\n",
       "             iid='deprecated', n_jobs=None,\n",
       "             param_grid={'alpha': [1e-10, 0.1, 0.2, 0.3, 0.4, 0.5]},\n",
       "             pre_dispatch='2*n_jobs', refit=True, return_train_score=True,\n",
       "             scoring=None, verbose=0)"
      ]
     },
     "execution_count": 16,
     "metadata": {},
     "output_type": "execute_result"
    }
   ],
   "source": [
    "NBayesCV.fit(attributes,target)"
   ]
  },
  {
   "cell_type": "code",
   "execution_count": 19,
   "metadata": {},
   "outputs": [
    {
     "data": {
      "text/plain": [
       "<matplotlib.axes._subplots.AxesSubplot at 0x7fd0c462fba8>"
      ]
     },
     "execution_count": 19,
     "metadata": {},
     "output_type": "execute_result"
    },
    {
     "data": {
      "image/png": "[encoded data removed]",
      "text/plain": [
       "<Figure size 432x288 with 1 Axes>"
      ]
     },
     "metadata": {
      "needs_background": "light"
     },
     "output_type": "display_data"
    }
   ],
   "source": [
    "results = pd.DataFrame()\n",
    "results['hparam'] = hparam['alpha']\n",
    "results['valid error'] = 1 - NBayesCV.cv_results_['mean_test_score']\n",
    "results['train error'] = 1 - NBayesCV.cv_results_['mean_train_score']\n",
    "results = results.set_index('hparam', drop=True)\n",
    "results.plot(kind='line')"
   ]
  },
  {
   "cell_type": "code",
   "execution_count": 20,
   "metadata": {},
   "outputs": [
    {
     "data": {
      "text/html": [
       "<div>\n",
       "<style scoped>\n",
       "    .dataframe tbody tr th:only-of-type {\n",
       "        vertical-align: middle;\n",
       "    }\n",
       "\n",
       "    .dataframe tbody tr th {\n",
       "        vertical-align: top;\n",
       "    }\n",
       "\n",
       "    .dataframe thead th {\n",
       "        text-align: right;\n",
       "    }\n",
       "</style>\n",
       "<table border=\"1\" class=\"dataframe\">\n",
       "  <thead>\n",
       "    <tr style=\"text-align: right;\">\n",
       "      <th></th>\n",
       "      <th>valid error</th>\n",
       "      <th>train error</th>\n",
       "    </tr>\n",
       "    <tr>\n",
       "      <th>hparam</th>\n",
       "      <th></th>\n",
       "      <th></th>\n",
       "    </tr>\n",
       "  </thead>\n",
       "  <tbody>\n",
       "    <tr>\n",
       "      <td>1.000000e-10</td>\n",
       "      <td>0.291043</td>\n",
       "      <td>0.034530</td>\n",
       "    </tr>\n",
       "    <tr>\n",
       "      <td>1.000000e-01</td>\n",
       "      <td>0.288708</td>\n",
       "      <td>0.138942</td>\n",
       "    </tr>\n",
       "    <tr>\n",
       "      <td>2.000000e-01</td>\n",
       "      <td>0.305476</td>\n",
       "      <td>0.168073</td>\n",
       "    </tr>\n",
       "  </tbody>\n",
       "</table>\n",
       "</div>"
      ],
      "text/plain": [
       "              valid error  train error\n",
       "hparam                                \n",
       "1.000000e-10     0.291043     0.034530\n",
       "1.000000e-01     0.288708     0.138942\n",
       "2.000000e-01     0.305476     0.168073"
      ]
     },
     "execution_count": 20,
     "metadata": {},
     "output_type": "execute_result"
    }
   ],
   "source": [
    "results.head(3)"
   ]
  },
  {
   "cell_type": "code",
   "execution_count": 21,
   "metadata": {},
   "outputs": [
    {
     "data": {
      "text/plain": [
       "{'alpha': 0.1}"
      ]
     },
     "execution_count": 21,
     "metadata": {},
     "output_type": "execute_result"
    }
   ],
   "source": [
    "NBayesCV.best_params_"
   ]
  },
  {
   "cell_type": "code",
   "execution_count": 22,
   "metadata": {},
   "outputs": [
    {
     "name": "stdout",
     "output_type": "stream",
     "text": [
      "Naive Bayes error rate: 0.29\n"
     ]
    }
   ],
   "source": [
    "error_bayes = 1- NBayesCV.best_score_\n",
    "print('Naive Bayes error rate:', error_bayes.round(2))"
   ]
  },
  {
   "cell_type": "code",
   "execution_count": 23,
   "metadata": {},
   "outputs": [
    {
     "data": {
      "text/plain": [
       "array([ 0,  1,  2,  3,  4,  5,  6,  7,  8,  9, 10, 11, 12, 13, 14, 15, 16,\n",
       "       17, 18, 19])"
      ]
     },
     "execution_count": 23,
     "metadata": {},
     "output_type": "execute_result"
    }
   ],
   "source": [
    "prob = NBayesCV.best_estimator_.predict_proba(attributes)\n",
    "classes = NBayesCV.best_estimator_.classes_\n",
    "classes"
   ]
  },
  {
   "cell_type": "code",
   "execution_count": 24,
   "metadata": {},
   "outputs": [
    {
     "data": {
      "text/plain": [
       "0.947"
      ]
     },
     "execution_count": 24,
     "metadata": {},
     "output_type": "execute_result"
    }
   ],
   "source": [
    "# baseline-> biggest group\n",
    "round(1 - corpus['group'].value_counts().max() / corpus.shape[0],3)"
   ]
  },
  {
   "cell_type": "code",
   "execution_count": 25,
   "metadata": {},
   "outputs": [
    {
     "name": "stdout",
     "output_type": "stream",
     "text": [
      "NB valid error rate: 0.289\n",
      "NB train error rate: 0.0345\n"
     ]
    }
   ],
   "source": [
    "print(\"NB valid error rate:\", round(1 - NBayesCV.best_score_, 3))\n",
    "print(\"NB train error rate:\", round(results['train error'].min(), 4))"
   ]
  },
  {
   "cell_type": "markdown",
   "metadata": {},
   "source": [
    "## 2 gram"
   ]
  },
  {
   "cell_type": "code",
   "execution_count": 26,
   "metadata": {},
   "outputs": [],
   "source": [
    "vectorizer = TfidfVectorizer(analyzer = 'word', stop_words= 'english', norm = 'l2')"
   ]
  },
  {
   "cell_type": "code",
   "execution_count": 29,
   "metadata": {},
   "outputs": [
    {
     "name": "stdout",
     "output_type": "stream",
     "text": [
      "  (0, 22942)\t0.06\n",
      "  (0, 29416)\t0.14\n",
      "  (0, 29793)\t0.1\n",
      "  (0, 30409)\t0.06\n",
      "  (0, 30989)\t0.2\n",
      "  (0, 32124)\t0.14\n",
      "  (0, 38965)\t0.1\n",
      "  (0, 40109)\t0.08\n",
      "  (0, 44206)\t0.22\n",
      "  (0, 44922)\t0.13\n",
      "  (0, 49321)\t0.07\n",
      "  (0, 52286)\t0.1\n",
      "  (0, 53378)\t0.09\n",
      "  (0, 54152)\t0.13\n",
      "  (0, 55396)\t0.19\n",
      "  (0, 56276)\t0.07\n",
      "  (0, 56290)\t0.08\n",
      "  (0, 57968)\t0.12\n",
      "  (0, 67564)\t0.11\n",
      "  (0, 68455)\t0.25\n",
      "  (0, 68851)\t0.11\n",
      "  (0, 69968)\t0.04\n",
      "  (0, 71591)\t0.09\n",
      "  (0, 71631)\t0.07\n",
      "  (0, 73308)\t0.09\n",
      "  :\t:\n",
      "  (18845, 105990)\t0.08\n",
      "  (18845, 106361)\t0.04\n",
      "  (18845, 107288)\t0.05\n",
      "  (18845, 107841)\t0.06\n",
      "  (18845, 108286)\t0.09\n",
      "  (18845, 108448)\t0.09\n",
      "  (18845, 108562)\t0.11\n",
      "  (18845, 109047)\t0.13\n",
      "  (18845, 109116)\t0.06\n",
      "  (18845, 110501)\t0.09\n",
      "  (18845, 110981)\t0.1\n",
      "  (18845, 111070)\t0.06\n",
      "  (18845, 113859)\t0.1\n",
      "  (18845, 113880)\t0.08\n",
      "  (18845, 114648)\t0.06\n",
      "  (18845, 115367)\t0.06\n",
      "  (18845, 117361)\t0.09\n",
      "  (18845, 118367)\t0.1\n",
      "  (18845, 118486)\t0.08\n",
      "  (18845, 122267)\t0.04\n",
      "  (18845, 122408)\t0.09\n",
      "  (18845, 123189)\t0.09\n",
      "  (18845, 125969)\t0.07\n",
      "  (18845, 126098)\t0.09\n",
      "  (18845, 128089)\t0.06\n"
     ]
    },
    {
     "data": {
      "text/plain": [
       "00          4.85\n",
       "000         4.72\n",
       "0000        8.45\n",
       "00000       8.76\n",
       "000000     10.15\n",
       "           ...  \n",
       "zzzzzz     10.15\n",
       "zzzzzzt    10.15\n",
       "³ation     10.15\n",
       "ýé         10.15\n",
       "ÿhooked    10.15\n",
       "Length: 134101, dtype: float64"
      ]
     },
     "execution_count": 29,
     "metadata": {},
     "output_type": "execute_result"
    }
   ],
   "source": [
    "word_tfidf = vectorizer.fit_transform(corpus.articles.values)\n",
    "print(round(word_tfidf,2))\n",
    "word_tfidf.toarray()\n",
    "words = pd.Series(vectorizer.get_feature_names())\n",
    "word_idf = pd.Series(vectorizer.idf_,index=words)\n",
    "word_idf.round(2)"
   ]
  },
  {
   "cell_type": "code",
   "execution_count": 30,
   "metadata": {},
   "outputs": [
    {
     "data": {
      "text/plain": [
       "(18846, 134101)"
      ]
     },
     "execution_count": 30,
     "metadata": {},
     "output_type": "execute_result"
    }
   ],
   "source": [
    "attributes.shape"
   ]
  },
  {
   "cell_type": "code",
   "execution_count": 31,
   "metadata": {},
   "outputs": [
    {
     "data": {
      "text/plain": [
       "(18846,)"
      ]
     },
     "execution_count": 31,
     "metadata": {},
     "output_type": "execute_result"
    }
   ],
   "source": [
    "target = corpus.group\n",
    "target.shape"
   ]
  },
  {
   "cell_type": "code",
   "execution_count": 32,
   "metadata": {},
   "outputs": [
    {
     "data": {
      "text/plain": [
       "GridSearchCV(cv=None, error_score=nan,\n",
       "             estimator=MultinomialNB(alpha=1.0, class_prior=None,\n",
       "                                     fit_prior=True),\n",
       "             iid='deprecated', n_jobs=None,\n",
       "             param_grid={'alpha': [1e-10, 0.1, 0.2, 0.3, 0.4, 0.5]},\n",
       "             pre_dispatch='2*n_jobs', refit=True, return_train_score=True,\n",
       "             scoring=None, verbose=0)"
      ]
     },
     "execution_count": 32,
     "metadata": {},
     "output_type": "execute_result"
    }
   ],
   "source": [
    "hparam = {'alpha': [1e-10, 0.1, 0.2, 0.3, 0.4, 0.5]}\n",
    "#np.linspace(0,0.1,101)}\n",
    "NBayes = MultinomialNB()\n",
    "NBayesCV = GridSearchCV(NBayes, param_grid=hparam, return_train_score=True)\n",
    "NBayesCV.fit(attributes,target)"
   ]
  },
  {
   "cell_type": "code",
   "execution_count": 33,
   "metadata": {},
   "outputs": [
    {
     "data": {
      "text/plain": [
       "<matplotlib.axes._subplots.AxesSubplot at 0x7fc752f415f8>"
      ]
     },
     "execution_count": 33,
     "metadata": {},
     "output_type": "execute_result"
    },
    {
     "data": {
      "image/png": "[encoded data removed]",
      "text/plain": [
       "<Figure size 432x288 with 1 Axes>"
      ]
     },
     "metadata": {
      "needs_background": "light"
     },
     "output_type": "display_data"
    }
   ],
   "source": [
    "results = pd.DataFrame()\n",
    "results['hparam'] = hparam['alpha']\n",
    "results['valid error'] = 1 - NBayesCV.cv_results_['mean_test_score']\n",
    "results['train error'] = 1 - NBayesCV.cv_results_['mean_train_score']\n",
    "results = results.set_index('hparam', drop=True)\n",
    "results.plot(kind='line')"
   ]
  },
  {
   "cell_type": "code",
   "execution_count": 34,
   "metadata": {},
   "outputs": [
    {
     "data": {
      "text/plain": [
       "{'alpha': 0.1}"
      ]
     },
     "execution_count": 34,
     "metadata": {},
     "output_type": "execute_result"
    }
   ],
   "source": [
    "NBayesCV.best_params_"
   ]
  },
  {
   "cell_type": "code",
   "execution_count": 35,
   "metadata": {},
   "outputs": [
    {
     "name": "stdout",
     "output_type": "stream",
     "text": [
      "Naive Bayes error rate: 0.29\n"
     ]
    }
   ],
   "source": [
    "error_bayes = 1- NBayesCV.best_score_\n",
    "print('Naive Bayes error rate:', error_bayes.round(2))"
   ]
  },
  {
   "cell_type": "code",
   "execution_count": 36,
   "metadata": {},
   "outputs": [
    {
     "data": {
      "text/plain": [
       "array([ 0,  1,  2,  3,  4,  5,  6,  7,  8,  9, 10, 11, 12, 13, 14, 15, 16,\n",
       "       17, 18, 19])"
      ]
     },
     "execution_count": 36,
     "metadata": {},
     "output_type": "execute_result"
    }
   ],
   "source": [
    "prob = NBayesCV.best_estimator_.predict_proba(attributes)\n",
    "classes = NBayesCV.best_estimator_.classes_\n",
    "classes"
   ]
  },
  {
   "cell_type": "code",
   "execution_count": 37,
   "metadata": {},
   "outputs": [
    {
     "data": {
      "text/plain": [
       "0.947"
      ]
     },
     "execution_count": 37,
     "metadata": {},
     "output_type": "execute_result"
    }
   ],
   "source": [
    "# baseline\n",
    "round(1 - corpus['group'].value_counts().max() / corpus.shape[0],3)"
   ]
  },
  {
   "cell_type": "code",
   "execution_count": 38,
   "metadata": {},
   "outputs": [
    {
     "name": "stdout",
     "output_type": "stream",
     "text": [
      "NB valid error rate: 0.289\n",
      "NB train error rate: 0.0345\n"
     ]
    }
   ],
   "source": [
    "print(\"NB valid error rate:\", round(1 - NBayesCV.best_score_, 3))\n",
    "print(\"NB train error rate:\", round(results['train error'].min(), 4))"
   ]
  },
  {
   "cell_type": "markdown",
   "metadata": {},
   "source": [
    "## 3 gram"
   ]
  },
  {
   "cell_type": "code",
   "execution_count": 49,
   "metadata": {},
   "outputs": [],
   "source": [
    "vectorizer = TfidfVectorizer(analyzer = 'word', stop_words= 'english', ngram_range = (1,2))"
   ]
  },
  {
   "cell_type": "code",
   "execution_count": 50,
   "metadata": {},
   "outputs": [
    {
     "name": "stdout",
     "output_type": "stream",
     "text": [
      "  (0, 130387)\t0.04\n",
      "  (0, 130488)\t0.09\n",
      "  (0, 207267)\t0.09\n",
      "  (0, 207272)\t0.1\n",
      "  (0, 211289)\t0.06\n",
      "  (0, 211408)\t0.1\n",
      "  (0, 219525)\t0.04\n",
      "  (0, 220337)\t0.1\n",
      "  (0, 226003)\t0.12\n",
      "  (0, 226598)\t0.1\n",
      "  (0, 226625)\t0.1\n",
      "  (0, 226654)\t0.1\n",
      "  (0, 239232)\t0.08\n",
      "  (0, 239245)\t0.1\n",
      "  (0, 332713)\t0.06\n",
      "  (0, 332760)\t0.1\n",
      "  (0, 353794)\t0.05\n",
      "  (0, 353891)\t0.09\n",
      "  (0, 402334)\t0.13\n",
      "  (0, 402346)\t0.1\n",
      "  (0, 402427)\t0.1\n",
      "  (0, 413189)\t0.08\n",
      "  (0, 413201)\t0.1\n",
      "  (0, 461346)\t0.04\n",
      "  (0, 461828)\t0.1\n",
      "  :\t:\n",
      "  (18845, 1197242)\t0.08\n",
      "  (18845, 1199687)\t0.05\n",
      "  (18845, 1199770)\t0.08\n",
      "  (18845, 1207629)\t0.03\n",
      "  (18845, 1208083)\t0.08\n",
      "  (18845, 1213061)\t0.04\n",
      "  (18845, 1213181)\t0.08\n",
      "  (18845, 1245181)\t0.05\n",
      "  (18845, 1245193)\t0.08\n",
      "  (18845, 1256584)\t0.06\n",
      "  (18845, 1256587)\t0.08\n",
      "  (18845, 1257854)\t0.05\n",
      "  (18845, 1257960)\t0.08\n",
      "  (18845, 1289052)\t0.02\n",
      "  (18845, 1290186)\t0.08\n",
      "  (18845, 1298021)\t0.05\n",
      "  (18845, 1298034)\t0.06\n",
      "  (18845, 1301740)\t0.05\n",
      "  (18845, 1301756)\t0.08\n",
      "  (18845, 1323860)\t0.04\n",
      "  (18845, 1324030)\t0.07\n",
      "  (18845, 1327093)\t0.05\n",
      "  (18845, 1327137)\t0.07\n",
      "  (18845, 1358624)\t0.03\n",
      "  (18845, 1358719)\t0.08\n"
     ]
    },
    {
     "data": {
      "text/plain": [
       "00                4.85\n",
       "00 00             7.59\n",
       "00 000            9.23\n",
       "00 0020          10.15\n",
       "00 00am          10.15\n",
       "                 ...  \n",
       "³ation area      10.15\n",
       "ýé               10.15\n",
       "ýé interested    10.15\n",
       "ÿhooked          10.15\n",
       "ÿhooked line     10.15\n",
       "Length: 1388659, dtype: float64"
      ]
     },
     "execution_count": 50,
     "metadata": {},
     "output_type": "execute_result"
    }
   ],
   "source": [
    "word_tfidf = vectorizer.fit_transform(corpus.articles.values)\n",
    "print(round(word_tfidf,2))\n",
    "word_tfidf.toarray()\n",
    "words = pd.Series(vectorizer.get_feature_names())\n",
    "word_idf = pd.Series(vectorizer.idf_,index=words)\n",
    "word_idf.round(2)"
   ]
  },
  {
   "cell_type": "code",
   "execution_count": 51,
   "metadata": {},
   "outputs": [
    {
     "data": {
      "text/plain": [
       "(18846, 134101)"
      ]
     },
     "execution_count": 51,
     "metadata": {},
     "output_type": "execute_result"
    }
   ],
   "source": [
    "attributes.shape"
   ]
  },
  {
   "cell_type": "code",
   "execution_count": 52,
   "metadata": {},
   "outputs": [
    {
     "data": {
      "text/plain": [
       "(18846,)"
      ]
     },
     "execution_count": 52,
     "metadata": {},
     "output_type": "execute_result"
    }
   ],
   "source": [
    "target = corpus.group\n",
    "target.shape"
   ]
  },
  {
   "cell_type": "code",
   "execution_count": 53,
   "metadata": {},
   "outputs": [
    {
     "data": {
      "text/plain": [
       "GridSearchCV(cv=None, error_score=nan,\n",
       "             estimator=MultinomialNB(alpha=1.0, class_prior=None,\n",
       "                                     fit_prior=True),\n",
       "             iid='deprecated', n_jobs=None,\n",
       "             param_grid={'alpha': [1e-10, 0.1, 0.2, 0.3, 0.4, 0.5]},\n",
       "             pre_dispatch='2*n_jobs', refit=True, return_train_score=True,\n",
       "             scoring=None, verbose=0)"
      ]
     },
     "execution_count": 53,
     "metadata": {},
     "output_type": "execute_result"
    }
   ],
   "source": [
    "hparam = {'alpha': [1e-10, 0.1, 0.2, 0.3, 0.4, 0.5]}\n",
    "#np.linspace(0,0.1,101)}\n",
    "NBayes = MultinomialNB()\n",
    "NBayesCV = GridSearchCV(NBayes, param_grid=hparam, return_train_score=True)\n",
    "NBayesCV.fit(attributes,target)"
   ]
  },
  {
   "cell_type": "code",
   "execution_count": 56,
   "metadata": {},
   "outputs": [
    {
     "data": {
      "text/plain": [
       "<matplotlib.axes._subplots.AxesSubplot at 0x7fc287398908>"
      ]
     },
     "execution_count": 56,
     "metadata": {},
     "output_type": "execute_result"
    },
    {
     "data": {
      "image/png": "[encoded data removed]",
      "text/plain": [
       "<Figure size 432x288 with 1 Axes>"
      ]
     },
     "metadata": {
      "needs_background": "light"
     },
     "output_type": "display_data"
    }
   ],
   "source": [
    "#results = pd.DataFrame()\n",
    "#results['hparam'] = hparam['alpha']\n",
    "#results['alpha'] = param_grid['alpha']\n",
    "#results['train error'] = 1 - NBayesCV.cv_results_['mean_test_score']\n",
    "#results.plot.line(x='alpha', y=' validation error')\n",
    "\n",
    "results = pd.DataFrame()\n",
    "results['hparam'] = hparam['alpha']\n",
    "results['valid error'] = 1 - NBayesCV.cv_results_['mean_test_score']\n",
    "results['train error'] = 1 - NBayesCV.cv_results_['mean_train_score']\n",
    "results = results.set_index('hparam', drop=True)\n",
    "results.plot(kind='line')"
   ]
  },
  {
   "cell_type": "code",
   "execution_count": 57,
   "metadata": {},
   "outputs": [
    {
     "data": {
      "text/plain": [
       "{'alpha': 0.1}"
      ]
     },
     "execution_count": 57,
     "metadata": {},
     "output_type": "execute_result"
    }
   ],
   "source": [
    "NBayesCV.best_params_"
   ]
  },
  {
   "cell_type": "code",
   "execution_count": 58,
   "metadata": {},
   "outputs": [
    {
     "name": "stdout",
     "output_type": "stream",
     "text": [
      "Naive Bayes error rate: 0.29\n"
     ]
    }
   ],
   "source": [
    "error_bayes = 1- NBayesCV.best_score_\n",
    "print('Naive Bayes error rate:', error_bayes.round(2))"
   ]
  },
  {
   "cell_type": "code",
   "execution_count": 59,
   "metadata": {},
   "outputs": [
    {
     "data": {
      "text/plain": [
       "array([ 0,  1,  2,  3,  4,  5,  6,  7,  8,  9, 10, 11, 12, 13, 14, 15, 16,\n",
       "       17, 18, 19])"
      ]
     },
     "execution_count": 59,
     "metadata": {},
     "output_type": "execute_result"
    }
   ],
   "source": [
    "prob = NBayesCV.best_estimator_.predict_proba(attributes)\n",
    "classes = NBayesCV.best_estimator_.classes_\n",
    "classes"
   ]
  },
  {
   "cell_type": "code",
   "execution_count": 60,
   "metadata": {},
   "outputs": [
    {
     "data": {
      "text/plain": [
       "0.947"
      ]
     },
     "execution_count": 60,
     "metadata": {},
     "output_type": "execute_result"
    }
   ],
   "source": [
    "# baseline\n",
    "round(1 - corpus['group'].value_counts().max() / corpus.shape[0],3)"
   ]
  },
  {
   "cell_type": "code",
   "execution_count": 61,
   "metadata": {},
   "outputs": [
    {
     "name": "stdout",
     "output_type": "stream",
     "text": [
      "NB valid error rate: 0.289\n",
      "NB train error rate: 0.0345\n"
     ]
    }
   ],
   "source": [
    "print(\"NB valid error rate:\", round(1 - NBayesCV.best_score_, 3))\n",
    "print(\"NB train error rate:\", round(results['train error'].min(), 4))"
   ]
  },
  {
   "cell_type": "code",
   "execution_count": null,
   "metadata": {},
   "outputs": [],
   "source": []
  },
  {
   "cell_type": "code",
   "execution_count": null,
   "metadata": {},
   "outputs": [],
   "source": []
  },
  {
   "cell_type": "code",
   "execution_count": null,
   "metadata": {},
   "outputs": [],
   "source": []
  },
  {
   "cell_type": "code",
   "execution_count": null,
   "metadata": {},
   "outputs": [],
   "source": []
  }
 ],
 "metadata": {
  "kernelspec": {
   "display_name": "Python 3",
   "language": "python",
   "name": "python3"
  },
  "language_info": {
   "codemirror_mode": {
    "name": "ipython",
    "version": 3
   },
   "file_extension": ".py",
   "mimetype": "text/x-python",
   "name": "python",
   "nbconvert_exporter": "python",
   "pygments_lexer": "ipython3",
   "version": "3.8.3"
  }
 },
 "nbformat": 4,
 "nbformat_minor": 4
}
