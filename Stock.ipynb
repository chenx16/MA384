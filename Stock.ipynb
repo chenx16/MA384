{
 "cells": [
  {
   "cell_type": "markdown",
   "metadata": {},
   "source": [
    "# Example3 (Stocks)"
   ]
  },
  {
   "cell_type": "code",
   "execution_count": 11,
   "metadata": {},
   "outputs": [],
   "source": [
    "import pandas as pd\n",
    "import matplotlib.pyplot as plt"
   ]
  },
  {
   "cell_type": "code",
   "execution_count": 12,
   "metadata": {},
   "outputs": [
    {
     "data": {
      "text/html": [
       "<div>\n",
       "<style scoped>\n",
       "    .dataframe tbody tr th:only-of-type {\n",
       "        vertical-align: middle;\n",
       "    }\n",
       "\n",
       "    .dataframe tbody tr th {\n",
       "        vertical-align: top;\n",
       "    }\n",
       "\n",
       "    .dataframe thead th {\n",
       "        text-align: right;\n",
       "    }\n",
       "</style>\n",
       "<table border=\"1\" class=\"dataframe\">\n",
       "  <thead>\n",
       "    <tr style=\"text-align: right;\">\n",
       "      <th></th>\n",
       "      <th>Date</th>\n",
       "      <th>A</th>\n",
       "      <th>AA</th>\n",
       "      <th>AAPL</th>\n",
       "      <th>ABC</th>\n",
       "      <th>ABT</th>\n",
       "      <th>ACS</th>\n",
       "      <th>ADBE</th>\n",
       "      <th>ADI</th>\n",
       "      <th>ADM</th>\n",
       "      <th>...</th>\n",
       "      <th>X</th>\n",
       "      <th>XEL</th>\n",
       "      <th>XL</th>\n",
       "      <th>XLNX</th>\n",
       "      <th>XOM</th>\n",
       "      <th>XRAY</th>\n",
       "      <th>XRX</th>\n",
       "      <th>YHOO</th>\n",
       "      <th>YUM</th>\n",
       "      <th>ZION</th>\n",
       "    </tr>\n",
       "  </thead>\n",
       "  <tbody>\n",
       "    <tr>\n",
       "      <th>0</th>\n",
       "      <td>2000-01-03</td>\n",
       "      <td>46.354670</td>\n",
       "      <td>30.172580</td>\n",
       "      <td>3.660058</td>\n",
       "      <td>3.326019</td>\n",
       "      <td>9.639804</td>\n",
       "      <td>0.019</td>\n",
       "      <td>16.274667</td>\n",
       "      <td>32.947692</td>\n",
       "      <td>7.912229</td>\n",
       "      <td>...</td>\n",
       "      <td>25.380447</td>\n",
       "      <td>8.810155</td>\n",
       "      <td>32.639550</td>\n",
       "      <td>35.933610</td>\n",
       "      <td>26.056526</td>\n",
       "      <td>7.151686</td>\n",
       "      <td>19.207609</td>\n",
       "      <td>118.750</td>\n",
       "      <td>7.452527</td>\n",
       "      <td>43.820247</td>\n",
       "    </tr>\n",
       "    <tr>\n",
       "      <th>1</th>\n",
       "      <td>2000-01-04</td>\n",
       "      <td>42.813681</td>\n",
       "      <td>30.312376</td>\n",
       "      <td>3.351477</td>\n",
       "      <td>3.098946</td>\n",
       "      <td>9.364382</td>\n",
       "      <td>0.019</td>\n",
       "      <td>14.909395</td>\n",
       "      <td>31.280900</td>\n",
       "      <td>7.829816</td>\n",
       "      <td>...</td>\n",
       "      <td>24.433043</td>\n",
       "      <td>9.013020</td>\n",
       "      <td>31.170373</td>\n",
       "      <td>35.116937</td>\n",
       "      <td>25.557438</td>\n",
       "      <td>7.151686</td>\n",
       "      <td>18.314232</td>\n",
       "      <td>110.750</td>\n",
       "      <td>7.302727</td>\n",
       "      <td>41.698321</td>\n",
       "    </tr>\n",
       "    <tr>\n",
       "      <th>2</th>\n",
       "      <td>2000-01-05</td>\n",
       "      <td>40.157947</td>\n",
       "      <td>32.059823</td>\n",
       "      <td>3.400523</td>\n",
       "      <td>3.339381</td>\n",
       "      <td>9.347165</td>\n",
       "      <td>0.019</td>\n",
       "      <td>15.204175</td>\n",
       "      <td>31.737555</td>\n",
       "      <td>7.706187</td>\n",
       "      <td>...</td>\n",
       "      <td>24.682360</td>\n",
       "      <td>9.360790</td>\n",
       "      <td>31.448326</td>\n",
       "      <td>34.348304</td>\n",
       "      <td>26.950724</td>\n",
       "      <td>7.275321</td>\n",
       "      <td>19.257241</td>\n",
       "      <td>102.625</td>\n",
       "      <td>7.340181</td>\n",
       "      <td>41.648973</td>\n",
       "    </tr>\n",
       "  </tbody>\n",
       "</table>\n",
       "<p>3 rows × 468 columns</p>\n",
       "</div>"
      ],
      "text/plain": [
       "         Date          A         AA      AAPL       ABC       ABT    ACS  \\\n",
       "0  2000-01-03  46.354670  30.172580  3.660058  3.326019  9.639804  0.019   \n",
       "1  2000-01-04  42.813681  30.312376  3.351477  3.098946  9.364382  0.019   \n",
       "2  2000-01-05  40.157947  32.059823  3.400523  3.339381  9.347165  0.019   \n",
       "\n",
       "        ADBE        ADI       ADM  ...          X       XEL         XL  \\\n",
       "0  16.274667  32.947692  7.912229  ...  25.380447  8.810155  32.639550   \n",
       "1  14.909395  31.280900  7.829816  ...  24.433043  9.013020  31.170373   \n",
       "2  15.204175  31.737555  7.706187  ...  24.682360  9.360790  31.448326   \n",
       "\n",
       "        XLNX        XOM      XRAY        XRX     YHOO       YUM       ZION  \n",
       "0  35.933610  26.056526  7.151686  19.207609  118.750  7.452527  43.820247  \n",
       "1  35.116937  25.557438  7.151686  18.314232  110.750  7.302727  41.698321  \n",
       "2  34.348304  26.950724  7.275321  19.257241  102.625  7.340181  41.648973  \n",
       "\n",
       "[3 rows x 468 columns]"
      ]
     },
     "execution_count": 12,
     "metadata": {},
     "output_type": "execute_result"
    }
   ],
   "source": [
    "df = pd.read_csv('Data/Stocks/AdjustedClosingPrices.csv')\n",
    "df.head(3)"
   ]
  },
  {
   "cell_type": "code",
   "execution_count": 13,
   "metadata": {},
   "outputs": [
    {
     "data": {
      "text/html": [
       "<div>\n",
       "<style scoped>\n",
       "    .dataframe tbody tr th:only-of-type {\n",
       "        vertical-align: middle;\n",
       "    }\n",
       "\n",
       "    .dataframe tbody tr th {\n",
       "        vertical-align: top;\n",
       "    }\n",
       "\n",
       "    .dataframe thead th {\n",
       "        text-align: right;\n",
       "    }\n",
       "</style>\n",
       "<table border=\"1\" class=\"dataframe\">\n",
       "  <thead>\n",
       "    <tr style=\"text-align: right;\">\n",
       "      <th></th>\n",
       "      <th>A</th>\n",
       "      <th>AA</th>\n",
       "      <th>AAPL</th>\n",
       "      <th>ABC</th>\n",
       "      <th>ABT</th>\n",
       "      <th>ACS</th>\n",
       "      <th>ADBE</th>\n",
       "      <th>ADI</th>\n",
       "      <th>ADM</th>\n",
       "      <th>ADP</th>\n",
       "      <th>...</th>\n",
       "      <th>X</th>\n",
       "      <th>XEL</th>\n",
       "      <th>XL</th>\n",
       "      <th>XLNX</th>\n",
       "      <th>XOM</th>\n",
       "      <th>XRAY</th>\n",
       "      <th>XRX</th>\n",
       "      <th>YHOO</th>\n",
       "      <th>YUM</th>\n",
       "      <th>ZION</th>\n",
       "    </tr>\n",
       "    <tr>\n",
       "      <th>Date</th>\n",
       "      <th></th>\n",
       "      <th></th>\n",
       "      <th></th>\n",
       "      <th></th>\n",
       "      <th></th>\n",
       "      <th></th>\n",
       "      <th></th>\n",
       "      <th></th>\n",
       "      <th></th>\n",
       "      <th></th>\n",
       "      <th></th>\n",
       "      <th></th>\n",
       "      <th></th>\n",
       "      <th></th>\n",
       "      <th></th>\n",
       "      <th></th>\n",
       "      <th></th>\n",
       "      <th></th>\n",
       "      <th></th>\n",
       "      <th></th>\n",
       "      <th></th>\n",
       "    </tr>\n",
       "  </thead>\n",
       "  <tbody>\n",
       "    <tr>\n",
       "      <th>2000-01-03</th>\n",
       "      <td>46.354670</td>\n",
       "      <td>30.172580</td>\n",
       "      <td>3.660058</td>\n",
       "      <td>3.326019</td>\n",
       "      <td>9.639804</td>\n",
       "      <td>0.019</td>\n",
       "      <td>16.274667</td>\n",
       "      <td>32.947692</td>\n",
       "      <td>7.912229</td>\n",
       "      <td>29.184633</td>\n",
       "      <td>...</td>\n",
       "      <td>25.380447</td>\n",
       "      <td>8.810155</td>\n",
       "      <td>32.639550</td>\n",
       "      <td>35.933610</td>\n",
       "      <td>26.056526</td>\n",
       "      <td>7.151686</td>\n",
       "      <td>19.207609</td>\n",
       "      <td>118.750</td>\n",
       "      <td>7.452527</td>\n",
       "      <td>43.820247</td>\n",
       "    </tr>\n",
       "    <tr>\n",
       "      <th>2000-01-04</th>\n",
       "      <td>42.813681</td>\n",
       "      <td>30.312376</td>\n",
       "      <td>3.351477</td>\n",
       "      <td>3.098946</td>\n",
       "      <td>9.364382</td>\n",
       "      <td>0.019</td>\n",
       "      <td>14.909395</td>\n",
       "      <td>31.280900</td>\n",
       "      <td>7.829816</td>\n",
       "      <td>29.184633</td>\n",
       "      <td>...</td>\n",
       "      <td>24.433043</td>\n",
       "      <td>9.013020</td>\n",
       "      <td>31.170373</td>\n",
       "      <td>35.116937</td>\n",
       "      <td>25.557438</td>\n",
       "      <td>7.151686</td>\n",
       "      <td>18.314232</td>\n",
       "      <td>110.750</td>\n",
       "      <td>7.302727</td>\n",
       "      <td>41.698321</td>\n",
       "    </tr>\n",
       "    <tr>\n",
       "      <th>2000-01-05</th>\n",
       "      <td>40.157947</td>\n",
       "      <td>32.059823</td>\n",
       "      <td>3.400523</td>\n",
       "      <td>3.339381</td>\n",
       "      <td>9.347165</td>\n",
       "      <td>0.019</td>\n",
       "      <td>15.204175</td>\n",
       "      <td>31.737555</td>\n",
       "      <td>7.706187</td>\n",
       "      <td>28.904013</td>\n",
       "      <td>...</td>\n",
       "      <td>24.682360</td>\n",
       "      <td>9.360790</td>\n",
       "      <td>31.448326</td>\n",
       "      <td>34.348304</td>\n",
       "      <td>26.950724</td>\n",
       "      <td>7.275321</td>\n",
       "      <td>19.257241</td>\n",
       "      <td>102.625</td>\n",
       "      <td>7.340181</td>\n",
       "      <td>41.648973</td>\n",
       "    </tr>\n",
       "  </tbody>\n",
       "</table>\n",
       "<p>3 rows × 467 columns</p>\n",
       "</div>"
      ],
      "text/plain": [
       "                    A         AA      AAPL       ABC       ABT    ACS  \\\n",
       "Date                                                                    \n",
       "2000-01-03  46.354670  30.172580  3.660058  3.326019  9.639804  0.019   \n",
       "2000-01-04  42.813681  30.312376  3.351477  3.098946  9.364382  0.019   \n",
       "2000-01-05  40.157947  32.059823  3.400523  3.339381  9.347165  0.019   \n",
       "\n",
       "                 ADBE        ADI       ADM        ADP  ...          X  \\\n",
       "Date                                                   ...              \n",
       "2000-01-03  16.274667  32.947692  7.912229  29.184633  ...  25.380447   \n",
       "2000-01-04  14.909395  31.280900  7.829816  29.184633  ...  24.433043   \n",
       "2000-01-05  15.204175  31.737555  7.706187  28.904013  ...  24.682360   \n",
       "\n",
       "                 XEL         XL       XLNX        XOM      XRAY        XRX  \\\n",
       "Date                                                                         \n",
       "2000-01-03  8.810155  32.639550  35.933610  26.056526  7.151686  19.207609   \n",
       "2000-01-04  9.013020  31.170373  35.116937  25.557438  7.151686  18.314232   \n",
       "2000-01-05  9.360790  31.448326  34.348304  26.950724  7.275321  19.257241   \n",
       "\n",
       "               YHOO       YUM       ZION  \n",
       "Date                                      \n",
       "2000-01-03  118.750  7.452527  43.820247  \n",
       "2000-01-04  110.750  7.302727  41.698321  \n",
       "2000-01-05  102.625  7.340181  41.648973  \n",
       "\n",
       "[3 rows x 467 columns]"
      ]
     },
     "execution_count": 13,
     "metadata": {},
     "output_type": "execute_result"
    }
   ],
   "source": [
    "dates = pd.to_datetime(df.Date)\n",
    "df = df.set_index(dates)\n",
    "df = df.drop(columns = ['Date']) #remove date column\n",
    "df.head(3)"
   ]
  },
  {
   "cell_type": "code",
   "execution_count": 15,
   "metadata": {},
   "outputs": [
    {
     "data": {
      "text/plain": [
       "<matplotlib.axes._subplots.AxesSubplot at 0x1fa3974b880>"
      ]
     },
     "execution_count": 15,
     "metadata": {},
     "output_type": "execute_result"
    },
    {
     "data": {
      "image/png": "[encoded data removed]",
      "text/plain": [
       "<Figure size 432x288 with 1 Axes>"
      ]
     },
     "metadata": {
      "needs_background": "light"
     },
     "output_type": "display_data"
    }
   ],
   "source": [
    "# plot IBM stock prices\n",
    "df.IBM.plot()"
   ]
  },
  {
   "cell_type": "code",
   "execution_count": 16,
   "metadata": {},
   "outputs": [
    {
     "data": {
      "text/plain": [
       "<matplotlib.axes._subplots.AxesSubplot at 0x1fa39edf580>"
      ]
     },
     "execution_count": 16,
     "metadata": {},
     "output_type": "execute_result"
    },
    {
     "data": {
      "image/png": "[encoded data removed]",
      "text/plain": [
       "<Figure size 432x288 with 1 Axes>"
      ]
     },
     "metadata": {
      "needs_background": "light"
     },
     "output_type": "display_data"
    }
   ],
   "source": [
    "df['2008-01-01' : '2010-01-01'].IBM.plot() #zoom in"
   ]
  },
  {
   "cell_type": "code",
   "execution_count": 17,
   "metadata": {},
   "outputs": [
    {
     "data": {
      "text/plain": [
       "<matplotlib.axes._subplots.AxesSubplot at 0x1fa39f30280>"
      ]
     },
     "execution_count": 17,
     "metadata": {},
     "output_type": "execute_result"
    },
    {
     "data": {
      "image/png": "[encoded data removed]",
      "text/plain": [
       "<Figure size 432x288 with 1 Axes>"
      ]
     },
     "metadata": {
      "needs_background": "light"
     },
     "output_type": "display_data"
    }
   ],
   "source": [
    "df['2008-09-15' : '2009-01-01'].IBM.plot() #zoom in"
   ]
  },
  {
   "cell_type": "code",
   "execution_count": 20,
   "metadata": {},
   "outputs": [
    {
     "data": {
      "text/plain": [
       "Date\n",
       "2008-09-15    96.073741\n",
       "2008-09-16    96.791021\n",
       "2008-09-17    92.971089\n",
       "2008-09-18    96.015358\n",
       "2008-09-19    99.126345\n",
       "                ...    \n",
       "2008-12-26    68.212156\n",
       "2008-12-29    68.145058\n",
       "2008-12-30    70.074089\n",
       "2008-12-31    70.585702\n",
       "2009-01-01          NaN\n",
       "Name: IBM, Length: 79, dtype: float64"
      ]
     },
     "execution_count": 20,
     "metadata": {},
     "output_type": "execute_result"
    }
   ],
   "source": [
    "prices = df['2008-09-15' : '2009-01-01'].IBM\n",
    "prices"
   ]
  },
  {
   "cell_type": "code",
   "execution_count": 21,
   "metadata": {},
   "outputs": [
    {
     "data": {
      "text/plain": [
       "100.177245"
      ]
     },
     "execution_count": 21,
     "metadata": {},
     "output_type": "execute_result"
    }
   ],
   "source": [
    "prices.max()"
   ]
  },
  {
   "cell_type": "code",
   "execution_count": 22,
   "metadata": {},
   "outputs": [
    {
     "data": {
      "text/plain": [
       "60.168939"
      ]
     },
     "execution_count": 22,
     "metadata": {},
     "output_type": "execute_result"
    }
   ],
   "source": [
    "prices.min()"
   ]
  },
  {
   "cell_type": "code",
   "execution_count": 26,
   "metadata": {},
   "outputs": [
    {
     "data": {
      "text/plain": [
       "39.94"
      ]
     },
     "execution_count": 26,
     "metadata": {},
     "output_type": "execute_result"
    }
   ],
   "source": [
    "round(100*(prices.max()-prices.min())/prices.max(),2)"
   ]
  },
  {
   "cell_type": "code",
   "execution_count": null,
   "metadata": {},
   "outputs": [],
   "source": []
  }
 ],
 "metadata": {
  "kernelspec": {
   "display_name": "Python 3",
   "language": "python",
   "name": "python3"
  },
  "language_info": {
   "codemirror_mode": {
    "name": "ipython",
    "version": 3
   },
   "file_extension": ".py",
   "mimetype": "text/x-python",
   "name": "python",
   "nbconvert_exporter": "python",
   "pygments_lexer": "ipython3",
   "version": "3.8.3"
  }
 },
 "nbformat": 4,
 "nbformat_minor": 4
}
